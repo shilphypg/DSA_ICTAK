{
  "cells": [
    {
      "cell_type": "markdown",
      "metadata": {
        "id": "view-in-github",
        "colab_type": "text"
      },
      "source": [
        "<a href=\"https://colab.research.google.com/github/shilphypg/DSA_ICTAK/blob/main/ICT_internship_employee_salary_prediction.ipynb\" target=\"_parent\"><img src=\"https://colab.research.google.com/assets/colab-badge.svg\" alt=\"Open In Colab\"/></a>"
      ]
    },
    {
      "cell_type": "markdown",
      "metadata": {
        "id": "rAUsbqrPI7KS"
      },
      "source": [
        "# **Salary Prediction and Job Analysis using Machine Learning**"
      ]
    },
    {
      "cell_type": "markdown",
      "metadata": {
        "id": "re1vnO0IJEmo"
      },
      "source": [
        "**Project Overview**\n",
        "\n",
        "During this 4-week internship, the intern will analyze and model a dataset related to employee salary and job attributes, including factors like job title, job category, experience level, and work setting. The primary goal is to derive insights from this data and build a machine learning model to predict salary ranges. By the end of the internship, the intern will\n",
        "have deployed a Flask-based web application that enables users to input data and receive a salary prediction based on their parameters."
      ]
    },
    {
      "cell_type": "markdown",
      "metadata": {
        "id": "HF_J2flDcH3w"
      },
      "source": [
        "**Dataset Description**\n",
        "The dataset( click here ) includes columns such as:\n",
        "- work_year: Year of the data record\n",
        "- job_title: Title of the job position\n",
        "- job_category: Category of the job position\n",
        "- salary_currency: Currency of the salary\n",
        "- salary: Salary in the local currency\n",
        "- salary_in_usd: Salary in USD\n",
        "- employee_residence: Location of the employee’s residence\n",
        "- experience_level: Experience level of the employee (e.g., MI, SE, CT)\n",
        "- employment_type: Type of employment (e.g., full-time, contract)\n",
        "- work_setting: The work setting (e.g., remote, in-office)\n",
        "- company_location: Location of the company\n",
        "- company_size: Size of the company (e.g., S, M, L)"
      ]
    },
    {
      "cell_type": "markdown",
      "metadata": {
        "id": "zKTHf7FSJPzv"
      },
      "source": [
        "## Goals and Weekly Plan\n",
        "### Week 1: Data Understanding, Cleaning, and EDA\n",
        "\n",
        "**Goal:** Familiarize with the dataset, clean and preprocess the data, and perform exploratory data analysis (EDA) to understand patterns and relationships.\n",
        "1. Data Loading and Inspection:\n",
        "   - Load the dataset, examine columns, data types, and identify any missing or inconsistent values.\n",
        "   - Convert data types where necessary (e.g., dates, categorical encoding).\n",
        "2. Data Cleaning:\n",
        "   - Handle missing values through imputation or removal.\n",
        "   - Standardize categorical values.\n",
        "   - Ensure all salary values are in USD for consistency in analysis.\n",
        "3. Exploratory Data Analysis (EDA):\n",
        "   - Generate descriptive statistics.\n",
        "   - Plot distribution of salaries by job_category, experience_level, work_setting, and company_size.\n",
        "4. Documentation:\n",
        "   - Summarize insights and challenges from the data cleaning and EDA phases."
      ]
    },
    {
      "cell_type": "markdown",
      "metadata": {
        "id": "27YVJ4cuJopI"
      },
      "source": [
        "## Week 2: Feature Engineering and Model Selection\n",
        "**Goal:** Create new features to improve predictive power, select relevant features, and explore initial model types for predicting salaries.\n",
        "1. Feature Engineering:\n",
        "   - Create additional features to improve model accuracy.\n",
        "2. Feature Selection:\n",
        "   - Use correlation analysis, feature importance, and variance analysis to identify key features.\n",
        "3. Model Selection and Testing:\n",
        "   - Start with a few basic regression models.\n",
        "4. Initial Evaluation:\n",
        "   - Document findings for chosen models."
      ]
    },
    {
      "cell_type": "markdown",
      "metadata": {
        "id": "nSC3cTPTJ4S4"
      },
      "source": [
        "## Week 3: Model Optimization and Flask App Development\n",
        "**Goal:** Improve model accuracy through hyperparameter tuning and begin building a Flask\n",
        "web application.\n",
        "1. Model Tuning:\n",
        "   - Perform hyperparameter tuning on selected models.\n",
        "2. Flask Application Development - Backend:\n",
        "   - Set up a Flask app structure and integrate the final model.\n",
        "3. Testing:\n",
        "   - Test the Flask app locally.\n",
        "4. Documentation:\n",
        "   - Document the model selection, tuning process, and initial Flask app architecture."
      ]
    },
    {
      "cell_type": "markdown",
      "metadata": {
        "id": "rF3a_62JKVmZ"
      },
      "source": [
        "## Week 4: Finalizing Flask App, UI Development, and Deployment\n",
        "**Goal:** Complete the web application with a user-friendly interface, deploy it, and create final\n",
        "documentation.\n",
        "1. Flask Application Development - Frontend:\n",
        "   - Design a web interface for user input.\n",
        "2. Integration and Testing:\n",
        "   - Connect frontend to Flask backend and perform end-to-end testing.\n",
        "3.Deployment:\n",
        "  - Deploy the application using a platform like Pythonanywhere.\n",
        "4. Final Documentation and Presentation:\n",
        "   - Compile a final report and prepare a demo.\n",
        "   \n",
        "## Expected Outcomes\n",
        "By the end of the internship, the intern will have:\n",
        "   - Developed a complete pipeline for analyzing, processing, and predicting salary data.\n",
        "   - Created a deployed Flask application that predicts salaries based on user inputs.\n",
        "   - Documented each phase and delivered a presentation demonstrating the project workflow and final application."
      ]
    },
    {
      "cell_type": "markdown",
      "metadata": {
        "id": "fwJIbX7HLS7B"
      },
      "source": [
        "---"
      ]
    },
    {
      "cell_type": "markdown",
      "source": [
        "## Week 1: Data Understanding, Cleaning, and EDA\n",
        "\n"
      ],
      "metadata": {
        "id": "pGN-GSTdJep6"
      }
    },
    {
      "cell_type": "markdown",
      "source": [
        "![image.png](data:image/png;base64,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)"
      ],
      "metadata": {
        "id": "VIz2r5WHK6qn"
      }
    },
    {
      "cell_type": "markdown",
      "source": [
        "# Week 1: Data Understanding, Cleaning, and EDA"
      ],
      "metadata": {
        "id": "u0bY0rstN_Vi"
      }
    },
    {
      "cell_type": "markdown",
      "metadata": {
        "id": "YqR06KRXOWHw"
      },
      "source": [
        "# Import Libraries"
      ]
    },
    {
      "cell_type": "code",
      "execution_count": null,
      "metadata": {
        "id": "KgdTkfsQLjkQ"
      },
      "outputs": [],
      "source": [
        "import pandas as pd\n",
        "import numpy as np\n",
        "import seaborn as sns\n",
        "import matplotlib.pyplot as plt"
      ]
    },
    {
      "cell_type": "markdown",
      "metadata": {
        "id": "McAt5myvOcO9"
      },
      "source": [
        "# Data Loading and Inspection"
      ]
    },
    {
      "cell_type": "code",
      "execution_count": null,
      "metadata": {
        "id": "eGBs2EpCLrEQ",
        "colab": {
          "base_uri": "https://localhost:8080/",
          "height": 660
        },
        "outputId": "b28175be-7323-41f1-8cc2-cba263b57453"
      },
      "outputs": [
        {
          "output_type": "execute_result",
          "data": {
            "text/plain": [
              "      work_year                            job_title  job_category  \\\n",
              "3374       2022               Statistician  (Remote)         ML/AI   \n",
              "3086       2020             Data Engineer  in office         ML/AI   \n",
              "2992       2021              Statistician  in office   Engineering   \n",
              "3287       2020              Data Engineer  (Remote)         ML/AI   \n",
              "1842       2022                        Data Engineer  Data Science   \n",
              "3207       2020              Data Engineer  (Remote)         ML/AI   \n",
              "3455       2020               Data Analyst  (Remote)  Data Science   \n",
              "4051       2020               Statistician  (Remote)   Engineering   \n",
              "4508       2020  Machine Learning Engineer  (Remote)      Analysis   \n",
              "4080       2020                       Data Scientist      Analysis   \n",
              "\n",
              "     salary_currency  salary  salary_in_usd employee_residence  \\\n",
              "3374       us dolars   94783         136568                 JP   \n",
              "3086             GBP   97762         106086                 MX   \n",
              "2992             JPY  171316         160768                 US   \n",
              "3287             JPY  131917         100291                 UK   \n",
              "1842       us dolars  127816          62970                 JP   \n",
              "3207             GBP  187367         105592                 IN   \n",
              "3455             GBP   99360         163018                 IN   \n",
              "4051             EUR  174199         148071                 US   \n",
              "4508             GBP  146209          51497                 US   \n",
              "4080             JPY   80603          96412                 CN   \n",
              "\n",
              "     experience_level employment_type work_setting company_location  \\\n",
              "3374               SE              CT       Hybrid               US   \n",
              "3086               MI              FL       Remote               JP   \n",
              "2992               MI              FL    In-person               DE   \n",
              "3287               MI              FL       Hybrid               CN   \n",
              "1842               MI              PT       Hybrid               US   \n",
              "3207               EN              CT    In-person               DE   \n",
              "3455               SE              FL    In-person               IN   \n",
              "4051               MI              CT       Remote               CN   \n",
              "4508               EX              FT    In-person               DE   \n",
              "4080               MI              PT       Remote               UK   \n",
              "\n",
              "     company_size  \n",
              "3374            S  \n",
              "3086            M  \n",
              "2992            L  \n",
              "3287            L  \n",
              "1842            M  \n",
              "3207            S  \n",
              "3455            L  \n",
              "4051            M  \n",
              "4508            L  \n",
              "4080            M  "
            ],
            "text/html": [
              "\n",
              "  <div id=\"df-a29a7429-0f3e-4b6a-b72a-fa6a1124a2f6\" class=\"colab-df-container\">\n",
              "    <div>\n",
              "<style scoped>\n",
              "    .dataframe tbody tr th:only-of-type {\n",
              "        vertical-align: middle;\n",
              "    }\n",
              "\n",
              "    .dataframe tbody tr th {\n",
              "        vertical-align: top;\n",
              "    }\n",
              "\n",
              "    .dataframe thead th {\n",
              "        text-align: right;\n",
              "    }\n",
              "</style>\n",
              "<table border=\"1\" class=\"dataframe\">\n",
              "  <thead>\n",
              "    <tr style=\"text-align: right;\">\n",
              "      <th></th>\n",
              "      <th>work_year</th>\n",
              "      <th>job_title</th>\n",
              "      <th>job_category</th>\n",
              "      <th>salary_currency</th>\n",
              "      <th>salary</th>\n",
              "      <th>salary_in_usd</th>\n",
              "      <th>employee_residence</th>\n",
              "      <th>experience_level</th>\n",
              "      <th>employment_type</th>\n",
              "      <th>work_setting</th>\n",
              "      <th>company_location</th>\n",
              "      <th>company_size</th>\n",
              "    </tr>\n",
              "  </thead>\n",
              "  <tbody>\n",
              "    <tr>\n",
              "      <th>3374</th>\n",
              "      <td>2022</td>\n",
              "      <td>Statistician  (Remote)</td>\n",
              "      <td>ML/AI</td>\n",
              "      <td>us dolars</td>\n",
              "      <td>94783</td>\n",
              "      <td>136568</td>\n",
              "      <td>JP</td>\n",
              "      <td>SE</td>\n",
              "      <td>CT</td>\n",
              "      <td>Hybrid</td>\n",
              "      <td>US</td>\n",
              "      <td>S</td>\n",
              "    </tr>\n",
              "    <tr>\n",
              "      <th>3086</th>\n",
              "      <td>2020</td>\n",
              "      <td>Data Engineer  in office</td>\n",
              "      <td>ML/AI</td>\n",
              "      <td>GBP</td>\n",
              "      <td>97762</td>\n",
              "      <td>106086</td>\n",
              "      <td>MX</td>\n",
              "      <td>MI</td>\n",
              "      <td>FL</td>\n",
              "      <td>Remote</td>\n",
              "      <td>JP</td>\n",
              "      <td>M</td>\n",
              "    </tr>\n",
              "    <tr>\n",
              "      <th>2992</th>\n",
              "      <td>2021</td>\n",
              "      <td>Statistician  in office</td>\n",
              "      <td>Engineering</td>\n",
              "      <td>JPY</td>\n",
              "      <td>171316</td>\n",
              "      <td>160768</td>\n",
              "      <td>US</td>\n",
              "      <td>MI</td>\n",
              "      <td>FL</td>\n",
              "      <td>In-person</td>\n",
              "      <td>DE</td>\n",
              "      <td>L</td>\n",
              "    </tr>\n",
              "    <tr>\n",
              "      <th>3287</th>\n",
              "      <td>2020</td>\n",
              "      <td>Data Engineer  (Remote)</td>\n",
              "      <td>ML/AI</td>\n",
              "      <td>JPY</td>\n",
              "      <td>131917</td>\n",
              "      <td>100291</td>\n",
              "      <td>UK</td>\n",
              "      <td>MI</td>\n",
              "      <td>FL</td>\n",
              "      <td>Hybrid</td>\n",
              "      <td>CN</td>\n",
              "      <td>L</td>\n",
              "    </tr>\n",
              "    <tr>\n",
              "      <th>1842</th>\n",
              "      <td>2022</td>\n",
              "      <td>Data Engineer</td>\n",
              "      <td>Data Science</td>\n",
              "      <td>us dolars</td>\n",
              "      <td>127816</td>\n",
              "      <td>62970</td>\n",
              "      <td>JP</td>\n",
              "      <td>MI</td>\n",
              "      <td>PT</td>\n",
              "      <td>Hybrid</td>\n",
              "      <td>US</td>\n",
              "      <td>M</td>\n",
              "    </tr>\n",
              "    <tr>\n",
              "      <th>3207</th>\n",
              "      <td>2020</td>\n",
              "      <td>Data Engineer  (Remote)</td>\n",
              "      <td>ML/AI</td>\n",
              "      <td>GBP</td>\n",
              "      <td>187367</td>\n",
              "      <td>105592</td>\n",
              "      <td>IN</td>\n",
              "      <td>EN</td>\n",
              "      <td>CT</td>\n",
              "      <td>In-person</td>\n",
              "      <td>DE</td>\n",
              "      <td>S</td>\n",
              "    </tr>\n",
              "    <tr>\n",
              "      <th>3455</th>\n",
              "      <td>2020</td>\n",
              "      <td>Data Analyst  (Remote)</td>\n",
              "      <td>Data Science</td>\n",
              "      <td>GBP</td>\n",
              "      <td>99360</td>\n",
              "      <td>163018</td>\n",
              "      <td>IN</td>\n",
              "      <td>SE</td>\n",
              "      <td>FL</td>\n",
              "      <td>In-person</td>\n",
              "      <td>IN</td>\n",
              "      <td>L</td>\n",
              "    </tr>\n",
              "    <tr>\n",
              "      <th>4051</th>\n",
              "      <td>2020</td>\n",
              "      <td>Statistician  (Remote)</td>\n",
              "      <td>Engineering</td>\n",
              "      <td>EUR</td>\n",
              "      <td>174199</td>\n",
              "      <td>148071</td>\n",
              "      <td>US</td>\n",
              "      <td>MI</td>\n",
              "      <td>CT</td>\n",
              "      <td>Remote</td>\n",
              "      <td>CN</td>\n",
              "      <td>M</td>\n",
              "    </tr>\n",
              "    <tr>\n",
              "      <th>4508</th>\n",
              "      <td>2020</td>\n",
              "      <td>Machine Learning Engineer  (Remote)</td>\n",
              "      <td>Analysis</td>\n",
              "      <td>GBP</td>\n",
              "      <td>146209</td>\n",
              "      <td>51497</td>\n",
              "      <td>US</td>\n",
              "      <td>EX</td>\n",
              "      <td>FT</td>\n",
              "      <td>In-person</td>\n",
              "      <td>DE</td>\n",
              "      <td>L</td>\n",
              "    </tr>\n",
              "    <tr>\n",
              "      <th>4080</th>\n",
              "      <td>2020</td>\n",
              "      <td>Data Scientist</td>\n",
              "      <td>Analysis</td>\n",
              "      <td>JPY</td>\n",
              "      <td>80603</td>\n",
              "      <td>96412</td>\n",
              "      <td>CN</td>\n",
              "      <td>MI</td>\n",
              "      <td>PT</td>\n",
              "      <td>Remote</td>\n",
              "      <td>UK</td>\n",
              "      <td>M</td>\n",
              "    </tr>\n",
              "  </tbody>\n",
              "</table>\n",
              "</div>\n",
              "    <div class=\"colab-df-buttons\">\n",
              "\n",
              "  <div class=\"colab-df-container\">\n",
              "    <button class=\"colab-df-convert\" onclick=\"convertToInteractive('df-a29a7429-0f3e-4b6a-b72a-fa6a1124a2f6')\"\n",
              "            title=\"Convert this dataframe to an interactive table.\"\n",
              "            style=\"display:none;\">\n",
              "\n",
              "  <svg xmlns=\"http://www.w3.org/2000/svg\" height=\"24px\" viewBox=\"0 -960 960 960\">\n",
              "    <path d=\"M120-120v-720h720v720H120Zm60-500h600v-160H180v160Zm220 220h160v-160H400v160Zm0 220h160v-160H400v160ZM180-400h160v-160H180v160Zm440 0h160v-160H620v160ZM180-180h160v-160H180v160Zm440 0h160v-160H620v160Z\"/>\n",
              "  </svg>\n",
              "    </button>\n",
              "\n",
              "  <style>\n",
              "    .colab-df-container {\n",
              "      display:flex;\n",
              "      gap: 12px;\n",
              "    }\n",
              "\n",
              "    .colab-df-convert {\n",
              "      background-color: #E8F0FE;\n",
              "      border: none;\n",
              "      border-radius: 50%;\n",
              "      cursor: pointer;\n",
              "      display: none;\n",
              "      fill: #1967D2;\n",
              "      height: 32px;\n",
              "      padding: 0 0 0 0;\n",
              "      width: 32px;\n",
              "    }\n",
              "\n",
              "    .colab-df-convert:hover {\n",
              "      background-color: #E2EBFA;\n",
              "      box-shadow: 0px 1px 2px rgba(60, 64, 67, 0.3), 0px 1px 3px 1px rgba(60, 64, 67, 0.15);\n",
              "      fill: #174EA6;\n",
              "    }\n",
              "\n",
              "    .colab-df-buttons div {\n",
              "      margin-bottom: 4px;\n",
              "    }\n",
              "\n",
              "    [theme=dark] .colab-df-convert {\n",
              "      background-color: #3B4455;\n",
              "      fill: #D2E3FC;\n",
              "    }\n",
              "\n",
              "    [theme=dark] .colab-df-convert:hover {\n",
              "      background-color: #434B5C;\n",
              "      box-shadow: 0px 1px 3px 1px rgba(0, 0, 0, 0.15);\n",
              "      filter: drop-shadow(0px 1px 2px rgba(0, 0, 0, 0.3));\n",
              "      fill: #FFFFFF;\n",
              "    }\n",
              "  </style>\n",
              "\n",
              "    <script>\n",
              "      const buttonEl =\n",
              "        document.querySelector('#df-a29a7429-0f3e-4b6a-b72a-fa6a1124a2f6 button.colab-df-convert');\n",
              "      buttonEl.style.display =\n",
              "        google.colab.kernel.accessAllowed ? 'block' : 'none';\n",
              "\n",
              "      async function convertToInteractive(key) {\n",
              "        const element = document.querySelector('#df-a29a7429-0f3e-4b6a-b72a-fa6a1124a2f6');\n",
              "        const dataTable =\n",
              "          await google.colab.kernel.invokeFunction('convertToInteractive',\n",
              "                                                    [key], {});\n",
              "        if (!dataTable) return;\n",
              "\n",
              "        const docLinkHtml = 'Like what you see? Visit the ' +\n",
              "          '<a target=\"_blank\" href=https://colab.research.google.com/notebooks/data_table.ipynb>data table notebook</a>'\n",
              "          + ' to learn more about interactive tables.';\n",
              "        element.innerHTML = '';\n",
              "        dataTable['output_type'] = 'display_data';\n",
              "        await google.colab.output.renderOutput(dataTable, element);\n",
              "        const docLink = document.createElement('div');\n",
              "        docLink.innerHTML = docLinkHtml;\n",
              "        element.appendChild(docLink);\n",
              "      }\n",
              "    </script>\n",
              "  </div>\n",
              "\n",
              "\n",
              "<div id=\"df-0aedb9b1-c16d-4469-b6bc-fe9a04cf2242\">\n",
              "  <button class=\"colab-df-quickchart\" onclick=\"quickchart('df-0aedb9b1-c16d-4469-b6bc-fe9a04cf2242')\"\n",
              "            title=\"Suggest charts\"\n",
              "            style=\"display:none;\">\n",
              "\n",
              "<svg xmlns=\"http://www.w3.org/2000/svg\" height=\"24px\"viewBox=\"0 0 24 24\"\n",
              "     width=\"24px\">\n",
              "    <g>\n",
              "        <path d=\"M19 3H5c-1.1 0-2 .9-2 2v14c0 1.1.9 2 2 2h14c1.1 0 2-.9 2-2V5c0-1.1-.9-2-2-2zM9 17H7v-7h2v7zm4 0h-2V7h2v10zm4 0h-2v-4h2v4z\"/>\n",
              "    </g>\n",
              "</svg>\n",
              "  </button>\n",
              "\n",
              "<style>\n",
              "  .colab-df-quickchart {\n",
              "      --bg-color: #E8F0FE;\n",
              "      --fill-color: #1967D2;\n",
              "      --hover-bg-color: #E2EBFA;\n",
              "      --hover-fill-color: #174EA6;\n",
              "      --disabled-fill-color: #AAA;\n",
              "      --disabled-bg-color: #DDD;\n",
              "  }\n",
              "\n",
              "  [theme=dark] .colab-df-quickchart {\n",
              "      --bg-color: #3B4455;\n",
              "      --fill-color: #D2E3FC;\n",
              "      --hover-bg-color: #434B5C;\n",
              "      --hover-fill-color: #FFFFFF;\n",
              "      --disabled-bg-color: #3B4455;\n",
              "      --disabled-fill-color: #666;\n",
              "  }\n",
              "\n",
              "  .colab-df-quickchart {\n",
              "    background-color: var(--bg-color);\n",
              "    border: none;\n",
              "    border-radius: 50%;\n",
              "    cursor: pointer;\n",
              "    display: none;\n",
              "    fill: var(--fill-color);\n",
              "    height: 32px;\n",
              "    padding: 0;\n",
              "    width: 32px;\n",
              "  }\n",
              "\n",
              "  .colab-df-quickchart:hover {\n",
              "    background-color: var(--hover-bg-color);\n",
              "    box-shadow: 0 1px 2px rgba(60, 64, 67, 0.3), 0 1px 3px 1px rgba(60, 64, 67, 0.15);\n",
              "    fill: var(--button-hover-fill-color);\n",
              "  }\n",
              "\n",
              "  .colab-df-quickchart-complete:disabled,\n",
              "  .colab-df-quickchart-complete:disabled:hover {\n",
              "    background-color: var(--disabled-bg-color);\n",
              "    fill: var(--disabled-fill-color);\n",
              "    box-shadow: none;\n",
              "  }\n",
              "\n",
              "  .colab-df-spinner {\n",
              "    border: 2px solid var(--fill-color);\n",
              "    border-color: transparent;\n",
              "    border-bottom-color: var(--fill-color);\n",
              "    animation:\n",
              "      spin 1s steps(1) infinite;\n",
              "  }\n",
              "\n",
              "  @keyframes spin {\n",
              "    0% {\n",
              "      border-color: transparent;\n",
              "      border-bottom-color: var(--fill-color);\n",
              "      border-left-color: var(--fill-color);\n",
              "    }\n",
              "    20% {\n",
              "      border-color: transparent;\n",
              "      border-left-color: var(--fill-color);\n",
              "      border-top-color: var(--fill-color);\n",
              "    }\n",
              "    30% {\n",
              "      border-color: transparent;\n",
              "      border-left-color: var(--fill-color);\n",
              "      border-top-color: var(--fill-color);\n",
              "      border-right-color: var(--fill-color);\n",
              "    }\n",
              "    40% {\n",
              "      border-color: transparent;\n",
              "      border-right-color: var(--fill-color);\n",
              "      border-top-color: var(--fill-color);\n",
              "    }\n",
              "    60% {\n",
              "      border-color: transparent;\n",
              "      border-right-color: var(--fill-color);\n",
              "    }\n",
              "    80% {\n",
              "      border-color: transparent;\n",
              "      border-right-color: var(--fill-color);\n",
              "      border-bottom-color: var(--fill-color);\n",
              "    }\n",
              "    90% {\n",
              "      border-color: transparent;\n",
              "      border-bottom-color: var(--fill-color);\n",
              "    }\n",
              "  }\n",
              "</style>\n",
              "\n",
              "  <script>\n",
              "    async function quickchart(key) {\n",
              "      const quickchartButtonEl =\n",
              "        document.querySelector('#' + key + ' button');\n",
              "      quickchartButtonEl.disabled = true;  // To prevent multiple clicks.\n",
              "      quickchartButtonEl.classList.add('colab-df-spinner');\n",
              "      try {\n",
              "        const charts = await google.colab.kernel.invokeFunction(\n",
              "            'suggestCharts', [key], {});\n",
              "      } catch (error) {\n",
              "        console.error('Error during call to suggestCharts:', error);\n",
              "      }\n",
              "      quickchartButtonEl.classList.remove('colab-df-spinner');\n",
              "      quickchartButtonEl.classList.add('colab-df-quickchart-complete');\n",
              "    }\n",
              "    (() => {\n",
              "      let quickchartButtonEl =\n",
              "        document.querySelector('#df-0aedb9b1-c16d-4469-b6bc-fe9a04cf2242 button');\n",
              "      quickchartButtonEl.style.display =\n",
              "        google.colab.kernel.accessAllowed ? 'block' : 'none';\n",
              "    })();\n",
              "  </script>\n",
              "</div>\n",
              "\n",
              "    </div>\n",
              "  </div>\n"
            ],
            "application/vnd.google.colaboratory.intrinsic+json": {
              "type": "dataframe",
              "summary": "{\n  \"name\": \"df\",\n  \"rows\": 10,\n  \"fields\": [\n    {\n      \"column\": \"work_year\",\n      \"properties\": {\n        \"dtype\": \"number\",\n        \"std\": 0,\n        \"min\": 2020,\n        \"max\": 2022,\n        \"num_unique_values\": 3,\n        \"samples\": [\n          2022,\n          2020,\n          2021\n        ],\n        \"semantic_type\": \"\",\n        \"description\": \"\"\n      }\n    },\n    {\n      \"column\": \"job_title\",\n      \"properties\": {\n        \"dtype\": \"string\",\n        \"num_unique_values\": 8,\n        \"samples\": [\n          \"Data Engineer  in office\",\n          \"Data Analyst  (Remote)\",\n          \"Statistician  (Remote)\"\n        ],\n        \"semantic_type\": \"\",\n        \"description\": \"\"\n      }\n    },\n    {\n      \"column\": \"job_category\",\n      \"properties\": {\n        \"dtype\": \"category\",\n        \"num_unique_values\": 4,\n        \"samples\": [\n          \"Engineering\",\n          \"Analysis\",\n          \"ML/AI\"\n        ],\n        \"semantic_type\": \"\",\n        \"description\": \"\"\n      }\n    },\n    {\n      \"column\": \"salary_currency\",\n      \"properties\": {\n        \"dtype\": \"category\",\n        \"num_unique_values\": 4,\n        \"samples\": [\n          \"GBP\",\n          \"EUR\",\n          \"us dolars\"\n        ],\n        \"semantic_type\": \"\",\n        \"description\": \"\"\n      }\n    },\n    {\n      \"column\": \"salary\",\n      \"properties\": {\n        \"dtype\": \"number\",\n        \"std\": 37812,\n        \"min\": 80603,\n        \"max\": 187367,\n        \"num_unique_values\": 10,\n        \"samples\": [\n          146209,\n          97762,\n          187367\n        ],\n        \"semantic_type\": \"\",\n        \"description\": \"\"\n      }\n    },\n    {\n      \"column\": \"salary_in_usd\",\n      \"properties\": {\n        \"dtype\": \"number\",\n        \"std\": 38577,\n        \"min\": 51497,\n        \"max\": 163018,\n        \"num_unique_values\": 10,\n        \"samples\": [\n          51497,\n          106086,\n          105592\n        ],\n        \"semantic_type\": \"\",\n        \"description\": \"\"\n      }\n    },\n    {\n      \"column\": \"employee_residence\",\n      \"properties\": {\n        \"dtype\": \"string\",\n        \"num_unique_values\": 6,\n        \"samples\": [\n          \"JP\",\n          \"MX\",\n          \"CN\"\n        ],\n        \"semantic_type\": \"\",\n        \"description\": \"\"\n      }\n    },\n    {\n      \"column\": \"experience_level\",\n      \"properties\": {\n        \"dtype\": \"category\",\n        \"num_unique_values\": 4,\n        \"samples\": [\n          \"MI\",\n          \"EX\",\n          \"SE\"\n        ],\n        \"semantic_type\": \"\",\n        \"description\": \"\"\n      }\n    },\n    {\n      \"column\": \"employment_type\",\n      \"properties\": {\n        \"dtype\": \"category\",\n        \"num_unique_values\": 4,\n        \"samples\": [\n          \"FL\",\n          \"FT\",\n          \"CT\"\n        ],\n        \"semantic_type\": \"\",\n        \"description\": \"\"\n      }\n    },\n    {\n      \"column\": \"work_setting\",\n      \"properties\": {\n        \"dtype\": \"category\",\n        \"num_unique_values\": 3,\n        \"samples\": [\n          \"Hybrid\",\n          \"Remote\",\n          \"In-person\"\n        ],\n        \"semantic_type\": \"\",\n        \"description\": \"\"\n      }\n    },\n    {\n      \"column\": \"company_location\",\n      \"properties\": {\n        \"dtype\": \"string\",\n        \"num_unique_values\": 6,\n        \"samples\": [\n          \"US\",\n          \"JP\",\n          \"UK\"\n        ],\n        \"semantic_type\": \"\",\n        \"description\": \"\"\n      }\n    },\n    {\n      \"column\": \"company_size\",\n      \"properties\": {\n        \"dtype\": \"category\",\n        \"num_unique_values\": 3,\n        \"samples\": [\n          \"S\",\n          \"M\",\n          \"L\"\n        ],\n        \"semantic_type\": \"\",\n        \"description\": \"\"\n      }\n    }\n  ]\n}"
            }
          },
          "metadata": {},
          "execution_count": 704
        }
      ],
      "source": [
        "df=pd.read_csv('/content/dsa_job - data_science_job.csv')\n",
        "df.sample(10)"
      ]
    },
    {
      "cell_type": "markdown",
      "metadata": {
        "id": "XuI8QjmwqTk_"
      },
      "source": [
        "- Some 'salary' column contains -ve sign infront of the number"
      ]
    },
    {
      "cell_type": "markdown",
      "metadata": {
        "id": "9DCbkmmeOgsh"
      },
      "source": [
        "# Shape of the data set"
      ]
    },
    {
      "cell_type": "code",
      "execution_count": null,
      "metadata": {
        "id": "VtIlzqKhLxQS",
        "colab": {
          "base_uri": "https://localhost:8080/"
        },
        "outputId": "939b065b-1aa3-43d0-9dcb-8c361227a682"
      },
      "outputs": [
        {
          "output_type": "execute_result",
          "data": {
            "text/plain": [
              "(5000, 12)"
            ]
          },
          "metadata": {},
          "execution_count": 705
        }
      ],
      "source": [
        "df.shape"
      ]
    },
    {
      "cell_type": "markdown",
      "metadata": {
        "id": "us_yFDKLOvIX"
      },
      "source": [
        "5000 rows and 12 columns"
      ]
    },
    {
      "cell_type": "markdown",
      "metadata": {
        "id": "12_xu7hWO2Hq"
      },
      "source": [
        "# Statistics of the DataFrame"
      ]
    },
    {
      "cell_type": "code",
      "execution_count": null,
      "metadata": {
        "id": "t26MtD8FOsZ7",
        "colab": {
          "base_uri": "https://localhost:8080/",
          "height": 300
        },
        "outputId": "594b28f1-dd13-4d51-e53e-b9ca10cb0b8a"
      },
      "outputs": [
        {
          "output_type": "execute_result",
          "data": {
            "text/plain": [
              "        work_year         salary  salary_in_usd\n",
              "count  5000.00000    5000.000000    5000.000000\n",
              "mean   2020.97680  102046.307200  114076.995800\n",
              "std       0.81951   70853.626492   49113.807687\n",
              "min    2020.00000 -198754.000000   30016.000000\n",
              "25%    2020.00000   64295.500000   71343.750000\n",
              "50%    2021.00000  110636.000000  114167.000000\n",
              "75%    2022.00000  153104.750000  156665.750000\n",
              "max    2022.00000  199924.000000  199985.000000"
            ],
            "text/html": [
              "\n",
              "  <div id=\"df-fc8e3e57-2e16-44aa-9d74-a2996b64e4b1\" class=\"colab-df-container\">\n",
              "    <div>\n",
              "<style scoped>\n",
              "    .dataframe tbody tr th:only-of-type {\n",
              "        vertical-align: middle;\n",
              "    }\n",
              "\n",
              "    .dataframe tbody tr th {\n",
              "        vertical-align: top;\n",
              "    }\n",
              "\n",
              "    .dataframe thead th {\n",
              "        text-align: right;\n",
              "    }\n",
              "</style>\n",
              "<table border=\"1\" class=\"dataframe\">\n",
              "  <thead>\n",
              "    <tr style=\"text-align: right;\">\n",
              "      <th></th>\n",
              "      <th>work_year</th>\n",
              "      <th>salary</th>\n",
              "      <th>salary_in_usd</th>\n",
              "    </tr>\n",
              "  </thead>\n",
              "  <tbody>\n",
              "    <tr>\n",
              "      <th>count</th>\n",
              "      <td>5000.00000</td>\n",
              "      <td>5000.000000</td>\n",
              "      <td>5000.000000</td>\n",
              "    </tr>\n",
              "    <tr>\n",
              "      <th>mean</th>\n",
              "      <td>2020.97680</td>\n",
              "      <td>102046.307200</td>\n",
              "      <td>114076.995800</td>\n",
              "    </tr>\n",
              "    <tr>\n",
              "      <th>std</th>\n",
              "      <td>0.81951</td>\n",
              "      <td>70853.626492</td>\n",
              "      <td>49113.807687</td>\n",
              "    </tr>\n",
              "    <tr>\n",
              "      <th>min</th>\n",
              "      <td>2020.00000</td>\n",
              "      <td>-198754.000000</td>\n",
              "      <td>30016.000000</td>\n",
              "    </tr>\n",
              "    <tr>\n",
              "      <th>25%</th>\n",
              "      <td>2020.00000</td>\n",
              "      <td>64295.500000</td>\n",
              "      <td>71343.750000</td>\n",
              "    </tr>\n",
              "    <tr>\n",
              "      <th>50%</th>\n",
              "      <td>2021.00000</td>\n",
              "      <td>110636.000000</td>\n",
              "      <td>114167.000000</td>\n",
              "    </tr>\n",
              "    <tr>\n",
              "      <th>75%</th>\n",
              "      <td>2022.00000</td>\n",
              "      <td>153104.750000</td>\n",
              "      <td>156665.750000</td>\n",
              "    </tr>\n",
              "    <tr>\n",
              "      <th>max</th>\n",
              "      <td>2022.00000</td>\n",
              "      <td>199924.000000</td>\n",
              "      <td>199985.000000</td>\n",
              "    </tr>\n",
              "  </tbody>\n",
              "</table>\n",
              "</div>\n",
              "    <div class=\"colab-df-buttons\">\n",
              "\n",
              "  <div class=\"colab-df-container\">\n",
              "    <button class=\"colab-df-convert\" onclick=\"convertToInteractive('df-fc8e3e57-2e16-44aa-9d74-a2996b64e4b1')\"\n",
              "            title=\"Convert this dataframe to an interactive table.\"\n",
              "            style=\"display:none;\">\n",
              "\n",
              "  <svg xmlns=\"http://www.w3.org/2000/svg\" height=\"24px\" viewBox=\"0 -960 960 960\">\n",
              "    <path d=\"M120-120v-720h720v720H120Zm60-500h600v-160H180v160Zm220 220h160v-160H400v160Zm0 220h160v-160H400v160ZM180-400h160v-160H180v160Zm440 0h160v-160H620v160ZM180-180h160v-160H180v160Zm440 0h160v-160H620v160Z\"/>\n",
              "  </svg>\n",
              "    </button>\n",
              "\n",
              "  <style>\n",
              "    .colab-df-container {\n",
              "      display:flex;\n",
              "      gap: 12px;\n",
              "    }\n",
              "\n",
              "    .colab-df-convert {\n",
              "      background-color: #E8F0FE;\n",
              "      border: none;\n",
              "      border-radius: 50%;\n",
              "      cursor: pointer;\n",
              "      display: none;\n",
              "      fill: #1967D2;\n",
              "      height: 32px;\n",
              "      padding: 0 0 0 0;\n",
              "      width: 32px;\n",
              "    }\n",
              "\n",
              "    .colab-df-convert:hover {\n",
              "      background-color: #E2EBFA;\n",
              "      box-shadow: 0px 1px 2px rgba(60, 64, 67, 0.3), 0px 1px 3px 1px rgba(60, 64, 67, 0.15);\n",
              "      fill: #174EA6;\n",
              "    }\n",
              "\n",
              "    .colab-df-buttons div {\n",
              "      margin-bottom: 4px;\n",
              "    }\n",
              "\n",
              "    [theme=dark] .colab-df-convert {\n",
              "      background-color: #3B4455;\n",
              "      fill: #D2E3FC;\n",
              "    }\n",
              "\n",
              "    [theme=dark] .colab-df-convert:hover {\n",
              "      background-color: #434B5C;\n",
              "      box-shadow: 0px 1px 3px 1px rgba(0, 0, 0, 0.15);\n",
              "      filter: drop-shadow(0px 1px 2px rgba(0, 0, 0, 0.3));\n",
              "      fill: #FFFFFF;\n",
              "    }\n",
              "  </style>\n",
              "\n",
              "    <script>\n",
              "      const buttonEl =\n",
              "        document.querySelector('#df-fc8e3e57-2e16-44aa-9d74-a2996b64e4b1 button.colab-df-convert');\n",
              "      buttonEl.style.display =\n",
              "        google.colab.kernel.accessAllowed ? 'block' : 'none';\n",
              "\n",
              "      async function convertToInteractive(key) {\n",
              "        const element = document.querySelector('#df-fc8e3e57-2e16-44aa-9d74-a2996b64e4b1');\n",
              "        const dataTable =\n",
              "          await google.colab.kernel.invokeFunction('convertToInteractive',\n",
              "                                                    [key], {});\n",
              "        if (!dataTable) return;\n",
              "\n",
              "        const docLinkHtml = 'Like what you see? Visit the ' +\n",
              "          '<a target=\"_blank\" href=https://colab.research.google.com/notebooks/data_table.ipynb>data table notebook</a>'\n",
              "          + ' to learn more about interactive tables.';\n",
              "        element.innerHTML = '';\n",
              "        dataTable['output_type'] = 'display_data';\n",
              "        await google.colab.output.renderOutput(dataTable, element);\n",
              "        const docLink = document.createElement('div');\n",
              "        docLink.innerHTML = docLinkHtml;\n",
              "        element.appendChild(docLink);\n",
              "      }\n",
              "    </script>\n",
              "  </div>\n",
              "\n",
              "\n",
              "<div id=\"df-1deec645-35e1-4fb5-9999-c79e40c0116d\">\n",
              "  <button class=\"colab-df-quickchart\" onclick=\"quickchart('df-1deec645-35e1-4fb5-9999-c79e40c0116d')\"\n",
              "            title=\"Suggest charts\"\n",
              "            style=\"display:none;\">\n",
              "\n",
              "<svg xmlns=\"http://www.w3.org/2000/svg\" height=\"24px\"viewBox=\"0 0 24 24\"\n",
              "     width=\"24px\">\n",
              "    <g>\n",
              "        <path d=\"M19 3H5c-1.1 0-2 .9-2 2v14c0 1.1.9 2 2 2h14c1.1 0 2-.9 2-2V5c0-1.1-.9-2-2-2zM9 17H7v-7h2v7zm4 0h-2V7h2v10zm4 0h-2v-4h2v4z\"/>\n",
              "    </g>\n",
              "</svg>\n",
              "  </button>\n",
              "\n",
              "<style>\n",
              "  .colab-df-quickchart {\n",
              "      --bg-color: #E8F0FE;\n",
              "      --fill-color: #1967D2;\n",
              "      --hover-bg-color: #E2EBFA;\n",
              "      --hover-fill-color: #174EA6;\n",
              "      --disabled-fill-color: #AAA;\n",
              "      --disabled-bg-color: #DDD;\n",
              "  }\n",
              "\n",
              "  [theme=dark] .colab-df-quickchart {\n",
              "      --bg-color: #3B4455;\n",
              "      --fill-color: #D2E3FC;\n",
              "      --hover-bg-color: #434B5C;\n",
              "      --hover-fill-color: #FFFFFF;\n",
              "      --disabled-bg-color: #3B4455;\n",
              "      --disabled-fill-color: #666;\n",
              "  }\n",
              "\n",
              "  .colab-df-quickchart {\n",
              "    background-color: var(--bg-color);\n",
              "    border: none;\n",
              "    border-radius: 50%;\n",
              "    cursor: pointer;\n",
              "    display: none;\n",
              "    fill: var(--fill-color);\n",
              "    height: 32px;\n",
              "    padding: 0;\n",
              "    width: 32px;\n",
              "  }\n",
              "\n",
              "  .colab-df-quickchart:hover {\n",
              "    background-color: var(--hover-bg-color);\n",
              "    box-shadow: 0 1px 2px rgba(60, 64, 67, 0.3), 0 1px 3px 1px rgba(60, 64, 67, 0.15);\n",
              "    fill: var(--button-hover-fill-color);\n",
              "  }\n",
              "\n",
              "  .colab-df-quickchart-complete:disabled,\n",
              "  .colab-df-quickchart-complete:disabled:hover {\n",
              "    background-color: var(--disabled-bg-color);\n",
              "    fill: var(--disabled-fill-color);\n",
              "    box-shadow: none;\n",
              "  }\n",
              "\n",
              "  .colab-df-spinner {\n",
              "    border: 2px solid var(--fill-color);\n",
              "    border-color: transparent;\n",
              "    border-bottom-color: var(--fill-color);\n",
              "    animation:\n",
              "      spin 1s steps(1) infinite;\n",
              "  }\n",
              "\n",
              "  @keyframes spin {\n",
              "    0% {\n",
              "      border-color: transparent;\n",
              "      border-bottom-color: var(--fill-color);\n",
              "      border-left-color: var(--fill-color);\n",
              "    }\n",
              "    20% {\n",
              "      border-color: transparent;\n",
              "      border-left-color: var(--fill-color);\n",
              "      border-top-color: var(--fill-color);\n",
              "    }\n",
              "    30% {\n",
              "      border-color: transparent;\n",
              "      border-left-color: var(--fill-color);\n",
              "      border-top-color: var(--fill-color);\n",
              "      border-right-color: var(--fill-color);\n",
              "    }\n",
              "    40% {\n",
              "      border-color: transparent;\n",
              "      border-right-color: var(--fill-color);\n",
              "      border-top-color: var(--fill-color);\n",
              "    }\n",
              "    60% {\n",
              "      border-color: transparent;\n",
              "      border-right-color: var(--fill-color);\n",
              "    }\n",
              "    80% {\n",
              "      border-color: transparent;\n",
              "      border-right-color: var(--fill-color);\n",
              "      border-bottom-color: var(--fill-color);\n",
              "    }\n",
              "    90% {\n",
              "      border-color: transparent;\n",
              "      border-bottom-color: var(--fill-color);\n",
              "    }\n",
              "  }\n",
              "</style>\n",
              "\n",
              "  <script>\n",
              "    async function quickchart(key) {\n",
              "      const quickchartButtonEl =\n",
              "        document.querySelector('#' + key + ' button');\n",
              "      quickchartButtonEl.disabled = true;  // To prevent multiple clicks.\n",
              "      quickchartButtonEl.classList.add('colab-df-spinner');\n",
              "      try {\n",
              "        const charts = await google.colab.kernel.invokeFunction(\n",
              "            'suggestCharts', [key], {});\n",
              "      } catch (error) {\n",
              "        console.error('Error during call to suggestCharts:', error);\n",
              "      }\n",
              "      quickchartButtonEl.classList.remove('colab-df-spinner');\n",
              "      quickchartButtonEl.classList.add('colab-df-quickchart-complete');\n",
              "    }\n",
              "    (() => {\n",
              "      let quickchartButtonEl =\n",
              "        document.querySelector('#df-1deec645-35e1-4fb5-9999-c79e40c0116d button');\n",
              "      quickchartButtonEl.style.display =\n",
              "        google.colab.kernel.accessAllowed ? 'block' : 'none';\n",
              "    })();\n",
              "  </script>\n",
              "</div>\n",
              "\n",
              "    </div>\n",
              "  </div>\n"
            ],
            "application/vnd.google.colaboratory.intrinsic+json": {
              "type": "dataframe",
              "summary": "{\n  \"name\": \"df\",\n  \"rows\": 8,\n  \"fields\": [\n    {\n      \"column\": \"work_year\",\n      \"properties\": {\n        \"dtype\": \"number\",\n        \"std\": 1354.3930068310965,\n        \"min\": 0.819509657792887,\n        \"max\": 5000.0,\n        \"num_unique_values\": 6,\n        \"samples\": [\n          5000.0,\n          2020.9768,\n          2022.0\n        ],\n        \"semantic_type\": \"\",\n        \"description\": \"\"\n      }\n    },\n    {\n      \"column\": \"salary\",\n      \"properties\": {\n        \"dtype\": \"number\",\n        \"std\": 121067.96119105324,\n        \"min\": -198754.0,\n        \"max\": 199924.0,\n        \"num_unique_values\": 8,\n        \"samples\": [\n          102046.3072,\n          110636.0,\n          5000.0\n        ],\n        \"semantic_type\": \"\",\n        \"description\": \"\"\n      }\n    },\n    {\n      \"column\": \"salary_in_usd\",\n      \"properties\": {\n        \"dtype\": \"number\",\n        \"std\": 66004.03259576893,\n        \"min\": 5000.0,\n        \"max\": 199985.0,\n        \"num_unique_values\": 8,\n        \"samples\": [\n          114076.9958,\n          114167.0,\n          5000.0\n        ],\n        \"semantic_type\": \"\",\n        \"description\": \"\"\n      }\n    }\n  ]\n}"
            }
          },
          "metadata": {},
          "execution_count": 706
        }
      ],
      "source": [
        "df.describe()"
      ]
    },
    {
      "cell_type": "markdown",
      "metadata": {
        "id": "SV_MPO6yPGhm"
      },
      "source": [
        "# Summary of the DataFrame"
      ]
    },
    {
      "cell_type": "code",
      "execution_count": null,
      "metadata": {
        "id": "fg4_97C0O9-0",
        "colab": {
          "base_uri": "https://localhost:8080/"
        },
        "outputId": "68d9edce-38b2-4593-c425-dd1afd78e198"
      },
      "outputs": [
        {
          "output_type": "stream",
          "name": "stdout",
          "text": [
            "<class 'pandas.core.frame.DataFrame'>\n",
            "RangeIndex: 5000 entries, 0 to 4999\n",
            "Data columns (total 12 columns):\n",
            " #   Column              Non-Null Count  Dtype \n",
            "---  ------              --------------  ----- \n",
            " 0   work_year           5000 non-null   int64 \n",
            " 1   job_title           5000 non-null   object\n",
            " 2   job_category        4500 non-null   object\n",
            " 3   salary_currency     4500 non-null   object\n",
            " 4   salary              5000 non-null   int64 \n",
            " 5   salary_in_usd       5000 non-null   int64 \n",
            " 6   employee_residence  5000 non-null   object\n",
            " 7   experience_level    4500 non-null   object\n",
            " 8   employment_type     5000 non-null   object\n",
            " 9   work_setting        5000 non-null   object\n",
            " 10  company_location    5000 non-null   object\n",
            " 11  company_size        4500 non-null   object\n",
            "dtypes: int64(3), object(9)\n",
            "memory usage: 468.9+ KB\n"
          ]
        }
      ],
      "source": [
        "df.info()"
      ]
    },
    {
      "cell_type": "markdown",
      "metadata": {
        "id": "btRRaTBwPRc-"
      },
      "source": [
        "out of the 12 rows, only 3 is numerical type, 9 are object type"
      ]
    },
    {
      "cell_type": "markdown",
      "metadata": {
        "id": "iNNTQQy5Q96_"
      },
      "source": [
        "1. work_year\n",
        "2. salary\n",
        "3. salary_in_usd\n",
        "\n",
        "are numerical datas"
      ]
    },
    {
      "cell_type": "markdown",
      "metadata": {
        "id": "_M9uoNMQPihB"
      },
      "source": [
        "# Identify and count missing values in each column of a DataFrame"
      ]
    },
    {
      "cell_type": "code",
      "execution_count": null,
      "metadata": {
        "id": "oP8SNlxFPKlq",
        "colab": {
          "base_uri": "https://localhost:8080/",
          "height": 460
        },
        "outputId": "a53be82b-32e0-439e-8c2e-c3f249968175"
      },
      "outputs": [
        {
          "output_type": "execute_result",
          "data": {
            "text/plain": [
              "work_year               0\n",
              "job_title               0\n",
              "job_category          500\n",
              "salary_currency       500\n",
              "salary                  0\n",
              "salary_in_usd           0\n",
              "employee_residence      0\n",
              "experience_level      500\n",
              "employment_type         0\n",
              "work_setting            0\n",
              "company_location        0\n",
              "company_size          500\n",
              "dtype: int64"
            ],
            "text/html": [
              "<div>\n",
              "<style scoped>\n",
              "    .dataframe tbody tr th:only-of-type {\n",
              "        vertical-align: middle;\n",
              "    }\n",
              "\n",
              "    .dataframe tbody tr th {\n",
              "        vertical-align: top;\n",
              "    }\n",
              "\n",
              "    .dataframe thead th {\n",
              "        text-align: right;\n",
              "    }\n",
              "</style>\n",
              "<table border=\"1\" class=\"dataframe\">\n",
              "  <thead>\n",
              "    <tr style=\"text-align: right;\">\n",
              "      <th></th>\n",
              "      <th>0</th>\n",
              "    </tr>\n",
              "  </thead>\n",
              "  <tbody>\n",
              "    <tr>\n",
              "      <th>work_year</th>\n",
              "      <td>0</td>\n",
              "    </tr>\n",
              "    <tr>\n",
              "      <th>job_title</th>\n",
              "      <td>0</td>\n",
              "    </tr>\n",
              "    <tr>\n",
              "      <th>job_category</th>\n",
              "      <td>500</td>\n",
              "    </tr>\n",
              "    <tr>\n",
              "      <th>salary_currency</th>\n",
              "      <td>500</td>\n",
              "    </tr>\n",
              "    <tr>\n",
              "      <th>salary</th>\n",
              "      <td>0</td>\n",
              "    </tr>\n",
              "    <tr>\n",
              "      <th>salary_in_usd</th>\n",
              "      <td>0</td>\n",
              "    </tr>\n",
              "    <tr>\n",
              "      <th>employee_residence</th>\n",
              "      <td>0</td>\n",
              "    </tr>\n",
              "    <tr>\n",
              "      <th>experience_level</th>\n",
              "      <td>500</td>\n",
              "    </tr>\n",
              "    <tr>\n",
              "      <th>employment_type</th>\n",
              "      <td>0</td>\n",
              "    </tr>\n",
              "    <tr>\n",
              "      <th>work_setting</th>\n",
              "      <td>0</td>\n",
              "    </tr>\n",
              "    <tr>\n",
              "      <th>company_location</th>\n",
              "      <td>0</td>\n",
              "    </tr>\n",
              "    <tr>\n",
              "      <th>company_size</th>\n",
              "      <td>500</td>\n",
              "    </tr>\n",
              "  </tbody>\n",
              "</table>\n",
              "</div><br><label><b>dtype:</b> int64</label>"
            ]
          },
          "metadata": {},
          "execution_count": 708
        }
      ],
      "source": [
        "df.isna().sum()"
      ]
    },
    {
      "cell_type": "markdown",
      "metadata": {
        "id": "KMKHFUOyPw91"
      },
      "source": [
        "4 columns contains missing values"
      ]
    },
    {
      "cell_type": "markdown",
      "metadata": {
        "id": "aaVfuiqpRSm6"
      },
      "source": [
        "# Access the column labels of a DataFrame"
      ]
    },
    {
      "cell_type": "code",
      "execution_count": null,
      "metadata": {
        "id": "6MtGI2vKPsu0",
        "colab": {
          "base_uri": "https://localhost:8080/"
        },
        "outputId": "514b6dfc-dcf9-4144-f174-df2ea1f4fea1"
      },
      "outputs": [
        {
          "output_type": "execute_result",
          "data": {
            "text/plain": [
              "Index(['work_year', 'job_title', 'job_category', 'salary_currency', 'salary',\n",
              "       'salary_in_usd', 'employee_residence', 'experience_level',\n",
              "       'employment_type', 'work_setting', 'company_location', 'company_size'],\n",
              "      dtype='object')"
            ]
          },
          "metadata": {},
          "execution_count": 709
        }
      ],
      "source": [
        "df.columns"
      ]
    },
    {
      "cell_type": "markdown",
      "metadata": {
        "id": "_zgFSnWURai7"
      },
      "source": [
        "#Return unique values in object type column of the dataframe"
      ]
    },
    {
      "cell_type": "code",
      "execution_count": null,
      "metadata": {
        "id": "0qV3vQdGRYet",
        "colab": {
          "base_uri": "https://localhost:8080/",
          "height": 460
        },
        "outputId": "291ae37a-d35e-4850-f8b7-a2555ce4d51f"
      },
      "outputs": [
        {
          "output_type": "execute_result",
          "data": {
            "text/plain": [
              "work_year                3\n",
              "job_title               15\n",
              "job_category             4\n",
              "salary_currency          5\n",
              "salary                4943\n",
              "salary_in_usd         4927\n",
              "employee_residence       7\n",
              "experience_level         4\n",
              "employment_type          4\n",
              "work_setting             3\n",
              "company_location         7\n",
              "company_size             3\n",
              "dtype: int64"
            ],
            "text/html": [
              "<div>\n",
              "<style scoped>\n",
              "    .dataframe tbody tr th:only-of-type {\n",
              "        vertical-align: middle;\n",
              "    }\n",
              "\n",
              "    .dataframe tbody tr th {\n",
              "        vertical-align: top;\n",
              "    }\n",
              "\n",
              "    .dataframe thead th {\n",
              "        text-align: right;\n",
              "    }\n",
              "</style>\n",
              "<table border=\"1\" class=\"dataframe\">\n",
              "  <thead>\n",
              "    <tr style=\"text-align: right;\">\n",
              "      <th></th>\n",
              "      <th>0</th>\n",
              "    </tr>\n",
              "  </thead>\n",
              "  <tbody>\n",
              "    <tr>\n",
              "      <th>work_year</th>\n",
              "      <td>3</td>\n",
              "    </tr>\n",
              "    <tr>\n",
              "      <th>job_title</th>\n",
              "      <td>15</td>\n",
              "    </tr>\n",
              "    <tr>\n",
              "      <th>job_category</th>\n",
              "      <td>4</td>\n",
              "    </tr>\n",
              "    <tr>\n",
              "      <th>salary_currency</th>\n",
              "      <td>5</td>\n",
              "    </tr>\n",
              "    <tr>\n",
              "      <th>salary</th>\n",
              "      <td>4943</td>\n",
              "    </tr>\n",
              "    <tr>\n",
              "      <th>salary_in_usd</th>\n",
              "      <td>4927</td>\n",
              "    </tr>\n",
              "    <tr>\n",
              "      <th>employee_residence</th>\n",
              "      <td>7</td>\n",
              "    </tr>\n",
              "    <tr>\n",
              "      <th>experience_level</th>\n",
              "      <td>4</td>\n",
              "    </tr>\n",
              "    <tr>\n",
              "      <th>employment_type</th>\n",
              "      <td>4</td>\n",
              "    </tr>\n",
              "    <tr>\n",
              "      <th>work_setting</th>\n",
              "      <td>3</td>\n",
              "    </tr>\n",
              "    <tr>\n",
              "      <th>company_location</th>\n",
              "      <td>7</td>\n",
              "    </tr>\n",
              "    <tr>\n",
              "      <th>company_size</th>\n",
              "      <td>3</td>\n",
              "    </tr>\n",
              "  </tbody>\n",
              "</table>\n",
              "</div><br><label><b>dtype:</b> int64</label>"
            ]
          },
          "metadata": {},
          "execution_count": 710
        }
      ],
      "source": [
        "df.nunique()"
      ]
    },
    {
      "cell_type": "markdown",
      "metadata": {
        "id": "IPtmDccxUbaj"
      },
      "source": [
        "### Unique values in year"
      ]
    },
    {
      "cell_type": "code",
      "execution_count": null,
      "metadata": {
        "id": "tIEQ5BH0Rjpl",
        "colab": {
          "base_uri": "https://localhost:8080/"
        },
        "outputId": "25fb5e3e-9323-4f79-b8cd-0f441d3e0690"
      },
      "outputs": [
        {
          "output_type": "execute_result",
          "data": {
            "text/plain": [
              "array([2022, 2020, 2021])"
            ]
          },
          "metadata": {},
          "execution_count": 711
        }
      ],
      "source": [
        "df['work_year'].unique()"
      ]
    },
    {
      "cell_type": "markdown",
      "metadata": {
        "id": "UUVKL7W7UotQ"
      },
      "source": [
        "### Unique values in job_title"
      ]
    },
    {
      "cell_type": "code",
      "execution_count": null,
      "metadata": {
        "id": "gasl_3W4Uj87",
        "colab": {
          "base_uri": "https://localhost:8080/"
        },
        "outputId": "563c2bf8-86b9-40f7-eb5a-3c8480ec9e02"
      },
      "outputs": [
        {
          "output_type": "execute_result",
          "data": {
            "text/plain": [
              "array(['Machine Learning Engineer  in office', 'Statistician  (Remote)',\n",
              "       'Machine Learning Engineer', 'Data Analyst  in office',\n",
              "       'Statistician', 'Data Scientist  (Remote)', 'Data Analyst',\n",
              "       'Data Engineer  in office', 'Data Scientist',\n",
              "       'Machine Learning Engineer  (Remote)', 'Data Engineer',\n",
              "       'Data Engineer  (Remote)', 'Data Scientist  in office',\n",
              "       'Data Analyst  (Remote)', 'Statistician  in office'], dtype=object)"
            ]
          },
          "metadata": {},
          "execution_count": 712
        }
      ],
      "source": [
        "df['job_title'].unique()"
      ]
    },
    {
      "cell_type": "markdown",
      "metadata": {
        "id": "2lZiBZ_vVEN_"
      },
      "source": [
        "###Unique values in job_category"
      ]
    },
    {
      "cell_type": "code",
      "execution_count": null,
      "metadata": {
        "id": "IE6LG6ULUwxz",
        "colab": {
          "base_uri": "https://localhost:8080/"
        },
        "outputId": "9aebdb34-2711-4ed1-fbf5-3a55a4637b70"
      },
      "outputs": [
        {
          "output_type": "execute_result",
          "data": {
            "text/plain": [
              "array(['Analysis', 'ML/AI', 'Data Science', 'Engineering', nan],\n",
              "      dtype=object)"
            ]
          },
          "metadata": {},
          "execution_count": 713
        }
      ],
      "source": [
        "df['job_category'].unique()"
      ]
    },
    {
      "cell_type": "markdown",
      "metadata": {
        "id": "y2pCHDDRYj_r"
      },
      "source": [
        "### Unique values in salary_currency"
      ]
    },
    {
      "cell_type": "code",
      "execution_count": null,
      "metadata": {
        "id": "nTPm_Jg7VMaQ",
        "colab": {
          "base_uri": "https://localhost:8080/"
        },
        "outputId": "1d5cd737-434f-4b6b-ada5-28e1d83c9e82"
      },
      "outputs": [
        {
          "output_type": "execute_result",
          "data": {
            "text/plain": [
              "array(['EUR', 'JPY', 'INR', nan, 'us dolars', 'GBP'], dtype=object)"
            ]
          },
          "metadata": {},
          "execution_count": 714
        }
      ],
      "source": [
        "df['salary_currency'].unique()"
      ]
    },
    {
      "cell_type": "markdown",
      "metadata": {
        "id": "36mxG7CfbVmi"
      },
      "source": [
        "### Unique values in employee residence"
      ]
    },
    {
      "cell_type": "code",
      "execution_count": null,
      "metadata": {
        "id": "RJIw2qnJYyIE",
        "colab": {
          "base_uri": "https://localhost:8080/"
        },
        "outputId": "99320819-fbcc-4167-d63c-27033c622ccc"
      },
      "outputs": [
        {
          "output_type": "execute_result",
          "data": {
            "text/plain": [
              "array(['US', 'JP', 'UK', 'DE', 'CN', 'MX', 'IN'], dtype=object)"
            ]
          },
          "metadata": {},
          "execution_count": 715
        }
      ],
      "source": [
        "df['employee_residence'].unique()"
      ]
    },
    {
      "cell_type": "markdown",
      "metadata": {
        "id": "oGaHDTfEckNP"
      },
      "source": [
        "USA, Japan, UK, Germany (DE), China (CN), Mexico (MX), India (IN)"
      ]
    },
    {
      "cell_type": "markdown",
      "metadata": {
        "id": "Sn7-nmBPbkiq"
      },
      "source": [
        "### Unique values in experience leve"
      ]
    },
    {
      "cell_type": "code",
      "execution_count": null,
      "metadata": {
        "id": "0Nj-3gU3bfz5",
        "colab": {
          "base_uri": "https://localhost:8080/"
        },
        "outputId": "c86c082d-ace2-48a4-de60-cf6a72ee6651"
      },
      "outputs": [
        {
          "output_type": "execute_result",
          "data": {
            "text/plain": [
              "array(['MI', 'EX', 'SE', nan, 'EN'], dtype=object)"
            ]
          },
          "metadata": {},
          "execution_count": 716
        }
      ],
      "source": [
        "df['experience_level'].unique()"
      ]
    },
    {
      "cell_type": "markdown",
      "metadata": {
        "id": "cU3SMbNVdQIK"
      },
      "source": [
        "MI (mid level), Senior Level (SE), Entry Level (EN),"
      ]
    },
    {
      "cell_type": "markdown",
      "metadata": {
        "id": "ji2QDVqybvW6"
      },
      "source": [
        "### Unique values in employement type"
      ]
    },
    {
      "cell_type": "code",
      "execution_count": null,
      "metadata": {
        "id": "etsREsTzbqU-",
        "colab": {
          "base_uri": "https://localhost:8080/"
        },
        "outputId": "17b6b0bd-db5d-4704-c5d9-3687b816acae"
      },
      "outputs": [
        {
          "output_type": "execute_result",
          "data": {
            "text/plain": [
              "array(['CT', 'FL', 'FT', 'PT'], dtype=object)"
            ]
          },
          "metadata": {},
          "execution_count": 717
        }
      ],
      "source": [
        "df['employment_type'].unique()"
      ]
    },
    {
      "cell_type": "markdown",
      "metadata": {
        "id": "dUyX216hdwF2"
      },
      "source": [
        "Full time (FT), Part time (PT), Contract (CT),"
      ]
    },
    {
      "cell_type": "markdown",
      "metadata": {
        "id": "eToW8AEzeVBC"
      },
      "source": [
        "### Unique values in work_setting"
      ]
    },
    {
      "cell_type": "code",
      "execution_count": null,
      "metadata": {
        "id": "ESF4VAX9b5uH",
        "colab": {
          "base_uri": "https://localhost:8080/"
        },
        "outputId": "90ad4872-1ebf-425f-d548-7c9c87cbd8b4"
      },
      "outputs": [
        {
          "output_type": "execute_result",
          "data": {
            "text/plain": [
              "array(['Remote', 'Hybrid', 'In-person'], dtype=object)"
            ]
          },
          "metadata": {},
          "execution_count": 718
        }
      ],
      "source": [
        "df['work_setting'].unique()"
      ]
    },
    {
      "cell_type": "markdown",
      "metadata": {
        "id": "Kv5MVdODegNv"
      },
      "source": [
        "###Unique values in company location"
      ]
    },
    {
      "cell_type": "code",
      "execution_count": null,
      "metadata": {
        "id": "lE2lRaWXedVj",
        "colab": {
          "base_uri": "https://localhost:8080/"
        },
        "outputId": "1dc36292-21f3-43fb-8e9a-9ddda064aed0"
      },
      "outputs": [
        {
          "output_type": "execute_result",
          "data": {
            "text/plain": [
              "array(['DE', 'IN', 'CN', 'MX', 'UK', 'JP', 'US'], dtype=object)"
            ]
          },
          "metadata": {},
          "execution_count": 719
        }
      ],
      "source": [
        "df['company_location'].unique()"
      ]
    },
    {
      "cell_type": "markdown",
      "metadata": {
        "id": "6l92q6FKeqLf"
      },
      "source": [
        "### Unique values in company size"
      ]
    },
    {
      "cell_type": "code",
      "execution_count": null,
      "metadata": {
        "id": "WLAZ-oNgemLd",
        "colab": {
          "base_uri": "https://localhost:8080/"
        },
        "outputId": "4f98a38d-9a7d-43e7-d883-dcc56f2aa514"
      },
      "outputs": [
        {
          "output_type": "execute_result",
          "data": {
            "text/plain": [
              "array(['L', 'M', 'S', nan], dtype=object)"
            ]
          },
          "metadata": {},
          "execution_count": 720
        }
      ],
      "source": [
        "df['company_size'].unique()"
      ]
    },
    {
      "cell_type": "markdown",
      "metadata": {
        "id": "OS_LkbgrxhJF"
      },
      "source": [
        "# Identify and count the number of duplicate rows in the data frame"
      ]
    },
    {
      "cell_type": "code",
      "execution_count": null,
      "metadata": {
        "id": "vH3ayUncewLR",
        "colab": {
          "base_uri": "https://localhost:8080/"
        },
        "outputId": "5a3cec16-09ef-4e16-d5ad-aeb652c8c496"
      },
      "outputs": [
        {
          "output_type": "execute_result",
          "data": {
            "text/plain": [
              "0"
            ]
          },
          "metadata": {},
          "execution_count": 721
        }
      ],
      "source": [
        "df.duplicated().sum()"
      ]
    },
    {
      "cell_type": "markdown",
      "metadata": {
        "id": "x-jphAaKx9DZ"
      },
      "source": [
        "#Histogram of numerical type data type"
      ]
    },
    {
      "cell_type": "code",
      "execution_count": null,
      "metadata": {
        "id": "okHae-pVxqoL",
        "colab": {
          "base_uri": "https://localhost:8080/",
          "height": 699
        },
        "outputId": "cafe4853-1293-48d0-ca03-aa30bb1cb4fa"
      },
      "outputs": [
        {
          "output_type": "display_data",
          "data": {
            "text/plain": [
              "<Figure size 700x800 with 4 Axes>"
            ],
            "image/png": "[encoded data removed]"
          },
          "metadata": {}
        }
      ],
      "source": [
        "df.hist(figsize=(7,8))\n",
        "plt.show()"
      ]
    },
    {
      "cell_type": "markdown",
      "metadata": {
        "id": "Uz-S2d2rsa1X"
      },
      "source": [
        "salary's are shown in negative"
      ]
    },
    {
      "cell_type": "markdown",
      "metadata": {
        "id": "4nli8_sHyNCe"
      },
      "source": [
        "#Outlier checking"
      ]
    },
    {
      "cell_type": "code",
      "execution_count": null,
      "metadata": {
        "id": "uAj4AJ_XpFoa",
        "colab": {
          "base_uri": "https://localhost:8080/",
          "height": 410
        },
        "outputId": "d281bbee-1291-40b6-c063-ecf291139e57"
      },
      "outputs": [
        {
          "output_type": "display_data",
          "data": {
            "text/plain": [
              "<Figure size 700x400 with 2 Axes>"
            ],
            "image/png": "[encoded data removed]"
          },
          "metadata": {}
        }
      ],
      "source": [
        "plt.figure(figsize=(7, 4))\n",
        "plt.subplot(1,2,1)\n",
        "sns.boxplot(x=df['salary'])\n",
        "plt.title('Box Plot of Salary')\n",
        "plt.xlabel('Salary')\n",
        "\n",
        "plt.subplot(1,2,2)\n",
        "sns.boxplot(x=df['salary_in_usd'])\n",
        "plt.title('Box Plot of Salary in usd')\n",
        "plt.xlabel('Salary')\n",
        "plt.show()"
      ]
    },
    {
      "cell_type": "markdown",
      "metadata": {
        "id": "Cq-ksoYLseff"
      },
      "source": [
        "again salary is shown negative, probably the reason for outlier"
      ]
    },
    {
      "cell_type": "code",
      "execution_count": null,
      "metadata": {
        "id": "Rf9vSP9Bsp0r",
        "colab": {
          "base_uri": "https://localhost:8080/",
          "height": 458
        },
        "outputId": "791068b7-130a-4f4a-ddb1-bae2f1b6f154"
      },
      "outputs": [
        {
          "output_type": "execute_result",
          "data": {
            "text/plain": [
              "0       186597\n",
              "1       110630\n",
              "2        61280\n",
              "3       154130\n",
              "4       172312\n",
              "         ...  \n",
              "4995    179769\n",
              "4996    184642\n",
              "4997    135319\n",
              "4998     58037\n",
              "4999    143565\n",
              "Name: salary, Length: 5000, dtype: int64"
            ],
            "text/html": [
              "<div>\n",
              "<style scoped>\n",
              "    .dataframe tbody tr th:only-of-type {\n",
              "        vertical-align: middle;\n",
              "    }\n",
              "\n",
              "    .dataframe tbody tr th {\n",
              "        vertical-align: top;\n",
              "    }\n",
              "\n",
              "    .dataframe thead th {\n",
              "        text-align: right;\n",
              "    }\n",
              "</style>\n",
              "<table border=\"1\" class=\"dataframe\">\n",
              "  <thead>\n",
              "    <tr style=\"text-align: right;\">\n",
              "      <th></th>\n",
              "      <th>salary</th>\n",
              "    </tr>\n",
              "  </thead>\n",
              "  <tbody>\n",
              "    <tr>\n",
              "      <th>0</th>\n",
              "      <td>186597</td>\n",
              "    </tr>\n",
              "    <tr>\n",
              "      <th>1</th>\n",
              "      <td>110630</td>\n",
              "    </tr>\n",
              "    <tr>\n",
              "      <th>2</th>\n",
              "      <td>61280</td>\n",
              "    </tr>\n",
              "    <tr>\n",
              "      <th>3</th>\n",
              "      <td>154130</td>\n",
              "    </tr>\n",
              "    <tr>\n",
              "      <th>4</th>\n",
              "      <td>172312</td>\n",
              "    </tr>\n",
              "    <tr>\n",
              "      <th>...</th>\n",
              "      <td>...</td>\n",
              "    </tr>\n",
              "    <tr>\n",
              "      <th>4995</th>\n",
              "      <td>179769</td>\n",
              "    </tr>\n",
              "    <tr>\n",
              "      <th>4996</th>\n",
              "      <td>184642</td>\n",
              "    </tr>\n",
              "    <tr>\n",
              "      <th>4997</th>\n",
              "      <td>135319</td>\n",
              "    </tr>\n",
              "    <tr>\n",
              "      <th>4998</th>\n",
              "      <td>58037</td>\n",
              "    </tr>\n",
              "    <tr>\n",
              "      <th>4999</th>\n",
              "      <td>143565</td>\n",
              "    </tr>\n",
              "  </tbody>\n",
              "</table>\n",
              "<p>5000 rows × 1 columns</p>\n",
              "</div><br><label><b>dtype:</b> int64</label>"
            ]
          },
          "metadata": {},
          "execution_count": 724
        }
      ],
      "source": [
        "df['salary']=abs(df['salary'])\n",
        "df['salary']"
      ]
    },
    {
      "cell_type": "code",
      "execution_count": null,
      "metadata": {
        "id": "9rUwLQ1W503Q",
        "colab": {
          "base_uri": "https://localhost:8080/",
          "height": 699
        },
        "outputId": "118c60e2-37d1-4453-ff94-169814f5389f"
      },
      "outputs": [
        {
          "output_type": "display_data",
          "data": {
            "text/plain": [
              "<Figure size 700x800 with 4 Axes>"
            ],
            "image/png": "[encoded data removed]"
          },
          "metadata": {}
        }
      ],
      "source": [
        "df.hist(figsize=(7,8))\n",
        "plt.show()"
      ]
    },
    {
      "cell_type": "code",
      "execution_count": null,
      "metadata": {
        "id": "3BHzAQHkyBkd",
        "colab": {
          "base_uri": "https://localhost:8080/",
          "height": 447
        },
        "outputId": "e5e45a41-ceed-4ed0-8081-9338fecd5c65"
      },
      "outputs": [
        {
          "output_type": "execute_result",
          "data": {
            "text/plain": [
              "<Axes: >"
            ]
          },
          "metadata": {},
          "execution_count": 726
        },
        {
          "output_type": "display_data",
          "data": {
            "text/plain": [
              "<Figure size 640x480 with 1 Axes>"
            ],
            "image/png": "[encoded data removed]"
          },
          "metadata": {}
        }
      ],
      "source": [
        "df.boxplot()"
      ]
    },
    {
      "cell_type": "code",
      "execution_count": null,
      "metadata": {
        "id": "w3wjsIHHkSfp",
        "colab": {
          "base_uri": "https://localhost:8080/",
          "height": 53
        },
        "outputId": "ae2deae8-0aad-48b8-ea0b-4273738f074a"
      },
      "outputs": [
        {
          "output_type": "execute_result",
          "data": {
            "text/plain": [
              "\"plt.figure(figsize=(15,5))\\nplt.subplot(1,3,1)\\ndf['work_year'].value_counts().plot(kind='bar')\\nplt.subplot(1,3,2)\\ndf['job_title'].value_counts().plot(kind='bar')\\nplt.subplot(1,3,3)\\ndf['job_category'].value_counts().plot(kind='bar')\""
            ],
            "application/vnd.google.colaboratory.intrinsic+json": {
              "type": "string"
            }
          },
          "metadata": {},
          "execution_count": 727
        }
      ],
      "source": [
        "'''plt.figure(figsize=(15,5))\n",
        "plt.subplot(1,3,1)\n",
        "df['work_year'].value_counts().plot(kind='bar')\n",
        "plt.subplot(1,3,2)\n",
        "df['job_title'].value_counts().plot(kind='bar')\n",
        "plt.subplot(1,3,3)\n",
        "df['job_category'].value_counts().plot(kind='bar')'''"
      ]
    },
    {
      "cell_type": "code",
      "execution_count": null,
      "metadata": {
        "id": "k6w6IGghlb6d",
        "colab": {
          "base_uri": "https://localhost:8080/",
          "height": 53
        },
        "outputId": "7ec21f05-0030-4052-9975-83862635bd0d"
      },
      "outputs": [
        {
          "output_type": "execute_result",
          "data": {
            "text/plain": [
              "\"plt.figure(figsize=(15,5))\\nplt.subplot(1,3,1)\\ndf['salary_currency'].value_counts().plot(kind='bar')\\nplt.subplot(1,3,2)\\ndf['salary'].value_counts().plot(kind='bar')\\nplt.subplot(1,3,3)\\ndf['salary_in_usd'].value_counts().plot(kind='bar')\""
            ],
            "application/vnd.google.colaboratory.intrinsic+json": {
              "type": "string"
            }
          },
          "metadata": {},
          "execution_count": 728
        }
      ],
      "source": [
        "'''plt.figure(figsize=(15,5))\n",
        "plt.subplot(1,3,1)\n",
        "df['salary_currency'].value_counts().plot(kind='bar')\n",
        "plt.subplot(1,3,2)\n",
        "df['salary'].value_counts().plot(kind='bar')\n",
        "plt.subplot(1,3,3)\n",
        "df['salary_in_usd'].value_counts().plot(kind='bar')'''"
      ]
    },
    {
      "cell_type": "code",
      "execution_count": null,
      "metadata": {
        "id": "1oUkGPU5mTSb",
        "colab": {
          "base_uri": "https://localhost:8080/"
        },
        "outputId": "efd3c370-87d1-4d23-dd03-d3f6e8cd34b2"
      },
      "outputs": [
        {
          "output_type": "execute_result",
          "data": {
            "text/plain": [
              "Index(['work_year', 'job_title', 'job_category', 'salary_currency', 'salary',\n",
              "       'salary_in_usd', 'employee_residence', 'experience_level',\n",
              "       'employment_type', 'work_setting', 'company_location', 'company_size'],\n",
              "      dtype='object')"
            ]
          },
          "metadata": {},
          "execution_count": 729
        }
      ],
      "source": [
        "df.columns"
      ]
    },
    {
      "cell_type": "code",
      "execution_count": null,
      "metadata": {
        "id": "oI2m6euEmPZZ",
        "colab": {
          "base_uri": "https://localhost:8080/",
          "height": 53
        },
        "outputId": "cc456a45-fe31-412f-cbff-f1df6fe71410"
      },
      "outputs": [
        {
          "output_type": "execute_result",
          "data": {
            "text/plain": [
              "\"plt.figure(figsize=(15,5))\\nplt.subplot(1,3,1)\\ndf['employee_residence'].value_counts().plot(kind='bar')\\nplt.subplot(1,3,2)\\ndf['experience_level'].value_counts().plot(kind='bar')\\nplt.subplot(1,3,3)\\ndf['employment_type'].value_counts().plot(kind='bar')\""
            ],
            "application/vnd.google.colaboratory.intrinsic+json": {
              "type": "string"
            }
          },
          "metadata": {},
          "execution_count": 730
        }
      ],
      "source": [
        "'''plt.figure(figsize=(15,5))\n",
        "plt.subplot(1,3,1)\n",
        "df['employee_residence'].value_counts().plot(kind='bar')\n",
        "plt.subplot(1,3,2)\n",
        "df['experience_level'].value_counts().plot(kind='bar')\n",
        "plt.subplot(1,3,3)\n",
        "df['employment_type'].value_counts().plot(kind='bar')'''"
      ]
    },
    {
      "cell_type": "code",
      "execution_count": null,
      "metadata": {
        "id": "Pr_67CCmmmR9",
        "colab": {
          "base_uri": "https://localhost:8080/",
          "height": 53
        },
        "outputId": "a88c5cbb-9bc6-4b68-d078-3856d3d0e777"
      },
      "outputs": [
        {
          "output_type": "execute_result",
          "data": {
            "text/plain": [
              "\"plt.figure(figsize=(15,5))\\nplt.subplot(1,3,1)\\ndf['work_setting'].value_counts().plot(kind='bar')\\nplt.subplot(1,3,2)\\ndf['company_location'].value_counts().plot(kind='bar')\\nplt.subplot(1,3,3)\\ndf['company_size'].value_counts().plot(kind='bar')\""
            ],
            "application/vnd.google.colaboratory.intrinsic+json": {
              "type": "string"
            }
          },
          "metadata": {},
          "execution_count": 731
        }
      ],
      "source": [
        "'''plt.figure(figsize=(15,5))\n",
        "plt.subplot(1,3,1)\n",
        "df['work_setting'].value_counts().plot(kind='bar')\n",
        "plt.subplot(1,3,2)\n",
        "df['company_location'].value_counts().plot(kind='bar')\n",
        "plt.subplot(1,3,3)\n",
        "df['company_size'].value_counts().plot(kind='bar')'''"
      ]
    },
    {
      "cell_type": "markdown",
      "metadata": {
        "id": "7Q9IvKXPyeLm"
      },
      "source": [
        "# Univariate analysis"
      ]
    },
    {
      "cell_type": "code",
      "execution_count": null,
      "metadata": {
        "id": "dPhhax-ey0o2",
        "colab": {
          "base_uri": "https://localhost:8080/"
        },
        "outputId": "b5989a3b-a66c-432b-dec2-f7f60054a25a"
      },
      "outputs": [
        {
          "output_type": "execute_result",
          "data": {
            "text/plain": [
              "Index(['work_year', 'job_title', 'job_category', 'salary_currency', 'salary',\n",
              "       'salary_in_usd', 'employee_residence', 'experience_level',\n",
              "       'employment_type', 'work_setting', 'company_location', 'company_size'],\n",
              "      dtype='object')"
            ]
          },
          "metadata": {},
          "execution_count": 732
        }
      ],
      "source": [
        "columns=df.columns\n",
        "columns"
      ]
    },
    {
      "cell_type": "code",
      "execution_count": null,
      "metadata": {
        "id": "Ca_m11Dk4qIA",
        "colab": {
          "base_uri": "https://localhost:8080/",
          "height": 383
        },
        "outputId": "3512eed6-e654-4e92-f103-999dca77d43b"
      },
      "outputs": [
        {
          "output_type": "display_data",
          "data": {
            "text/plain": [
              "<Figure size 1500x500 with 3 Axes>"
            ],
            "image/png": "[encoded data removed]"
          },
          "metadata": {}
        }
      ],
      "source": [
        "fig, axes = plt.subplots(1, 3, figsize=(15, 5))\n",
        "\n",
        "# Assuming 'salary', 'salary_in_usd', and 'work_year' are your numerical columns\n",
        "sns.histplot(df['salary'], ax=axes[0])\n",
        "axes[0].set_title('Salary Histogram')\n",
        "\n",
        "sns.histplot(df['salary_in_usd'], ax=axes[1])\n",
        "axes[1].set_title('Salary in USD Histogram')\n",
        "\n",
        "sns.histplot(df['work_year'], ax=axes[2])\n",
        "axes[2].set_title('Work Year Histogram')\n",
        "\n",
        "plt.tight_layout()\n",
        "plt.show()"
      ]
    },
    {
      "cell_type": "code",
      "execution_count": null,
      "metadata": {
        "id": "dhIfZktnyVIa",
        "colab": {
          "base_uri": "https://localhost:8080/",
          "height": 105
        },
        "outputId": "7ec80d41-3f11-4157-a9e7-cef8db7f9c5c"
      },
      "outputs": [
        {
          "output_type": "execute_result",
          "data": {
            "text/plain": [
              "\"import matplotlib.pyplot as plt\\n\\ncategorical_features = ['job_title', 'job_category', 'salary_currency',\\n                        'employee_residence', 'experience_level',\\n                        'employment_type', 'work_setting', 'company_location',\\n                        'company_size']\\n\\nfig, axes = plt.subplots(3, 3, figsize=(15, 15))\\nfor i, feature in enumerate(categorical_features):\\n  row = i // 3\\n  col = i % 3\\n  sns.countplot(x=feature, data=df, ax=axes[row, col])\\n  axes[row, col].set_title(f'Distribution of {feature}')\\n  axes[row, col].tick_params(axis='x', rotation=90)\\n\\nplt.tight_layout()\\nplt.show()\""
            ],
            "application/vnd.google.colaboratory.intrinsic+json": {
              "type": "string"
            }
          },
          "metadata": {},
          "execution_count": 734
        }
      ],
      "source": [
        "'''import matplotlib.pyplot as plt\n",
        "\n",
        "categorical_features = ['job_title', 'job_category', 'salary_currency',\n",
        "                        'employee_residence', 'experience_level',\n",
        "                        'employment_type', 'work_setting', 'company_location',\n",
        "                        'company_size']\n",
        "\n",
        "fig, axes = plt.subplots(3, 3, figsize=(15, 15))\n",
        "for i, feature in enumerate(categorical_features):\n",
        "  row = i // 3\n",
        "  col = i % 3\n",
        "  sns.countplot(x=feature, data=df, ax=axes[row, col])\n",
        "  axes[row, col].set_title(f'Distribution of {feature}')\n",
        "  axes[row, col].tick_params(axis='x', rotation=90)\n",
        "\n",
        "plt.tight_layout()\n",
        "plt.show()'''"
      ]
    },
    {
      "cell_type": "markdown",
      "metadata": {
        "id": "HvI1cOPY2Bhn"
      },
      "source": [
        "# Bivariate analysis with 'salary' as target variable"
      ]
    },
    {
      "cell_type": "code",
      "execution_count": null,
      "metadata": {
        "id": "j-aHYwbWBQPt",
        "colab": {
          "base_uri": "https://localhost:8080/"
        },
        "outputId": "e3b62a68-4772-4a69-d282-03b3ca86e9f3"
      },
      "outputs": [
        {
          "output_type": "execute_result",
          "data": {
            "text/plain": [
              "Index(['work_year', 'job_title', 'job_category', 'salary_currency', 'salary',\n",
              "       'salary_in_usd', 'employee_residence', 'experience_level',\n",
              "       'employment_type', 'work_setting', 'company_location', 'company_size'],\n",
              "      dtype='object')"
            ]
          },
          "metadata": {},
          "execution_count": 735
        }
      ],
      "source": [
        "df.columns"
      ]
    },
    {
      "cell_type": "code",
      "execution_count": null,
      "metadata": {
        "id": "6KWlVWz1j4Nf",
        "colab": {
          "base_uri": "https://localhost:8080/",
          "height": 467
        },
        "outputId": "d3cbcad2-e850-4ce6-bd27-0d65fc7f3b83"
      },
      "outputs": [
        {
          "output_type": "execute_result",
          "data": {
            "text/plain": [
              "<Axes: xlabel='job_category', ylabel='salary'>"
            ]
          },
          "metadata": {},
          "execution_count": 736
        },
        {
          "output_type": "display_data",
          "data": {
            "text/plain": [
              "<Figure size 640x480 with 1 Axes>"
            ],
            "image/png": "[encoded data removed]"
          },
          "metadata": {}
        }
      ],
      "source": [
        "sns.barplot(x=df['job_category'],y=df['salary'])"
      ]
    },
    {
      "cell_type": "code",
      "execution_count": null,
      "metadata": {
        "id": "a93gKDuJBlfB",
        "colab": {
          "base_uri": "https://localhost:8080/",
          "height": 122
        },
        "outputId": "e2b77a98-2ca6-4942-b393-ab855017b405"
      },
      "outputs": [
        {
          "output_type": "execute_result",
          "data": {
            "text/plain": [
              "\"# Assuming 'df' is your DataFrame and 'salary' is the column name for salary\\n\\n# List of columns to plot against salary\\ncolumns_to_plot = columns\\n\\n# Create a figure and axes with 3 rows and 4 columns\\nfig, axes = plt.subplots(4, 3, figsize=(20, 20))\\n\\n# Flatten the axes array for easier iteration\\naxes = axes.flatten()\\n\\nfor i, column in enumerate(columns_to_plot):\\n  # Create a barplot for each column against 'salary'\\n  sns.barplot(x=column, y='salary_in_usd', data=df, ax=axes[i])\\n  axes[i].set_title(f'{column} vs Salary_in_usd')\\n  axes[i].tick_params(axis='x', rotation=90)\\n\\n# Remove any unused axes\\nfor i in range(len(columns_to_plot), len(axes)):\\n  fig.delaxes(axes[i])\\n\\nplt.tight_layout()\\nplt.show()\""
            ],
            "application/vnd.google.colaboratory.intrinsic+json": {
              "type": "string"
            }
          },
          "metadata": {},
          "execution_count": 737
        }
      ],
      "source": [
        "'''# Assuming 'df' is your DataFrame and 'salary' is the column name for salary\n",
        "\n",
        "# List of columns to plot against salary\n",
        "columns_to_plot = columns\n",
        "\n",
        "# Create a figure and axes with 3 rows and 4 columns\n",
        "fig, axes = plt.subplots(4, 3, figsize=(20, 20))\n",
        "\n",
        "# Flatten the axes array for easier iteration\n",
        "axes = axes.flatten()\n",
        "\n",
        "for i, column in enumerate(columns_to_plot):\n",
        "  # Create a barplot for each column against 'salary'\n",
        "  sns.barplot(x=column, y='salary_in_usd', data=df, ax=axes[i])\n",
        "  axes[i].set_title(f'{column} vs Salary_in_usd')\n",
        "  axes[i].tick_params(axis='x', rotation=90)\n",
        "\n",
        "# Remove any unused axes\n",
        "for i in range(len(columns_to_plot), len(axes)):\n",
        "  fig.delaxes(axes[i])\n",
        "\n",
        "plt.tight_layout()\n",
        "plt.show()'''"
      ]
    },
    {
      "cell_type": "code",
      "execution_count": null,
      "metadata": {
        "id": "CkPsxa8npauu",
        "colab": {
          "base_uri": "https://localhost:8080/",
          "height": 36
        },
        "outputId": "a65654b3-49d6-4f6d-ad87-dcaa8e3dec15"
      },
      "outputs": [
        {
          "output_type": "execute_result",
          "data": {
            "text/plain": [
              "\"sns.pairplot(df,hue='salary_in_usd',diag_kind='kde')\""
            ],
            "application/vnd.google.colaboratory.intrinsic+json": {
              "type": "string"
            }
          },
          "metadata": {},
          "execution_count": 738
        }
      ],
      "source": [
        "'''sns.pairplot(df,hue='salary_in_usd',diag_kind='kde')'''"
      ]
    },
    {
      "cell_type": "code",
      "execution_count": null,
      "metadata": {
        "id": "ZeuUu5VLqjwP",
        "colab": {
          "base_uri": "https://localhost:8080/",
          "height": 36
        },
        "outputId": "fee6cbdf-10ae-4f4a-bfbf-1e55948c8d28"
      },
      "outputs": [
        {
          "output_type": "execute_result",
          "data": {
            "text/plain": [
              "\"plt.figure(figsize=(10, 6))\\nsns.scatterplot(x='salary_in_usd', y='job_title', data=df)\\nplt.show()\""
            ],
            "application/vnd.google.colaboratory.intrinsic+json": {
              "type": "string"
            }
          },
          "metadata": {},
          "execution_count": 739
        }
      ],
      "source": [
        "'''plt.figure(figsize=(10, 6))\n",
        "sns.scatterplot(x='salary_in_usd', y='job_title', data=df)\n",
        "plt.show()'''"
      ]
    },
    {
      "cell_type": "code",
      "execution_count": null,
      "metadata": {
        "id": "VnAJ-LJrp8Rv",
        "colab": {
          "base_uri": "https://localhost:8080/",
          "height": 36
        },
        "outputId": "2ccac7d6-ab36-43a8-c8a3-678f01889cd0"
      },
      "outputs": [
        {
          "output_type": "execute_result",
          "data": {
            "text/plain": [
              "\"plt.figure(figsize=(10, 6))\\nsns.scatterplot(x='salary_in_usd', y='job_title', data=df[df['company_location'] == 'DE'])\\nplt.show()\""
            ],
            "application/vnd.google.colaboratory.intrinsic+json": {
              "type": "string"
            }
          },
          "metadata": {},
          "execution_count": 740
        }
      ],
      "source": [
        "'''plt.figure(figsize=(10, 6))\n",
        "sns.scatterplot(x='salary_in_usd', y='job_title', data=df[df['company_location'] == 'DE'])\n",
        "plt.show()'''"
      ]
    },
    {
      "cell_type": "code",
      "execution_count": null,
      "metadata": {
        "id": "pATEvt9bpB3_",
        "colab": {
          "base_uri": "https://localhost:8080/",
          "height": 70
        },
        "outputId": "bb5dc816-1e50-4311-c792-7e55bcc0c239"
      },
      "outputs": [
        {
          "output_type": "execute_result",
          "data": {
            "text/plain": [
              "\"# plot company location 'DE' against salary_in_usd\\n\\n# Assuming 'df' is your DataFrame\\nplt.figure(figsize=(10, 6))\\nsns.scatterplot(x='salary_in_usd', y='company_location', data=df[df['company_location'] == 'DE'])\\nplt.xlabel('Salary in USD')\\nplt.ylabel('Company Location (DE)')\\nplt.title('Salary in USD vs Company Location (DE)')\\nplt.show()\""
            ],
            "application/vnd.google.colaboratory.intrinsic+json": {
              "type": "string"
            }
          },
          "metadata": {},
          "execution_count": 741
        }
      ],
      "source": [
        "'''# plot company location 'DE' against salary_in_usd\n",
        "\n",
        "# Assuming 'df' is your DataFrame\n",
        "plt.figure(figsize=(10, 6))\n",
        "sns.scatterplot(x='salary_in_usd', y='company_location', data=df[df['company_location'] == 'DE'])\n",
        "plt.xlabel('Salary in USD')\n",
        "plt.ylabel('Company Location (DE)')\n",
        "plt.title('Salary in USD vs Company Location (DE)')\n",
        "plt.show()'''"
      ]
    },
    {
      "cell_type": "code",
      "execution_count": null,
      "metadata": {
        "id": "YALdyAhw26R1",
        "colab": {
          "base_uri": "https://localhost:8080/",
          "height": 300
        },
        "outputId": "644a9a3a-1a58-4daa-8032-f973bfa673dd"
      },
      "outputs": [
        {
          "output_type": "execute_result",
          "data": {
            "text/plain": [
              "        work_year         salary  salary_in_usd\n",
              "count  5000.00000    5000.000000    5000.000000\n",
              "mean   2020.97680  114201.052800  114076.995800\n",
              "std       0.81951   48900.704986   49113.807687\n",
              "min    2020.00000   30018.000000   30016.000000\n",
              "25%    2020.00000   71946.500000   71343.750000\n",
              "50%    2021.00000  115008.500000  114167.000000\n",
              "75%    2022.00000  155858.750000  156665.750000\n",
              "max    2022.00000  199924.000000  199985.000000"
            ],
            "text/html": [
              "\n",
              "  <div id=\"df-3fe0f1f2-92ef-4f3a-967e-3fbcb54fce2d\" class=\"colab-df-container\">\n",
              "    <div>\n",
              "<style scoped>\n",
              "    .dataframe tbody tr th:only-of-type {\n",
              "        vertical-align: middle;\n",
              "    }\n",
              "\n",
              "    .dataframe tbody tr th {\n",
              "        vertical-align: top;\n",
              "    }\n",
              "\n",
              "    .dataframe thead th {\n",
              "        text-align: right;\n",
              "    }\n",
              "</style>\n",
              "<table border=\"1\" class=\"dataframe\">\n",
              "  <thead>\n",
              "    <tr style=\"text-align: right;\">\n",
              "      <th></th>\n",
              "      <th>work_year</th>\n",
              "      <th>salary</th>\n",
              "      <th>salary_in_usd</th>\n",
              "    </tr>\n",
              "  </thead>\n",
              "  <tbody>\n",
              "    <tr>\n",
              "      <th>count</th>\n",
              "      <td>5000.00000</td>\n",
              "      <td>5000.000000</td>\n",
              "      <td>5000.000000</td>\n",
              "    </tr>\n",
              "    <tr>\n",
              "      <th>mean</th>\n",
              "      <td>2020.97680</td>\n",
              "      <td>114201.052800</td>\n",
              "      <td>114076.995800</td>\n",
              "    </tr>\n",
              "    <tr>\n",
              "      <th>std</th>\n",
              "      <td>0.81951</td>\n",
              "      <td>48900.704986</td>\n",
              "      <td>49113.807687</td>\n",
              "    </tr>\n",
              "    <tr>\n",
              "      <th>min</th>\n",
              "      <td>2020.00000</td>\n",
              "      <td>30018.000000</td>\n",
              "      <td>30016.000000</td>\n",
              "    </tr>\n",
              "    <tr>\n",
              "      <th>25%</th>\n",
              "      <td>2020.00000</td>\n",
              "      <td>71946.500000</td>\n",
              "      <td>71343.750000</td>\n",
              "    </tr>\n",
              "    <tr>\n",
              "      <th>50%</th>\n",
              "      <td>2021.00000</td>\n",
              "      <td>115008.500000</td>\n",
              "      <td>114167.000000</td>\n",
              "    </tr>\n",
              "    <tr>\n",
              "      <th>75%</th>\n",
              "      <td>2022.00000</td>\n",
              "      <td>155858.750000</td>\n",
              "      <td>156665.750000</td>\n",
              "    </tr>\n",
              "    <tr>\n",
              "      <th>max</th>\n",
              "      <td>2022.00000</td>\n",
              "      <td>199924.000000</td>\n",
              "      <td>199985.000000</td>\n",
              "    </tr>\n",
              "  </tbody>\n",
              "</table>\n",
              "</div>\n",
              "    <div class=\"colab-df-buttons\">\n",
              "\n",
              "  <div class=\"colab-df-container\">\n",
              "    <button class=\"colab-df-convert\" onclick=\"convertToInteractive('df-3fe0f1f2-92ef-4f3a-967e-3fbcb54fce2d')\"\n",
              "            title=\"Convert this dataframe to an interactive table.\"\n",
              "            style=\"display:none;\">\n",
              "\n",
              "  <svg xmlns=\"http://www.w3.org/2000/svg\" height=\"24px\" viewBox=\"0 -960 960 960\">\n",
              "    <path d=\"M120-120v-720h720v720H120Zm60-500h600v-160H180v160Zm220 220h160v-160H400v160Zm0 220h160v-160H400v160ZM180-400h160v-160H180v160Zm440 0h160v-160H620v160ZM180-180h160v-160H180v160Zm440 0h160v-160H620v160Z\"/>\n",
              "  </svg>\n",
              "    </button>\n",
              "\n",
              "  <style>\n",
              "    .colab-df-container {\n",
              "      display:flex;\n",
              "      gap: 12px;\n",
              "    }\n",
              "\n",
              "    .colab-df-convert {\n",
              "      background-color: #E8F0FE;\n",
              "      border: none;\n",
              "      border-radius: 50%;\n",
              "      cursor: pointer;\n",
              "      display: none;\n",
              "      fill: #1967D2;\n",
              "      height: 32px;\n",
              "      padding: 0 0 0 0;\n",
              "      width: 32px;\n",
              "    }\n",
              "\n",
              "    .colab-df-convert:hover {\n",
              "      background-color: #E2EBFA;\n",
              "      box-shadow: 0px 1px 2px rgba(60, 64, 67, 0.3), 0px 1px 3px 1px rgba(60, 64, 67, 0.15);\n",
              "      fill: #174EA6;\n",
              "    }\n",
              "\n",
              "    .colab-df-buttons div {\n",
              "      margin-bottom: 4px;\n",
              "    }\n",
              "\n",
              "    [theme=dark] .colab-df-convert {\n",
              "      background-color: #3B4455;\n",
              "      fill: #D2E3FC;\n",
              "    }\n",
              "\n",
              "    [theme=dark] .colab-df-convert:hover {\n",
              "      background-color: #434B5C;\n",
              "      box-shadow: 0px 1px 3px 1px rgba(0, 0, 0, 0.15);\n",
              "      filter: drop-shadow(0px 1px 2px rgba(0, 0, 0, 0.3));\n",
              "      fill: #FFFFFF;\n",
              "    }\n",
              "  </style>\n",
              "\n",
              "    <script>\n",
              "      const buttonEl =\n",
              "        document.querySelector('#df-3fe0f1f2-92ef-4f3a-967e-3fbcb54fce2d button.colab-df-convert');\n",
              "      buttonEl.style.display =\n",
              "        google.colab.kernel.accessAllowed ? 'block' : 'none';\n",
              "\n",
              "      async function convertToInteractive(key) {\n",
              "        const element = document.querySelector('#df-3fe0f1f2-92ef-4f3a-967e-3fbcb54fce2d');\n",
              "        const dataTable =\n",
              "          await google.colab.kernel.invokeFunction('convertToInteractive',\n",
              "                                                    [key], {});\n",
              "        if (!dataTable) return;\n",
              "\n",
              "        const docLinkHtml = 'Like what you see? Visit the ' +\n",
              "          '<a target=\"_blank\" href=https://colab.research.google.com/notebooks/data_table.ipynb>data table notebook</a>'\n",
              "          + ' to learn more about interactive tables.';\n",
              "        element.innerHTML = '';\n",
              "        dataTable['output_type'] = 'display_data';\n",
              "        await google.colab.output.renderOutput(dataTable, element);\n",
              "        const docLink = document.createElement('div');\n",
              "        docLink.innerHTML = docLinkHtml;\n",
              "        element.appendChild(docLink);\n",
              "      }\n",
              "    </script>\n",
              "  </div>\n",
              "\n",
              "\n",
              "<div id=\"df-03d7f1ff-3c47-4dbe-8ebd-dfb5fbda10fc\">\n",
              "  <button class=\"colab-df-quickchart\" onclick=\"quickchart('df-03d7f1ff-3c47-4dbe-8ebd-dfb5fbda10fc')\"\n",
              "            title=\"Suggest charts\"\n",
              "            style=\"display:none;\">\n",
              "\n",
              "<svg xmlns=\"http://www.w3.org/2000/svg\" height=\"24px\"viewBox=\"0 0 24 24\"\n",
              "     width=\"24px\">\n",
              "    <g>\n",
              "        <path d=\"M19 3H5c-1.1 0-2 .9-2 2v14c0 1.1.9 2 2 2h14c1.1 0 2-.9 2-2V5c0-1.1-.9-2-2-2zM9 17H7v-7h2v7zm4 0h-2V7h2v10zm4 0h-2v-4h2v4z\"/>\n",
              "    </g>\n",
              "</svg>\n",
              "  </button>\n",
              "\n",
              "<style>\n",
              "  .colab-df-quickchart {\n",
              "      --bg-color: #E8F0FE;\n",
              "      --fill-color: #1967D2;\n",
              "      --hover-bg-color: #E2EBFA;\n",
              "      --hover-fill-color: #174EA6;\n",
              "      --disabled-fill-color: #AAA;\n",
              "      --disabled-bg-color: #DDD;\n",
              "  }\n",
              "\n",
              "  [theme=dark] .colab-df-quickchart {\n",
              "      --bg-color: #3B4455;\n",
              "      --fill-color: #D2E3FC;\n",
              "      --hover-bg-color: #434B5C;\n",
              "      --hover-fill-color: #FFFFFF;\n",
              "      --disabled-bg-color: #3B4455;\n",
              "      --disabled-fill-color: #666;\n",
              "  }\n",
              "\n",
              "  .colab-df-quickchart {\n",
              "    background-color: var(--bg-color);\n",
              "    border: none;\n",
              "    border-radius: 50%;\n",
              "    cursor: pointer;\n",
              "    display: none;\n",
              "    fill: var(--fill-color);\n",
              "    height: 32px;\n",
              "    padding: 0;\n",
              "    width: 32px;\n",
              "  }\n",
              "\n",
              "  .colab-df-quickchart:hover {\n",
              "    background-color: var(--hover-bg-color);\n",
              "    box-shadow: 0 1px 2px rgba(60, 64, 67, 0.3), 0 1px 3px 1px rgba(60, 64, 67, 0.15);\n",
              "    fill: var(--button-hover-fill-color);\n",
              "  }\n",
              "\n",
              "  .colab-df-quickchart-complete:disabled,\n",
              "  .colab-df-quickchart-complete:disabled:hover {\n",
              "    background-color: var(--disabled-bg-color);\n",
              "    fill: var(--disabled-fill-color);\n",
              "    box-shadow: none;\n",
              "  }\n",
              "\n",
              "  .colab-df-spinner {\n",
              "    border: 2px solid var(--fill-color);\n",
              "    border-color: transparent;\n",
              "    border-bottom-color: var(--fill-color);\n",
              "    animation:\n",
              "      spin 1s steps(1) infinite;\n",
              "  }\n",
              "\n",
              "  @keyframes spin {\n",
              "    0% {\n",
              "      border-color: transparent;\n",
              "      border-bottom-color: var(--fill-color);\n",
              "      border-left-color: var(--fill-color);\n",
              "    }\n",
              "    20% {\n",
              "      border-color: transparent;\n",
              "      border-left-color: var(--fill-color);\n",
              "      border-top-color: var(--fill-color);\n",
              "    }\n",
              "    30% {\n",
              "      border-color: transparent;\n",
              "      border-left-color: var(--fill-color);\n",
              "      border-top-color: var(--fill-color);\n",
              "      border-right-color: var(--fill-color);\n",
              "    }\n",
              "    40% {\n",
              "      border-color: transparent;\n",
              "      border-right-color: var(--fill-color);\n",
              "      border-top-color: var(--fill-color);\n",
              "    }\n",
              "    60% {\n",
              "      border-color: transparent;\n",
              "      border-right-color: var(--fill-color);\n",
              "    }\n",
              "    80% {\n",
              "      border-color: transparent;\n",
              "      border-right-color: var(--fill-color);\n",
              "      border-bottom-color: var(--fill-color);\n",
              "    }\n",
              "    90% {\n",
              "      border-color: transparent;\n",
              "      border-bottom-color: var(--fill-color);\n",
              "    }\n",
              "  }\n",
              "</style>\n",
              "\n",
              "  <script>\n",
              "    async function quickchart(key) {\n",
              "      const quickchartButtonEl =\n",
              "        document.querySelector('#' + key + ' button');\n",
              "      quickchartButtonEl.disabled = true;  // To prevent multiple clicks.\n",
              "      quickchartButtonEl.classList.add('colab-df-spinner');\n",
              "      try {\n",
              "        const charts = await google.colab.kernel.invokeFunction(\n",
              "            'suggestCharts', [key], {});\n",
              "      } catch (error) {\n",
              "        console.error('Error during call to suggestCharts:', error);\n",
              "      }\n",
              "      quickchartButtonEl.classList.remove('colab-df-spinner');\n",
              "      quickchartButtonEl.classList.add('colab-df-quickchart-complete');\n",
              "    }\n",
              "    (() => {\n",
              "      let quickchartButtonEl =\n",
              "        document.querySelector('#df-03d7f1ff-3c47-4dbe-8ebd-dfb5fbda10fc button');\n",
              "      quickchartButtonEl.style.display =\n",
              "        google.colab.kernel.accessAllowed ? 'block' : 'none';\n",
              "    })();\n",
              "  </script>\n",
              "</div>\n",
              "\n",
              "    </div>\n",
              "  </div>\n"
            ],
            "application/vnd.google.colaboratory.intrinsic+json": {
              "type": "dataframe",
              "summary": "{\n  \"name\": \"df\",\n  \"rows\": 8,\n  \"fields\": [\n    {\n      \"column\": \"work_year\",\n      \"properties\": {\n        \"dtype\": \"number\",\n        \"std\": 1354.3930068310965,\n        \"min\": 0.819509657792887,\n        \"max\": 5000.0,\n        \"num_unique_values\": 6,\n        \"samples\": [\n          5000.0,\n          2020.9768,\n          2022.0\n        ],\n        \"semantic_type\": \"\",\n        \"description\": \"\"\n      }\n    },\n    {\n      \"column\": \"salary\",\n      \"properties\": {\n        \"dtype\": \"number\",\n        \"std\": 65916.95916555812,\n        \"min\": 5000.0,\n        \"max\": 199924.0,\n        \"num_unique_values\": 8,\n        \"samples\": [\n          114201.0528,\n          115008.5,\n          5000.0\n        ],\n        \"semantic_type\": \"\",\n        \"description\": \"\"\n      }\n    },\n    {\n      \"column\": \"salary_in_usd\",\n      \"properties\": {\n        \"dtype\": \"number\",\n        \"std\": 66004.03259576893,\n        \"min\": 5000.0,\n        \"max\": 199985.0,\n        \"num_unique_values\": 8,\n        \"samples\": [\n          114076.9958,\n          114167.0,\n          5000.0\n        ],\n        \"semantic_type\": \"\",\n        \"description\": \"\"\n      }\n    }\n  ]\n}"
            }
          },
          "metadata": {},
          "execution_count": 742
        }
      ],
      "source": [
        "df.describe()"
      ]
    },
    {
      "cell_type": "markdown",
      "source": [
        "# Week 2: Feature Engineering and Model Selection"
      ],
      "metadata": {
        "id": "usDZ6-92MxFE"
      }
    },
    {
      "cell_type": "markdown",
      "metadata": {
        "id": "qkTsX517IymQ"
      },
      "source": [
        "# Handling missing values"
      ]
    },
    {
      "cell_type": "code",
      "execution_count": null,
      "metadata": {
        "id": "224jMO5ZJoaR",
        "colab": {
          "base_uri": "https://localhost:8080/",
          "height": 460
        },
        "outputId": "fa63236b-f9b5-48cd-f806-553771c2d1ad"
      },
      "outputs": [
        {
          "output_type": "execute_result",
          "data": {
            "text/plain": [
              "work_year               0\n",
              "job_title               0\n",
              "job_category          500\n",
              "salary_currency       500\n",
              "salary                  0\n",
              "salary_in_usd           0\n",
              "employee_residence      0\n",
              "experience_level      500\n",
              "employment_type         0\n",
              "work_setting            0\n",
              "company_location        0\n",
              "company_size          500\n",
              "dtype: int64"
            ],
            "text/html": [
              "<div>\n",
              "<style scoped>\n",
              "    .dataframe tbody tr th:only-of-type {\n",
              "        vertical-align: middle;\n",
              "    }\n",
              "\n",
              "    .dataframe tbody tr th {\n",
              "        vertical-align: top;\n",
              "    }\n",
              "\n",
              "    .dataframe thead th {\n",
              "        text-align: right;\n",
              "    }\n",
              "</style>\n",
              "<table border=\"1\" class=\"dataframe\">\n",
              "  <thead>\n",
              "    <tr style=\"text-align: right;\">\n",
              "      <th></th>\n",
              "      <th>0</th>\n",
              "    </tr>\n",
              "  </thead>\n",
              "  <tbody>\n",
              "    <tr>\n",
              "      <th>work_year</th>\n",
              "      <td>0</td>\n",
              "    </tr>\n",
              "    <tr>\n",
              "      <th>job_title</th>\n",
              "      <td>0</td>\n",
              "    </tr>\n",
              "    <tr>\n",
              "      <th>job_category</th>\n",
              "      <td>500</td>\n",
              "    </tr>\n",
              "    <tr>\n",
              "      <th>salary_currency</th>\n",
              "      <td>500</td>\n",
              "    </tr>\n",
              "    <tr>\n",
              "      <th>salary</th>\n",
              "      <td>0</td>\n",
              "    </tr>\n",
              "    <tr>\n",
              "      <th>salary_in_usd</th>\n",
              "      <td>0</td>\n",
              "    </tr>\n",
              "    <tr>\n",
              "      <th>employee_residence</th>\n",
              "      <td>0</td>\n",
              "    </tr>\n",
              "    <tr>\n",
              "      <th>experience_level</th>\n",
              "      <td>500</td>\n",
              "    </tr>\n",
              "    <tr>\n",
              "      <th>employment_type</th>\n",
              "      <td>0</td>\n",
              "    </tr>\n",
              "    <tr>\n",
              "      <th>work_setting</th>\n",
              "      <td>0</td>\n",
              "    </tr>\n",
              "    <tr>\n",
              "      <th>company_location</th>\n",
              "      <td>0</td>\n",
              "    </tr>\n",
              "    <tr>\n",
              "      <th>company_size</th>\n",
              "      <td>500</td>\n",
              "    </tr>\n",
              "  </tbody>\n",
              "</table>\n",
              "</div><br><label><b>dtype:</b> int64</label>"
            ]
          },
          "metadata": {},
          "execution_count": 743
        }
      ],
      "source": [
        "df.isna().sum()"
      ]
    },
    {
      "cell_type": "code",
      "execution_count": null,
      "metadata": {
        "id": "ezzV64eBKZ_A",
        "colab": {
          "base_uri": "https://localhost:8080/",
          "height": 399
        },
        "outputId": "6e21f161-457d-494b-d047-e4a0bd4da111"
      },
      "outputs": [
        {
          "output_type": "execute_result",
          "data": {
            "text/plain": [
              "      work_year                            job_title  job_category  \\\n",
              "3949       2022               Statistician  (Remote)   Engineering   \n",
              "1852       2022             Data Engineer  in office  Data Science   \n",
              "398        2022              Data Analyst  in office   Engineering   \n",
              "1799       2021  Machine Learning Engineer  (Remote)         ML/AI   \n",
              "4521       2022             Data Engineer  in office         ML/AI   \n",
              "\n",
              "     salary_currency  salary  salary_in_usd employee_residence  \\\n",
              "3949             GBP   62162         174100                 MX   \n",
              "1852       us dolars  155143         150454                 UK   \n",
              "398              EUR  167034         184115                 MX   \n",
              "1799       us dolars   96761         128760                 IN   \n",
              "4521             GBP  180279          43635                 US   \n",
              "\n",
              "     experience_level employment_type work_setting company_location  \\\n",
              "3949               MI              PT    In-person               CN   \n",
              "1852               EX              CT       Remote               CN   \n",
              "398                SE              FT       Hybrid               MX   \n",
              "1799               SE              PT       Remote               US   \n",
              "4521               EN              FT       Hybrid               MX   \n",
              "\n",
              "     company_size  \n",
              "3949            L  \n",
              "1852            S  \n",
              "398             M  \n",
              "1799            L  \n",
              "4521            S  "
            ],
            "text/html": [
              "\n",
              "  <div id=\"df-afe48a8e-90c8-4211-bfa3-8e8ed2baa918\" class=\"colab-df-container\">\n",
              "    <div>\n",
              "<style scoped>\n",
              "    .dataframe tbody tr th:only-of-type {\n",
              "        vertical-align: middle;\n",
              "    }\n",
              "\n",
              "    .dataframe tbody tr th {\n",
              "        vertical-align: top;\n",
              "    }\n",
              "\n",
              "    .dataframe thead th {\n",
              "        text-align: right;\n",
              "    }\n",
              "</style>\n",
              "<table border=\"1\" class=\"dataframe\">\n",
              "  <thead>\n",
              "    <tr style=\"text-align: right;\">\n",
              "      <th></th>\n",
              "      <th>work_year</th>\n",
              "      <th>job_title</th>\n",
              "      <th>job_category</th>\n",
              "      <th>salary_currency</th>\n",
              "      <th>salary</th>\n",
              "      <th>salary_in_usd</th>\n",
              "      <th>employee_residence</th>\n",
              "      <th>experience_level</th>\n",
              "      <th>employment_type</th>\n",
              "      <th>work_setting</th>\n",
              "      <th>company_location</th>\n",
              "      <th>company_size</th>\n",
              "    </tr>\n",
              "  </thead>\n",
              "  <tbody>\n",
              "    <tr>\n",
              "      <th>3949</th>\n",
              "      <td>2022</td>\n",
              "      <td>Statistician  (Remote)</td>\n",
              "      <td>Engineering</td>\n",
              "      <td>GBP</td>\n",
              "      <td>62162</td>\n",
              "      <td>174100</td>\n",
              "      <td>MX</td>\n",
              "      <td>MI</td>\n",
              "      <td>PT</td>\n",
              "      <td>In-person</td>\n",
              "      <td>CN</td>\n",
              "      <td>L</td>\n",
              "    </tr>\n",
              "    <tr>\n",
              "      <th>1852</th>\n",
              "      <td>2022</td>\n",
              "      <td>Data Engineer  in office</td>\n",
              "      <td>Data Science</td>\n",
              "      <td>us dolars</td>\n",
              "      <td>155143</td>\n",
              "      <td>150454</td>\n",
              "      <td>UK</td>\n",
              "      <td>EX</td>\n",
              "      <td>CT</td>\n",
              "      <td>Remote</td>\n",
              "      <td>CN</td>\n",
              "      <td>S</td>\n",
              "    </tr>\n",
              "    <tr>\n",
              "      <th>398</th>\n",
              "      <td>2022</td>\n",
              "      <td>Data Analyst  in office</td>\n",
              "      <td>Engineering</td>\n",
              "      <td>EUR</td>\n",
              "      <td>167034</td>\n",
              "      <td>184115</td>\n",
              "      <td>MX</td>\n",
              "      <td>SE</td>\n",
              "      <td>FT</td>\n",
              "      <td>Hybrid</td>\n",
              "      <td>MX</td>\n",
              "      <td>M</td>\n",
              "    </tr>\n",
              "    <tr>\n",
              "      <th>1799</th>\n",
              "      <td>2021</td>\n",
              "      <td>Machine Learning Engineer  (Remote)</td>\n",
              "      <td>ML/AI</td>\n",
              "      <td>us dolars</td>\n",
              "      <td>96761</td>\n",
              "      <td>128760</td>\n",
              "      <td>IN</td>\n",
              "      <td>SE</td>\n",
              "      <td>PT</td>\n",
              "      <td>Remote</td>\n",
              "      <td>US</td>\n",
              "      <td>L</td>\n",
              "    </tr>\n",
              "    <tr>\n",
              "      <th>4521</th>\n",
              "      <td>2022</td>\n",
              "      <td>Data Engineer  in office</td>\n",
              "      <td>ML/AI</td>\n",
              "      <td>GBP</td>\n",
              "      <td>180279</td>\n",
              "      <td>43635</td>\n",
              "      <td>US</td>\n",
              "      <td>EN</td>\n",
              "      <td>FT</td>\n",
              "      <td>Hybrid</td>\n",
              "      <td>MX</td>\n",
              "      <td>S</td>\n",
              "    </tr>\n",
              "  </tbody>\n",
              "</table>\n",
              "</div>\n",
              "    <div class=\"colab-df-buttons\">\n",
              "\n",
              "  <div class=\"colab-df-container\">\n",
              "    <button class=\"colab-df-convert\" onclick=\"convertToInteractive('df-afe48a8e-90c8-4211-bfa3-8e8ed2baa918')\"\n",
              "            title=\"Convert this dataframe to an interactive table.\"\n",
              "            style=\"display:none;\">\n",
              "\n",
              "  <svg xmlns=\"http://www.w3.org/2000/svg\" height=\"24px\" viewBox=\"0 -960 960 960\">\n",
              "    <path d=\"M120-120v-720h720v720H120Zm60-500h600v-160H180v160Zm220 220h160v-160H400v160Zm0 220h160v-160H400v160ZM180-400h160v-160H180v160Zm440 0h160v-160H620v160ZM180-180h160v-160H180v160Zm440 0h160v-160H620v160Z\"/>\n",
              "  </svg>\n",
              "    </button>\n",
              "\n",
              "  <style>\n",
              "    .colab-df-container {\n",
              "      display:flex;\n",
              "      gap: 12px;\n",
              "    }\n",
              "\n",
              "    .colab-df-convert {\n",
              "      background-color: #E8F0FE;\n",
              "      border: none;\n",
              "      border-radius: 50%;\n",
              "      cursor: pointer;\n",
              "      display: none;\n",
              "      fill: #1967D2;\n",
              "      height: 32px;\n",
              "      padding: 0 0 0 0;\n",
              "      width: 32px;\n",
              "    }\n",
              "\n",
              "    .colab-df-convert:hover {\n",
              "      background-color: #E2EBFA;\n",
              "      box-shadow: 0px 1px 2px rgba(60, 64, 67, 0.3), 0px 1px 3px 1px rgba(60, 64, 67, 0.15);\n",
              "      fill: #174EA6;\n",
              "    }\n",
              "\n",
              "    .colab-df-buttons div {\n",
              "      margin-bottom: 4px;\n",
              "    }\n",
              "\n",
              "    [theme=dark] .colab-df-convert {\n",
              "      background-color: #3B4455;\n",
              "      fill: #D2E3FC;\n",
              "    }\n",
              "\n",
              "    [theme=dark] .colab-df-convert:hover {\n",
              "      background-color: #434B5C;\n",
              "      box-shadow: 0px 1px 3px 1px rgba(0, 0, 0, 0.15);\n",
              "      filter: drop-shadow(0px 1px 2px rgba(0, 0, 0, 0.3));\n",
              "      fill: #FFFFFF;\n",
              "    }\n",
              "  </style>\n",
              "\n",
              "    <script>\n",
              "      const buttonEl =\n",
              "        document.querySelector('#df-afe48a8e-90c8-4211-bfa3-8e8ed2baa918 button.colab-df-convert');\n",
              "      buttonEl.style.display =\n",
              "        google.colab.kernel.accessAllowed ? 'block' : 'none';\n",
              "\n",
              "      async function convertToInteractive(key) {\n",
              "        const element = document.querySelector('#df-afe48a8e-90c8-4211-bfa3-8e8ed2baa918');\n",
              "        const dataTable =\n",
              "          await google.colab.kernel.invokeFunction('convertToInteractive',\n",
              "                                                    [key], {});\n",
              "        if (!dataTable) return;\n",
              "\n",
              "        const docLinkHtml = 'Like what you see? Visit the ' +\n",
              "          '<a target=\"_blank\" href=https://colab.research.google.com/notebooks/data_table.ipynb>data table notebook</a>'\n",
              "          + ' to learn more about interactive tables.';\n",
              "        element.innerHTML = '';\n",
              "        dataTable['output_type'] = 'display_data';\n",
              "        await google.colab.output.renderOutput(dataTable, element);\n",
              "        const docLink = document.createElement('div');\n",
              "        docLink.innerHTML = docLinkHtml;\n",
              "        element.appendChild(docLink);\n",
              "      }\n",
              "    </script>\n",
              "  </div>\n",
              "\n",
              "\n",
              "<div id=\"df-5be6c3d4-e571-49ed-b1b1-1f056a462139\">\n",
              "  <button class=\"colab-df-quickchart\" onclick=\"quickchart('df-5be6c3d4-e571-49ed-b1b1-1f056a462139')\"\n",
              "            title=\"Suggest charts\"\n",
              "            style=\"display:none;\">\n",
              "\n",
              "<svg xmlns=\"http://www.w3.org/2000/svg\" height=\"24px\"viewBox=\"0 0 24 24\"\n",
              "     width=\"24px\">\n",
              "    <g>\n",
              "        <path d=\"M19 3H5c-1.1 0-2 .9-2 2v14c0 1.1.9 2 2 2h14c1.1 0 2-.9 2-2V5c0-1.1-.9-2-2-2zM9 17H7v-7h2v7zm4 0h-2V7h2v10zm4 0h-2v-4h2v4z\"/>\n",
              "    </g>\n",
              "</svg>\n",
              "  </button>\n",
              "\n",
              "<style>\n",
              "  .colab-df-quickchart {\n",
              "      --bg-color: #E8F0FE;\n",
              "      --fill-color: #1967D2;\n",
              "      --hover-bg-color: #E2EBFA;\n",
              "      --hover-fill-color: #174EA6;\n",
              "      --disabled-fill-color: #AAA;\n",
              "      --disabled-bg-color: #DDD;\n",
              "  }\n",
              "\n",
              "  [theme=dark] .colab-df-quickchart {\n",
              "      --bg-color: #3B4455;\n",
              "      --fill-color: #D2E3FC;\n",
              "      --hover-bg-color: #434B5C;\n",
              "      --hover-fill-color: #FFFFFF;\n",
              "      --disabled-bg-color: #3B4455;\n",
              "      --disabled-fill-color: #666;\n",
              "  }\n",
              "\n",
              "  .colab-df-quickchart {\n",
              "    background-color: var(--bg-color);\n",
              "    border: none;\n",
              "    border-radius: 50%;\n",
              "    cursor: pointer;\n",
              "    display: none;\n",
              "    fill: var(--fill-color);\n",
              "    height: 32px;\n",
              "    padding: 0;\n",
              "    width: 32px;\n",
              "  }\n",
              "\n",
              "  .colab-df-quickchart:hover {\n",
              "    background-color: var(--hover-bg-color);\n",
              "    box-shadow: 0 1px 2px rgba(60, 64, 67, 0.3), 0 1px 3px 1px rgba(60, 64, 67, 0.15);\n",
              "    fill: var(--button-hover-fill-color);\n",
              "  }\n",
              "\n",
              "  .colab-df-quickchart-complete:disabled,\n",
              "  .colab-df-quickchart-complete:disabled:hover {\n",
              "    background-color: var(--disabled-bg-color);\n",
              "    fill: var(--disabled-fill-color);\n",
              "    box-shadow: none;\n",
              "  }\n",
              "\n",
              "  .colab-df-spinner {\n",
              "    border: 2px solid var(--fill-color);\n",
              "    border-color: transparent;\n",
              "    border-bottom-color: var(--fill-color);\n",
              "    animation:\n",
              "      spin 1s steps(1) infinite;\n",
              "  }\n",
              "\n",
              "  @keyframes spin {\n",
              "    0% {\n",
              "      border-color: transparent;\n",
              "      border-bottom-color: var(--fill-color);\n",
              "      border-left-color: var(--fill-color);\n",
              "    }\n",
              "    20% {\n",
              "      border-color: transparent;\n",
              "      border-left-color: var(--fill-color);\n",
              "      border-top-color: var(--fill-color);\n",
              "    }\n",
              "    30% {\n",
              "      border-color: transparent;\n",
              "      border-left-color: var(--fill-color);\n",
              "      border-top-color: var(--fill-color);\n",
              "      border-right-color: var(--fill-color);\n",
              "    }\n",
              "    40% {\n",
              "      border-color: transparent;\n",
              "      border-right-color: var(--fill-color);\n",
              "      border-top-color: var(--fill-color);\n",
              "    }\n",
              "    60% {\n",
              "      border-color: transparent;\n",
              "      border-right-color: var(--fill-color);\n",
              "    }\n",
              "    80% {\n",
              "      border-color: transparent;\n",
              "      border-right-color: var(--fill-color);\n",
              "      border-bottom-color: var(--fill-color);\n",
              "    }\n",
              "    90% {\n",
              "      border-color: transparent;\n",
              "      border-bottom-color: var(--fill-color);\n",
              "    }\n",
              "  }\n",
              "</style>\n",
              "\n",
              "  <script>\n",
              "    async function quickchart(key) {\n",
              "      const quickchartButtonEl =\n",
              "        document.querySelector('#' + key + ' button');\n",
              "      quickchartButtonEl.disabled = true;  // To prevent multiple clicks.\n",
              "      quickchartButtonEl.classList.add('colab-df-spinner');\n",
              "      try {\n",
              "        const charts = await google.colab.kernel.invokeFunction(\n",
              "            'suggestCharts', [key], {});\n",
              "      } catch (error) {\n",
              "        console.error('Error during call to suggestCharts:', error);\n",
              "      }\n",
              "      quickchartButtonEl.classList.remove('colab-df-spinner');\n",
              "      quickchartButtonEl.classList.add('colab-df-quickchart-complete');\n",
              "    }\n",
              "    (() => {\n",
              "      let quickchartButtonEl =\n",
              "        document.querySelector('#df-5be6c3d4-e571-49ed-b1b1-1f056a462139 button');\n",
              "      quickchartButtonEl.style.display =\n",
              "        google.colab.kernel.accessAllowed ? 'block' : 'none';\n",
              "    })();\n",
              "  </script>\n",
              "</div>\n",
              "\n",
              "    </div>\n",
              "  </div>\n"
            ],
            "application/vnd.google.colaboratory.intrinsic+json": {
              "type": "dataframe",
              "summary": "{\n  \"name\": \"df\",\n  \"rows\": 5,\n  \"fields\": [\n    {\n      \"column\": \"work_year\",\n      \"properties\": {\n        \"dtype\": \"number\",\n        \"std\": 0,\n        \"min\": 2021,\n        \"max\": 2022,\n        \"num_unique_values\": 2,\n        \"samples\": [\n          2021,\n          2022\n        ],\n        \"semantic_type\": \"\",\n        \"description\": \"\"\n      }\n    },\n    {\n      \"column\": \"job_title\",\n      \"properties\": {\n        \"dtype\": \"string\",\n        \"num_unique_values\": 4,\n        \"samples\": [\n          \"Data Engineer  in office\",\n          \"Machine Learning Engineer  (Remote)\"\n        ],\n        \"semantic_type\": \"\",\n        \"description\": \"\"\n      }\n    },\n    {\n      \"column\": \"job_category\",\n      \"properties\": {\n        \"dtype\": \"string\",\n        \"num_unique_values\": 3,\n        \"samples\": [\n          \"Engineering\",\n          \"Data Science\"\n        ],\n        \"semantic_type\": \"\",\n        \"description\": \"\"\n      }\n    },\n    {\n      \"column\": \"salary_currency\",\n      \"properties\": {\n        \"dtype\": \"string\",\n        \"num_unique_values\": 3,\n        \"samples\": [\n          \"GBP\",\n          \"us dolars\"\n        ],\n        \"semantic_type\": \"\",\n        \"description\": \"\"\n      }\n    },\n    {\n      \"column\": \"salary\",\n      \"properties\": {\n        \"dtype\": \"number\",\n        \"std\": 50528,\n        \"min\": 62162,\n        \"max\": 180279,\n        \"num_unique_values\": 5,\n        \"samples\": [\n          155143,\n          180279\n        ],\n        \"semantic_type\": \"\",\n        \"description\": \"\"\n      }\n    },\n    {\n      \"column\": \"salary_in_usd\",\n      \"properties\": {\n        \"dtype\": \"number\",\n        \"std\": 56033,\n        \"min\": 43635,\n        \"max\": 184115,\n        \"num_unique_values\": 5,\n        \"samples\": [\n          150454,\n          43635\n        ],\n        \"semantic_type\": \"\",\n        \"description\": \"\"\n      }\n    },\n    {\n      \"column\": \"employee_residence\",\n      \"properties\": {\n        \"dtype\": \"string\",\n        \"num_unique_values\": 4,\n        \"samples\": [\n          \"UK\",\n          \"US\"\n        ],\n        \"semantic_type\": \"\",\n        \"description\": \"\"\n      }\n    },\n    {\n      \"column\": \"experience_level\",\n      \"properties\": {\n        \"dtype\": \"string\",\n        \"num_unique_values\": 4,\n        \"samples\": [\n          \"EX\",\n          \"EN\"\n        ],\n        \"semantic_type\": \"\",\n        \"description\": \"\"\n      }\n    },\n    {\n      \"column\": \"employment_type\",\n      \"properties\": {\n        \"dtype\": \"string\",\n        \"num_unique_values\": 3,\n        \"samples\": [\n          \"PT\",\n          \"CT\"\n        ],\n        \"semantic_type\": \"\",\n        \"description\": \"\"\n      }\n    },\n    {\n      \"column\": \"work_setting\",\n      \"properties\": {\n        \"dtype\": \"string\",\n        \"num_unique_values\": 3,\n        \"samples\": [\n          \"In-person\",\n          \"Remote\"\n        ],\n        \"semantic_type\": \"\",\n        \"description\": \"\"\n      }\n    },\n    {\n      \"column\": \"company_location\",\n      \"properties\": {\n        \"dtype\": \"string\",\n        \"num_unique_values\": 3,\n        \"samples\": [\n          \"CN\",\n          \"MX\"\n        ],\n        \"semantic_type\": \"\",\n        \"description\": \"\"\n      }\n    },\n    {\n      \"column\": \"company_size\",\n      \"properties\": {\n        \"dtype\": \"string\",\n        \"num_unique_values\": 3,\n        \"samples\": [\n          \"L\",\n          \"S\"\n        ],\n        \"semantic_type\": \"\",\n        \"description\": \"\"\n      }\n    }\n  ]\n}"
            }
          },
          "metadata": {},
          "execution_count": 744
        }
      ],
      "source": [
        "df.sample(5)"
      ]
    },
    {
      "cell_type": "code",
      "execution_count": null,
      "metadata": {
        "id": "QSXJi5sIMR1u"
      },
      "outputs": [],
      "source": [
        "# df['salary_ratio'] =  df['salary_in_usd']/df['salary']"
      ]
    },
    {
      "cell_type": "code",
      "execution_count": null,
      "metadata": {
        "id": "HUBWaTALQbPM",
        "colab": {
          "base_uri": "https://localhost:8080/",
          "height": 434
        },
        "outputId": "7fc3ecf7-db6b-4d66-a9dd-74029967140b"
      },
      "outputs": [
        {
          "output_type": "execute_result",
          "data": {
            "text/plain": [
              "      work_year                             job_title  job_category  \\\n",
              "3072       2021   Machine Learning Engineer  (Remote)  Data Science   \n",
              "97         2022  Machine Learning Engineer  in office   Engineering   \n",
              "1675       2020             Data Scientist  in office   Engineering   \n",
              "3801       2022               Data Engineer  (Remote)      Analysis   \n",
              "4559       2021             Data Scientist  in office  Data Science   \n",
              "\n",
              "     salary_currency  salary  salary_in_usd employee_residence  \\\n",
              "3072             INR  120312          58787                 UK   \n",
              "97               EUR  189574         103072                 IN   \n",
              "1675             GBP  161195          41423                 JP   \n",
              "3801             INR  164872         174228                 CN   \n",
              "4559             EUR   32039          49691                 US   \n",
              "\n",
              "     experience_level employment_type work_setting company_location  \\\n",
              "3072               SE              FL    In-person               UK   \n",
              "97                 EN              FT    In-person               UK   \n",
              "1675               EN              CT       Remote               UK   \n",
              "3801               MI              CT    In-person               DE   \n",
              "4559               EX              FT       Hybrid               MX   \n",
              "\n",
              "     company_size  \n",
              "3072            S  \n",
              "97              M  \n",
              "1675            M  \n",
              "3801            L  \n",
              "4559            M  "
            ],
            "text/html": [
              "\n",
              "  <div id=\"df-aa5f59ca-c6b3-4373-962b-61cc91ba70c7\" class=\"colab-df-container\">\n",
              "    <div>\n",
              "<style scoped>\n",
              "    .dataframe tbody tr th:only-of-type {\n",
              "        vertical-align: middle;\n",
              "    }\n",
              "\n",
              "    .dataframe tbody tr th {\n",
              "        vertical-align: top;\n",
              "    }\n",
              "\n",
              "    .dataframe thead th {\n",
              "        text-align: right;\n",
              "    }\n",
              "</style>\n",
              "<table border=\"1\" class=\"dataframe\">\n",
              "  <thead>\n",
              "    <tr style=\"text-align: right;\">\n",
              "      <th></th>\n",
              "      <th>work_year</th>\n",
              "      <th>job_title</th>\n",
              "      <th>job_category</th>\n",
              "      <th>salary_currency</th>\n",
              "      <th>salary</th>\n",
              "      <th>salary_in_usd</th>\n",
              "      <th>employee_residence</th>\n",
              "      <th>experience_level</th>\n",
              "      <th>employment_type</th>\n",
              "      <th>work_setting</th>\n",
              "      <th>company_location</th>\n",
              "      <th>company_size</th>\n",
              "    </tr>\n",
              "  </thead>\n",
              "  <tbody>\n",
              "    <tr>\n",
              "      <th>3072</th>\n",
              "      <td>2021</td>\n",
              "      <td>Machine Learning Engineer  (Remote)</td>\n",
              "      <td>Data Science</td>\n",
              "      <td>INR</td>\n",
              "      <td>120312</td>\n",
              "      <td>58787</td>\n",
              "      <td>UK</td>\n",
              "      <td>SE</td>\n",
              "      <td>FL</td>\n",
              "      <td>In-person</td>\n",
              "      <td>UK</td>\n",
              "      <td>S</td>\n",
              "    </tr>\n",
              "    <tr>\n",
              "      <th>97</th>\n",
              "      <td>2022</td>\n",
              "      <td>Machine Learning Engineer  in office</td>\n",
              "      <td>Engineering</td>\n",
              "      <td>EUR</td>\n",
              "      <td>189574</td>\n",
              "      <td>103072</td>\n",
              "      <td>IN</td>\n",
              "      <td>EN</td>\n",
              "      <td>FT</td>\n",
              "      <td>In-person</td>\n",
              "      <td>UK</td>\n",
              "      <td>M</td>\n",
              "    </tr>\n",
              "    <tr>\n",
              "      <th>1675</th>\n",
              "      <td>2020</td>\n",
              "      <td>Data Scientist  in office</td>\n",
              "      <td>Engineering</td>\n",
              "      <td>GBP</td>\n",
              "      <td>161195</td>\n",
              "      <td>41423</td>\n",
              "      <td>JP</td>\n",
              "      <td>EN</td>\n",
              "      <td>CT</td>\n",
              "      <td>Remote</td>\n",
              "      <td>UK</td>\n",
              "      <td>M</td>\n",
              "    </tr>\n",
              "    <tr>\n",
              "      <th>3801</th>\n",
              "      <td>2022</td>\n",
              "      <td>Data Engineer  (Remote)</td>\n",
              "      <td>Analysis</td>\n",
              "      <td>INR</td>\n",
              "      <td>164872</td>\n",
              "      <td>174228</td>\n",
              "      <td>CN</td>\n",
              "      <td>MI</td>\n",
              "      <td>CT</td>\n",
              "      <td>In-person</td>\n",
              "      <td>DE</td>\n",
              "      <td>L</td>\n",
              "    </tr>\n",
              "    <tr>\n",
              "      <th>4559</th>\n",
              "      <td>2021</td>\n",
              "      <td>Data Scientist  in office</td>\n",
              "      <td>Data Science</td>\n",
              "      <td>EUR</td>\n",
              "      <td>32039</td>\n",
              "      <td>49691</td>\n",
              "      <td>US</td>\n",
              "      <td>EX</td>\n",
              "      <td>FT</td>\n",
              "      <td>Hybrid</td>\n",
              "      <td>MX</td>\n",
              "      <td>M</td>\n",
              "    </tr>\n",
              "  </tbody>\n",
              "</table>\n",
              "</div>\n",
              "    <div class=\"colab-df-buttons\">\n",
              "\n",
              "  <div class=\"colab-df-container\">\n",
              "    <button class=\"colab-df-convert\" onclick=\"convertToInteractive('df-aa5f59ca-c6b3-4373-962b-61cc91ba70c7')\"\n",
              "            title=\"Convert this dataframe to an interactive table.\"\n",
              "            style=\"display:none;\">\n",
              "\n",
              "  <svg xmlns=\"http://www.w3.org/2000/svg\" height=\"24px\" viewBox=\"0 -960 960 960\">\n",
              "    <path d=\"M120-120v-720h720v720H120Zm60-500h600v-160H180v160Zm220 220h160v-160H400v160Zm0 220h160v-160H400v160ZM180-400h160v-160H180v160Zm440 0h160v-160H620v160ZM180-180h160v-160H180v160Zm440 0h160v-160H620v160Z\"/>\n",
              "  </svg>\n",
              "    </button>\n",
              "\n",
              "  <style>\n",
              "    .colab-df-container {\n",
              "      display:flex;\n",
              "      gap: 12px;\n",
              "    }\n",
              "\n",
              "    .colab-df-convert {\n",
              "      background-color: #E8F0FE;\n",
              "      border: none;\n",
              "      border-radius: 50%;\n",
              "      cursor: pointer;\n",
              "      display: none;\n",
              "      fill: #1967D2;\n",
              "      height: 32px;\n",
              "      padding: 0 0 0 0;\n",
              "      width: 32px;\n",
              "    }\n",
              "\n",
              "    .colab-df-convert:hover {\n",
              "      background-color: #E2EBFA;\n",
              "      box-shadow: 0px 1px 2px rgba(60, 64, 67, 0.3), 0px 1px 3px 1px rgba(60, 64, 67, 0.15);\n",
              "      fill: #174EA6;\n",
              "    }\n",
              "\n",
              "    .colab-df-buttons div {\n",
              "      margin-bottom: 4px;\n",
              "    }\n",
              "\n",
              "    [theme=dark] .colab-df-convert {\n",
              "      background-color: #3B4455;\n",
              "      fill: #D2E3FC;\n",
              "    }\n",
              "\n",
              "    [theme=dark] .colab-df-convert:hover {\n",
              "      background-color: #434B5C;\n",
              "      box-shadow: 0px 1px 3px 1px rgba(0, 0, 0, 0.15);\n",
              "      filter: drop-shadow(0px 1px 2px rgba(0, 0, 0, 0.3));\n",
              "      fill: #FFFFFF;\n",
              "    }\n",
              "  </style>\n",
              "\n",
              "    <script>\n",
              "      const buttonEl =\n",
              "        document.querySelector('#df-aa5f59ca-c6b3-4373-962b-61cc91ba70c7 button.colab-df-convert');\n",
              "      buttonEl.style.display =\n",
              "        google.colab.kernel.accessAllowed ? 'block' : 'none';\n",
              "\n",
              "      async function convertToInteractive(key) {\n",
              "        const element = document.querySelector('#df-aa5f59ca-c6b3-4373-962b-61cc91ba70c7');\n",
              "        const dataTable =\n",
              "          await google.colab.kernel.invokeFunction('convertToInteractive',\n",
              "                                                    [key], {});\n",
              "        if (!dataTable) return;\n",
              "\n",
              "        const docLinkHtml = 'Like what you see? Visit the ' +\n",
              "          '<a target=\"_blank\" href=https://colab.research.google.com/notebooks/data_table.ipynb>data table notebook</a>'\n",
              "          + ' to learn more about interactive tables.';\n",
              "        element.innerHTML = '';\n",
              "        dataTable['output_type'] = 'display_data';\n",
              "        await google.colab.output.renderOutput(dataTable, element);\n",
              "        const docLink = document.createElement('div');\n",
              "        docLink.innerHTML = docLinkHtml;\n",
              "        element.appendChild(docLink);\n",
              "      }\n",
              "    </script>\n",
              "  </div>\n",
              "\n",
              "\n",
              "<div id=\"df-46a54989-60df-4dc5-bacb-4adc2f9dfccd\">\n",
              "  <button class=\"colab-df-quickchart\" onclick=\"quickchart('df-46a54989-60df-4dc5-bacb-4adc2f9dfccd')\"\n",
              "            title=\"Suggest charts\"\n",
              "            style=\"display:none;\">\n",
              "\n",
              "<svg xmlns=\"http://www.w3.org/2000/svg\" height=\"24px\"viewBox=\"0 0 24 24\"\n",
              "     width=\"24px\">\n",
              "    <g>\n",
              "        <path d=\"M19 3H5c-1.1 0-2 .9-2 2v14c0 1.1.9 2 2 2h14c1.1 0 2-.9 2-2V5c0-1.1-.9-2-2-2zM9 17H7v-7h2v7zm4 0h-2V7h2v10zm4 0h-2v-4h2v4z\"/>\n",
              "    </g>\n",
              "</svg>\n",
              "  </button>\n",
              "\n",
              "<style>\n",
              "  .colab-df-quickchart {\n",
              "      --bg-color: #E8F0FE;\n",
              "      --fill-color: #1967D2;\n",
              "      --hover-bg-color: #E2EBFA;\n",
              "      --hover-fill-color: #174EA6;\n",
              "      --disabled-fill-color: #AAA;\n",
              "      --disabled-bg-color: #DDD;\n",
              "  }\n",
              "\n",
              "  [theme=dark] .colab-df-quickchart {\n",
              "      --bg-color: #3B4455;\n",
              "      --fill-color: #D2E3FC;\n",
              "      --hover-bg-color: #434B5C;\n",
              "      --hover-fill-color: #FFFFFF;\n",
              "      --disabled-bg-color: #3B4455;\n",
              "      --disabled-fill-color: #666;\n",
              "  }\n",
              "\n",
              "  .colab-df-quickchart {\n",
              "    background-color: var(--bg-color);\n",
              "    border: none;\n",
              "    border-radius: 50%;\n",
              "    cursor: pointer;\n",
              "    display: none;\n",
              "    fill: var(--fill-color);\n",
              "    height: 32px;\n",
              "    padding: 0;\n",
              "    width: 32px;\n",
              "  }\n",
              "\n",
              "  .colab-df-quickchart:hover {\n",
              "    background-color: var(--hover-bg-color);\n",
              "    box-shadow: 0 1px 2px rgba(60, 64, 67, 0.3), 0 1px 3px 1px rgba(60, 64, 67, 0.15);\n",
              "    fill: var(--button-hover-fill-color);\n",
              "  }\n",
              "\n",
              "  .colab-df-quickchart-complete:disabled,\n",
              "  .colab-df-quickchart-complete:disabled:hover {\n",
              "    background-color: var(--disabled-bg-color);\n",
              "    fill: var(--disabled-fill-color);\n",
              "    box-shadow: none;\n",
              "  }\n",
              "\n",
              "  .colab-df-spinner {\n",
              "    border: 2px solid var(--fill-color);\n",
              "    border-color: transparent;\n",
              "    border-bottom-color: var(--fill-color);\n",
              "    animation:\n",
              "      spin 1s steps(1) infinite;\n",
              "  }\n",
              "\n",
              "  @keyframes spin {\n",
              "    0% {\n",
              "      border-color: transparent;\n",
              "      border-bottom-color: var(--fill-color);\n",
              "      border-left-color: var(--fill-color);\n",
              "    }\n",
              "    20% {\n",
              "      border-color: transparent;\n",
              "      border-left-color: var(--fill-color);\n",
              "      border-top-color: var(--fill-color);\n",
              "    }\n",
              "    30% {\n",
              "      border-color: transparent;\n",
              "      border-left-color: var(--fill-color);\n",
              "      border-top-color: var(--fill-color);\n",
              "      border-right-color: var(--fill-color);\n",
              "    }\n",
              "    40% {\n",
              "      border-color: transparent;\n",
              "      border-right-color: var(--fill-color);\n",
              "      border-top-color: var(--fill-color);\n",
              "    }\n",
              "    60% {\n",
              "      border-color: transparent;\n",
              "      border-right-color: var(--fill-color);\n",
              "    }\n",
              "    80% {\n",
              "      border-color: transparent;\n",
              "      border-right-color: var(--fill-color);\n",
              "      border-bottom-color: var(--fill-color);\n",
              "    }\n",
              "    90% {\n",
              "      border-color: transparent;\n",
              "      border-bottom-color: var(--fill-color);\n",
              "    }\n",
              "  }\n",
              "</style>\n",
              "\n",
              "  <script>\n",
              "    async function quickchart(key) {\n",
              "      const quickchartButtonEl =\n",
              "        document.querySelector('#' + key + ' button');\n",
              "      quickchartButtonEl.disabled = true;  // To prevent multiple clicks.\n",
              "      quickchartButtonEl.classList.add('colab-df-spinner');\n",
              "      try {\n",
              "        const charts = await google.colab.kernel.invokeFunction(\n",
              "            'suggestCharts', [key], {});\n",
              "      } catch (error) {\n",
              "        console.error('Error during call to suggestCharts:', error);\n",
              "      }\n",
              "      quickchartButtonEl.classList.remove('colab-df-spinner');\n",
              "      quickchartButtonEl.classList.add('colab-df-quickchart-complete');\n",
              "    }\n",
              "    (() => {\n",
              "      let quickchartButtonEl =\n",
              "        document.querySelector('#df-46a54989-60df-4dc5-bacb-4adc2f9dfccd button');\n",
              "      quickchartButtonEl.style.display =\n",
              "        google.colab.kernel.accessAllowed ? 'block' : 'none';\n",
              "    })();\n",
              "  </script>\n",
              "</div>\n",
              "\n",
              "    </div>\n",
              "  </div>\n"
            ],
            "application/vnd.google.colaboratory.intrinsic+json": {
              "type": "dataframe",
              "summary": "{\n  \"name\": \"df\",\n  \"rows\": 5,\n  \"fields\": [\n    {\n      \"column\": \"work_year\",\n      \"properties\": {\n        \"dtype\": \"number\",\n        \"std\": 0,\n        \"min\": 2020,\n        \"max\": 2022,\n        \"num_unique_values\": 3,\n        \"samples\": [\n          2021,\n          2022,\n          2020\n        ],\n        \"semantic_type\": \"\",\n        \"description\": \"\"\n      }\n    },\n    {\n      \"column\": \"job_title\",\n      \"properties\": {\n        \"dtype\": \"string\",\n        \"num_unique_values\": 4,\n        \"samples\": [\n          \"Machine Learning Engineer  in office\",\n          \"Data Engineer  (Remote)\",\n          \"Machine Learning Engineer  (Remote)\"\n        ],\n        \"semantic_type\": \"\",\n        \"description\": \"\"\n      }\n    },\n    {\n      \"column\": \"job_category\",\n      \"properties\": {\n        \"dtype\": \"string\",\n        \"num_unique_values\": 3,\n        \"samples\": [\n          \"Data Science\",\n          \"Engineering\",\n          \"Analysis\"\n        ],\n        \"semantic_type\": \"\",\n        \"description\": \"\"\n      }\n    },\n    {\n      \"column\": \"salary_currency\",\n      \"properties\": {\n        \"dtype\": \"string\",\n        \"num_unique_values\": 3,\n        \"samples\": [\n          \"INR\",\n          \"EUR\",\n          \"GBP\"\n        ],\n        \"semantic_type\": \"\",\n        \"description\": \"\"\n      }\n    },\n    {\n      \"column\": \"salary\",\n      \"properties\": {\n        \"dtype\": \"number\",\n        \"std\": 61975,\n        \"min\": 32039,\n        \"max\": 189574,\n        \"num_unique_values\": 5,\n        \"samples\": [\n          189574,\n          32039,\n          161195\n        ],\n        \"semantic_type\": \"\",\n        \"description\": \"\"\n      }\n    },\n    {\n      \"column\": \"salary_in_usd\",\n      \"properties\": {\n        \"dtype\": \"number\",\n        \"std\": 55045,\n        \"min\": 41423,\n        \"max\": 174228,\n        \"num_unique_values\": 5,\n        \"samples\": [\n          103072,\n          49691,\n          41423\n        ],\n        \"semantic_type\": \"\",\n        \"description\": \"\"\n      }\n    },\n    {\n      \"column\": \"employee_residence\",\n      \"properties\": {\n        \"dtype\": \"string\",\n        \"num_unique_values\": 5,\n        \"samples\": [\n          \"IN\",\n          \"US\",\n          \"JP\"\n        ],\n        \"semantic_type\": \"\",\n        \"description\": \"\"\n      }\n    },\n    {\n      \"column\": \"experience_level\",\n      \"properties\": {\n        \"dtype\": \"string\",\n        \"num_unique_values\": 4,\n        \"samples\": [\n          \"EN\",\n          \"EX\",\n          \"SE\"\n        ],\n        \"semantic_type\": \"\",\n        \"description\": \"\"\n      }\n    },\n    {\n      \"column\": \"employment_type\",\n      \"properties\": {\n        \"dtype\": \"string\",\n        \"num_unique_values\": 3,\n        \"samples\": [\n          \"FL\",\n          \"FT\",\n          \"CT\"\n        ],\n        \"semantic_type\": \"\",\n        \"description\": \"\"\n      }\n    },\n    {\n      \"column\": \"work_setting\",\n      \"properties\": {\n        \"dtype\": \"string\",\n        \"num_unique_values\": 3,\n        \"samples\": [\n          \"In-person\",\n          \"Remote\",\n          \"Hybrid\"\n        ],\n        \"semantic_type\": \"\",\n        \"description\": \"\"\n      }\n    },\n    {\n      \"column\": \"company_location\",\n      \"properties\": {\n        \"dtype\": \"string\",\n        \"num_unique_values\": 3,\n        \"samples\": [\n          \"UK\",\n          \"DE\",\n          \"MX\"\n        ],\n        \"semantic_type\": \"\",\n        \"description\": \"\"\n      }\n    },\n    {\n      \"column\": \"company_size\",\n      \"properties\": {\n        \"dtype\": \"string\",\n        \"num_unique_values\": 3,\n        \"samples\": [\n          \"S\",\n          \"M\",\n          \"L\"\n        ],\n        \"semantic_type\": \"\",\n        \"description\": \"\"\n      }\n    }\n  ]\n}"
            }
          },
          "metadata": {},
          "execution_count": 746
        }
      ],
      "source": [
        "df.sample(5)"
      ]
    },
    {
      "cell_type": "code",
      "execution_count": null,
      "metadata": {
        "id": "aaKQ5Gx8Lh8V"
      },
      "outputs": [],
      "source": [
        "# df[['salary_currency','salary_ratio']].sample(10)"
      ]
    },
    {
      "cell_type": "code",
      "execution_count": null,
      "metadata": {
        "id": "V_xXXt3XNJno"
      },
      "outputs": [],
      "source": [
        "# df[['work_year','salary','salary_currency','salary_ratio','employee_residence','company_location']].sample(10)"
      ]
    },
    {
      "cell_type": "markdown",
      "metadata": {
        "id": "eIHkUmhJOiLV"
      },
      "source": [
        "## To fill the missing values in job_category"
      ]
    },
    {
      "cell_type": "code",
      "execution_count": null,
      "metadata": {
        "id": "Od73Vrk1OXGI",
        "colab": {
          "base_uri": "https://localhost:8080/"
        },
        "outputId": "ad9c4993-6e8c-49a9-92ad-3ae4695c8ca6"
      },
      "outputs": [
        {
          "output_type": "execute_result",
          "data": {
            "text/plain": [
              "array(['Analysis', 'ML/AI', 'Data Science', 'Engineering', nan],\n",
              "      dtype=object)"
            ]
          },
          "metadata": {},
          "execution_count": 749
        }
      ],
      "source": [
        "df['job_category'].unique()"
      ]
    },
    {
      "cell_type": "code",
      "execution_count": null,
      "metadata": {
        "id": "VvA9WfCqOvD9",
        "colab": {
          "base_uri": "https://localhost:8080/",
          "height": 642
        },
        "outputId": "6d7f8b89-1246-458d-e287-791c22591a1c"
      },
      "outputs": [
        {
          "output_type": "display_data",
          "data": {
            "text/plain": [
              "<Figure size 1200x600 with 1 Axes>"
            ],
            "image/png": "[encoded data removed]"
          },
          "metadata": {}
        }
      ],
      "source": [
        "# plot job_category vs 'salary_in_usd'\n",
        "\n",
        "# Assuming 'df' is your DataFrame and 'job_category' and 'salary_in_usd' are your columns\n",
        "plt.figure(figsize=(12, 6))\n",
        "sns.boxplot(x='job_category', y='salary_in_usd', data=df)\n",
        "plt.xticks(rotation=90)  # Rotate x-axis labels for better readability\n",
        "plt.xlabel('Job Category')\n",
        "plt.ylabel('Salary in USD')\n",
        "plt.title('Job Category vs Salary in USD')\n",
        "plt.show()"
      ]
    },
    {
      "cell_type": "code",
      "execution_count": null,
      "metadata": {
        "id": "hz-Bka6kTGlq",
        "colab": {
          "base_uri": "https://localhost:8080/"
        },
        "outputId": "da04223f-5f71-46f2-c32f-5d3c06642e0c"
      },
      "outputs": [
        {
          "output_type": "stream",
          "name": "stderr",
          "text": [
            "<ipython-input-751-f3f4ecb31a1e>:8: FutureWarning: A value is trying to be set on a copy of a DataFrame or Series through chained assignment using an inplace method.\n",
            "The behavior will change in pandas 3.0. This inplace method will never work because the intermediate object on which we are setting values always behaves as a copy.\n",
            "\n",
            "For example, when doing 'df[col].method(value, inplace=True)', try using 'df.method({col: value}, inplace=True)' or df[col] = df[col].method(value) instead, to perform the operation inplace on the original object.\n",
            "\n",
            "\n",
            "  df['job_category'].fillna(job_category_mode, inplace=True)\n",
            "<ipython-input-751-f3f4ecb31a1e>:9: FutureWarning: A value is trying to be set on a copy of a DataFrame or Series through chained assignment using an inplace method.\n",
            "The behavior will change in pandas 3.0. This inplace method will never work because the intermediate object on which we are setting values always behaves as a copy.\n",
            "\n",
            "For example, when doing 'df[col].method(value, inplace=True)', try using 'df.method({col: value}, inplace=True)' or df[col] = df[col].method(value) instead, to perform the operation inplace on the original object.\n",
            "\n",
            "\n",
            "  df['salary_currency'].fillna(salary_currency_mode, inplace=True)\n",
            "<ipython-input-751-f3f4ecb31a1e>:10: FutureWarning: A value is trying to be set on a copy of a DataFrame or Series through chained assignment using an inplace method.\n",
            "The behavior will change in pandas 3.0. This inplace method will never work because the intermediate object on which we are setting values always behaves as a copy.\n",
            "\n",
            "For example, when doing 'df[col].method(value, inplace=True)', try using 'df.method({col: value}, inplace=True)' or df[col] = df[col].method(value) instead, to perform the operation inplace on the original object.\n",
            "\n",
            "\n",
            "  df['experience_level'].fillna(experience_level_mode, inplace=True)\n",
            "<ipython-input-751-f3f4ecb31a1e>:11: FutureWarning: A value is trying to be set on a copy of a DataFrame or Series through chained assignment using an inplace method.\n",
            "The behavior will change in pandas 3.0. This inplace method will never work because the intermediate object on which we are setting values always behaves as a copy.\n",
            "\n",
            "For example, when doing 'df[col].method(value, inplace=True)', try using 'df.method({col: value}, inplace=True)' or df[col] = df[col].method(value) instead, to perform the operation inplace on the original object.\n",
            "\n",
            "\n",
            "  df['company_size'].fillna(company_size_mode, inplace=True)\n"
          ]
        }
      ],
      "source": [
        "# Find the mode for each column\n",
        "job_category_mode = df['job_category'].mode()[0]\n",
        "salary_currency_mode = df['salary_currency'].mode()[0]\n",
        "experience_level_mode = df['experience_level'].mode()[0]\n",
        "company_size_mode = df['company_size'].mode()[0]\n",
        "\n",
        "# Fill missing values with the mode\n",
        "df['job_category'].fillna(job_category_mode, inplace=True)\n",
        "df['salary_currency'].fillna(salary_currency_mode, inplace=True)\n",
        "df['experience_level'].fillna(experience_level_mode, inplace=True)\n",
        "df['company_size'].fillna(company_size_mode, inplace=True)"
      ]
    },
    {
      "cell_type": "code",
      "execution_count": null,
      "metadata": {
        "id": "N-yZH6wFTcrS",
        "colab": {
          "base_uri": "https://localhost:8080/",
          "height": 460
        },
        "outputId": "8f923005-66e5-4385-d625-d42872635117"
      },
      "outputs": [
        {
          "output_type": "execute_result",
          "data": {
            "text/plain": [
              "work_year             0\n",
              "job_title             0\n",
              "job_category          0\n",
              "salary_currency       0\n",
              "salary                0\n",
              "salary_in_usd         0\n",
              "employee_residence    0\n",
              "experience_level      0\n",
              "employment_type       0\n",
              "work_setting          0\n",
              "company_location      0\n",
              "company_size          0\n",
              "dtype: int64"
            ],
            "text/html": [
              "<div>\n",
              "<style scoped>\n",
              "    .dataframe tbody tr th:only-of-type {\n",
              "        vertical-align: middle;\n",
              "    }\n",
              "\n",
              "    .dataframe tbody tr th {\n",
              "        vertical-align: top;\n",
              "    }\n",
              "\n",
              "    .dataframe thead th {\n",
              "        text-align: right;\n",
              "    }\n",
              "</style>\n",
              "<table border=\"1\" class=\"dataframe\">\n",
              "  <thead>\n",
              "    <tr style=\"text-align: right;\">\n",
              "      <th></th>\n",
              "      <th>0</th>\n",
              "    </tr>\n",
              "  </thead>\n",
              "  <tbody>\n",
              "    <tr>\n",
              "      <th>work_year</th>\n",
              "      <td>0</td>\n",
              "    </tr>\n",
              "    <tr>\n",
              "      <th>job_title</th>\n",
              "      <td>0</td>\n",
              "    </tr>\n",
              "    <tr>\n",
              "      <th>job_category</th>\n",
              "      <td>0</td>\n",
              "    </tr>\n",
              "    <tr>\n",
              "      <th>salary_currency</th>\n",
              "      <td>0</td>\n",
              "    </tr>\n",
              "    <tr>\n",
              "      <th>salary</th>\n",
              "      <td>0</td>\n",
              "    </tr>\n",
              "    <tr>\n",
              "      <th>salary_in_usd</th>\n",
              "      <td>0</td>\n",
              "    </tr>\n",
              "    <tr>\n",
              "      <th>employee_residence</th>\n",
              "      <td>0</td>\n",
              "    </tr>\n",
              "    <tr>\n",
              "      <th>experience_level</th>\n",
              "      <td>0</td>\n",
              "    </tr>\n",
              "    <tr>\n",
              "      <th>employment_type</th>\n",
              "      <td>0</td>\n",
              "    </tr>\n",
              "    <tr>\n",
              "      <th>work_setting</th>\n",
              "      <td>0</td>\n",
              "    </tr>\n",
              "    <tr>\n",
              "      <th>company_location</th>\n",
              "      <td>0</td>\n",
              "    </tr>\n",
              "    <tr>\n",
              "      <th>company_size</th>\n",
              "      <td>0</td>\n",
              "    </tr>\n",
              "  </tbody>\n",
              "</table>\n",
              "</div><br><label><b>dtype:</b> int64</label>"
            ]
          },
          "metadata": {},
          "execution_count": 752
        }
      ],
      "source": [
        "df.isna().sum()"
      ]
    },
    {
      "cell_type": "markdown",
      "metadata": {
        "id": "lcLtoPHlI6O1"
      },
      "source": [
        "# Filling missing values"
      ]
    },
    {
      "cell_type": "markdown",
      "metadata": {
        "id": "mABZmxAJI_gk"
      },
      "source": [
        "# Outlier Handling"
      ]
    },
    {
      "cell_type": "markdown",
      "metadata": {
        "id": "T0gCRKIGT5RD"
      },
      "source": [
        "There are no outliers"
      ]
    },
    {
      "cell_type": "markdown",
      "source": [
        "2. Feature Selection:\n",
        "- Use correlation analysis, feature importance, and variance analysis to identify key\n",
        "features."
      ],
      "metadata": {
        "id": "DHcRf-YoR7se"
      }
    },
    {
      "cell_type": "code",
      "source": [
        "df.drop(['work_year','job_title','salary_currency','salary'],axis=1,inplace=True)"
      ],
      "metadata": {
        "id": "gzOv7ko_9603"
      },
      "execution_count": null,
      "outputs": []
    },
    {
      "cell_type": "code",
      "source": [
        "df.columns"
      ],
      "metadata": {
        "id": "0suNz5KG_buD",
        "colab": {
          "base_uri": "https://localhost:8080/"
        },
        "outputId": "a011b9e9-22f9-4b97-a439-074458fe933f"
      },
      "execution_count": null,
      "outputs": [
        {
          "output_type": "execute_result",
          "data": {
            "text/plain": [
              "Index(['job_category', 'salary_in_usd', 'employee_residence',\n",
              "       'experience_level', 'employment_type', 'work_setting',\n",
              "       'company_location', 'company_size'],\n",
              "      dtype='object')"
            ]
          },
          "metadata": {},
          "execution_count": 754
        }
      ]
    },
    {
      "cell_type": "markdown",
      "metadata": {
        "id": "6f_CS9MJJExO"
      },
      "source": [
        "#Encoding"
      ]
    },
    {
      "cell_type": "code",
      "execution_count": null,
      "metadata": {
        "id": "MFFe4iQ2T-Cs",
        "colab": {
          "base_uri": "https://localhost:8080/",
          "height": 143
        },
        "outputId": "e8cff8df-221a-48c2-a55e-56f6067bfc96"
      },
      "outputs": [
        {
          "output_type": "execute_result",
          "data": {
            "text/plain": [
              "      job_category  salary_in_usd employee_residence experience_level  \\\n",
              "3640         ML/AI          97002                 JP               MI   \n",
              "2333         ML/AI          80034                 UK               SE   \n",
              "2492  Data Science         185341                 IN               MI   \n",
              "\n",
              "     employment_type work_setting company_location company_size  \n",
              "3640              CT    In-person               IN            L  \n",
              "2333              FT       Hybrid               UK            M  \n",
              "2492              PT    In-person               CN            L  "
            ],
            "text/html": [
              "\n",
              "  <div id=\"df-307d0ff9-91b5-497e-a0bb-65d58073adf7\" class=\"colab-df-container\">\n",
              "    <div>\n",
              "<style scoped>\n",
              "    .dataframe tbody tr th:only-of-type {\n",
              "        vertical-align: middle;\n",
              "    }\n",
              "\n",
              "    .dataframe tbody tr th {\n",
              "        vertical-align: top;\n",
              "    }\n",
              "\n",
              "    .dataframe thead th {\n",
              "        text-align: right;\n",
              "    }\n",
              "</style>\n",
              "<table border=\"1\" class=\"dataframe\">\n",
              "  <thead>\n",
              "    <tr style=\"text-align: right;\">\n",
              "      <th></th>\n",
              "      <th>job_category</th>\n",
              "      <th>salary_in_usd</th>\n",
              "      <th>employee_residence</th>\n",
              "      <th>experience_level</th>\n",
              "      <th>employment_type</th>\n",
              "      <th>work_setting</th>\n",
              "      <th>company_location</th>\n",
              "      <th>company_size</th>\n",
              "    </tr>\n",
              "  </thead>\n",
              "  <tbody>\n",
              "    <tr>\n",
              "      <th>3640</th>\n",
              "      <td>ML/AI</td>\n",
              "      <td>97002</td>\n",
              "      <td>JP</td>\n",
              "      <td>MI</td>\n",
              "      <td>CT</td>\n",
              "      <td>In-person</td>\n",
              "      <td>IN</td>\n",
              "      <td>L</td>\n",
              "    </tr>\n",
              "    <tr>\n",
              "      <th>2333</th>\n",
              "      <td>ML/AI</td>\n",
              "      <td>80034</td>\n",
              "      <td>UK</td>\n",
              "      <td>SE</td>\n",
              "      <td>FT</td>\n",
              "      <td>Hybrid</td>\n",
              "      <td>UK</td>\n",
              "      <td>M</td>\n",
              "    </tr>\n",
              "    <tr>\n",
              "      <th>2492</th>\n",
              "      <td>Data Science</td>\n",
              "      <td>185341</td>\n",
              "      <td>IN</td>\n",
              "      <td>MI</td>\n",
              "      <td>PT</td>\n",
              "      <td>In-person</td>\n",
              "      <td>CN</td>\n",
              "      <td>L</td>\n",
              "    </tr>\n",
              "  </tbody>\n",
              "</table>\n",
              "</div>\n",
              "    <div class=\"colab-df-buttons\">\n",
              "\n",
              "  <div class=\"colab-df-container\">\n",
              "    <button class=\"colab-df-convert\" onclick=\"convertToInteractive('df-307d0ff9-91b5-497e-a0bb-65d58073adf7')\"\n",
              "            title=\"Convert this dataframe to an interactive table.\"\n",
              "            style=\"display:none;\">\n",
              "\n",
              "  <svg xmlns=\"http://www.w3.org/2000/svg\" height=\"24px\" viewBox=\"0 -960 960 960\">\n",
              "    <path d=\"M120-120v-720h720v720H120Zm60-500h600v-160H180v160Zm220 220h160v-160H400v160Zm0 220h160v-160H400v160ZM180-400h160v-160H180v160Zm440 0h160v-160H620v160ZM180-180h160v-160H180v160Zm440 0h160v-160H620v160Z\"/>\n",
              "  </svg>\n",
              "    </button>\n",
              "\n",
              "  <style>\n",
              "    .colab-df-container {\n",
              "      display:flex;\n",
              "      gap: 12px;\n",
              "    }\n",
              "\n",
              "    .colab-df-convert {\n",
              "      background-color: #E8F0FE;\n",
              "      border: none;\n",
              "      border-radius: 50%;\n",
              "      cursor: pointer;\n",
              "      display: none;\n",
              "      fill: #1967D2;\n",
              "      height: 32px;\n",
              "      padding: 0 0 0 0;\n",
              "      width: 32px;\n",
              "    }\n",
              "\n",
              "    .colab-df-convert:hover {\n",
              "      background-color: #E2EBFA;\n",
              "      box-shadow: 0px 1px 2px rgba(60, 64, 67, 0.3), 0px 1px 3px 1px rgba(60, 64, 67, 0.15);\n",
              "      fill: #174EA6;\n",
              "    }\n",
              "\n",
              "    .colab-df-buttons div {\n",
              "      margin-bottom: 4px;\n",
              "    }\n",
              "\n",
              "    [theme=dark] .colab-df-convert {\n",
              "      background-color: #3B4455;\n",
              "      fill: #D2E3FC;\n",
              "    }\n",
              "\n",
              "    [theme=dark] .colab-df-convert:hover {\n",
              "      background-color: #434B5C;\n",
              "      box-shadow: 0px 1px 3px 1px rgba(0, 0, 0, 0.15);\n",
              "      filter: drop-shadow(0px 1px 2px rgba(0, 0, 0, 0.3));\n",
              "      fill: #FFFFFF;\n",
              "    }\n",
              "  </style>\n",
              "\n",
              "    <script>\n",
              "      const buttonEl =\n",
              "        document.querySelector('#df-307d0ff9-91b5-497e-a0bb-65d58073adf7 button.colab-df-convert');\n",
              "      buttonEl.style.display =\n",
              "        google.colab.kernel.accessAllowed ? 'block' : 'none';\n",
              "\n",
              "      async function convertToInteractive(key) {\n",
              "        const element = document.querySelector('#df-307d0ff9-91b5-497e-a0bb-65d58073adf7');\n",
              "        const dataTable =\n",
              "          await google.colab.kernel.invokeFunction('convertToInteractive',\n",
              "                                                    [key], {});\n",
              "        if (!dataTable) return;\n",
              "\n",
              "        const docLinkHtml = 'Like what you see? Visit the ' +\n",
              "          '<a target=\"_blank\" href=https://colab.research.google.com/notebooks/data_table.ipynb>data table notebook</a>'\n",
              "          + ' to learn more about interactive tables.';\n",
              "        element.innerHTML = '';\n",
              "        dataTable['output_type'] = 'display_data';\n",
              "        await google.colab.output.renderOutput(dataTable, element);\n",
              "        const docLink = document.createElement('div');\n",
              "        docLink.innerHTML = docLinkHtml;\n",
              "        element.appendChild(docLink);\n",
              "      }\n",
              "    </script>\n",
              "  </div>\n",
              "\n",
              "\n",
              "<div id=\"df-0f49675e-10bc-4161-8d6a-bd32aa7535b0\">\n",
              "  <button class=\"colab-df-quickchart\" onclick=\"quickchart('df-0f49675e-10bc-4161-8d6a-bd32aa7535b0')\"\n",
              "            title=\"Suggest charts\"\n",
              "            style=\"display:none;\">\n",
              "\n",
              "<svg xmlns=\"http://www.w3.org/2000/svg\" height=\"24px\"viewBox=\"0 0 24 24\"\n",
              "     width=\"24px\">\n",
              "    <g>\n",
              "        <path d=\"M19 3H5c-1.1 0-2 .9-2 2v14c0 1.1.9 2 2 2h14c1.1 0 2-.9 2-2V5c0-1.1-.9-2-2-2zM9 17H7v-7h2v7zm4 0h-2V7h2v10zm4 0h-2v-4h2v4z\"/>\n",
              "    </g>\n",
              "</svg>\n",
              "  </button>\n",
              "\n",
              "<style>\n",
              "  .colab-df-quickchart {\n",
              "      --bg-color: #E8F0FE;\n",
              "      --fill-color: #1967D2;\n",
              "      --hover-bg-color: #E2EBFA;\n",
              "      --hover-fill-color: #174EA6;\n",
              "      --disabled-fill-color: #AAA;\n",
              "      --disabled-bg-color: #DDD;\n",
              "  }\n",
              "\n",
              "  [theme=dark] .colab-df-quickchart {\n",
              "      --bg-color: #3B4455;\n",
              "      --fill-color: #D2E3FC;\n",
              "      --hover-bg-color: #434B5C;\n",
              "      --hover-fill-color: #FFFFFF;\n",
              "      --disabled-bg-color: #3B4455;\n",
              "      --disabled-fill-color: #666;\n",
              "  }\n",
              "\n",
              "  .colab-df-quickchart {\n",
              "    background-color: var(--bg-color);\n",
              "    border: none;\n",
              "    border-radius: 50%;\n",
              "    cursor: pointer;\n",
              "    display: none;\n",
              "    fill: var(--fill-color);\n",
              "    height: 32px;\n",
              "    padding: 0;\n",
              "    width: 32px;\n",
              "  }\n",
              "\n",
              "  .colab-df-quickchart:hover {\n",
              "    background-color: var(--hover-bg-color);\n",
              "    box-shadow: 0 1px 2px rgba(60, 64, 67, 0.3), 0 1px 3px 1px rgba(60, 64, 67, 0.15);\n",
              "    fill: var(--button-hover-fill-color);\n",
              "  }\n",
              "\n",
              "  .colab-df-quickchart-complete:disabled,\n",
              "  .colab-df-quickchart-complete:disabled:hover {\n",
              "    background-color: var(--disabled-bg-color);\n",
              "    fill: var(--disabled-fill-color);\n",
              "    box-shadow: none;\n",
              "  }\n",
              "\n",
              "  .colab-df-spinner {\n",
              "    border: 2px solid var(--fill-color);\n",
              "    border-color: transparent;\n",
              "    border-bottom-color: var(--fill-color);\n",
              "    animation:\n",
              "      spin 1s steps(1) infinite;\n",
              "  }\n",
              "\n",
              "  @keyframes spin {\n",
              "    0% {\n",
              "      border-color: transparent;\n",
              "      border-bottom-color: var(--fill-color);\n",
              "      border-left-color: var(--fill-color);\n",
              "    }\n",
              "    20% {\n",
              "      border-color: transparent;\n",
              "      border-left-color: var(--fill-color);\n",
              "      border-top-color: var(--fill-color);\n",
              "    }\n",
              "    30% {\n",
              "      border-color: transparent;\n",
              "      border-left-color: var(--fill-color);\n",
              "      border-top-color: var(--fill-color);\n",
              "      border-right-color: var(--fill-color);\n",
              "    }\n",
              "    40% {\n",
              "      border-color: transparent;\n",
              "      border-right-color: var(--fill-color);\n",
              "      border-top-color: var(--fill-color);\n",
              "    }\n",
              "    60% {\n",
              "      border-color: transparent;\n",
              "      border-right-color: var(--fill-color);\n",
              "    }\n",
              "    80% {\n",
              "      border-color: transparent;\n",
              "      border-right-color: var(--fill-color);\n",
              "      border-bottom-color: var(--fill-color);\n",
              "    }\n",
              "    90% {\n",
              "      border-color: transparent;\n",
              "      border-bottom-color: var(--fill-color);\n",
              "    }\n",
              "  }\n",
              "</style>\n",
              "\n",
              "  <script>\n",
              "    async function quickchart(key) {\n",
              "      const quickchartButtonEl =\n",
              "        document.querySelector('#' + key + ' button');\n",
              "      quickchartButtonEl.disabled = true;  // To prevent multiple clicks.\n",
              "      quickchartButtonEl.classList.add('colab-df-spinner');\n",
              "      try {\n",
              "        const charts = await google.colab.kernel.invokeFunction(\n",
              "            'suggestCharts', [key], {});\n",
              "      } catch (error) {\n",
              "        console.error('Error during call to suggestCharts:', error);\n",
              "      }\n",
              "      quickchartButtonEl.classList.remove('colab-df-spinner');\n",
              "      quickchartButtonEl.classList.add('colab-df-quickchart-complete');\n",
              "    }\n",
              "    (() => {\n",
              "      let quickchartButtonEl =\n",
              "        document.querySelector('#df-0f49675e-10bc-4161-8d6a-bd32aa7535b0 button');\n",
              "      quickchartButtonEl.style.display =\n",
              "        google.colab.kernel.accessAllowed ? 'block' : 'none';\n",
              "    })();\n",
              "  </script>\n",
              "</div>\n",
              "\n",
              "    </div>\n",
              "  </div>\n"
            ],
            "application/vnd.google.colaboratory.intrinsic+json": {
              "type": "dataframe",
              "summary": "{\n  \"name\": \"df\",\n  \"rows\": 3,\n  \"fields\": [\n    {\n      \"column\": \"job_category\",\n      \"properties\": {\n        \"dtype\": \"string\",\n        \"num_unique_values\": 2,\n        \"samples\": [\n          \"Data Science\",\n          \"ML/AI\"\n        ],\n        \"semantic_type\": \"\",\n        \"description\": \"\"\n      }\n    },\n    {\n      \"column\": \"salary_in_usd\",\n      \"properties\": {\n        \"dtype\": \"number\",\n        \"std\": 56540,\n        \"min\": 80034,\n        \"max\": 185341,\n        \"num_unique_values\": 3,\n        \"samples\": [\n          97002,\n          80034\n        ],\n        \"semantic_type\": \"\",\n        \"description\": \"\"\n      }\n    },\n    {\n      \"column\": \"employee_residence\",\n      \"properties\": {\n        \"dtype\": \"string\",\n        \"num_unique_values\": 3,\n        \"samples\": [\n          \"JP\",\n          \"UK\"\n        ],\n        \"semantic_type\": \"\",\n        \"description\": \"\"\n      }\n    },\n    {\n      \"column\": \"experience_level\",\n      \"properties\": {\n        \"dtype\": \"string\",\n        \"num_unique_values\": 2,\n        \"samples\": [\n          \"SE\",\n          \"MI\"\n        ],\n        \"semantic_type\": \"\",\n        \"description\": \"\"\n      }\n    },\n    {\n      \"column\": \"employment_type\",\n      \"properties\": {\n        \"dtype\": \"string\",\n        \"num_unique_values\": 3,\n        \"samples\": [\n          \"CT\",\n          \"FT\"\n        ],\n        \"semantic_type\": \"\",\n        \"description\": \"\"\n      }\n    },\n    {\n      \"column\": \"work_setting\",\n      \"properties\": {\n        \"dtype\": \"string\",\n        \"num_unique_values\": 2,\n        \"samples\": [\n          \"Hybrid\",\n          \"In-person\"\n        ],\n        \"semantic_type\": \"\",\n        \"description\": \"\"\n      }\n    },\n    {\n      \"column\": \"company_location\",\n      \"properties\": {\n        \"dtype\": \"string\",\n        \"num_unique_values\": 3,\n        \"samples\": [\n          \"IN\",\n          \"UK\"\n        ],\n        \"semantic_type\": \"\",\n        \"description\": \"\"\n      }\n    },\n    {\n      \"column\": \"company_size\",\n      \"properties\": {\n        \"dtype\": \"string\",\n        \"num_unique_values\": 2,\n        \"samples\": [\n          \"M\",\n          \"L\"\n        ],\n        \"semantic_type\": \"\",\n        \"description\": \"\"\n      }\n    }\n  ]\n}"
            }
          },
          "metadata": {},
          "execution_count": 755
        }
      ],
      "source": [
        "df.sample(3)"
      ]
    },
    {
      "cell_type": "code",
      "execution_count": null,
      "metadata": {
        "id": "1BKWJiLnUE6O",
        "colab": {
          "base_uri": "https://localhost:8080/",
          "height": 140
        },
        "outputId": "46ab5c80-28d2-41bd-85da-4ac464aed400"
      },
      "outputs": [
        {
          "output_type": "execute_result",
          "data": {
            "text/plain": [
              "\"import pandas as pd\\nfrom sklearn.preprocessing import OneHotEncoder\\n\\n# Assuming 'df' is your DataFrame\\n# Assuming 'df' is your DataFrame and you've already handled missing values\\n\\n# List of categorical columns to encode\\ncategorical_columns = [#'job_title',\\n                       'job_category', #'salary_currency',\\n                       'employee_residence',\\n                       'experience_level', 'employment_type', 'work_setting',\\n                       'company_location', 'company_size']\\n\\n# Create a OneHotEncoder object\\nencoder = OneHotEncoder(handle_unknown='ignore', sparse_output=False)\\n\\n# Fit and transform the encoder on the categorical columns\\nencoded_features = encoder.fit_transform(df[categorical_columns])\\n\\n# Create a new DataFrame with the encoded features\\nencoded_df = pd.DataFrame(encoded_features)\\n\\n# Get feature names from the encoder\\nfeature_names = encoder.get_feature_names_out(categorical_columns)\\n\\n# Set the column names of the encoded DataFrame\\nencoded_df.columns = feature_names\\n\\n\\n# Concatenate the encoded DataFrame with the original DataFrame (excluding the categorical columns)\\ndf_encoded = pd.concat([df.drop(categorical_columns, axis=1), encoded_df], axis=1)\\n\\n# Print the encoded DataFrame\\ndf_encoded\""
            ],
            "application/vnd.google.colaboratory.intrinsic+json": {
              "type": "string"
            }
          },
          "metadata": {},
          "execution_count": 756
        }
      ],
      "source": [
        "'''import pandas as pd\n",
        "from sklearn.preprocessing import OneHotEncoder\n",
        "\n",
        "# Assuming 'df' is your DataFrame\n",
        "# Assuming 'df' is your DataFrame and you've already handled missing values\n",
        "\n",
        "# List of categorical columns to encode\n",
        "categorical_columns = [#'job_title',\n",
        "                       'job_category', #'salary_currency',\n",
        "                       'employee_residence',\n",
        "                       'experience_level', 'employment_type', 'work_setting',\n",
        "                       'company_location', 'company_size']\n",
        "\n",
        "# Create a OneHotEncoder object\n",
        "encoder = OneHotEncoder(handle_unknown='ignore', sparse_output=False)\n",
        "\n",
        "# Fit and transform the encoder on the categorical columns\n",
        "encoded_features = encoder.fit_transform(df[categorical_columns])\n",
        "\n",
        "# Create a new DataFrame with the encoded features\n",
        "encoded_df = pd.DataFrame(encoded_features)\n",
        "\n",
        "# Get feature names from the encoder\n",
        "feature_names = encoder.get_feature_names_out(categorical_columns)\n",
        "\n",
        "# Set the column names of the encoded DataFrame\n",
        "encoded_df.columns = feature_names\n",
        "\n",
        "\n",
        "# Concatenate the encoded DataFrame with the original DataFrame (excluding the categorical columns)\n",
        "df_encoded = pd.concat([df.drop(categorical_columns, axis=1), encoded_df], axis=1)\n",
        "\n",
        "# Print the encoded DataFrame\n",
        "df_encoded'''"
      ]
    },
    {
      "cell_type": "code",
      "execution_count": null,
      "metadata": {
        "id": "gdv_DVjSUNrT",
        "colab": {
          "base_uri": "https://localhost:8080/"
        },
        "outputId": "86c52813-11fe-483c-94e8-905820a65506"
      },
      "outputs": [
        {
          "output_type": "stream",
          "name": "stdout",
          "text": [
            "<class 'pandas.core.frame.DataFrame'>\n",
            "RangeIndex: 5000 entries, 0 to 4999\n",
            "Data columns (total 8 columns):\n",
            " #   Column              Non-Null Count  Dtype \n",
            "---  ------              --------------  ----- \n",
            " 0   job_category        5000 non-null   object\n",
            " 1   salary_in_usd       5000 non-null   int64 \n",
            " 2   employee_residence  5000 non-null   object\n",
            " 3   experience_level    5000 non-null   object\n",
            " 4   employment_type     5000 non-null   object\n",
            " 5   work_setting        5000 non-null   object\n",
            " 6   company_location    5000 non-null   object\n",
            " 7   company_size        5000 non-null   object\n",
            "dtypes: int64(1), object(7)\n",
            "memory usage: 312.6+ KB\n"
          ]
        }
      ],
      "source": [
        "df.info()\n",
        "\n",
        "#df.drop([''],axis=1,inplace=True)"
      ]
    },
    {
      "cell_type": "markdown",
      "source": [
        "# **Scaling**"
      ],
      "metadata": {
        "id": "qeoTpxXmyjrq"
      }
    },
    {
      "cell_type": "code",
      "execution_count": null,
      "metadata": {
        "id": "43aPdk97BrD0",
        "colab": {
          "base_uri": "https://localhost:8080/",
          "height": 88
        },
        "outputId": "4527003d-cb77-4797-f844-c47b053b4f29"
      },
      "outputs": [
        {
          "output_type": "execute_result",
          "data": {
            "text/plain": [
              "\"# scale using min max scalar of numerical columns\\n\\nimport pandas as pd\\nfrom sklearn.preprocessing import MinMaxScaler\\n\\n# Assuming df_encoded is your DataFrame from the previous code\\n# Select numerical columns\\nnumerical_cols = [#'work_year', 'salary',\\n                  'salary_in_usd', 'salary_ratio']\\n\\n# Create a MinMaxScaler object\\nscaler = MinMaxScaler()\\n\\n# Fit and transform the scaler on the numerical columns\\ndf_encoded[numerical_cols] = scaler.fit_transform(df_encoded[numerical_cols])\\n\\n# Print the scaled DataFrame\\ndf_encoded\""
            ],
            "application/vnd.google.colaboratory.intrinsic+json": {
              "type": "string"
            }
          },
          "metadata": {},
          "execution_count": 758
        }
      ],
      "source": [
        "'''# scale using min max scalar of numerical columns\n",
        "\n",
        "import pandas as pd\n",
        "from sklearn.preprocessing import MinMaxScaler\n",
        "\n",
        "# Assuming df_encoded is your DataFrame from the previous code\n",
        "# Select numerical columns\n",
        "numerical_cols = [#'work_year', 'salary',\n",
        "                  'salary_in_usd', 'salary_ratio']\n",
        "\n",
        "# Create a MinMaxScaler object\n",
        "scaler = MinMaxScaler()\n",
        "\n",
        "# Fit and transform the scaler on the numerical columns\n",
        "df_encoded[numerical_cols] = scaler.fit_transform(df_encoded[numerical_cols])\n",
        "\n",
        "# Print the scaled DataFrame\n",
        "df_encoded'''"
      ]
    },
    {
      "cell_type": "code",
      "source": [
        "import pandas as pd\n",
        "from sklearn.preprocessing import OneHotEncoder, MinMaxScaler\n",
        "\n",
        "# Assuming df is your DataFrame and preprocessed (NaN handling and feature engineering done)\n",
        "\n",
        "# Categorical columns that need to be encoded\n",
        "categorical_columns = ['job_category', 'employee_residence', 'experience_level',\n",
        "                       'employment_type', 'work_setting', 'company_location', 'company_size']\n",
        "\n",
        "# Numerical columns that need to be scaled\n",
        "numerical_columns = ['salary_in_usd']\n",
        "\n",
        "# One-hot encoding for categorical features\n",
        "encoder = OneHotEncoder(handle_unknown='ignore', sparse_output=False)  # Corrected argument\n",
        "encoded_features = encoder.fit_transform(df[categorical_columns])\n",
        "encoded_df = pd.DataFrame(encoded_features, columns=encoder.get_feature_names_out(categorical_columns))\n",
        "\n",
        "# Min-Max scaling for numerical features\n",
        "scaler = MinMaxScaler()\n",
        "scaled_numerical = scaler.fit_transform(df[numerical_columns])\n",
        "scaled_df = pd.DataFrame(scaled_numerical, columns=numerical_columns)\n",
        "\n",
        "# Combine processed features\n",
        "df_processed = pd.concat([df.drop(columns=categorical_columns + numerical_columns),\n",
        "                          encoded_df, scaled_df], axis=1)\n",
        "\n",
        "# Check the processed DataFrame\n",
        "df_processed.head()\n"
      ],
      "metadata": {
        "colab": {
          "base_uri": "https://localhost:8080/",
          "height": 273
        },
        "id": "5Cp45xFj015_",
        "outputId": "40143c23-f6fc-4a28-b92e-230e6d14c763"
      },
      "execution_count": null,
      "outputs": [
        {
          "output_type": "execute_result",
          "data": {
            "text/plain": [
              "   job_category_Analysis  job_category_Data Science  job_category_Engineering  \\\n",
              "0                    1.0                        0.0                       0.0   \n",
              "1                    0.0                        0.0                       0.0   \n",
              "2                    0.0                        0.0                       0.0   \n",
              "3                    0.0                        0.0                       0.0   \n",
              "4                    0.0                        1.0                       0.0   \n",
              "\n",
              "   job_category_ML/AI  employee_residence_CN  employee_residence_DE  \\\n",
              "0                 0.0                    0.0                    0.0   \n",
              "1                 1.0                    0.0                    0.0   \n",
              "2                 1.0                    0.0                    0.0   \n",
              "3                 1.0                    0.0                    1.0   \n",
              "4                 0.0                    0.0                    0.0   \n",
              "\n",
              "   employee_residence_IN  employee_residence_JP  employee_residence_MX  \\\n",
              "0                    0.0                    0.0                    0.0   \n",
              "1                    0.0                    1.0                    0.0   \n",
              "2                    0.0                    0.0                    0.0   \n",
              "3                    0.0                    0.0                    0.0   \n",
              "4                    0.0                    0.0                    0.0   \n",
              "\n",
              "   employee_residence_UK  ...  company_location_DE  company_location_IN  \\\n",
              "0                    0.0  ...                  1.0                  0.0   \n",
              "1                    0.0  ...                  0.0                  1.0   \n",
              "2                    1.0  ...                  0.0                  0.0   \n",
              "3                    0.0  ...                  0.0                  0.0   \n",
              "4                    1.0  ...                  0.0                  0.0   \n",
              "\n",
              "   company_location_JP  company_location_MX  company_location_UK  \\\n",
              "0                  0.0                  0.0                  0.0   \n",
              "1                  0.0                  0.0                  0.0   \n",
              "2                  0.0                  0.0                  0.0   \n",
              "3                  0.0                  1.0                  0.0   \n",
              "4                  0.0                  0.0                  1.0   \n",
              "\n",
              "   company_location_US  company_size_L  company_size_M  company_size_S  \\\n",
              "0                  0.0             1.0             0.0             0.0   \n",
              "1                  0.0             0.0             1.0             0.0   \n",
              "2                  0.0             1.0             0.0             0.0   \n",
              "3                  0.0             1.0             0.0             0.0   \n",
              "4                  0.0             0.0             0.0             1.0   \n",
              "\n",
              "   salary_in_usd  \n",
              "0       0.624055  \n",
              "1       0.223370  \n",
              "2       0.725385  \n",
              "3       0.619089  \n",
              "4       0.030241  \n",
              "\n",
              "[5 rows x 33 columns]"
            ],
            "text/html": [
              "\n",
              "  <div id=\"df-edb7f553-2b1e-4c1e-9a8b-aaa937d6a1d0\" class=\"colab-df-container\">\n",
              "    <div>\n",
              "<style scoped>\n",
              "    .dataframe tbody tr th:only-of-type {\n",
              "        vertical-align: middle;\n",
              "    }\n",
              "\n",
              "    .dataframe tbody tr th {\n",
              "        vertical-align: top;\n",
              "    }\n",
              "\n",
              "    .dataframe thead th {\n",
              "        text-align: right;\n",
              "    }\n",
              "</style>\n",
              "<table border=\"1\" class=\"dataframe\">\n",
              "  <thead>\n",
              "    <tr style=\"text-align: right;\">\n",
              "      <th></th>\n",
              "      <th>job_category_Analysis</th>\n",
              "      <th>job_category_Data Science</th>\n",
              "      <th>job_category_Engineering</th>\n",
              "      <th>job_category_ML/AI</th>\n",
              "      <th>employee_residence_CN</th>\n",
              "      <th>employee_residence_DE</th>\n",
              "      <th>employee_residence_IN</th>\n",
              "      <th>employee_residence_JP</th>\n",
              "      <th>employee_residence_MX</th>\n",
              "      <th>employee_residence_UK</th>\n",
              "      <th>...</th>\n",
              "      <th>company_location_DE</th>\n",
              "      <th>company_location_IN</th>\n",
              "      <th>company_location_JP</th>\n",
              "      <th>company_location_MX</th>\n",
              "      <th>company_location_UK</th>\n",
              "      <th>company_location_US</th>\n",
              "      <th>company_size_L</th>\n",
              "      <th>company_size_M</th>\n",
              "      <th>company_size_S</th>\n",
              "      <th>salary_in_usd</th>\n",
              "    </tr>\n",
              "  </thead>\n",
              "  <tbody>\n",
              "    <tr>\n",
              "      <th>0</th>\n",
              "      <td>1.0</td>\n",
              "      <td>0.0</td>\n",
              "      <td>0.0</td>\n",
              "      <td>0.0</td>\n",
              "      <td>0.0</td>\n",
              "      <td>0.0</td>\n",
              "      <td>0.0</td>\n",
              "      <td>0.0</td>\n",
              "      <td>0.0</td>\n",
              "      <td>0.0</td>\n",
              "      <td>...</td>\n",
              "      <td>1.0</td>\n",
              "      <td>0.0</td>\n",
              "      <td>0.0</td>\n",
              "      <td>0.0</td>\n",
              "      <td>0.0</td>\n",
              "      <td>0.0</td>\n",
              "      <td>1.0</td>\n",
              "      <td>0.0</td>\n",
              "      <td>0.0</td>\n",
              "      <td>0.624055</td>\n",
              "    </tr>\n",
              "    <tr>\n",
              "      <th>1</th>\n",
              "      <td>0.0</td>\n",
              "      <td>0.0</td>\n",
              "      <td>0.0</td>\n",
              "      <td>1.0</td>\n",
              "      <td>0.0</td>\n",
              "      <td>0.0</td>\n",
              "      <td>0.0</td>\n",
              "      <td>1.0</td>\n",
              "      <td>0.0</td>\n",
              "      <td>0.0</td>\n",
              "      <td>...</td>\n",
              "      <td>0.0</td>\n",
              "      <td>1.0</td>\n",
              "      <td>0.0</td>\n",
              "      <td>0.0</td>\n",
              "      <td>0.0</td>\n",
              "      <td>0.0</td>\n",
              "      <td>0.0</td>\n",
              "      <td>1.0</td>\n",
              "      <td>0.0</td>\n",
              "      <td>0.223370</td>\n",
              "    </tr>\n",
              "    <tr>\n",
              "      <th>2</th>\n",
              "      <td>0.0</td>\n",
              "      <td>0.0</td>\n",
              "      <td>0.0</td>\n",
              "      <td>1.0</td>\n",
              "      <td>0.0</td>\n",
              "      <td>0.0</td>\n",
              "      <td>0.0</td>\n",
              "      <td>0.0</td>\n",
              "      <td>0.0</td>\n",
              "      <td>1.0</td>\n",
              "      <td>...</td>\n",
              "      <td>0.0</td>\n",
              "      <td>0.0</td>\n",
              "      <td>0.0</td>\n",
              "      <td>0.0</td>\n",
              "      <td>0.0</td>\n",
              "      <td>0.0</td>\n",
              "      <td>1.0</td>\n",
              "      <td>0.0</td>\n",
              "      <td>0.0</td>\n",
              "      <td>0.725385</td>\n",
              "    </tr>\n",
              "    <tr>\n",
              "      <th>3</th>\n",
              "      <td>0.0</td>\n",
              "      <td>0.0</td>\n",
              "      <td>0.0</td>\n",
              "      <td>1.0</td>\n",
              "      <td>0.0</td>\n",
              "      <td>1.0</td>\n",
              "      <td>0.0</td>\n",
              "      <td>0.0</td>\n",
              "      <td>0.0</td>\n",
              "      <td>0.0</td>\n",
              "      <td>...</td>\n",
              "      <td>0.0</td>\n",
              "      <td>0.0</td>\n",
              "      <td>0.0</td>\n",
              "      <td>1.0</td>\n",
              "      <td>0.0</td>\n",
              "      <td>0.0</td>\n",
              "      <td>1.0</td>\n",
              "      <td>0.0</td>\n",
              "      <td>0.0</td>\n",
              "      <td>0.619089</td>\n",
              "    </tr>\n",
              "    <tr>\n",
              "      <th>4</th>\n",
              "      <td>0.0</td>\n",
              "      <td>1.0</td>\n",
              "      <td>0.0</td>\n",
              "      <td>0.0</td>\n",
              "      <td>0.0</td>\n",
              "      <td>0.0</td>\n",
              "      <td>0.0</td>\n",
              "      <td>0.0</td>\n",
              "      <td>0.0</td>\n",
              "      <td>1.0</td>\n",
              "      <td>...</td>\n",
              "      <td>0.0</td>\n",
              "      <td>0.0</td>\n",
              "      <td>0.0</td>\n",
              "      <td>0.0</td>\n",
              "      <td>1.0</td>\n",
              "      <td>0.0</td>\n",
              "      <td>0.0</td>\n",
              "      <td>0.0</td>\n",
              "      <td>1.0</td>\n",
              "      <td>0.030241</td>\n",
              "    </tr>\n",
              "  </tbody>\n",
              "</table>\n",
              "<p>5 rows × 33 columns</p>\n",
              "</div>\n",
              "    <div class=\"colab-df-buttons\">\n",
              "\n",
              "  <div class=\"colab-df-container\">\n",
              "    <button class=\"colab-df-convert\" onclick=\"convertToInteractive('df-edb7f553-2b1e-4c1e-9a8b-aaa937d6a1d0')\"\n",
              "            title=\"Convert this dataframe to an interactive table.\"\n",
              "            style=\"display:none;\">\n",
              "\n",
              "  <svg xmlns=\"http://www.w3.org/2000/svg\" height=\"24px\" viewBox=\"0 -960 960 960\">\n",
              "    <path d=\"M120-120v-720h720v720H120Zm60-500h600v-160H180v160Zm220 220h160v-160H400v160Zm0 220h160v-160H400v160ZM180-400h160v-160H180v160Zm440 0h160v-160H620v160ZM180-180h160v-160H180v160Zm440 0h160v-160H620v160Z\"/>\n",
              "  </svg>\n",
              "    </button>\n",
              "\n",
              "  <style>\n",
              "    .colab-df-container {\n",
              "      display:flex;\n",
              "      gap: 12px;\n",
              "    }\n",
              "\n",
              "    .colab-df-convert {\n",
              "      background-color: #E8F0FE;\n",
              "      border: none;\n",
              "      border-radius: 50%;\n",
              "      cursor: pointer;\n",
              "      display: none;\n",
              "      fill: #1967D2;\n",
              "      height: 32px;\n",
              "      padding: 0 0 0 0;\n",
              "      width: 32px;\n",
              "    }\n",
              "\n",
              "    .colab-df-convert:hover {\n",
              "      background-color: #E2EBFA;\n",
              "      box-shadow: 0px 1px 2px rgba(60, 64, 67, 0.3), 0px 1px 3px 1px rgba(60, 64, 67, 0.15);\n",
              "      fill: #174EA6;\n",
              "    }\n",
              "\n",
              "    .colab-df-buttons div {\n",
              "      margin-bottom: 4px;\n",
              "    }\n",
              "\n",
              "    [theme=dark] .colab-df-convert {\n",
              "      background-color: #3B4455;\n",
              "      fill: #D2E3FC;\n",
              "    }\n",
              "\n",
              "    [theme=dark] .colab-df-convert:hover {\n",
              "      background-color: #434B5C;\n",
              "      box-shadow: 0px 1px 3px 1px rgba(0, 0, 0, 0.15);\n",
              "      filter: drop-shadow(0px 1px 2px rgba(0, 0, 0, 0.3));\n",
              "      fill: #FFFFFF;\n",
              "    }\n",
              "  </style>\n",
              "\n",
              "    <script>\n",
              "      const buttonEl =\n",
              "        document.querySelector('#df-edb7f553-2b1e-4c1e-9a8b-aaa937d6a1d0 button.colab-df-convert');\n",
              "      buttonEl.style.display =\n",
              "        google.colab.kernel.accessAllowed ? 'block' : 'none';\n",
              "\n",
              "      async function convertToInteractive(key) {\n",
              "        const element = document.querySelector('#df-edb7f553-2b1e-4c1e-9a8b-aaa937d6a1d0');\n",
              "        const dataTable =\n",
              "          await google.colab.kernel.invokeFunction('convertToInteractive',\n",
              "                                                    [key], {});\n",
              "        if (!dataTable) return;\n",
              "\n",
              "        const docLinkHtml = 'Like what you see? Visit the ' +\n",
              "          '<a target=\"_blank\" href=https://colab.research.google.com/notebooks/data_table.ipynb>data table notebook</a>'\n",
              "          + ' to learn more about interactive tables.';\n",
              "        element.innerHTML = '';\n",
              "        dataTable['output_type'] = 'display_data';\n",
              "        await google.colab.output.renderOutput(dataTable, element);\n",
              "        const docLink = document.createElement('div');\n",
              "        docLink.innerHTML = docLinkHtml;\n",
              "        element.appendChild(docLink);\n",
              "      }\n",
              "    </script>\n",
              "  </div>\n",
              "\n",
              "\n",
              "<div id=\"df-6cb80fcd-4c28-4b46-adbb-47b0bc2e6501\">\n",
              "  <button class=\"colab-df-quickchart\" onclick=\"quickchart('df-6cb80fcd-4c28-4b46-adbb-47b0bc2e6501')\"\n",
              "            title=\"Suggest charts\"\n",
              "            style=\"display:none;\">\n",
              "\n",
              "<svg xmlns=\"http://www.w3.org/2000/svg\" height=\"24px\"viewBox=\"0 0 24 24\"\n",
              "     width=\"24px\">\n",
              "    <g>\n",
              "        <path d=\"M19 3H5c-1.1 0-2 .9-2 2v14c0 1.1.9 2 2 2h14c1.1 0 2-.9 2-2V5c0-1.1-.9-2-2-2zM9 17H7v-7h2v7zm4 0h-2V7h2v10zm4 0h-2v-4h2v4z\"/>\n",
              "    </g>\n",
              "</svg>\n",
              "  </button>\n",
              "\n",
              "<style>\n",
              "  .colab-df-quickchart {\n",
              "      --bg-color: #E8F0FE;\n",
              "      --fill-color: #1967D2;\n",
              "      --hover-bg-color: #E2EBFA;\n",
              "      --hover-fill-color: #174EA6;\n",
              "      --disabled-fill-color: #AAA;\n",
              "      --disabled-bg-color: #DDD;\n",
              "  }\n",
              "\n",
              "  [theme=dark] .colab-df-quickchart {\n",
              "      --bg-color: #3B4455;\n",
              "      --fill-color: #D2E3FC;\n",
              "      --hover-bg-color: #434B5C;\n",
              "      --hover-fill-color: #FFFFFF;\n",
              "      --disabled-bg-color: #3B4455;\n",
              "      --disabled-fill-color: #666;\n",
              "  }\n",
              "\n",
              "  .colab-df-quickchart {\n",
              "    background-color: var(--bg-color);\n",
              "    border: none;\n",
              "    border-radius: 50%;\n",
              "    cursor: pointer;\n",
              "    display: none;\n",
              "    fill: var(--fill-color);\n",
              "    height: 32px;\n",
              "    padding: 0;\n",
              "    width: 32px;\n",
              "  }\n",
              "\n",
              "  .colab-df-quickchart:hover {\n",
              "    background-color: var(--hover-bg-color);\n",
              "    box-shadow: 0 1px 2px rgba(60, 64, 67, 0.3), 0 1px 3px 1px rgba(60, 64, 67, 0.15);\n",
              "    fill: var(--button-hover-fill-color);\n",
              "  }\n",
              "\n",
              "  .colab-df-quickchart-complete:disabled,\n",
              "  .colab-df-quickchart-complete:disabled:hover {\n",
              "    background-color: var(--disabled-bg-color);\n",
              "    fill: var(--disabled-fill-color);\n",
              "    box-shadow: none;\n",
              "  }\n",
              "\n",
              "  .colab-df-spinner {\n",
              "    border: 2px solid var(--fill-color);\n",
              "    border-color: transparent;\n",
              "    border-bottom-color: var(--fill-color);\n",
              "    animation:\n",
              "      spin 1s steps(1) infinite;\n",
              "  }\n",
              "\n",
              "  @keyframes spin {\n",
              "    0% {\n",
              "      border-color: transparent;\n",
              "      border-bottom-color: var(--fill-color);\n",
              "      border-left-color: var(--fill-color);\n",
              "    }\n",
              "    20% {\n",
              "      border-color: transparent;\n",
              "      border-left-color: var(--fill-color);\n",
              "      border-top-color: var(--fill-color);\n",
              "    }\n",
              "    30% {\n",
              "      border-color: transparent;\n",
              "      border-left-color: var(--fill-color);\n",
              "      border-top-color: var(--fill-color);\n",
              "      border-right-color: var(--fill-color);\n",
              "    }\n",
              "    40% {\n",
              "      border-color: transparent;\n",
              "      border-right-color: var(--fill-color);\n",
              "      border-top-color: var(--fill-color);\n",
              "    }\n",
              "    60% {\n",
              "      border-color: transparent;\n",
              "      border-right-color: var(--fill-color);\n",
              "    }\n",
              "    80% {\n",
              "      border-color: transparent;\n",
              "      border-right-color: var(--fill-color);\n",
              "      border-bottom-color: var(--fill-color);\n",
              "    }\n",
              "    90% {\n",
              "      border-color: transparent;\n",
              "      border-bottom-color: var(--fill-color);\n",
              "    }\n",
              "  }\n",
              "</style>\n",
              "\n",
              "  <script>\n",
              "    async function quickchart(key) {\n",
              "      const quickchartButtonEl =\n",
              "        document.querySelector('#' + key + ' button');\n",
              "      quickchartButtonEl.disabled = true;  // To prevent multiple clicks.\n",
              "      quickchartButtonEl.classList.add('colab-df-spinner');\n",
              "      try {\n",
              "        const charts = await google.colab.kernel.invokeFunction(\n",
              "            'suggestCharts', [key], {});\n",
              "      } catch (error) {\n",
              "        console.error('Error during call to suggestCharts:', error);\n",
              "      }\n",
              "      quickchartButtonEl.classList.remove('colab-df-spinner');\n",
              "      quickchartButtonEl.classList.add('colab-df-quickchart-complete');\n",
              "    }\n",
              "    (() => {\n",
              "      let quickchartButtonEl =\n",
              "        document.querySelector('#df-6cb80fcd-4c28-4b46-adbb-47b0bc2e6501 button');\n",
              "      quickchartButtonEl.style.display =\n",
              "        google.colab.kernel.accessAllowed ? 'block' : 'none';\n",
              "    })();\n",
              "  </script>\n",
              "</div>\n",
              "\n",
              "    </div>\n",
              "  </div>\n"
            ],
            "application/vnd.google.colaboratory.intrinsic+json": {
              "type": "dataframe",
              "variable_name": "df_processed"
            }
          },
          "metadata": {},
          "execution_count": 759
        }
      ]
    },
    {
      "cell_type": "markdown",
      "metadata": {
        "id": "aQOHvG3MWkfU"
      },
      "source": [
        "# Spliting in to independent and target variable"
      ]
    },
    {
      "cell_type": "code",
      "execution_count": null,
      "metadata": {
        "id": "HOPddvo4WofK"
      },
      "outputs": [],
      "source": [
        "x=df_encoded.drop('salary_in_usd',axis=1)\n",
        "y=df_encoded['salary_in_usd']"
      ]
    },
    {
      "cell_type": "code",
      "execution_count": null,
      "metadata": {
        "id": "IEbsG10MWsVC",
        "colab": {
          "base_uri": "https://localhost:8080/",
          "height": 210
        },
        "outputId": "5347beec-d878-4af2-c8d7-080281a02b67"
      },
      "outputs": [
        {
          "output_type": "execute_result",
          "data": {
            "text/plain": [
              "      job_category_Analysis  job_category_Data Science  \\\n",
              "3554                    1.0                        0.0   \n",
              "1455                    0.0                        1.0   \n",
              "1269                    1.0                        0.0   \n",
              "\n",
              "      job_category_Engineering  job_category_ML/AI  employee_residence_CN  \\\n",
              "3554                       0.0                 0.0                    0.0   \n",
              "1455                       0.0                 0.0                    0.0   \n",
              "1269                       0.0                 0.0                    0.0   \n",
              "\n",
              "      employee_residence_DE  employee_residence_IN  employee_residence_JP  \\\n",
              "3554                    0.0                    1.0                    0.0   \n",
              "1455                    0.0                    0.0                    0.0   \n",
              "1269                    0.0                    1.0                    0.0   \n",
              "\n",
              "      employee_residence_MX  employee_residence_UK  ...  company_location_CN  \\\n",
              "3554                    0.0                    0.0  ...                  0.0   \n",
              "1455                    0.0                    1.0  ...                  0.0   \n",
              "1269                    0.0                    0.0  ...                  0.0   \n",
              "\n",
              "      company_location_DE  company_location_IN  company_location_JP  \\\n",
              "3554                  0.0                  0.0                  0.0   \n",
              "1455                  0.0                  0.0                  0.0   \n",
              "1269                  0.0                  0.0                  0.0   \n",
              "\n",
              "      company_location_MX  company_location_UK  company_location_US  \\\n",
              "3554                  0.0                  1.0                  0.0   \n",
              "1455                  0.0                  1.0                  0.0   \n",
              "1269                  0.0                  0.0                  1.0   \n",
              "\n",
              "      company_size_L  company_size_M  company_size_S  \n",
              "3554             1.0             0.0             0.0  \n",
              "1455             0.0             1.0             0.0  \n",
              "1269             0.0             1.0             0.0  \n",
              "\n",
              "[3 rows x 32 columns]"
            ],
            "text/html": [
              "\n",
              "  <div id=\"df-60bdbdc1-03b6-4a5f-aa00-e09a3057f1f4\" class=\"colab-df-container\">\n",
              "    <div>\n",
              "<style scoped>\n",
              "    .dataframe tbody tr th:only-of-type {\n",
              "        vertical-align: middle;\n",
              "    }\n",
              "\n",
              "    .dataframe tbody tr th {\n",
              "        vertical-align: top;\n",
              "    }\n",
              "\n",
              "    .dataframe thead th {\n",
              "        text-align: right;\n",
              "    }\n",
              "</style>\n",
              "<table border=\"1\" class=\"dataframe\">\n",
              "  <thead>\n",
              "    <tr style=\"text-align: right;\">\n",
              "      <th></th>\n",
              "      <th>job_category_Analysis</th>\n",
              "      <th>job_category_Data Science</th>\n",
              "      <th>job_category_Engineering</th>\n",
              "      <th>job_category_ML/AI</th>\n",
              "      <th>employee_residence_CN</th>\n",
              "      <th>employee_residence_DE</th>\n",
              "      <th>employee_residence_IN</th>\n",
              "      <th>employee_residence_JP</th>\n",
              "      <th>employee_residence_MX</th>\n",
              "      <th>employee_residence_UK</th>\n",
              "      <th>...</th>\n",
              "      <th>company_location_CN</th>\n",
              "      <th>company_location_DE</th>\n",
              "      <th>company_location_IN</th>\n",
              "      <th>company_location_JP</th>\n",
              "      <th>company_location_MX</th>\n",
              "      <th>company_location_UK</th>\n",
              "      <th>company_location_US</th>\n",
              "      <th>company_size_L</th>\n",
              "      <th>company_size_M</th>\n",
              "      <th>company_size_S</th>\n",
              "    </tr>\n",
              "  </thead>\n",
              "  <tbody>\n",
              "    <tr>\n",
              "      <th>3554</th>\n",
              "      <td>1.0</td>\n",
              "      <td>0.0</td>\n",
              "      <td>0.0</td>\n",
              "      <td>0.0</td>\n",
              "      <td>0.0</td>\n",
              "      <td>0.0</td>\n",
              "      <td>1.0</td>\n",
              "      <td>0.0</td>\n",
              "      <td>0.0</td>\n",
              "      <td>0.0</td>\n",
              "      <td>...</td>\n",
              "      <td>0.0</td>\n",
              "      <td>0.0</td>\n",
              "      <td>0.0</td>\n",
              "      <td>0.0</td>\n",
              "      <td>0.0</td>\n",
              "      <td>1.0</td>\n",
              "      <td>0.0</td>\n",
              "      <td>1.0</td>\n",
              "      <td>0.0</td>\n",
              "      <td>0.0</td>\n",
              "    </tr>\n",
              "    <tr>\n",
              "      <th>1455</th>\n",
              "      <td>0.0</td>\n",
              "      <td>1.0</td>\n",
              "      <td>0.0</td>\n",
              "      <td>0.0</td>\n",
              "      <td>0.0</td>\n",
              "      <td>0.0</td>\n",
              "      <td>0.0</td>\n",
              "      <td>0.0</td>\n",
              "      <td>0.0</td>\n",
              "      <td>1.0</td>\n",
              "      <td>...</td>\n",
              "      <td>0.0</td>\n",
              "      <td>0.0</td>\n",
              "      <td>0.0</td>\n",
              "      <td>0.0</td>\n",
              "      <td>0.0</td>\n",
              "      <td>1.0</td>\n",
              "      <td>0.0</td>\n",
              "      <td>0.0</td>\n",
              "      <td>1.0</td>\n",
              "      <td>0.0</td>\n",
              "    </tr>\n",
              "    <tr>\n",
              "      <th>1269</th>\n",
              "      <td>1.0</td>\n",
              "      <td>0.0</td>\n",
              "      <td>0.0</td>\n",
              "      <td>0.0</td>\n",
              "      <td>0.0</td>\n",
              "      <td>0.0</td>\n",
              "      <td>1.0</td>\n",
              "      <td>0.0</td>\n",
              "      <td>0.0</td>\n",
              "      <td>0.0</td>\n",
              "      <td>...</td>\n",
              "      <td>0.0</td>\n",
              "      <td>0.0</td>\n",
              "      <td>0.0</td>\n",
              "      <td>0.0</td>\n",
              "      <td>0.0</td>\n",
              "      <td>0.0</td>\n",
              "      <td>1.0</td>\n",
              "      <td>0.0</td>\n",
              "      <td>1.0</td>\n",
              "      <td>0.0</td>\n",
              "    </tr>\n",
              "  </tbody>\n",
              "</table>\n",
              "<p>3 rows × 32 columns</p>\n",
              "</div>\n",
              "    <div class=\"colab-df-buttons\">\n",
              "\n",
              "  <div class=\"colab-df-container\">\n",
              "    <button class=\"colab-df-convert\" onclick=\"convertToInteractive('df-60bdbdc1-03b6-4a5f-aa00-e09a3057f1f4')\"\n",
              "            title=\"Convert this dataframe to an interactive table.\"\n",
              "            style=\"display:none;\">\n",
              "\n",
              "  <svg xmlns=\"http://www.w3.org/2000/svg\" height=\"24px\" viewBox=\"0 -960 960 960\">\n",
              "    <path d=\"M120-120v-720h720v720H120Zm60-500h600v-160H180v160Zm220 220h160v-160H400v160Zm0 220h160v-160H400v160ZM180-400h160v-160H180v160Zm440 0h160v-160H620v160ZM180-180h160v-160H180v160Zm440 0h160v-160H620v160Z\"/>\n",
              "  </svg>\n",
              "    </button>\n",
              "\n",
              "  <style>\n",
              "    .colab-df-container {\n",
              "      display:flex;\n",
              "      gap: 12px;\n",
              "    }\n",
              "\n",
              "    .colab-df-convert {\n",
              "      background-color: #E8F0FE;\n",
              "      border: none;\n",
              "      border-radius: 50%;\n",
              "      cursor: pointer;\n",
              "      display: none;\n",
              "      fill: #1967D2;\n",
              "      height: 32px;\n",
              "      padding: 0 0 0 0;\n",
              "      width: 32px;\n",
              "    }\n",
              "\n",
              "    .colab-df-convert:hover {\n",
              "      background-color: #E2EBFA;\n",
              "      box-shadow: 0px 1px 2px rgba(60, 64, 67, 0.3), 0px 1px 3px 1px rgba(60, 64, 67, 0.15);\n",
              "      fill: #174EA6;\n",
              "    }\n",
              "\n",
              "    .colab-df-buttons div {\n",
              "      margin-bottom: 4px;\n",
              "    }\n",
              "\n",
              "    [theme=dark] .colab-df-convert {\n",
              "      background-color: #3B4455;\n",
              "      fill: #D2E3FC;\n",
              "    }\n",
              "\n",
              "    [theme=dark] .colab-df-convert:hover {\n",
              "      background-color: #434B5C;\n",
              "      box-shadow: 0px 1px 3px 1px rgba(0, 0, 0, 0.15);\n",
              "      filter: drop-shadow(0px 1px 2px rgba(0, 0, 0, 0.3));\n",
              "      fill: #FFFFFF;\n",
              "    }\n",
              "  </style>\n",
              "\n",
              "    <script>\n",
              "      const buttonEl =\n",
              "        document.querySelector('#df-60bdbdc1-03b6-4a5f-aa00-e09a3057f1f4 button.colab-df-convert');\n",
              "      buttonEl.style.display =\n",
              "        google.colab.kernel.accessAllowed ? 'block' : 'none';\n",
              "\n",
              "      async function convertToInteractive(key) {\n",
              "        const element = document.querySelector('#df-60bdbdc1-03b6-4a5f-aa00-e09a3057f1f4');\n",
              "        const dataTable =\n",
              "          await google.colab.kernel.invokeFunction('convertToInteractive',\n",
              "                                                    [key], {});\n",
              "        if (!dataTable) return;\n",
              "\n",
              "        const docLinkHtml = 'Like what you see? Visit the ' +\n",
              "          '<a target=\"_blank\" href=https://colab.research.google.com/notebooks/data_table.ipynb>data table notebook</a>'\n",
              "          + ' to learn more about interactive tables.';\n",
              "        element.innerHTML = '';\n",
              "        dataTable['output_type'] = 'display_data';\n",
              "        await google.colab.output.renderOutput(dataTable, element);\n",
              "        const docLink = document.createElement('div');\n",
              "        docLink.innerHTML = docLinkHtml;\n",
              "        element.appendChild(docLink);\n",
              "      }\n",
              "    </script>\n",
              "  </div>\n",
              "\n",
              "\n",
              "<div id=\"df-c69adf8a-4c4f-43a6-99c1-adf962de578c\">\n",
              "  <button class=\"colab-df-quickchart\" onclick=\"quickchart('df-c69adf8a-4c4f-43a6-99c1-adf962de578c')\"\n",
              "            title=\"Suggest charts\"\n",
              "            style=\"display:none;\">\n",
              "\n",
              "<svg xmlns=\"http://www.w3.org/2000/svg\" height=\"24px\"viewBox=\"0 0 24 24\"\n",
              "     width=\"24px\">\n",
              "    <g>\n",
              "        <path d=\"M19 3H5c-1.1 0-2 .9-2 2v14c0 1.1.9 2 2 2h14c1.1 0 2-.9 2-2V5c0-1.1-.9-2-2-2zM9 17H7v-7h2v7zm4 0h-2V7h2v10zm4 0h-2v-4h2v4z\"/>\n",
              "    </g>\n",
              "</svg>\n",
              "  </button>\n",
              "\n",
              "<style>\n",
              "  .colab-df-quickchart {\n",
              "      --bg-color: #E8F0FE;\n",
              "      --fill-color: #1967D2;\n",
              "      --hover-bg-color: #E2EBFA;\n",
              "      --hover-fill-color: #174EA6;\n",
              "      --disabled-fill-color: #AAA;\n",
              "      --disabled-bg-color: #DDD;\n",
              "  }\n",
              "\n",
              "  [theme=dark] .colab-df-quickchart {\n",
              "      --bg-color: #3B4455;\n",
              "      --fill-color: #D2E3FC;\n",
              "      --hover-bg-color: #434B5C;\n",
              "      --hover-fill-color: #FFFFFF;\n",
              "      --disabled-bg-color: #3B4455;\n",
              "      --disabled-fill-color: #666;\n",
              "  }\n",
              "\n",
              "  .colab-df-quickchart {\n",
              "    background-color: var(--bg-color);\n",
              "    border: none;\n",
              "    border-radius: 50%;\n",
              "    cursor: pointer;\n",
              "    display: none;\n",
              "    fill: var(--fill-color);\n",
              "    height: 32px;\n",
              "    padding: 0;\n",
              "    width: 32px;\n",
              "  }\n",
              "\n",
              "  .colab-df-quickchart:hover {\n",
              "    background-color: var(--hover-bg-color);\n",
              "    box-shadow: 0 1px 2px rgba(60, 64, 67, 0.3), 0 1px 3px 1px rgba(60, 64, 67, 0.15);\n",
              "    fill: var(--button-hover-fill-color);\n",
              "  }\n",
              "\n",
              "  .colab-df-quickchart-complete:disabled,\n",
              "  .colab-df-quickchart-complete:disabled:hover {\n",
              "    background-color: var(--disabled-bg-color);\n",
              "    fill: var(--disabled-fill-color);\n",
              "    box-shadow: none;\n",
              "  }\n",
              "\n",
              "  .colab-df-spinner {\n",
              "    border: 2px solid var(--fill-color);\n",
              "    border-color: transparent;\n",
              "    border-bottom-color: var(--fill-color);\n",
              "    animation:\n",
              "      spin 1s steps(1) infinite;\n",
              "  }\n",
              "\n",
              "  @keyframes spin {\n",
              "    0% {\n",
              "      border-color: transparent;\n",
              "      border-bottom-color: var(--fill-color);\n",
              "      border-left-color: var(--fill-color);\n",
              "    }\n",
              "    20% {\n",
              "      border-color: transparent;\n",
              "      border-left-color: var(--fill-color);\n",
              "      border-top-color: var(--fill-color);\n",
              "    }\n",
              "    30% {\n",
              "      border-color: transparent;\n",
              "      border-left-color: var(--fill-color);\n",
              "      border-top-color: var(--fill-color);\n",
              "      border-right-color: var(--fill-color);\n",
              "    }\n",
              "    40% {\n",
              "      border-color: transparent;\n",
              "      border-right-color: var(--fill-color);\n",
              "      border-top-color: var(--fill-color);\n",
              "    }\n",
              "    60% {\n",
              "      border-color: transparent;\n",
              "      border-right-color: var(--fill-color);\n",
              "    }\n",
              "    80% {\n",
              "      border-color: transparent;\n",
              "      border-right-color: var(--fill-color);\n",
              "      border-bottom-color: var(--fill-color);\n",
              "    }\n",
              "    90% {\n",
              "      border-color: transparent;\n",
              "      border-bottom-color: var(--fill-color);\n",
              "    }\n",
              "  }\n",
              "</style>\n",
              "\n",
              "  <script>\n",
              "    async function quickchart(key) {\n",
              "      const quickchartButtonEl =\n",
              "        document.querySelector('#' + key + ' button');\n",
              "      quickchartButtonEl.disabled = true;  // To prevent multiple clicks.\n",
              "      quickchartButtonEl.classList.add('colab-df-spinner');\n",
              "      try {\n",
              "        const charts = await google.colab.kernel.invokeFunction(\n",
              "            'suggestCharts', [key], {});\n",
              "      } catch (error) {\n",
              "        console.error('Error during call to suggestCharts:', error);\n",
              "      }\n",
              "      quickchartButtonEl.classList.remove('colab-df-spinner');\n",
              "      quickchartButtonEl.classList.add('colab-df-quickchart-complete');\n",
              "    }\n",
              "    (() => {\n",
              "      let quickchartButtonEl =\n",
              "        document.querySelector('#df-c69adf8a-4c4f-43a6-99c1-adf962de578c button');\n",
              "      quickchartButtonEl.style.display =\n",
              "        google.colab.kernel.accessAllowed ? 'block' : 'none';\n",
              "    })();\n",
              "  </script>\n",
              "</div>\n",
              "\n",
              "    </div>\n",
              "  </div>\n"
            ],
            "application/vnd.google.colaboratory.intrinsic+json": {
              "type": "dataframe"
            }
          },
          "metadata": {},
          "execution_count": 761
        }
      ],
      "source": [
        "x.sample(3)"
      ]
    },
    {
      "cell_type": "code",
      "execution_count": null,
      "metadata": {
        "id": "iO8fVw8JWvbo",
        "colab": {
          "base_uri": "https://localhost:8080/",
          "height": 178
        },
        "outputId": "7f3f7ea8-b669-4ef3-89ae-f0b8a7166c19"
      },
      "outputs": [
        {
          "output_type": "execute_result",
          "data": {
            "text/plain": [
              "1735    0.170631\n",
              "2848    0.990445\n",
              "4218    0.146591\n",
              "Name: salary_in_usd, dtype: float64"
            ],
            "text/html": [
              "<div>\n",
              "<style scoped>\n",
              "    .dataframe tbody tr th:only-of-type {\n",
              "        vertical-align: middle;\n",
              "    }\n",
              "\n",
              "    .dataframe tbody tr th {\n",
              "        vertical-align: top;\n",
              "    }\n",
              "\n",
              "    .dataframe thead th {\n",
              "        text-align: right;\n",
              "    }\n",
              "</style>\n",
              "<table border=\"1\" class=\"dataframe\">\n",
              "  <thead>\n",
              "    <tr style=\"text-align: right;\">\n",
              "      <th></th>\n",
              "      <th>salary_in_usd</th>\n",
              "    </tr>\n",
              "  </thead>\n",
              "  <tbody>\n",
              "    <tr>\n",
              "      <th>1735</th>\n",
              "      <td>0.170631</td>\n",
              "    </tr>\n",
              "    <tr>\n",
              "      <th>2848</th>\n",
              "      <td>0.990445</td>\n",
              "    </tr>\n",
              "    <tr>\n",
              "      <th>4218</th>\n",
              "      <td>0.146591</td>\n",
              "    </tr>\n",
              "  </tbody>\n",
              "</table>\n",
              "</div><br><label><b>dtype:</b> float64</label>"
            ]
          },
          "metadata": {},
          "execution_count": 762
        }
      ],
      "source": [
        "y.sample(3)"
      ]
    },
    {
      "cell_type": "markdown",
      "metadata": {
        "id": "rTme2nB3X9vL"
      },
      "source": [
        "#Split the data into training and testing"
      ]
    },
    {
      "cell_type": "code",
      "execution_count": null,
      "metadata": {
        "id": "aciG7o0oYA5r"
      },
      "outputs": [],
      "source": [
        "from sklearn.model_selection import train_test_split\n",
        "x_train,x_test,y_train,y_test=train_test_split(x,y,test_size=0.2,random_state=42)"
      ]
    },
    {
      "cell_type": "code",
      "execution_count": null,
      "metadata": {
        "id": "I7TnEWbrYHlr",
        "colab": {
          "base_uri": "https://localhost:8080/"
        },
        "outputId": "578b2c90-4bb2-445c-de74-4b2196bf6197"
      },
      "outputs": [
        {
          "output_type": "execute_result",
          "data": {
            "text/plain": [
              "(4000, 32)"
            ]
          },
          "metadata": {},
          "execution_count": 764
        }
      ],
      "source": [
        "x_train.shape"
      ]
    },
    {
      "cell_type": "code",
      "execution_count": null,
      "metadata": {
        "id": "brLhyphNYKkQ",
        "colab": {
          "base_uri": "https://localhost:8080/"
        },
        "outputId": "7be72d58-80e4-4831-ee86-23ba6e03ebb5"
      },
      "outputs": [
        {
          "output_type": "execute_result",
          "data": {
            "text/plain": [
              "(1000, 32)"
            ]
          },
          "metadata": {},
          "execution_count": 765
        }
      ],
      "source": [
        "x_test.shape"
      ]
    },
    {
      "cell_type": "code",
      "source": [
        "df_encoded.shape"
      ],
      "metadata": {
        "colab": {
          "base_uri": "https://localhost:8080/"
        },
        "id": "QHEDk2mrJFAJ",
        "outputId": "7d7aea7b-c5dc-41a5-da0b-44864f52e319"
      },
      "execution_count": null,
      "outputs": [
        {
          "output_type": "execute_result",
          "data": {
            "text/plain": [
              "(5000, 33)"
            ]
          },
          "metadata": {},
          "execution_count": 766
        }
      ]
    },
    {
      "cell_type": "code",
      "source": [
        "df_encoded.info()"
      ],
      "metadata": {
        "colab": {
          "base_uri": "https://localhost:8080/"
        },
        "id": "N_huUseLJemj",
        "outputId": "4a63440d-a12f-4102-ef1b-0e7a6be9b60c"
      },
      "execution_count": null,
      "outputs": [
        {
          "output_type": "stream",
          "name": "stdout",
          "text": [
            "<class 'pandas.core.frame.DataFrame'>\n",
            "RangeIndex: 5000 entries, 0 to 4999\n",
            "Data columns (total 33 columns):\n",
            " #   Column                     Non-Null Count  Dtype  \n",
            "---  ------                     --------------  -----  \n",
            " 0   salary_in_usd              5000 non-null   float64\n",
            " 1   job_category_Analysis      5000 non-null   float64\n",
            " 2   job_category_Data Science  5000 non-null   float64\n",
            " 3   job_category_Engineering   5000 non-null   float64\n",
            " 4   job_category_ML/AI         5000 non-null   float64\n",
            " 5   employee_residence_CN      5000 non-null   float64\n",
            " 6   employee_residence_DE      5000 non-null   float64\n",
            " 7   employee_residence_IN      5000 non-null   float64\n",
            " 8   employee_residence_JP      5000 non-null   float64\n",
            " 9   employee_residence_MX      5000 non-null   float64\n",
            " 10  employee_residence_UK      5000 non-null   float64\n",
            " 11  employee_residence_US      5000 non-null   float64\n",
            " 12  experience_level_EN        5000 non-null   float64\n",
            " 13  experience_level_EX        5000 non-null   float64\n",
            " 14  experience_level_MI        5000 non-null   float64\n",
            " 15  experience_level_SE        5000 non-null   float64\n",
            " 16  employment_type_CT         5000 non-null   float64\n",
            " 17  employment_type_FL         5000 non-null   float64\n",
            " 18  employment_type_FT         5000 non-null   float64\n",
            " 19  employment_type_PT         5000 non-null   float64\n",
            " 20  work_setting_Hybrid        5000 non-null   float64\n",
            " 21  work_setting_In-person     5000 non-null   float64\n",
            " 22  work_setting_Remote        5000 non-null   float64\n",
            " 23  company_location_CN        5000 non-null   float64\n",
            " 24  company_location_DE        5000 non-null   float64\n",
            " 25  company_location_IN        5000 non-null   float64\n",
            " 26  company_location_JP        5000 non-null   float64\n",
            " 27  company_location_MX        5000 non-null   float64\n",
            " 28  company_location_UK        5000 non-null   float64\n",
            " 29  company_location_US        5000 non-null   float64\n",
            " 30  company_size_L             5000 non-null   float64\n",
            " 31  company_size_M             5000 non-null   float64\n",
            " 32  company_size_S             5000 non-null   float64\n",
            "dtypes: float64(33)\n",
            "memory usage: 1.3 MB\n"
          ]
        }
      ]
    },
    {
      "cell_type": "code",
      "source": [
        "#df_encoded.drop(['salary_ratio'],axis=1,inplace=True)\n",
        "\n",
        "#df_encoded.info()"
      ],
      "metadata": {
        "id": "yQncsqZhJqyl"
      },
      "execution_count": null,
      "outputs": []
    },
    {
      "cell_type": "code",
      "execution_count": null,
      "metadata": {
        "id": "IzNQtVQS86qM"
      },
      "outputs": [],
      "source": [
        "df_encoded.to_csv('df_final_ml_5.csv', index = False)"
      ]
    },
    {
      "cell_type": "code",
      "execution_count": null,
      "metadata": {
        "id": "plDrI3yzp2LC"
      },
      "outputs": [],
      "source": [
        "import pickle"
      ]
    },
    {
      "cell_type": "code",
      "execution_count": null,
      "metadata": {
        "id": "VirN-9uIpyZF"
      },
      "outputs": [],
      "source": [
        "pickle.dump(df,open('df_5.pkl','wb'))\n",
        "pickle.dump(scaler,open('scaler_5.pkl','wb'))\n",
        "pickle.dump(encoder,open('encoder_5.pkl','wb'))"
      ]
    }
  ],
  "metadata": {
    "colab": {
      "provenance": [],
      "include_colab_link": true
    },
    "kernelspec": {
      "display_name": "Python 3",
      "name": "python3"
    },
    "language_info": {
      "name": "python"
    }
  },
  "nbformat": 4,
  "nbformat_minor": 0
}