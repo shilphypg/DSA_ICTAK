{
 "cells": [
  {
   "cell_type": "code",
   "execution_count": 3,
   "id": "5fafd047-d802-46ca-8407-69a93357dc64",
   "metadata": {},
   "outputs": [
    {
     "name": "stdout",
     "output_type": "stream",
     "text": [
      "Hello Numpy\n"
     ]
    }
   ],
   "source": [
    "print('Hello Numpy')"
   ]
  },
  {
   "cell_type": "code",
   "execution_count": 4,
   "id": "6f18ddfc-b545-4ded-9695-24806844eca2",
   "metadata": {},
   "outputs": [
    {
     "data": {
      "text/plain": [
       "42"
      ]
     },
     "execution_count": 4,
     "metadata": {},
     "output_type": "execute_result"
    }
   ],
   "source": [
    "2+8*5"
   ]
  },
  {
   "cell_type": "markdown",
   "id": "ac690281-12fb-4d52-b7fc-bb65bc1784cc",
   "metadata": {},
   "source": [
    "###This is a basic text  markdown"
   ]
  },
  {
   "cell_type": "code",
   "execution_count": 5,
   "id": "e528c817-a3d2-4322-9437-b6efcfefb5f9",
   "metadata": {},
   "outputs": [],
   "source": [
    "import numpy as np"
   ]
  },
  {
   "cell_type": "code",
   "execution_count": 8,
   "id": "c0d66630-26f2-41b9-b8f2-fa6f7af9542f",
   "metadata": {},
   "outputs": [],
   "source": [
    "integer=np.array([10,20,30,40,50])"
   ]
  },
  {
   "cell_type": "code",
   "execution_count": 9,
   "id": "19c08c02-3f76-41e8-aa99-4c81c2dc5cde",
   "metadata": {},
   "outputs": [
    {
     "name": "stdout",
     "output_type": "stream",
     "text": [
      "[10 20 30 40 50]\n"
     ]
    }
   ],
   "source": [
    "print(integer)"
   ]
  },
  {
   "cell_type": "code",
   "execution_count": 10,
   "id": "e303c7d4-0fe5-4df5-a404-d4503bf061d4",
   "metadata": {},
   "outputs": [
    {
     "data": {
      "text/plain": [
       "30"
      ]
     },
     "execution_count": 10,
     "metadata": {},
     "output_type": "execute_result"
    }
   ],
   "source": [
    "integer[2]"
   ]
  },
  {
   "cell_type": "code",
   "execution_count": 12,
   "id": "e3006b75-62bf-4967-960c-bc1bbba8205d",
   "metadata": {},
   "outputs": [
    {
     "data": {
      "text/plain": [
       "array([40, 50])"
      ]
     },
     "execution_count": 12,
     "metadata": {},
     "output_type": "execute_result"
    }
   ],
   "source": [
    "integer[3:]"
   ]
  },
  {
   "cell_type": "code",
   "execution_count": 13,
   "id": "a46e6996-4308-47b0-b189-e516c97d4eec",
   "metadata": {},
   "outputs": [],
   "source": [
    "integer[0]=21.5"
   ]
  },
  {
   "cell_type": "code",
   "execution_count": 14,
   "id": "f24effea-6d12-4380-99ba-714d01dc2fbd",
   "metadata": {},
   "outputs": [
    {
     "data": {
      "text/plain": [
       "array([21, 20, 30, 40, 50])"
      ]
     },
     "execution_count": 14,
     "metadata": {},
     "output_type": "execute_result"
    }
   ],
   "source": [
    "integer"
   ]
  },
  {
   "cell_type": "code",
   "execution_count": 15,
   "id": "7456ee09-4936-4803-bf9f-2073b799c92f",
   "metadata": {},
   "outputs": [
    {
     "data": {
      "text/plain": [
       "dtype('int32')"
      ]
     },
     "execution_count": 15,
     "metadata": {},
     "output_type": "execute_result"
    }
   ],
   "source": [
    "integer.dtype"
   ]
  },
  {
   "cell_type": "code",
   "execution_count": 17,
   "id": "e49c9fe1-0bac-4f1b-be38-4265e0916a1f",
   "metadata": {},
   "outputs": [
    {
     "data": {
      "text/plain": [
       "array([21, 20, 30, 40, 50], dtype=int8)"
      ]
     },
     "execution_count": 17,
     "metadata": {},
     "output_type": "execute_result"
    }
   ],
   "source": [
    "smallerinteger=np.array(integer,dtype=np.int8)\n",
    "smallerinteger"
   ]
  },
  {
   "cell_type": "code",
   "execution_count": 22,
   "id": "78ae0124-b740-41a4-8ad4-933a415225bc",
   "metadata": {},
   "outputs": [
    {
     "data": {
      "text/plain": [
       "20"
      ]
     },
     "execution_count": 22,
     "metadata": {},
     "output_type": "execute_result"
    }
   ],
   "source": [
    "integer.nbytes"
   ]
  },
  {
   "cell_type": "code",
   "execution_count": 21,
   "id": "25d14244-3698-4183-a69d-345f03994fef",
   "metadata": {},
   "outputs": [
    {
     "data": {
      "text/plain": [
       "5"
      ]
     },
     "execution_count": 21,
     "metadata": {},
     "output_type": "execute_result"
    }
   ],
   "source": [
    "smallerinteger.nbytes"
   ]
  },
  {
   "cell_type": "code",
   "execution_count": 29,
   "id": "4f514afb-3782-4d3f-b536-bdbf016ad9f3",
   "metadata": {},
   "outputs": [
    {
     "name": "stderr",
     "output_type": "stream",
     "text": [
      "C:\\Users\\91808\\AppData\\Local\\Temp\\ipykernel_17020\\2481175571.py:1: DeprecationWarning: NumPy will stop allowing conversion of out-of-bound Python integers to integer arrays.  The conversion of 128 to int8 will fail in the future.\n",
      "For the old behavior, usually:\n",
      "    np.array(value).astype(dtype)\n",
      "will give the desired result (the cast overflows).\n",
      "  overflow=np.array([127,128,129],dtype=np.int8)\n",
      "C:\\Users\\91808\\AppData\\Local\\Temp\\ipykernel_17020\\2481175571.py:1: DeprecationWarning: NumPy will stop allowing conversion of out-of-bound Python integers to integer arrays.  The conversion of 129 to int8 will fail in the future.\n",
      "For the old behavior, usually:\n",
      "    np.array(value).astype(dtype)\n",
      "will give the desired result (the cast overflows).\n",
      "  overflow=np.array([127,128,129],dtype=np.int8)\n"
     ]
    },
    {
     "data": {
      "text/plain": [
       "array([ 127, -128, -127], dtype=int8)"
      ]
     },
     "execution_count": 29,
     "metadata": {},
     "output_type": "execute_result"
    }
   ],
   "source": [
    "overflow=np.array([127,128,129],dtype=np.int8)\n",
    "overflow"
   ]
  },
  {
   "cell_type": "code",
   "execution_count": 31,
   "id": "cd65a3f4-76e4-488c-84d4-5a3bb61243f8",
   "metadata": {},
   "outputs": [
    {
     "name": "stdout",
     "output_type": "stream",
     "text": [
      "[1 2 2 3 3 4 5 1 8 3]\n"
     ]
    }
   ],
   "source": [
    "floata=np.array([1,2,2,3,3,4,5,1,8,3])\n",
    "print(floata)"
   ]
  },
  {
   "cell_type": "code",
   "execution_count": 32,
   "id": "234c4ea0-e296-4282-a7ba-cedc33f8d458",
   "metadata": {},
   "outputs": [
    {
     "data": {
      "text/plain": [
       "dtype('int32')"
      ]
     },
     "execution_count": 32,
     "metadata": {},
     "output_type": "execute_result"
    }
   ],
   "source": [
    "floata.dtype"
   ]
  },
  {
   "cell_type": "code",
   "execution_count": null,
   "id": "a8928302-06f6-45d8-bbf3-e78bd47ea8d2",
   "metadata": {},
   "outputs": [],
   "source": [
    "#Multidimensional array"
   ]
  },
  {
   "cell_type": "code",
   "execution_count": 33,
   "id": "4d808bda-c852-43b5-815a-d5e43c0af8aa",
   "metadata": {},
   "outputs": [],
   "source": [
    "import numpy as np"
   ]
  },
  {
   "cell_type": "code",
   "execution_count": 35,
   "id": "02667595-b079-47e2-9f77-20ca2a8a6ce2",
   "metadata": {},
   "outputs": [
    {
     "data": {
      "text/plain": [
       "array([[ 1,  2,  3,  4,  5],\n",
       "       [ 6,  7,  8,  9, 10]])"
      ]
     },
     "execution_count": 35,
     "metadata": {},
     "output_type": "execute_result"
    }
   ],
   "source": [
    "numa=np.array([[1,2,3,4,5],[6,7,8,9,10]]) #2Dimensional array\n",
    "numa"
   ]
  },
  {
   "cell_type": "code",
   "execution_count": 39,
   "id": "c0e2ea38-b681-42bf-abbe-3020f7b96585",
   "metadata": {},
   "outputs": [
    {
     "data": {
      "text/plain": [
       "8"
      ]
     },
     "execution_count": 39,
     "metadata": {},
     "output_type": "execute_result"
    }
   ],
   "source": [
    "numa[1,2]#to access a particular element"
   ]
  },
  {
   "cell_type": "code",
   "execution_count": 40,
   "id": "a5a4756b-6a58-4125-86c5-691d2719309e",
   "metadata": {},
   "outputs": [
    {
     "data": {
      "text/plain": [
       "2"
      ]
     },
     "execution_count": 40,
     "metadata": {},
     "output_type": "execute_result"
    }
   ],
   "source": [
    "numa.ndim"
   ]
  },
  {
   "cell_type": "code",
   "execution_count": 41,
   "id": "4bd03987-9416-4b29-a161-6f47838e3893",
   "metadata": {},
   "outputs": [
    {
     "data": {
      "text/plain": [
       "array([[ 1,  2,  3,  4,  5],\n",
       "       [ 6,  7,  8,  9, 10],\n",
       "       [11, 12, 13, 14, 15]])"
      ]
     },
     "execution_count": 41,
     "metadata": {},
     "output_type": "execute_result"
    }
   ],
   "source": [
    "numb=np.array([[1,2,3,4,5],[6,7,8,9,10],[11,12,13,14,15]]) #3Dimensional array\n",
    "numb"
   ]
  },
  {
   "cell_type": "code",
   "execution_count": 42,
   "id": "2ad230f8-6fa8-4929-9b75-acf0e3870bb6",
   "metadata": {},
   "outputs": [
    {
     "data": {
      "text/plain": [
       "array([[[ 1,  2,  3,  4,  5],\n",
       "        [ 6,  7,  8,  9, 10]],\n",
       "\n",
       "       [[11, 12, 13, 14, 15],\n",
       "        [16, 17, 18, 19, 20]]])"
      ]
     },
     "execution_count": 42,
     "metadata": {},
     "output_type": "execute_result"
    }
   ],
   "source": [
    "numc=np.array([[[1,2,3,4,5],[6,7,8,9,10]],[[11,12,13,14,15],[16,17,18,19,20]]]) #2-2Dimensional array\n",
    "numc"
   ]
  },
  {
   "cell_type": "code",
   "execution_count": 45,
   "id": "fc5a31d5-fbe3-48fa-afa6-b90444f94315",
   "metadata": {},
   "outputs": [
    {
     "data": {
      "text/plain": [
       "13"
      ]
     },
     "execution_count": 45,
     "metadata": {},
     "output_type": "execute_result"
    }
   ],
   "source": [
    "numc[1,0,2]"
   ]
  },
  {
   "cell_type": "code",
   "execution_count": 46,
   "id": "b77dd825-183d-4cad-be1b-d8d671b12941",
   "metadata": {},
   "outputs": [
    {
     "data": {
      "text/plain": [
       "10"
      ]
     },
     "execution_count": 46,
     "metadata": {},
     "output_type": "execute_result"
    }
   ],
   "source": [
    "numc[0,1,4]"
   ]
  },
  {
   "cell_type": "code",
   "execution_count": 47,
   "id": "34359f11-8776-4f65-a995-23817fc96f14",
   "metadata": {},
   "outputs": [],
   "source": [
    "#creating arrays from Lists and other python structures\n",
    "import numpy as np"
   ]
  },
  {
   "cell_type": "code",
   "execution_count": 48,
   "id": "5b6495d9-bc7a-42ef-b7bb-47141598c05b",
   "metadata": {},
   "outputs": [],
   "source": [
    "first_list=[1,2,3,4,5,6,7,8,9,10]"
   ]
  },
  {
   "cell_type": "code",
   "execution_count": 49,
   "id": "60d5947e-6f38-48d2-b1cb-529b5d8d133b",
   "metadata": {},
   "outputs": [
    {
     "data": {
      "text/plain": [
       "[1, 2, 3, 4, 5, 6, 7, 8, 9, 10]"
      ]
     },
     "execution_count": 49,
     "metadata": {},
     "output_type": "execute_result"
    }
   ],
   "source": [
    "first_list"
   ]
  },
  {
   "cell_type": "code",
   "execution_count": 51,
   "id": "43467199-fcc3-4e18-8763-28cbffa38cbc",
   "metadata": {},
   "outputs": [],
   "source": [
    "first_array=np.array(first_list)"
   ]
  },
  {
   "cell_type": "code",
   "execution_count": 52,
   "id": "4690b873-3a9c-49ee-80c0-e62e38e16f6b",
   "metadata": {},
   "outputs": [
    {
     "data": {
      "text/plain": [
       "array([ 1,  2,  3,  4,  5,  6,  7,  8,  9, 10])"
      ]
     },
     "execution_count": 52,
     "metadata": {},
     "output_type": "execute_result"
    }
   ],
   "source": [
    "first_array"
   ]
  },
  {
   "cell_type": "code",
   "execution_count": 53,
   "id": "fe8f103d-cc55-4795-b7e1-7fceb0c6ec7e",
   "metadata": {},
   "outputs": [],
   "source": [
    "second_list=[1,2,3,-1.23,50,128000,56,4.56]"
   ]
  },
  {
   "cell_type": "code",
   "execution_count": 54,
   "id": "01288463-94be-4bd5-b446-f117d1e04ac2",
   "metadata": {},
   "outputs": [
    {
     "data": {
      "text/plain": [
       "[1, 2, 3, -1.23, 50, 128000, 56, 4.56]"
      ]
     },
     "execution_count": 54,
     "metadata": {},
     "output_type": "execute_result"
    }
   ],
   "source": [
    "second_list"
   ]
  },
  {
   "cell_type": "code",
   "execution_count": 55,
   "id": "9a309225-878d-40d8-a739-113ffc71fe1f",
   "metadata": {},
   "outputs": [],
   "source": [
    "second_array=np.array(second_list)"
   ]
  },
  {
   "cell_type": "code",
   "execution_count": 56,
   "id": "ee591cb2-4568-43af-a02f-345ab4e9eb46",
   "metadata": {},
   "outputs": [
    {
     "data": {
      "text/plain": [
       "array([ 1.00e+00,  2.00e+00,  3.00e+00, -1.23e+00,  5.00e+01,  1.28e+05,\n",
       "        5.60e+01,  4.56e+00])"
      ]
     },
     "execution_count": 56,
     "metadata": {},
     "output_type": "execute_result"
    }
   ],
   "source": [
    "second_array"
   ]
  },
  {
   "cell_type": "code",
   "execution_count": 57,
   "id": "b4ec613f-69f3-4564-b92f-6826c152726f",
   "metadata": {},
   "outputs": [
    {
     "data": {
      "text/plain": [
       "dtype('float64')"
      ]
     },
     "execution_count": 57,
     "metadata": {},
     "output_type": "execute_result"
    }
   ],
   "source": [
    "second_array.dtype"
   ]
  },
  {
   "cell_type": "code",
   "execution_count": 58,
   "id": "e9c69ac0-c5d6-4dcb-a2b0-b1ad45edd577",
   "metadata": {},
   "outputs": [
    {
     "data": {
      "text/plain": [
       "dtype('int32')"
      ]
     },
     "execution_count": 58,
     "metadata": {},
     "output_type": "execute_result"
    }
   ],
   "source": [
    "first_array.dtype"
   ]
  },
  {
   "cell_type": "code",
   "execution_count": 59,
   "id": "c54fc29a-aace-4dab-b63b-514da40c0b98",
   "metadata": {},
   "outputs": [
    {
     "data": {
      "text/plain": [
       "1"
      ]
     },
     "execution_count": 59,
     "metadata": {},
     "output_type": "execute_result"
    }
   ],
   "source": [
    "first_array.ndim"
   ]
  },
  {
   "cell_type": "code",
   "execution_count": 60,
   "id": "0000d08d-46d7-465e-b95c-6c32a69b1521",
   "metadata": {},
   "outputs": [
    {
     "data": {
      "text/plain": [
       "1"
      ]
     },
     "execution_count": 60,
     "metadata": {},
     "output_type": "execute_result"
    }
   ],
   "source": [
    "second_array.ndim"
   ]
  },
  {
   "cell_type": "code",
   "execution_count": 61,
   "id": "80260c6d-0928-426f-a9d5-4e1bfae5b029",
   "metadata": {},
   "outputs": [],
   "source": [
    "third_list=['ANN',121000,'Peter',156431,'Susan',154523,'John',144569]"
   ]
  },
  {
   "cell_type": "code",
   "execution_count": 62,
   "id": "1b28943d-9e7b-44b8-ab42-5d629dfe0d16",
   "metadata": {},
   "outputs": [
    {
     "data": {
      "text/plain": [
       "['ANN', 121000, 'Peter', 156431, 'Susan', 154523, 'John', 144569]"
      ]
     },
     "execution_count": 62,
     "metadata": {},
     "output_type": "execute_result"
    }
   ],
   "source": [
    "third_list"
   ]
  },
  {
   "cell_type": "code",
   "execution_count": 63,
   "id": "35681303-d3c8-47c8-bc35-047d1cab6eec",
   "metadata": {},
   "outputs": [],
   "source": [
    "third_array=np.array(third_list)"
   ]
  },
  {
   "cell_type": "code",
   "execution_count": 64,
   "id": "aed9c0b1-5c72-486e-b24e-117da0d63219",
   "metadata": {},
   "outputs": [
    {
     "data": {
      "text/plain": [
       "array(['ANN', '121000', 'Peter', '156431', 'Susan', '154523', 'John',\n",
       "       '144569'], dtype='<U11')"
      ]
     },
     "execution_count": 64,
     "metadata": {},
     "output_type": "execute_result"
    }
   ],
   "source": [
    "third_array #here all the elements become strings"
   ]
  },
  {
   "cell_type": "code",
   "execution_count": 65,
   "id": "c9fea684-86c5-4a2c-9c45-1dd5e44e116f",
   "metadata": {},
   "outputs": [],
   "source": [
    "first_tuple=[5,10,15,20,25,30]"
   ]
  },
  {
   "cell_type": "code",
   "execution_count": 66,
   "id": "d84fbb89-1052-4446-b640-3814fbcf52c0",
   "metadata": {},
   "outputs": [
    {
     "data": {
      "text/plain": [
       "[5, 10, 15, 20, 25, 30]"
      ]
     },
     "execution_count": 66,
     "metadata": {},
     "output_type": "execute_result"
    }
   ],
   "source": [
    "first_tuple"
   ]
  },
  {
   "cell_type": "code",
   "execution_count": 67,
   "id": "e92b2fbc-e5c6-4f65-b509-39f35dfa1cda",
   "metadata": {},
   "outputs": [],
   "source": [
    "array_from_tuple=np.array(first_tuple)"
   ]
  },
  {
   "cell_type": "code",
   "execution_count": 68,
   "id": "31ec49b0-b30d-41fe-bc3f-d5d259d72ce9",
   "metadata": {},
   "outputs": [
    {
     "data": {
      "text/plain": [
       "array([ 5, 10, 15, 20, 25, 30])"
      ]
     },
     "execution_count": 68,
     "metadata": {},
     "output_type": "execute_result"
    }
   ],
   "source": [
    "array_from_tuple"
   ]
  },
  {
   "cell_type": "code",
   "execution_count": 69,
   "id": "9f160e40-887f-4063-b8d0-34def01f2b1e",
   "metadata": {},
   "outputs": [
    {
     "data": {
      "text/plain": [
       "dtype('int32')"
      ]
     },
     "execution_count": 69,
     "metadata": {},
     "output_type": "execute_result"
    }
   ],
   "source": [
    "array_from_tuple.dtype"
   ]
  },
  {
   "cell_type": "code",
   "execution_count": 71,
   "id": "acfd0934-8ec2-452d-bf49-9891a8be2419",
   "metadata": {},
   "outputs": [],
   "source": [
    "muti_dim_list=[[[[0,1,2],[3,4,5]],[[6,7,8],[9,10,11]]]]"
   ]
  },
  {
   "cell_type": "code",
   "execution_count": 72,
   "id": "1dc5053d-1ec4-4712-b171-f135236a7f69",
   "metadata": {},
   "outputs": [
    {
     "data": {
      "text/plain": [
       "[[[[0, 1, 2], [3, 4, 5]], [[6, 7, 8], [9, 10, 11]]]]"
      ]
     },
     "execution_count": 72,
     "metadata": {},
     "output_type": "execute_result"
    }
   ],
   "source": [
    "muti_dim_list"
   ]
  },
  {
   "cell_type": "code",
   "execution_count": 73,
   "id": "4e04bce6-3a4d-44ac-a787-6caff1f06ef7",
   "metadata": {},
   "outputs": [],
   "source": [
    "array_from_muti_dim_list=np.array(muti_dim_list)"
   ]
  },
  {
   "cell_type": "code",
   "execution_count": 74,
   "id": "68f51979-5d88-444e-9292-e7054578e13b",
   "metadata": {},
   "outputs": [
    {
     "data": {
      "text/plain": [
       "array([[[[ 0,  1,  2],\n",
       "         [ 3,  4,  5]],\n",
       "\n",
       "        [[ 6,  7,  8],\n",
       "         [ 9, 10, 11]]]])"
      ]
     },
     "execution_count": 74,
     "metadata": {},
     "output_type": "execute_result"
    }
   ],
   "source": [
    "array_from_muti_dim_list"
   ]
  },
  {
   "cell_type": "code",
   "execution_count": 75,
   "id": "0ec8ee58-db13-4bd2-88fc-d832b7a5605d",
   "metadata": {},
   "outputs": [],
   "source": [
    "#intrinsic Numpy array creation to quickly generate an array\n",
    "import numpy as np"
   ]
  },
  {
   "cell_type": "code",
   "execution_count": 78,
   "id": "b8427802-923f-4d2c-afd3-9af4577b50ff",
   "metadata": {},
   "outputs": [
    {
     "data": {
      "text/plain": [
       "array([0, 1, 2, 3, 4, 5, 6, 7, 8, 9])"
      ]
     },
     "execution_count": 78,
     "metadata": {},
     "output_type": "execute_result"
    }
   ],
   "source": [
    "integers_array=np.arange(10)\n",
    "integers_array"
   ]
  },
  {
   "cell_type": "code",
   "execution_count": 79,
   "id": "233a6ead-0610-4dde-a0a0-0a4c12b75dcd",
   "metadata": {},
   "outputs": [
    {
     "data": {
      "text/plain": [
       "array([100, 101, 102, 103, 104, 105, 106, 107, 108, 109, 110, 111, 112,\n",
       "       113, 114, 115, 116, 117, 118, 119, 120, 121, 122, 123, 124, 125,\n",
       "       126, 127, 128, 129])"
      ]
     },
     "execution_count": 79,
     "metadata": {},
     "output_type": "execute_result"
    }
   ],
   "source": [
    "integers_second_array=np.arange(100,130)\n",
    "integers_second_array"
   ]
  },
  {
   "cell_type": "code",
   "execution_count": 82,
   "id": "ffc51779-3116-4724-a801-55ceb28c0922",
   "metadata": {},
   "outputs": [
    {
     "data": {
      "text/plain": [
       "array([100, 102, 104, 106, 108, 110, 112, 114, 116, 118, 120, 122, 124,\n",
       "       126, 128, 130, 132, 134, 136, 138, 140, 142, 144, 146, 148, 150])"
      ]
     },
     "execution_count": 82,
     "metadata": {},
     "output_type": "execute_result"
    }
   ],
   "source": [
    "integers_third_array=np.arange(100,151,2)\n",
    "integers_third_array"
   ]
  },
  {
   "cell_type": "code",
   "execution_count": 83,
   "id": "4a0c5c01-38b6-41ba-aa8c-5870bce5fc6d",
   "metadata": {},
   "outputs": [
    {
     "data": {
      "text/plain": [
       "array([10.        , 10.40816327, 10.81632653, 11.2244898 , 11.63265306,\n",
       "       12.04081633, 12.44897959, 12.85714286, 13.26530612, 13.67346939,\n",
       "       14.08163265, 14.48979592, 14.89795918, 15.30612245, 15.71428571,\n",
       "       16.12244898, 16.53061224, 16.93877551, 17.34693878, 17.75510204,\n",
       "       18.16326531, 18.57142857, 18.97959184, 19.3877551 , 19.79591837,\n",
       "       20.20408163, 20.6122449 , 21.02040816, 21.42857143, 21.83673469,\n",
       "       22.24489796, 22.65306122, 23.06122449, 23.46938776, 23.87755102,\n",
       "       24.28571429, 24.69387755, 25.10204082, 25.51020408, 25.91836735,\n",
       "       26.32653061, 26.73469388, 27.14285714, 27.55102041, 27.95918367,\n",
       "       28.36734694, 28.7755102 , 29.18367347, 29.59183673, 30.        ])"
      ]
     },
     "execution_count": 83,
     "metadata": {},
     "output_type": "execute_result"
    }
   ],
   "source": [
    "#if we want to create an array of floating points having evenly spaced decimal values\n",
    "#numpy.linspace\n",
    "first_float_array=np.linspace(10,30) #its only one dimensional\n",
    "first_float_array"
   ]
  },
  {
   "cell_type": "code",
   "execution_count": 84,
   "id": "cccd90c0-195f-49ea-9951-df67e4b31235",
   "metadata": {},
   "outputs": [
    {
     "data": {
      "text/plain": [
       "array([10., 15., 20., 25., 30.])"
      ]
     },
     "execution_count": 84,
     "metadata": {},
     "output_type": "execute_result"
    }
   ],
   "source": [
    "#arrange will take the third arguments as the setsize and linspace will give the number of points you want\n",
    "Second_float_array=np.linspace(10,30,5)\n",
    "Second_float_array"
   ]
  },
  {
   "cell_type": "code",
   "execution_count": 85,
   "id": "065d0bfd-0b1f-41f8-98cc-1c9cec4cf880",
   "metadata": {},
   "outputs": [],
   "source": [
    "First_rand_arr=np.random.rand(10)"
   ]
  },
  {
   "cell_type": "code",
   "execution_count": 86,
   "id": "b0a7cf52-515b-4ec3-89f5-7063716cd9b7",
   "metadata": {},
   "outputs": [
    {
     "data": {
      "text/plain": [
       "array([0.5988758 , 0.94137343, 0.71730877, 0.63422326, 0.40858013,\n",
       "       0.25177213, 0.68106648, 0.45490476, 0.13848373, 0.44963928])"
      ]
     },
     "execution_count": 86,
     "metadata": {},
     "output_type": "execute_result"
    }
   ],
   "source": [
    "First_rand_arr"
   ]
  },
  {
   "cell_type": "code",
   "execution_count": 90,
   "id": "414c223b-60b1-4c6e-8008-14608c0dcb2f",
   "metadata": {},
   "outputs": [
    {
     "data": {
      "text/plain": [
       "array([[0.35455364, 0.30874512, 0.29532323, 0.93109672, 0.63621114],\n",
       "       [0.76110885, 0.98114121, 0.58598926, 0.38066516, 0.83346413],\n",
       "       [0.27458443, 0.57736905, 0.465379  , 0.15143686, 0.43357446],\n",
       "       [0.55374762, 0.25164999, 0.94536803, 0.29302874, 0.05318614]])"
      ]
     },
     "execution_count": 90,
     "metadata": {},
     "output_type": "execute_result"
    }
   ],
   "source": [
    "second_rand_arr=np.random.rand(4,5)\n",
    "second_rand_arr"
   ]
  },
  {
   "cell_type": "code",
   "execution_count": 91,
   "id": "c71d9516-7005-422a-825d-7d4526d4917c",
   "metadata": {},
   "outputs": [
    {
     "data": {
      "text/plain": [
       "array([84,  8, 22, 53, 74, 19, 35, 47, 12, 93, 60, 95,  3,  5,  4, 84, 84,\n",
       "       71, 59, 89])"
      ]
     },
     "execution_count": 91,
     "metadata": {},
     "output_type": "execute_result"
    }
   ],
   "source": [
    "third_rand_arr=np.random.randint(0,100,20)\n",
    "third_rand_arr"
   ]
  },
  {
   "cell_type": "code",
   "execution_count": 94,
   "id": "0f3f5d29-5a08-4c1b-b778-a3a10c6caf68",
   "metadata": {},
   "outputs": [
    {
     "data": {
      "text/plain": [
       "array([0., 0., 0., 0., 0.])"
      ]
     },
     "execution_count": 94,
     "metadata": {},
     "output_type": "execute_result"
    }
   ],
   "source": [
    "#creating arrays filled with constant values\n",
    "first_z_array=np.zeros(5)\n",
    "first_z_array"
   ]
  },
  {
   "cell_type": "code",
   "execution_count": 98,
   "id": "a3837db6-9215-476e-bf88-39dcf51e79f7",
   "metadata": {},
   "outputs": [
    {
     "data": {
      "text/plain": [
       "array([[0., 0., 0., 0., 0.],\n",
       "       [0., 0., 0., 0., 0.],\n",
       "       [0., 0., 0., 0., 0.],\n",
       "       [0., 0., 0., 0., 0.]])"
      ]
     },
     "execution_count": 98,
     "metadata": {},
     "output_type": "execute_result"
    }
   ],
   "source": [
    "second_z_array=np.zeros((4,5))\n",
    "second_z_array"
   ]
  },
  {
   "cell_type": "code",
   "execution_count": 99,
   "id": "1cd03998-f988-40a9-85d4-3e9682a94000",
   "metadata": {},
   "outputs": [
    {
     "data": {
      "text/plain": [
       "array([1., 1., 1., 1., 1., 1.])"
      ]
     },
     "execution_count": 99,
     "metadata": {},
     "output_type": "execute_result"
    }
   ],
   "source": [
    "first_ones_array=np.ones(6)\n",
    "first_ones_array"
   ]
  },
  {
   "cell_type": "code",
   "execution_count": 101,
   "id": "f1921228-9c88-40df-9376-54c6466c16e5",
   "metadata": {},
   "outputs": [
    {
     "data": {
      "text/plain": [
       "array([[1., 1., 1., 1., 1., 1.],\n",
       "       [1., 1., 1., 1., 1., 1.],\n",
       "       [1., 1., 1., 1., 1., 1.],\n",
       "       [1., 1., 1., 1., 1., 1.],\n",
       "       [1., 1., 1., 1., 1., 1.]])"
      ]
     },
     "execution_count": 101,
     "metadata": {},
     "output_type": "execute_result"
    }
   ],
   "source": [
    "first_ones_array=np.ones((5,6))\n",
    "first_ones_array"
   ]
  },
  {
   "cell_type": "code",
   "execution_count": 104,
   "id": "add655f0-e538-43c5-8278-78db1549d56d",
   "metadata": {},
   "outputs": [
    {
     "data": {
      "text/plain": [
       "array([['1', '1', '1', '1', '1', '1'],\n",
       "       ['1', '1', '1', '1', '1', '1'],\n",
       "       ['1', '1', '1', '1', '1', '1'],\n",
       "       ['1', '1', '1', '1', '1', '1'],\n",
       "       ['1', '1', '1', '1', '1', '1']], dtype='<U1')"
      ]
     },
     "execution_count": 104,
     "metadata": {},
     "output_type": "execute_result"
    }
   ],
   "source": [
    "third_ones_array=np.ones((5,6),dtype=str)\n",
    "third_ones_array"
   ]
  },
  {
   "cell_type": "code",
   "execution_count": 105,
   "id": "e16baafa-2bd9-465a-8240-1f8c9d67c69d",
   "metadata": {},
   "outputs": [
    {
     "data": {
      "text/plain": [
       "array([[1., 1., 1., 1., 1., 1.],\n",
       "       [1., 1., 1., 1., 1., 1.],\n",
       "       [1., 1., 1., 1., 1., 1.],\n",
       "       [1., 1., 1., 1., 1., 1.],\n",
       "       [1., 1., 1., 1., 1., 1.]])"
      ]
     },
     "execution_count": 105,
     "metadata": {},
     "output_type": "execute_result"
    }
   ],
   "source": [
    "third_ones_array=np.ones((5,6),dtype=float)\n",
    "third_ones_array"
   ]
  },
  {
   "cell_type": "code",
   "execution_count": 106,
   "id": "474609bf-ba20-4211-ad06-e5b0c15d477c",
   "metadata": {},
   "outputs": [
    {
     "data": {
      "text/plain": [
       "array([[1, 1, 1, 1, 1, 1],\n",
       "       [1, 1, 1, 1, 1, 1],\n",
       "       [1, 1, 1, 1, 1, 1],\n",
       "       [1, 1, 1, 1, 1, 1],\n",
       "       [1, 1, 1, 1, 1, 1]])"
      ]
     },
     "execution_count": 106,
     "metadata": {},
     "output_type": "execute_result"
    }
   ],
   "source": [
    "third_ones_array=np.ones((5,6),dtype=int)\n",
    "third_ones_array"
   ]
  },
  {
   "cell_type": "code",
   "execution_count": 108,
   "id": "62f10998-5490-4980-ac8d-6dd2edecf4b4",
   "metadata": {},
   "outputs": [
    {
     "data": {
      "text/plain": [
       "array([12, 12, 12, 12, 12, 12, 12, 12, 12, 12])"
      ]
     },
     "execution_count": 108,
     "metadata": {},
     "output_type": "execute_result"
    }
   ],
   "source": [
    "first_fill_array=np.empty((10),dtype=int)\n",
    "first_fill_array.fill(12)\n",
    "first_fill_array"
   ]
  },
  {
   "cell_type": "code",
   "execution_count": 109,
   "id": "9e01aff0-3294-434d-91a0-e82ac0487668",
   "metadata": {},
   "outputs": [
    {
     "data": {
      "text/plain": [
       "array([10, 10, 10, 10, 10])"
      ]
     },
     "execution_count": 109,
     "metadata": {},
     "output_type": "execute_result"
    }
   ],
   "source": [
    "first_full_array=np.full(5,10)\n",
    "first_full_array"
   ]
  },
  {
   "cell_type": "code",
   "execution_count": 112,
   "id": "fa479d50-bc5d-4bc2-b4e4-5f3bff2584fd",
   "metadata": {},
   "outputs": [
    {
     "data": {
      "text/plain": [
       "array([[8, 8, 8, 8, 8, 8, 8, 8, 8, 8],\n",
       "       [8, 8, 8, 8, 8, 8, 8, 8, 8, 8],\n",
       "       [8, 8, 8, 8, 8, 8, 8, 8, 8, 8],\n",
       "       [8, 8, 8, 8, 8, 8, 8, 8, 8, 8],\n",
       "       [8, 8, 8, 8, 8, 8, 8, 8, 8, 8]])"
      ]
     },
     "execution_count": 112,
     "metadata": {},
     "output_type": "execute_result"
    }
   ],
   "source": [
    "second_full_array=np.full((5,10),8)\n",
    "second_full_array"
   ]
  },
  {
   "cell_type": "code",
   "execution_count": 113,
   "id": "154e148f-419a-4698-ac9b-b9f657a70b3f",
   "metadata": {},
   "outputs": [],
   "source": [
    "#Find the size and shape of an array\n",
    "import numpy as np"
   ]
  },
  {
   "cell_type": "code",
   "execution_count": 115,
   "id": "90d05758-f1d0-4e3f-9224-f69dd7bdf4dd",
   "metadata": {},
   "outputs": [
    {
     "data": {
      "text/plain": [
       "array([ 0,  1,  2,  3,  4,  5,  6,  7,  8,  9, 10, 11, 12, 13, 14, 15, 16,\n",
       "       17, 18, 19])"
      ]
     },
     "execution_count": 115,
     "metadata": {},
     "output_type": "execute_result"
    }
   ],
   "source": [
    "first_arr=np.arange(20)\n",
    "first_arr"
   ]
  },
  {
   "cell_type": "code",
   "execution_count": 117,
   "id": "219673d7-592e-4503-a779-fb43d3a420b0",
   "metadata": {},
   "outputs": [
    {
     "data": {
      "text/plain": [
       "array([[ 1.,  2.],\n",
       "       [ 2.,  4.],\n",
       "       [ 3.,  6.],\n",
       "       [ 4.,  8.],\n",
       "       [ 5., 10.],\n",
       "       [ 6., 12.],\n",
       "       [ 7., 14.],\n",
       "       [ 8., 16.],\n",
       "       [ 9., 18.],\n",
       "       [10., 20.]])"
      ]
     },
     "execution_count": 117,
     "metadata": {},
     "output_type": "execute_result"
    }
   ],
   "source": [
    "second_arr=np.linspace((1,2),(10,20),10)\n",
    "second_arr"
   ]
  },
  {
   "cell_type": "code",
   "execution_count": 118,
   "id": "e2aaa1b5-d267-4c5a-8fff-e94a2303c529",
   "metadata": {},
   "outputs": [
    {
     "data": {
      "text/plain": [
       "array([[[10, 10],\n",
       "        [10, 10]],\n",
       "\n",
       "       [[10, 10],\n",
       "        [10, 10]]])"
      ]
     },
     "execution_count": 118,
     "metadata": {},
     "output_type": "execute_result"
    }
   ],
   "source": [
    "third_arr=np.full((2,2,2),10)\n",
    "third_arr"
   ]
  },
  {
   "cell_type": "code",
   "execution_count": 119,
   "id": "d7e6e759-061c-449c-9f8c-959279855330",
   "metadata": {},
   "outputs": [
    {
     "data": {
      "text/plain": [
       "(20,)"
      ]
     },
     "execution_count": 119,
     "metadata": {},
     "output_type": "execute_result"
    }
   ],
   "source": [
    "np.shape(first_arr)"
   ]
  },
  {
   "cell_type": "code",
   "execution_count": 120,
   "id": "2241ea25-fefc-41ed-9568-b4508c8bdf74",
   "metadata": {},
   "outputs": [
    {
     "data": {
      "text/plain": [
       "(10, 2)"
      ]
     },
     "execution_count": 120,
     "metadata": {},
     "output_type": "execute_result"
    }
   ],
   "source": [
    "np.shape(second_arr)"
   ]
  },
  {
   "cell_type": "code",
   "execution_count": 121,
   "id": "6f0a694e-ed46-4041-af96-2dc0f3509378",
   "metadata": {},
   "outputs": [
    {
     "data": {
      "text/plain": [
       "(2, 2, 2)"
      ]
     },
     "execution_count": 121,
     "metadata": {},
     "output_type": "execute_result"
    }
   ],
   "source": [
    "np.shape(third_arr)"
   ]
  },
  {
   "cell_type": "code",
   "execution_count": 122,
   "id": "19ff5fa4-3118-464b-9e42-560b01d8f33d",
   "metadata": {},
   "outputs": [
    {
     "data": {
      "text/plain": [
       "20"
      ]
     },
     "execution_count": 122,
     "metadata": {},
     "output_type": "execute_result"
    }
   ],
   "source": [
    "np.size(first_arr)"
   ]
  },
  {
   "cell_type": "code",
   "execution_count": 123,
   "id": "d3d51e8a-eedb-4d20-996b-f4b8e53ae4e6",
   "metadata": {},
   "outputs": [
    {
     "data": {
      "text/plain": [
       "20"
      ]
     },
     "execution_count": 123,
     "metadata": {},
     "output_type": "execute_result"
    }
   ],
   "source": [
    "np.size(second_arr)"
   ]
  },
  {
   "cell_type": "code",
   "execution_count": 124,
   "id": "975a2837-fb2e-4180-a294-16984b72b8a3",
   "metadata": {},
   "outputs": [
    {
     "data": {
      "text/plain": [
       "8"
      ]
     },
     "execution_count": 124,
     "metadata": {},
     "output_type": "execute_result"
    }
   ],
   "source": [
    "np.size(third_arr)"
   ]
  },
  {
   "cell_type": "code",
   "execution_count": 126,
   "id": "0f33f536-c1c1-42a8-a837-a74df31ab442",
   "metadata": {},
   "outputs": [
    {
     "data": {
      "text/plain": [
       "8"
      ]
     },
     "execution_count": 126,
     "metadata": {},
     "output_type": "execute_result"
    }
   ],
   "source": [
    "multi_DArray = np.array( [ [ [1,2,3,4,5], [5,4,3,2,1] ],[ [6,7,8,9,10], [10,9,8,7,6] ] ] )\n",
    "multi_DArray[1, 0, 2]"
   ]
  },
  {
   "cell_type": "code",
   "execution_count": 128,
   "id": "58d8c5b3-ac67-4add-8396-5884e9c9ce60",
   "metadata": {},
   "outputs": [
    {
     "data": {
      "text/plain": [
       "array(['WA', '24', 'CA', 'NH', '564'], dtype='<U11')"
      ]
     },
     "execution_count": 128,
     "metadata": {},
     "output_type": "execute_result"
    }
   ],
   "source": [
    "array1 = [ 'WA' , 24, 'CA', 'NH', 564]\n",
    "array2 = np.array(array1)\n",
    "array2"
   ]
  },
  {
   "cell_type": "code",
   "execution_count": 129,
   "id": "158be851-77da-46b7-b083-a99225675ffb",
   "metadata": {},
   "outputs": [],
   "source": [
    "array1 = np.array( [1,2,3,4,5], dtype=np.int64)\n",
    "array2 = np.array( [1,2,3,4,5], dtype=np.int8)"
   ]
  },
  {
   "cell_type": "code",
   "execution_count": 130,
   "id": "025149e3-56d5-414d-8721-55abe02ac70a",
   "metadata": {},
   "outputs": [
    {
     "data": {
      "text/plain": [
       "dtype('int64')"
      ]
     },
     "execution_count": 130,
     "metadata": {},
     "output_type": "execute_result"
    }
   ],
   "source": [
    "array1.dtype"
   ]
  },
  {
   "cell_type": "code",
   "execution_count": 131,
   "id": "036fc08a-39db-495c-a2d2-8e13bc7a430b",
   "metadata": {},
   "outputs": [
    {
     "data": {
      "text/plain": [
       "array([ 50,  60,  70,  80,  90, 100])"
      ]
     },
     "execution_count": 131,
     "metadata": {},
     "output_type": "execute_result"
    }
   ],
   "source": [
    "np.array([50, 60, 70, 80, 90,100])"
   ]
  },
  {
   "cell_type": "code",
   "execution_count": 134,
   "id": "a762abdb-bac2-481e-8fb1-aaced80583cb",
   "metadata": {},
   "outputs": [
    {
     "data": {
      "text/plain": [
       "3"
      ]
     },
     "execution_count": 134,
     "metadata": {},
     "output_type": "execute_result"
    }
   ],
   "source": [
    "integers=np.array([1,2,3,4,5])\n",
    "integers[2]"
   ]
  },
  {
   "cell_type": "code",
   "execution_count": 146,
   "id": "b18368b9-39e1-4ede-97cf-46c5ec861eb4",
   "metadata": {},
   "outputs": [
    {
     "data": {
      "text/plain": [
       "array([1, 2, 3, 5])"
      ]
     },
     "execution_count": 146,
     "metadata": {},
     "output_type": "execute_result"
    }
   ],
   "source": [
    "#adding removing and sorting elements\n",
    "first_arr=np.array([1,2,3,5])\n",
    "first_arr"
   ]
  },
  {
   "cell_type": "code",
   "execution_count": 144,
   "id": "06b5f53a-957b-4331-b35c-be6aba5db47d",
   "metadata": {},
   "outputs": [
    {
     "data": {
      "text/plain": [
       "array([1, 2, 3, 4, 5])"
      ]
     },
     "execution_count": 144,
     "metadata": {},
     "output_type": "execute_result"
    }
   ],
   "source": [
    "new_first_arr=np.insert(first_arr,3,4)\n",
    "new_first_arr"
   ]
  },
  {
   "cell_type": "code",
   "execution_count": 143,
   "id": "608769c3-802f-445f-99e1-c9370151ac39",
   "metadata": {},
   "outputs": [
    {
     "data": {
      "text/plain": [
       "array([1, 2, 3, 5, 6])"
      ]
     },
     "execution_count": 143,
     "metadata": {},
     "output_type": "execute_result"
    }
   ],
   "source": [
    "new1_first_arr=np.append(first_arr,6)\n",
    "new1_first_arr"
   ]
  },
  {
   "cell_type": "code",
   "execution_count": 149,
   "id": "fe5c59e3-11ff-4516-a5df-7350f7c58323",
   "metadata": {},
   "outputs": [
    {
     "data": {
      "text/plain": [
       "array([1, 2, 3, 5])"
      ]
     },
     "execution_count": 149,
     "metadata": {},
     "output_type": "execute_result"
    }
   ],
   "source": [
    "first_arr=np.array([1,2,3,5])\n",
    "first_arr"
   ]
  },
  {
   "cell_type": "code",
   "execution_count": 150,
   "id": "9baf6626-2548-4d3b-98ab-1b02f2401e69",
   "metadata": {
    "scrolled": true
   },
   "outputs": [
    {
     "data": {
      "text/plain": [
       "array([1, 2, 5])"
      ]
     },
     "execution_count": 150,
     "metadata": {},
     "output_type": "execute_result"
    }
   ],
   "source": [
    "del_arr=np.delete(first_arr,2)\n",
    "del_arr"
   ]
  },
  {
   "cell_type": "code",
   "execution_count": 161,
   "id": "643176c7-c64b-4ab4-acaf-223f020d62d4",
   "metadata": {},
   "outputs": [
    {
     "data": {
      "text/plain": [
       "array([13,  5, 15,  1,  9,  4, 15, 18,  2,  9, 15,  1, 16, 10,  8,  4,  4,\n",
       "       17,  6,  4])"
      ]
     },
     "execution_count": 161,
     "metadata": {},
     "output_type": "execute_result"
    }
   ],
   "source": [
    "integers_arr=np.random.randint(0,20,20)\n",
    "integers_arr"
   ]
  },
  {
   "cell_type": "code",
   "execution_count": 162,
   "id": "cc252880-83bf-4c69-a1bf-d5d3de052dd8",
   "metadata": {},
   "outputs": [
    {
     "name": "stdout",
     "output_type": "stream",
     "text": [
      "[ 1  1  2  4  4  4  4  5  6  8  9  9 10 13 15 15 15 16 17 18]\n"
     ]
    }
   ],
   "source": [
    "print(np.sort(integers_arr))"
   ]
  },
  {
   "cell_type": "code",
   "execution_count": 163,
   "id": "f0c11193-8299-4054-869e-b6efe041f8a3",
   "metadata": {},
   "outputs": [
    {
     "data": {
      "text/plain": [
       "array([[3, 2, 5, 7, 4],\n",
       "       [5, 0, 8, 3, 1]])"
      ]
     },
     "execution_count": 163,
     "metadata": {},
     "output_type": "execute_result"
    }
   ],
   "source": [
    "integers_2dim_arr=np.array([[3,2,5,7,4],[5,0,8,3,1]])\n",
    "integers_2dim_arr"
   ]
  },
  {
   "cell_type": "code",
   "execution_count": 164,
   "id": "fc183cc4-fb0c-4b7c-863a-4c3b35a2b2b7",
   "metadata": {},
   "outputs": [
    {
     "name": "stdout",
     "output_type": "stream",
     "text": [
      "[[2 3 4 5 7]\n",
      " [0 1 3 5 8]]\n"
     ]
    }
   ],
   "source": [
    "print(np.sort(integers_2dim_arr))"
   ]
  },
  {
   "cell_type": "code",
   "execution_count": 166,
   "id": "fd312b0e-0b8f-4a35-a50e-9e3932248121",
   "metadata": {},
   "outputs": [
    {
     "data": {
      "text/plain": [
       "array(['orange', 'yellow', 'white', 'blue', 'green', 'red'], dtype='<U6')"
      ]
     },
     "execution_count": 166,
     "metadata": {},
     "output_type": "execute_result"
    }
   ],
   "source": [
    "colors=np.array(['orange','yellow','white','blue','green','red'])\n",
    "colors"
   ]
  },
  {
   "cell_type": "code",
   "execution_count": 167,
   "id": "83a117d7-76e2-46e9-925b-9b2e517872a8",
   "metadata": {},
   "outputs": [
    {
     "name": "stdout",
     "output_type": "stream",
     "text": [
      "['blue' 'green' 'orange' 'red' 'white' 'yellow']\n"
     ]
    }
   ],
   "source": [
    "print(np.sort(colors))"
   ]
  },
  {
   "cell_type": "code",
   "execution_count": 169,
   "id": "fe183138-fa27-4ed1-bedc-b07d9a54487a",
   "metadata": {},
   "outputs": [
    {
     "data": {
      "text/plain": [
       "array([1111, 1212, 1313, 1414, 1515, 1616, 1717, 1818])"
      ]
     },
     "execution_count": 169,
     "metadata": {},
     "output_type": "execute_result"
    }
   ],
   "source": [
    "#copy is a new array and view is a different view of original array\n",
    "std_ids_number=np.array([1111,1212,1313,1414,1515,1616,1717,1818])\n",
    "std_ids_number"
   ]
  },
  {
   "cell_type": "code",
   "execution_count": 170,
   "id": "eab5cb6c-b95d-44f1-80e2-64ba2970c69c",
   "metadata": {},
   "outputs": [
    {
     "name": "stdout",
     "output_type": "stream",
     "text": [
      "ids of std_id_number 1521443528720\n",
      "ids of std_id_number_reg 1521443528720\n"
     ]
    }
   ],
   "source": [
    "std_ids_number_reg=std_ids_number\n",
    "print(\"ids of std_id_number\",id(std_ids_number))\n",
    "print(\"ids of std_id_number_reg\",id(std_ids_number_reg))"
   ]
  },
  {
   "cell_type": "code",
   "execution_count": 171,
   "id": "dd4815af-42a3-4a40-ae8a-392c7d89718a",
   "metadata": {},
   "outputs": [],
   "source": [
    "std_ids_number_reg[1]=2222"
   ]
  },
  {
   "cell_type": "code",
   "execution_count": 172,
   "id": "9ad76c21-34bb-458b-9e6a-2cbb358f1149",
   "metadata": {},
   "outputs": [
    {
     "data": {
      "text/plain": [
       "array([1111, 2222, 1313, 1414, 1515, 1616, 1717, 1818])"
      ]
     },
     "execution_count": 172,
     "metadata": {},
     "output_type": "execute_result"
    }
   ],
   "source": [
    "std_ids_number_reg"
   ]
  },
  {
   "cell_type": "code",
   "execution_count": 173,
   "id": "bd17d615-6a8f-4dee-ac3b-39d2378db984",
   "metadata": {},
   "outputs": [
    {
     "data": {
      "text/plain": [
       "array([1111, 2222, 1313, 1414, 1515, 1616, 1717, 1818])"
      ]
     },
     "execution_count": 173,
     "metadata": {},
     "output_type": "execute_result"
    }
   ],
   "source": [
    "std_ids_number"
   ]
  },
  {
   "cell_type": "code",
   "execution_count": 174,
   "id": "2225cd02-229e-4b1d-8841-7225791d4f79",
   "metadata": {},
   "outputs": [
    {
     "name": "stdout",
     "output_type": "stream",
     "text": [
      "[1111 2222 1313 1414 1515 1616 1717 1818]\n",
      "[1111 2222 1313 1414 1515 1616 1717 1818]\n"
     ]
    }
   ],
   "source": [
    "print(std_ids_number) #any change in one will reflect on the other one too\n",
    "print(std_ids_number_reg)"
   ]
  },
  {
   "cell_type": "code",
   "execution_count": 175,
   "id": "ccc44de4-6fe6-44b0-ae71-366ccd700d44",
   "metadata": {},
   "outputs": [],
   "source": [
    "std_ids_number_cp=std_ids_number.copy()"
   ]
  },
  {
   "cell_type": "code",
   "execution_count": 176,
   "id": "120f5fc8-4ed8-4171-ba87-f7a1bc2fcd6c",
   "metadata": {},
   "outputs": [
    {
     "data": {
      "text/plain": [
       "array([1111, 2222, 1313, 1414, 1515, 1616, 1717, 1818])"
      ]
     },
     "execution_count": 176,
     "metadata": {},
     "output_type": "execute_result"
    }
   ],
   "source": [
    "std_ids_number_cp"
   ]
  },
  {
   "cell_type": "code",
   "execution_count": 177,
   "id": "b7928fec-0f86-4c91-812f-edeb091a5b83",
   "metadata": {},
   "outputs": [
    {
     "name": "stdout",
     "output_type": "stream",
     "text": [
      "[1111 2222 1313 1414 1515 1616 1717 1818]\n"
     ]
    }
   ],
   "source": [
    "print(std_ids_number)"
   ]
  },
  {
   "cell_type": "code",
   "execution_count": 179,
   "id": "edc785c3-cb40-47ce-b3fb-190653c903b8",
   "metadata": {},
   "outputs": [
    {
     "name": "stdout",
     "output_type": "stream",
     "text": [
      "[ True  True  True  True  True  True  True  True]\n"
     ]
    }
   ],
   "source": [
    "print(std_ids_number_cp==std_ids_number)"
   ]
  },
  {
   "cell_type": "code",
   "execution_count": 180,
   "id": "4ae5f6c3-76e0-4ac7-b187-200bdd9d2671",
   "metadata": {},
   "outputs": [
    {
     "name": "stdout",
     "output_type": "stream",
     "text": [
      "ids of std_id_number 1521443528720\n",
      "ids of std_id_number_reg 1521445975984\n"
     ]
    }
   ],
   "source": [
    "print(\"ids of std_id_number\",id(std_ids_number))\n",
    "print(\"ids of std_id_number_reg\",id(std_ids_number_cp))"
   ]
  },
  {
   "cell_type": "code",
   "execution_count": 183,
   "id": "26617967-702a-495f-8442-b9a080b614ad",
   "metadata": {},
   "outputs": [
    {
     "name": "stdout",
     "output_type": "stream",
     "text": [
      "original [1000 2222 1313 1414 1515 1616 1717 1818]\n",
      "copy [1111 2222 1313 1414 1515 1616 1717 1818]\n"
     ]
    }
   ],
   "source": [
    "std_ids_number_reg[0]=1000\n",
    "print(\"original\",std_ids_number)\n",
    "print(\"copy\",std_ids_number_cp)"
   ]
  },
  {
   "cell_type": "code",
   "execution_count": 184,
   "id": "89977c39-a24a-40a6-a444-ef0ccf000e04",
   "metadata": {},
   "outputs": [],
   "source": [
    "#view\n",
    "std_ids_number_v=std_ids_number.view()"
   ]
  },
  {
   "cell_type": "code",
   "execution_count": 189,
   "id": "48f20b58-e5b1-4a95-902c-0890bf473be7",
   "metadata": {},
   "outputs": [
    {
     "name": "stdout",
     "output_type": "stream",
     "text": [
      "original [2000 2222 1313 1414 1515 1616 1717 1818]\n",
      "view [2000 2222 1313 1414 1515 1616 1717 1818]\n"
     ]
    }
   ],
   "source": [
    "std_ids_number_v[0]=2000\n",
    "print(\"original\",std_ids_number)\n",
    "print(\"view\",std_ids_number_v)"
   ]
  },
  {
   "cell_type": "code",
   "execution_count": 190,
   "id": "7f3cdb8e-0710-465c-b0d9-b93c354db893",
   "metadata": {},
   "outputs": [
    {
     "name": "stdout",
     "output_type": "stream",
     "text": [
      "None\n",
      "view [2000 2222 1313 1414 1515 1616 1717 1818]\n"
     ]
    }
   ],
   "source": [
    "print(std_ids_number_cp.base)\n",
    "print(\"view\",std_ids_number_v.base)"
   ]
  },
  {
   "cell_type": "code",
   "execution_count": 191,
   "id": "2195cb64-3a02-474b-813c-7a7e8b6f0d48",
   "metadata": {},
   "outputs": [
    {
     "data": {
      "text/plain": [
       "array([ 1,  2,  3,  4,  5,  6,  7,  8,  9, 10, 11, 12])"
      ]
     },
     "execution_count": 191,
     "metadata": {},
     "output_type": "execute_result"
    }
   ],
   "source": [
    "#reshaping\n",
    "#no of elements remains same and shape of array changes\n",
    "first_arr=np.arange(1,13)\n",
    "first_arr"
   ]
  },
  {
   "cell_type": "code",
   "execution_count": 192,
   "id": "cf87f288-4652-4bbb-8212-f1a810305c42",
   "metadata": {},
   "outputs": [
    {
     "data": {
      "text/plain": [
       "array([[ 1,  2,  3,  4],\n",
       "       [ 5,  6,  7,  8],\n",
       "       [ 9, 10, 11, 12]])"
      ]
     },
     "execution_count": 192,
     "metadata": {},
     "output_type": "execute_result"
    }
   ],
   "source": [
    "second_arr=np.reshape(first_arr,(3,4))\n",
    "second_arr"
   ]
  },
  {
   "cell_type": "code",
   "execution_count": 194,
   "id": "f0c12aa5-3c7b-4f8d-9159-6f3a6f518bd1",
   "metadata": {},
   "outputs": [
    {
     "data": {
      "text/plain": [
       "array([[ 1,  2],\n",
       "       [ 3,  4],\n",
       "       [ 5,  6],\n",
       "       [ 7,  8],\n",
       "       [ 9, 10],\n",
       "       [11, 12]])"
      ]
     },
     "execution_count": 194,
     "metadata": {},
     "output_type": "execute_result"
    }
   ],
   "source": [
    "third_arr=np.reshape(first_arr,(6,2))\n",
    "third_arr"
   ]
  },
  {
   "cell_type": "code",
   "execution_count": 197,
   "id": "1073768c-33f5-48ce-afd9-fe03e1927dfb",
   "metadata": {},
   "outputs": [
    {
     "ename": "TypeError",
     "evalue": "'numpy.ndarray' object is not callable",
     "output_type": "error",
     "traceback": [
      "\u001b[1;31m---------------------------------------------------------------------------\u001b[0m",
      "\u001b[1;31mTypeError\u001b[0m                                 Traceback (most recent call last)",
      "Cell \u001b[1;32mIn[197], line 1\u001b[0m\n\u001b[1;32m----> 1\u001b[0m fourth_arr\u001b[38;5;241m=\u001b[39mnp\u001b[38;5;241m.\u001b[39mreshape(first_arr(\u001b[38;5;241m4\u001b[39m,\u001b[38;5;241m4\u001b[39m))\n",
      "\u001b[1;31mTypeError\u001b[0m: 'numpy.ndarray' object is not callable"
     ]
    }
   ],
   "source": [
    "fourth_arr=np.reshape(first_arr(4,4))"
   ]
  },
  {
   "cell_type": "code",
   "execution_count": 202,
   "id": "ca00f1b3-35a5-4f37-a9e1-f987271e9aba",
   "metadata": {},
   "outputs": [
    {
     "name": "stdout",
     "output_type": "stream",
     "text": [
      "[[[ 1  2]\n",
      "  [ 3  4]]\n",
      "\n",
      " [[ 5  6]\n",
      "  [ 7  8]]\n",
      "\n",
      " [[ 9 10]\n",
      "  [11 12]]]\n",
      "dimension of fifth_arr is 3\n"
     ]
    }
   ],
   "source": [
    "fifth_arr = np.reshape(first_arr,(3,2,2))\n",
    "print(fifth_arr)\n",
    "print(\"dimension of fifth_arr is\", fifth_arr.ndim)"
   ]
  },
  {
   "cell_type": "code",
   "execution_count": 203,
   "id": "a402247c-2f0f-4288-af9c-6d4c170f2d29",
   "metadata": {},
   "outputs": [
    {
     "data": {
      "text/plain": [
       "array([[1, 2],\n",
       "       [3, 4],\n",
       "       [5, 6]])"
      ]
     },
     "execution_count": 203,
     "metadata": {},
     "output_type": "execute_result"
    }
   ],
   "source": [
    "sixth_arr=np.array([[1,2],[3,4],[5,6]])\n",
    "sixth_arr"
   ]
  },
  {
   "cell_type": "code",
   "execution_count": 204,
   "id": "e69b7851-ac7f-421a-8904-6d6e1d9d85f7",
   "metadata": {},
   "outputs": [
    {
     "data": {
      "text/plain": [
       "array([1, 2, 3, 4, 5, 6])"
      ]
     },
     "execution_count": 204,
     "metadata": {},
     "output_type": "execute_result"
    }
   ],
   "source": [
    "seventh_arr_flat=np.reshape(sixth_arr,-1)\n",
    "seventh_arr_flat"
   ]
  },
  {
   "cell_type": "code",
   "execution_count": 208,
   "id": "cbead57d-6914-4d4a-944d-1078fc4a0428",
   "metadata": {},
   "outputs": [
    {
     "name": "stdout",
     "output_type": "stream",
     "text": [
      "eight_arr_flat [1 2 3 4 5 6]\n",
      "ninth_arr_rev [1 2 3 4 5 6]\n"
     ]
    }
   ],
   "source": [
    "#flatten:return a copy in one Dimension\n",
    "eight_arr_flat=sixth_arr.flatten()\n",
    "print(\"eight_arr_flat\",eight_arr_flat)\n",
    "ninth_arr_rev=sixth_arr.ravel()\n",
    "print(\"ninth_arr_rev\", ninth_arr_rev)"
   ]
  },
  {
   "cell_type": "code",
   "execution_count": 210,
   "id": "072e24e2-3bc6-40c9-8412-2703340f53c2",
   "metadata": {},
   "outputs": [],
   "source": [
    "eight_arr_flat[0]=100"
   ]
  },
  {
   "cell_type": "code",
   "execution_count": 211,
   "id": "297d004d-fa52-48cb-b063-5d1dd60bbaf1",
   "metadata": {},
   "outputs": [],
   "source": [
    "ninth_arr_rev[0]=200"
   ]
  },
  {
   "cell_type": "code",
   "execution_count": 212,
   "id": "267e5020-22a9-4458-a6ca-ed0411067ec0",
   "metadata": {},
   "outputs": [
    {
     "name": "stdout",
     "output_type": "stream",
     "text": [
      "eight_arr_flat [100   2   3   4   5   6]\n",
      "ninth_arr_rev [200   2   3   4   5   6]\n",
      "sixth_arr [[200   2]\n",
      " [  3   4]\n",
      " [  5   6]]\n"
     ]
    }
   ],
   "source": [
    "print(\"eight_arr_flat\",eight_arr_flat)\n",
    "print(\"ninth_arr_rev\", ninth_arr_rev)\n",
    "print(\"sixth_arr\", sixth_arr)"
   ]
  },
  {
   "cell_type": "code",
   "execution_count": 213,
   "id": "0f658cc7-f9b3-4491-a54d-d52530fa0fff",
   "metadata": {},
   "outputs": [
    {
     "data": {
      "text/plain": [
       "array([[ 0,  1,  2,  3],\n",
       "       [ 4,  5,  6,  7],\n",
       "       [ 8,  9, 10, 11]])"
      ]
     },
     "execution_count": 213,
     "metadata": {},
     "output_type": "execute_result"
    }
   ],
   "source": [
    "#indexing and slicing\n",
    "twodim_arr=np.reshape(np.arange(12),(3,4))\n",
    "twodim_arr"
   ]
  },
  {
   "cell_type": "code",
   "execution_count": 214,
   "id": "89528476-af1e-4c83-a20f-7b11ac5ddf87",
   "metadata": {},
   "outputs": [
    {
     "data": {
      "text/plain": [
       "5"
      ]
     },
     "execution_count": 214,
     "metadata": {},
     "output_type": "execute_result"
    }
   ],
   "source": [
    "twodim_arr[1,1]"
   ]
  },
  {
   "cell_type": "code",
   "execution_count": 215,
   "id": "cdacc731-9088-4d4c-bd53-865493fe827f",
   "metadata": {},
   "outputs": [
    {
     "data": {
      "text/plain": [
       "array([4, 5, 6, 7])"
      ]
     },
     "execution_count": 215,
     "metadata": {},
     "output_type": "execute_result"
    }
   ],
   "source": [
    "twodim_arr[1]"
   ]
  },
  {
   "cell_type": "code",
   "execution_count": 216,
   "id": "7e491868-baf3-49ff-82d1-cb2ce3db236d",
   "metadata": {},
   "outputs": [
    {
     "data": {
      "text/plain": [
       "array([[[ 0,  1,  2,  3,  4],\n",
       "        [ 5,  6,  7,  8,  9],\n",
       "        [10, 11, 12, 13, 14],\n",
       "        [15, 16, 17, 18, 19]],\n",
       "\n",
       "       [[20, 21, 22, 23, 24],\n",
       "        [25, 26, 27, 28, 29],\n",
       "        [30, 31, 32, 33, 34],\n",
       "        [35, 36, 37, 38, 39]],\n",
       "\n",
       "       [[40, 41, 42, 43, 44],\n",
       "        [45, 46, 47, 48, 49],\n",
       "        [50, 51, 52, 53, 54],\n",
       "        [55, 56, 57, 58, 59]]])"
      ]
     },
     "execution_count": 216,
     "metadata": {},
     "output_type": "execute_result"
    }
   ],
   "source": [
    "threedim_arr=np.reshape(np.arange(3*4*5),(3,4,5))\n",
    "threedim_arr"
   ]
  },
  {
   "cell_type": "code",
   "execution_count": 217,
   "id": "25babb7e-2a11-4f33-ae41-c1ead123fad3",
   "metadata": {},
   "outputs": [
    {
     "data": {
      "text/plain": [
       "13"
      ]
     },
     "execution_count": 217,
     "metadata": {},
     "output_type": "execute_result"
    }
   ],
   "source": [
    "threedim_arr[0,2,3]"
   ]
  },
  {
   "cell_type": "code",
   "execution_count": 218,
   "id": "fb602038-03e0-4320-a008-ff341318dfe3",
   "metadata": {},
   "outputs": [
    {
     "data": {
      "text/plain": [
       "59"
      ]
     },
     "execution_count": 218,
     "metadata": {},
     "output_type": "execute_result"
    }
   ],
   "source": [
    "threedim_arr[2,-1,-1]"
   ]
  },
  {
   "cell_type": "code",
   "execution_count": 219,
   "id": "d20e874d-c1f3-423c-906d-77919e594893",
   "metadata": {},
   "outputs": [
    {
     "data": {
      "text/plain": [
       "array([0, 1, 2, 3, 4, 5, 6, 7, 8, 9])"
      ]
     },
     "execution_count": 219,
     "metadata": {},
     "output_type": "execute_result"
    }
   ],
   "source": [
    "onedim_arr=np.arange(10)\n",
    "onedim_arr"
   ]
  },
  {
   "cell_type": "code",
   "execution_count": 222,
   "id": "e2754487-1d0a-4f58-8a50-69743818ed20",
   "metadata": {},
   "outputs": [
    {
     "data": {
      "text/plain": [
       "array([2, 3, 4, 5])"
      ]
     },
     "execution_count": 222,
     "metadata": {},
     "output_type": "execute_result"
    }
   ],
   "source": [
    "onedim_arr[2:6]"
   ]
  },
  {
   "cell_type": "code",
   "execution_count": 223,
   "id": "91cf5898-2f2a-45d8-bc94-5bf0dde716f1",
   "metadata": {},
   "outputs": [
    {
     "data": {
      "text/plain": [
       "array([0, 1, 2, 3, 4, 5])"
      ]
     },
     "execution_count": 223,
     "metadata": {},
     "output_type": "execute_result"
    }
   ],
   "source": [
    "onedim_arr[:6]"
   ]
  },
  {
   "cell_type": "code",
   "execution_count": 224,
   "id": "03c47df4-c2ad-46e8-af77-40003191fcfa",
   "metadata": {},
   "outputs": [
    {
     "data": {
      "text/plain": [
       "6"
      ]
     },
     "execution_count": 224,
     "metadata": {},
     "output_type": "execute_result"
    }
   ],
   "source": [
    "onedim_arr[-4]"
   ]
  },
  {
   "cell_type": "code",
   "execution_count": 225,
   "id": "b6b0673b-ab7a-4b71-a773-1b8a91379ab8",
   "metadata": {},
   "outputs": [
    {
     "data": {
      "text/plain": [
       "array([6, 7, 8, 9])"
      ]
     },
     "execution_count": 225,
     "metadata": {},
     "output_type": "execute_result"
    }
   ],
   "source": [
    "onedim_arr[-4:]"
   ]
  },
  {
   "cell_type": "code",
   "execution_count": 226,
   "id": "b92c4787-ada5-465c-93dc-4ab001824bb6",
   "metadata": {},
   "outputs": [
    {
     "data": {
      "text/plain": [
       "array([0, 2, 4, 6, 8])"
      ]
     },
     "execution_count": 226,
     "metadata": {},
     "output_type": "execute_result"
    }
   ],
   "source": [
    "onedim_arr[::2]"
   ]
  },
  {
   "cell_type": "code",
   "execution_count": 227,
   "id": "8c9f49de-f7e9-4169-826e-439c8b05a4fc",
   "metadata": {},
   "outputs": [
    {
     "data": {
      "text/plain": [
       "array([[ 0,  1,  2,  3],\n",
       "       [ 4,  5,  6,  7],\n",
       "       [ 8,  9, 10, 11]])"
      ]
     },
     "execution_count": 227,
     "metadata": {},
     "output_type": "execute_result"
    }
   ],
   "source": [
    "twodim_arr"
   ]
  },
  {
   "cell_type": "code",
   "execution_count": 228,
   "id": "1a0861ad-c595-4df4-9eb5-fe733a269c71",
   "metadata": {},
   "outputs": [
    {
     "data": {
      "text/plain": [
       "array([[ 5,  6,  7],\n",
       "       [ 9, 10, 11]])"
      ]
     },
     "execution_count": 228,
     "metadata": {},
     "output_type": "execute_result"
    }
   ],
   "source": [
    "twodim_arr[1 :,1 :]"
   ]
  },
  {
   "cell_type": "code",
   "execution_count": 230,
   "id": "480bb71d-965d-4588-8234-17f740b6ba33",
   "metadata": {},
   "outputs": [
    {
     "data": {
      "text/plain": [
       "array([4, 5, 6, 7])"
      ]
     },
     "execution_count": 230,
     "metadata": {},
     "output_type": "execute_result"
    }
   ],
   "source": [
    "twodim_arr[1,:]"
   ]
  },
  {
   "cell_type": "code",
   "execution_count": 231,
   "id": "d75714fb-4bc7-4d85-bf99-f7737539a013",
   "metadata": {},
   "outputs": [
    {
     "data": {
      "text/plain": [
       "array([ 2,  6, 10])"
      ]
     },
     "execution_count": 231,
     "metadata": {},
     "output_type": "execute_result"
    }
   ],
   "source": [
    "twodim_arr[:,2]"
   ]
  },
  {
   "cell_type": "code",
   "execution_count": 235,
   "id": "8bd1ee41-af36-477d-b095-0f7ef3af8565",
   "metadata": {},
   "outputs": [
    {
     "name": "stdout",
     "output_type": "stream",
     "text": [
      "[ 1  2  3  4  5  6  7  8  9 10]\n",
      "[11 12 13 14 15 16 17 18 19 20]\n"
     ]
    }
   ],
   "source": [
    "#functions for joining arrays\n",
    "first_arr=np.arange(1,11)\n",
    "second_arr=np.arange(11,21)\n",
    "print(first_arr)\n",
    "print(second_arr)"
   ]
  },
  {
   "cell_type": "code",
   "execution_count": 239,
   "id": "6a3eaa09-7c36-4181-b1de-494d72a1f38e",
   "metadata": {},
   "outputs": [
    {
     "data": {
      "text/plain": [
       "array([ 1,  2,  3,  4,  5,  6,  7,  8,  9, 10, 11, 12, 13, 14, 15, 16, 17,\n",
       "       18, 19, 20])"
      ]
     },
     "execution_count": 239,
     "metadata": {},
     "output_type": "execute_result"
    }
   ],
   "source": [
    "con_arr=np.concatenate((first_arr,second_arr))\n",
    "con_arr"
   ]
  },
  {
   "cell_type": "code",
   "execution_count": 241,
   "id": "4c1ec598-ddc1-4b00-8d92-c6f2ee47cb00",
   "metadata": {},
   "outputs": [
    {
     "data": {
      "text/plain": [
       "array([[ 1,  2,  3,  4,  5],\n",
       "       [ 6,  7,  8,  9, 10]])"
      ]
     },
     "execution_count": 241,
     "metadata": {},
     "output_type": "execute_result"
    }
   ],
   "source": [
    "third_2darr=np.array([[1,2,3,4,5],[6,7,8,9,10]])\n",
    "third_2darr"
   ]
  },
  {
   "cell_type": "code",
   "execution_count": 242,
   "id": "457575ed-4634-490d-ac2b-06955095b859",
   "metadata": {},
   "outputs": [
    {
     "data": {
      "text/plain": [
       "array([[11, 12, 13, 14, 15],\n",
       "       [16, 17, 18, 19, 20]])"
      ]
     },
     "execution_count": 242,
     "metadata": {},
     "output_type": "execute_result"
    }
   ],
   "source": [
    "four_2darr=np.array([[11,12,13,14,15],[16,17,18,19,20]])\n",
    "four_2darr"
   ]
  },
  {
   "cell_type": "code",
   "execution_count": 246,
   "id": "5ff621e7-4cfe-4e1c-8fd8-4053566eebcb",
   "metadata": {},
   "outputs": [
    {
     "data": {
      "text/plain": [
       "array([[ 1,  2,  3,  4,  5],\n",
       "       [ 6,  7,  8,  9, 10],\n",
       "       [11, 12, 13, 14, 15],\n",
       "       [16, 17, 18, 19, 20]])"
      ]
     },
     "execution_count": 246,
     "metadata": {},
     "output_type": "execute_result"
    }
   ],
   "source": [
    "con2d_arr=np.concatenate((third_2darr,four_2darr))\n",
    "con2d_arr"
   ]
  },
  {
   "cell_type": "code",
   "execution_count": 247,
   "id": "5d7d1ffa-67bf-4d40-a8ca-b8c3f6e5f18e",
   "metadata": {},
   "outputs": [
    {
     "data": {
      "text/plain": [
       "array([[ 1,  2,  3,  4,  5, 11, 12, 13, 14, 15],\n",
       "       [ 6,  7,  8,  9, 10, 16, 17, 18, 19, 20]])"
      ]
     },
     "execution_count": 247,
     "metadata": {},
     "output_type": "execute_result"
    }
   ],
   "source": [
    "con2d_arr=np.concatenate((third_2darr,four_2darr),axis=1)\n",
    "con2d_arr"
   ]
  },
  {
   "cell_type": "code",
   "execution_count": 248,
   "id": "19a699b8-6640-4198-ad9a-829a4ab31b56",
   "metadata": {},
   "outputs": [
    {
     "data": {
      "text/plain": [
       "array([[ 1,  2,  3,  4,  5,  6,  7,  8,  9, 10],\n",
       "       [11, 12, 13, 14, 15, 16, 17, 18, 19, 20]])"
      ]
     },
     "execution_count": 248,
     "metadata": {},
     "output_type": "execute_result"
    }
   ],
   "source": [
    "st_arr=np.stack((first_arr,second_arr))\n",
    "st_arr"
   ]
  },
  {
   "cell_type": "code",
   "execution_count": 249,
   "id": "fec6570d-4c86-4da1-9223-dde7725670be",
   "metadata": {},
   "outputs": [
    {
     "data": {
      "text/plain": [
       "array([ 1,  2,  3,  4,  5,  6,  7,  8,  9, 10, 11, 12, 13, 14, 15, 16, 17,\n",
       "       18, 19, 20])"
      ]
     },
     "execution_count": 249,
     "metadata": {},
     "output_type": "execute_result"
    }
   ],
   "source": [
    "horizontal_arr=np.hstack((first_arr,second_arr))\n",
    "horizontal_arr"
   ]
  },
  {
   "cell_type": "code",
   "execution_count": 250,
   "id": "2e444a3e-0da7-4bcc-9bea-4831d0d02621",
   "metadata": {},
   "outputs": [
    {
     "data": {
      "text/plain": [
       "array([[ 1,  2,  3,  4,  5,  6,  7,  8,  9, 10],\n",
       "       [11, 12, 13, 14, 15, 16, 17, 18, 19, 20]])"
      ]
     },
     "execution_count": 250,
     "metadata": {},
     "output_type": "execute_result"
    }
   ],
   "source": [
    "vertical_arr=np.vstack((first_arr,second_arr))\n",
    "vertical_arr"
   ]
  },
  {
   "cell_type": "code",
   "execution_count": 252,
   "id": "6085250a-50cc-47d8-bf5b-e2524247a75f",
   "metadata": {},
   "outputs": [
    {
     "data": {
      "text/plain": [
       "array([ 1,  2,  3,  4,  5,  6,  7,  8,  9, 10, 11, 12])"
      ]
     },
     "execution_count": 252,
     "metadata": {},
     "output_type": "execute_result"
    }
   ],
   "source": [
    "#functions for splitting arrays\n",
    "#split\n",
    "#array_split\n",
    "#hsplit\n",
    "#vsplit\n",
    "first_arr=np.arange(1,13)\n",
    "first_arr"
   ]
  },
  {
   "cell_type": "code",
   "execution_count": 255,
   "id": "9cc3f494-5aac-44b7-a86e-98a811dfd737",
   "metadata": {},
   "outputs": [
    {
     "data": {
      "text/plain": [
       "[array([1, 2, 3]), array([4, 5, 6]), array([7, 8, 9]), array([10, 11, 12])]"
      ]
     },
     "execution_count": 255,
     "metadata": {},
     "output_type": "execute_result"
    }
   ],
   "source": [
    "split_arr=np.array_split(first_arr,4)\n",
    "split_arr"
   ]
  },
  {
   "cell_type": "code",
   "execution_count": 256,
   "id": "bee721e9-0727-45f2-b068-1bd8b595e090",
   "metadata": {},
   "outputs": [
    {
     "data": {
      "text/plain": [
       "[array([1, 2, 3]), array([4, 5, 6]), array([7, 8, 9]), array([10, 11, 12])]"
      ]
     },
     "execution_count": 256,
     "metadata": {},
     "output_type": "execute_result"
    }
   ],
   "source": [
    "split_arr=np.split(first_arr,4)\n",
    "split_arr"
   ]
  },
  {
   "cell_type": "code",
   "execution_count": 257,
   "id": "d680803d-a8bd-403e-98a1-a3a18ef7e19f",
   "metadata": {},
   "outputs": [
    {
     "name": "stdout",
     "output_type": "stream",
     "text": [
      "[4 5 6]\n"
     ]
    }
   ],
   "source": [
    "print(split_arr[1])"
   ]
  },
  {
   "cell_type": "code",
   "execution_count": 259,
   "id": "dead4ec5-4f7c-43a7-8306-4c5f55ef114d",
   "metadata": {},
   "outputs": [
    {
     "data": {
      "text/plain": [
       "[array([1, 2]),\n",
       " array([3, 4]),\n",
       " array([5, 6]),\n",
       " array([7, 8]),\n",
       " array([9]),\n",
       " array([10]),\n",
       " array([11]),\n",
       " array([12])]"
      ]
     },
     "execution_count": 259,
     "metadata": {},
     "output_type": "execute_result"
    }
   ],
   "source": [
    "split_arr=np.array_split(first_arr,8)\n",
    "split_arr"
   ]
  },
  {
   "cell_type": "code",
   "execution_count": 262,
   "id": "cd3ce057-509a-494d-a929-40acd911ba41",
   "metadata": {},
   "outputs": [
    {
     "data": {
      "text/plain": [
       "[array([[1],\n",
       "        [6]]),\n",
       " array([[2],\n",
       "        [7]]),\n",
       " array([[3],\n",
       "        [8]]),\n",
       " array([[4],\n",
       "        [9]]),\n",
       " array([[ 5],\n",
       "        [10]])]"
      ]
     },
     "execution_count": 262,
     "metadata": {},
     "output_type": "execute_result"
    }
   ],
   "source": [
    "h_split=np.hsplit(third_2darr,5)\n",
    "h_split"
   ]
  },
  {
   "cell_type": "code",
   "execution_count": 264,
   "id": "c2e223fd-1ca0-4414-bcb2-92198eac296d",
   "metadata": {},
   "outputs": [
    {
     "data": {
      "text/plain": [
       "[array([[1, 2, 3, 4, 5]]), array([[ 6,  7,  8,  9, 10]])]"
      ]
     },
     "execution_count": 264,
     "metadata": {},
     "output_type": "execute_result"
    }
   ],
   "source": [
    "v_split=np.vsplit(third_2darr,2)\n",
    "v_split"
   ]
  },
  {
   "cell_type": "code",
   "execution_count": 267,
   "id": "10a126fd-cba7-4816-af93-3acc7bb3ee0b",
   "metadata": {},
   "outputs": [
    {
     "data": {
      "text/plain": [
       "array([ 2,  4, 10,  6,  8])"
      ]
     },
     "execution_count": 267,
     "metadata": {},
     "output_type": "execute_result"
    }
   ],
   "source": [
    "arr = np.array([2,4,6,8])\n",
    "new_array = np.insert (arr, 2, 10) \n",
    "new_array"
   ]
  },
  {
   "cell_type": "code",
   "execution_count": 266,
   "id": "e0e020d9-043c-48b1-96a1-db38faffb0ff",
   "metadata": {},
   "outputs": [
    {
     "data": {
      "text/plain": [
       "array([ 2,  4,  6,  8, 10])"
      ]
     },
     "execution_count": 266,
     "metadata": {},
     "output_type": "execute_result"
    }
   ],
   "source": [
    "arr = np.array([2,4,6,8])\n",
    "new_array = np.append (arr, 10)\n",
    "new_array"
   ]
  },
  {
   "cell_type": "code",
   "execution_count": 268,
   "id": "05afa47d-1949-43d8-bdfe-69cb1761a051",
   "metadata": {},
   "outputs": [
    {
     "data": {
      "text/plain": [
       "array([[ 2,  4,  6,  8, 10],\n",
       "       [12, 14, 16, 18, 20]])"
      ]
     },
     "execution_count": 268,
     "metadata": {},
     "output_type": "execute_result"
    }
   ],
   "source": [
    "arr = np.array([2,4,6,8,10,12,14,16,18,20])\n",
    "new_arr = np.reshape(arr, (2, 5))\n",
    "new_arr"
   ]
  },
  {
   "cell_type": "code",
   "execution_count": 271,
   "id": "779c24cc-4353-427f-8312-32dae3a5eb01",
   "metadata": {},
   "outputs": [
    {
     "data": {
      "text/plain": [
       "array([4])"
      ]
     },
     "execution_count": 271,
     "metadata": {},
     "output_type": "execute_result"
    }
   ],
   "source": [
    "arr = np.array([2,4,6,8,10])\n",
    "arr[1:2:3]"
   ]
  },
  {
   "cell_type": "code",
   "execution_count": 3,
   "id": "de32be29-8a43-467a-af53-ec5b60244503",
   "metadata": {},
   "outputs": [
    {
     "name": "stdout",
     "output_type": "stream",
     "text": [
      "a [ 1  2  3  4  5  6  7  8  9 10]\n",
      "b [21 22 23 24 25 26 27 28 29 30]\n"
     ]
    }
   ],
   "source": [
    "#arithematic operations and functions\n",
    "import numpy as np\n",
    "a=np.arange(1,11)\n",
    "b=np.arange(21,31)\n",
    "print('a',a)\n",
    "print('b',b)"
   ]
  },
  {
   "cell_type": "code",
   "execution_count": 4,
   "id": "a52638e8-39c3-4040-a2a7-bebba5103f34",
   "metadata": {},
   "outputs": [
    {
     "data": {
      "text/plain": [
       "array([22, 24, 26, 28, 30, 32, 34, 36, 38, 40])"
      ]
     },
     "execution_count": 4,
     "metadata": {},
     "output_type": "execute_result"
    }
   ],
   "source": [
    "a+b"
   ]
  },
  {
   "cell_type": "code",
   "execution_count": 5,
   "id": "16da9ca2-0234-46c5-ac9e-0ac5fc6949ce",
   "metadata": {},
   "outputs": [
    {
     "data": {
      "text/plain": [
       "array([20, 20, 20, 20, 20, 20, 20, 20, 20, 20])"
      ]
     },
     "execution_count": 5,
     "metadata": {},
     "output_type": "execute_result"
    }
   ],
   "source": [
    "b-a"
   ]
  },
  {
   "cell_type": "code",
   "execution_count": 6,
   "id": "3b8017c9-2445-4c6b-8e01-9b447b97e7c1",
   "metadata": {},
   "outputs": [
    {
     "data": {
      "text/plain": [
       "array([ 21,  44,  69,  96, 125, 156, 189, 224, 261, 300])"
      ]
     },
     "execution_count": 6,
     "metadata": {},
     "output_type": "execute_result"
    }
   ],
   "source": [
    "a*b"
   ]
  },
  {
   "cell_type": "code",
   "execution_count": 7,
   "id": "2df4220a-c564-4a96-bdff-1cafd79d6056",
   "metadata": {},
   "outputs": [
    {
     "data": {
      "text/plain": [
       "array([0.04761905, 0.09090909, 0.13043478, 0.16666667, 0.2       ,\n",
       "       0.23076923, 0.25925926, 0.28571429, 0.31034483, 0.33333333])"
      ]
     },
     "execution_count": 7,
     "metadata": {},
     "output_type": "execute_result"
    }
   ],
   "source": [
    "a/b"
   ]
  },
  {
   "cell_type": "code",
   "execution_count": 8,
   "id": "234b1238-cf1f-4f71-b120-bc0fda9f22e1",
   "metadata": {},
   "outputs": [
    {
     "data": {
      "text/plain": [
       "array([21.        , 11.        ,  7.66666667,  6.        ,  5.        ,\n",
       "        4.33333333,  3.85714286,  3.5       ,  3.22222222,  3.        ])"
      ]
     },
     "execution_count": 8,
     "metadata": {},
     "output_type": "execute_result"
    }
   ],
   "source": [
    "b/a"
   ]
  },
  {
   "cell_type": "code",
   "execution_count": 12,
   "id": "a95b91b1-27d6-48ff-8f3c-d0d21500c1af",
   "metadata": {},
   "outputs": [
    {
     "name": "stdout",
     "output_type": "stream",
     "text": [
      "c [ 2  3  4  5  6  7  8  9 10 11]\n"
     ]
    }
   ],
   "source": [
    "c=np.arange(2,12)\n",
    "print(\"c\",c)"
   ]
  },
  {
   "cell_type": "code",
   "execution_count": 13,
   "id": "fbaed3e0-42ca-4a25-a618-2c705ef45824",
   "metadata": {},
   "outputs": [
    {
     "data": {
      "text/plain": [
       "array([         1,          8,         81,       1024,      15625,\n",
       "           279936,    5764801,  134217728, -808182895, 1215752192])"
      ]
     },
     "execution_count": 13,
     "metadata": {},
     "output_type": "execute_result"
    }
   ],
   "source": [
    "a**c"
   ]
  },
  {
   "cell_type": "code",
   "execution_count": 14,
   "id": "ade73b91-1d20-4b8f-a97c-2055185cd627",
   "metadata": {},
   "outputs": [
    {
     "data": {
      "text/plain": [
       "array([ 2,  4,  6,  8, 10, 12, 14, 16, 18, 20])"
      ]
     },
     "execution_count": 14,
     "metadata": {},
     "output_type": "execute_result"
    }
   ],
   "source": [
    "a*2"
   ]
  },
  {
   "cell_type": "code",
   "execution_count": 15,
   "id": "8edab090-2ef6-4a62-a6f3-9d46e6837d80",
   "metadata": {},
   "outputs": [
    {
     "data": {
      "text/plain": [
       "array([22, 24, 26, 28, 30, 32, 34, 36, 38, 40])"
      ]
     },
     "execution_count": 15,
     "metadata": {},
     "output_type": "execute_result"
    }
   ],
   "source": [
    "np.add(a,b)"
   ]
  },
  {
   "cell_type": "code",
   "execution_count": 17,
   "id": "edc2cf41-e639-4a01-b52b-719372a712c7",
   "metadata": {},
   "outputs": [
    {
     "data": {
      "text/plain": [
       "array([20, 20, 20, 20, 20, 20, 20, 20, 20, 20])"
      ]
     },
     "execution_count": 17,
     "metadata": {},
     "output_type": "execute_result"
    }
   ],
   "source": [
    "np.subtract(b,a)"
   ]
  },
  {
   "cell_type": "code",
   "execution_count": 18,
   "id": "eb8733da-2490-4ade-8f81-3021f7fec912",
   "metadata": {},
   "outputs": [
    {
     "data": {
      "text/plain": [
       "array([ 21,  44,  69,  96, 125, 156, 189, 224, 261, 300])"
      ]
     },
     "execution_count": 18,
     "metadata": {},
     "output_type": "execute_result"
    }
   ],
   "source": [
    "np.multiply(a,b)"
   ]
  },
  {
   "cell_type": "code",
   "execution_count": 19,
   "id": "2ed0113b-4f5c-400b-a5f8-ae91640a4d07",
   "metadata": {},
   "outputs": [
    {
     "data": {
      "text/plain": [
       "array([0.04761905, 0.09090909, 0.13043478, 0.16666667, 0.2       ,\n",
       "       0.23076923, 0.25925926, 0.28571429, 0.31034483, 0.33333333])"
      ]
     },
     "execution_count": 19,
     "metadata": {},
     "output_type": "execute_result"
    }
   ],
   "source": [
    "np.divide(a,b)"
   ]
  },
  {
   "cell_type": "code",
   "execution_count": 20,
   "id": "bdbfd3c7-cabd-45b4-b994-05da6fd37805",
   "metadata": {},
   "outputs": [
    {
     "data": {
      "text/plain": [
       "array([21.        , 11.        ,  7.66666667,  6.        ,  5.        ,\n",
       "        4.33333333,  3.85714286,  3.5       ,  3.22222222,  3.        ])"
      ]
     },
     "execution_count": 20,
     "metadata": {},
     "output_type": "execute_result"
    }
   ],
   "source": [
    "np.divide(b,a)"
   ]
  },
  {
   "cell_type": "code",
   "execution_count": 24,
   "id": "b947090d-916a-41f0-97a9-4e1a0a461d56",
   "metadata": {},
   "outputs": [
    {
     "data": {
      "text/plain": [
       "array([0, 0, 2, 0, 0, 2, 6, 4, 2, 0])"
      ]
     },
     "execution_count": 24,
     "metadata": {},
     "output_type": "execute_result"
    }
   ],
   "source": [
    "np.mod(b,a)"
   ]
  },
  {
   "cell_type": "code",
   "execution_count": 25,
   "id": "28ca6180-318e-4a07-8c40-06b260d632f1",
   "metadata": {},
   "outputs": [
    {
     "data": {
      "text/plain": [
       "array([         1,          8,         81,       1024,      15625,\n",
       "           279936,    5764801,  134217728, -808182895, 1215752192])"
      ]
     },
     "execution_count": 25,
     "metadata": {},
     "output_type": "execute_result"
    }
   ],
   "source": [
    "np.power(a,c)"
   ]
  },
  {
   "cell_type": "code",
   "execution_count": 26,
   "id": "582cd3c3-ce7f-4d5e-8974-b1109cd6cf9a",
   "metadata": {},
   "outputs": [
    {
     "data": {
      "text/plain": [
       "array([1.        , 1.41421356, 1.73205081, 2.        , 2.23606798,\n",
       "       2.44948974, 2.64575131, 2.82842712, 3.        , 3.16227766])"
      ]
     },
     "execution_count": 26,
     "metadata": {},
     "output_type": "execute_result"
    }
   ],
   "source": [
    "np.sqrt(a)"
   ]
  },
  {
   "cell_type": "code",
   "execution_count": 27,
   "id": "a35d2edc-451b-4caa-b44a-cfd0b8e8193d",
   "metadata": {},
   "outputs": [
    {
     "data": {
      "text/plain": [
       "array([[1, 2, 3],\n",
       "       [4, 5, 6],\n",
       "       [7, 8, 9]])"
      ]
     },
     "execution_count": 27,
     "metadata": {},
     "output_type": "execute_result"
    }
   ],
   "source": [
    "#Broadcasting\n",
    "#the term describes how numpy treats arrays with different shapes during arithmatic operations\n",
    "a=np.arange(1,10).reshape(3,3)\n",
    "a"
   ]
  },
  {
   "cell_type": "code",
   "execution_count": 28,
   "id": "820587ac-8ba4-4a47-bdb0-2df19de74b5c",
   "metadata": {},
   "outputs": [
    {
     "data": {
      "text/plain": [
       "array([1, 2, 3])"
      ]
     },
     "execution_count": 28,
     "metadata": {},
     "output_type": "execute_result"
    }
   ],
   "source": [
    "b=np.arange(1,4)\n",
    "b"
   ]
  },
  {
   "cell_type": "code",
   "execution_count": 29,
   "id": "3b26e479-70d5-46d2-8081-c60171d1708d",
   "metadata": {},
   "outputs": [
    {
     "data": {
      "text/plain": [
       "array([[ 2,  4,  6],\n",
       "       [ 5,  7,  9],\n",
       "       [ 8, 10, 12]])"
      ]
     },
     "execution_count": 29,
     "metadata": {},
     "output_type": "execute_result"
    }
   ],
   "source": [
    "a+b"
   ]
  },
  {
   "cell_type": "code",
   "execution_count": 30,
   "id": "70aceb5b-6c5f-4c94-83a5-d24398eda75d",
   "metadata": {},
   "outputs": [],
   "source": [
    "c=np.arange(1,3)"
   ]
  },
  {
   "cell_type": "code",
   "execution_count": 31,
   "id": "47b70346-1a12-48ce-9da0-41f275b8ac77",
   "metadata": {},
   "outputs": [
    {
     "data": {
      "text/plain": [
       "array([1, 2])"
      ]
     },
     "execution_count": 31,
     "metadata": {},
     "output_type": "execute_result"
    }
   ],
   "source": [
    "c"
   ]
  },
  {
   "cell_type": "code",
   "execution_count": 32,
   "id": "a4a1bbb1-dccd-4b01-b18d-35e491991bb5",
   "metadata": {},
   "outputs": [
    {
     "ename": "ValueError",
     "evalue": "operands could not be broadcast together with shapes (3,3) (2,) ",
     "output_type": "error",
     "traceback": [
      "\u001b[1;31m---------------------------------------------------------------------------\u001b[0m",
      "\u001b[1;31mValueError\u001b[0m                                Traceback (most recent call last)",
      "Cell \u001b[1;32mIn[32], line 1\u001b[0m\n\u001b[1;32m----> 1\u001b[0m a\u001b[38;5;241m+\u001b[39mc\n",
      "\u001b[1;31mValueError\u001b[0m: operands could not be broadcast together with shapes (3,3) (2,) "
     ]
    }
   ],
   "source": [
    "a+c"
   ]
  },
  {
   "cell_type": "code",
   "execution_count": 33,
   "id": "c2a19e9a-263f-4374-bba1-cfd11e3031b6",
   "metadata": {},
   "outputs": [],
   "source": [
    "d=np.arange(24).reshape(2,3,4)"
   ]
  },
  {
   "cell_type": "code",
   "execution_count": 34,
   "id": "ae18c0d4-4db0-447d-b636-13cd56d0262b",
   "metadata": {},
   "outputs": [
    {
     "data": {
      "text/plain": [
       "array([[[ 0,  1,  2,  3],\n",
       "        [ 4,  5,  6,  7],\n",
       "        [ 8,  9, 10, 11]],\n",
       "\n",
       "       [[12, 13, 14, 15],\n",
       "        [16, 17, 18, 19],\n",
       "        [20, 21, 22, 23]]])"
      ]
     },
     "execution_count": 34,
     "metadata": {},
     "output_type": "execute_result"
    }
   ],
   "source": [
    "d"
   ]
  },
  {
   "cell_type": "code",
   "execution_count": 35,
   "id": "22334bec-b09c-458c-9e54-bdb7f22b0011",
   "metadata": {},
   "outputs": [
    {
     "data": {
      "text/plain": [
       "array([0, 1, 2, 3])"
      ]
     },
     "execution_count": 35,
     "metadata": {},
     "output_type": "execute_result"
    }
   ],
   "source": [
    "e=np.arange(4)\n",
    "e"
   ]
  },
  {
   "cell_type": "code",
   "execution_count": 36,
   "id": "f14633e3-b7b3-46dd-aac4-f17b59c0bdd4",
   "metadata": {},
   "outputs": [
    {
     "data": {
      "text/plain": [
       "array([[[ 0,  0,  0,  0],\n",
       "        [ 4,  4,  4,  4],\n",
       "        [ 8,  8,  8,  8]],\n",
       "\n",
       "       [[12, 12, 12, 12],\n",
       "        [16, 16, 16, 16],\n",
       "        [20, 20, 20, 20]]])"
      ]
     },
     "execution_count": 36,
     "metadata": {},
     "output_type": "execute_result"
    }
   ],
   "source": [
    "d-e"
   ]
  },
  {
   "cell_type": "code",
   "execution_count": 37,
   "id": "9a64f4d7-8485-4265-98b5-3489ced5a2e1",
   "metadata": {},
   "outputs": [
    {
     "data": {
      "text/plain": [
       "array([[ 2,  4,  6],\n",
       "       [ 5,  7,  9],\n",
       "       [ 8, 10, 12]])"
      ]
     },
     "execution_count": 37,
     "metadata": {},
     "output_type": "execute_result"
    }
   ],
   "source": [
    "a+b"
   ]
  },
  {
   "cell_type": "code",
   "execution_count": 38,
   "id": "01d1dd86-ff4a-43e3-8578-e7d97b52b6e2",
   "metadata": {},
   "outputs": [
    {
     "data": {
      "text/plain": [
       "array([ 10,  20,  30,  40,  50,  60,  70,  80,  90, 100])"
      ]
     },
     "execution_count": 38,
     "metadata": {},
     "output_type": "execute_result"
    }
   ],
   "source": [
    "#aggregate functions\n",
    "first_arr=np.arange(10,110,10)\n",
    "first_arr"
   ]
  },
  {
   "cell_type": "code",
   "execution_count": 53,
   "id": "5bea2f0c-83ac-4c38-9f3f-93ac6eb6657b",
   "metadata": {},
   "outputs": [
    {
     "data": {
      "text/plain": [
       "array([[10, 20, 30],\n",
       "       [40, 50, 60],\n",
       "       [70, 80, 90]])"
      ]
     },
     "execution_count": 53,
     "metadata": {},
     "output_type": "execute_result"
    }
   ],
   "source": [
    "second_arr=np.arange(10,100,10).reshape(3,3)\n",
    "second_arr"
   ]
  },
  {
   "cell_type": "code",
   "execution_count": 51,
   "id": "3a5864d6-8090-493f-8643-f51330ac4dbb",
   "metadata": {},
   "outputs": [
    {
     "data": {
      "text/plain": [
       "array([[ 10,  20,  30,  40,  50],\n",
       "       [ 60,  70,  80,  90, 100]])"
      ]
     },
     "execution_count": 51,
     "metadata": {},
     "output_type": "execute_result"
    }
   ],
   "source": [
    "third_arr=np.arange(10,110,10).reshape(2,5)\n",
    "third_arr"
   ]
  },
  {
   "cell_type": "code",
   "execution_count": 42,
   "id": "c51f191a-fa28-44f7-8788-83810444604e",
   "metadata": {},
   "outputs": [
    {
     "data": {
      "text/plain": [
       "550"
      ]
     },
     "execution_count": 42,
     "metadata": {},
     "output_type": "execute_result"
    }
   ],
   "source": [
    "first_arr.sum()"
   ]
  },
  {
   "cell_type": "code",
   "execution_count": 43,
   "id": "6acebc2c-ffa2-45af-a7ae-b38963d3e91f",
   "metadata": {},
   "outputs": [
    {
     "data": {
      "text/plain": [
       "450"
      ]
     },
     "execution_count": 43,
     "metadata": {},
     "output_type": "execute_result"
    }
   ],
   "source": [
    "second_arr.sum()"
   ]
  },
  {
   "cell_type": "code",
   "execution_count": 44,
   "id": "377692b3-a4f6-4e41-b699-1fe674399bc9",
   "metadata": {},
   "outputs": [
    {
     "data": {
      "text/plain": [
       "550"
      ]
     },
     "execution_count": 44,
     "metadata": {},
     "output_type": "execute_result"
    }
   ],
   "source": [
    "third_arr.sum()"
   ]
  },
  {
   "cell_type": "code",
   "execution_count": 45,
   "id": "ee9b2ea8-508f-43a0-a2bd-ea8ff8506628",
   "metadata": {},
   "outputs": [
    {
     "data": {
      "text/plain": [
       "array([120, 150, 180])"
      ]
     },
     "execution_count": 45,
     "metadata": {},
     "output_type": "execute_result"
    }
   ],
   "source": [
    "second_arr.sum(axis=0)"
   ]
  },
  {
   "cell_type": "code",
   "execution_count": 46,
   "id": "ae178954-a168-4534-b052-ae7da12c6956",
   "metadata": {},
   "outputs": [
    {
     "data": {
      "text/plain": [
       "array([ 70,  90, 110, 130, 150])"
      ]
     },
     "execution_count": 46,
     "metadata": {},
     "output_type": "execute_result"
    }
   ],
   "source": [
    "third_arr.sum(axis=0)"
   ]
  },
  {
   "cell_type": "code",
   "execution_count": 47,
   "id": "06708c85-de96-4fd9-8691-32a391f9a1db",
   "metadata": {},
   "outputs": [
    {
     "data": {
      "text/plain": [
       "550"
      ]
     },
     "execution_count": 47,
     "metadata": {},
     "output_type": "execute_result"
    }
   ],
   "source": [
    "first_arr.sum(axis=0)"
   ]
  },
  {
   "cell_type": "code",
   "execution_count": 48,
   "id": "b7e4695a-9dfd-4d49-9330-5cff13fa00e3",
   "metadata": {},
   "outputs": [
    {
     "data": {
      "text/plain": [
       "1704722432"
      ]
     },
     "execution_count": 48,
     "metadata": {},
     "output_type": "execute_result"
    }
   ],
   "source": [
    "first_arr.prod()"
   ]
  },
  {
   "cell_type": "code",
   "execution_count": 54,
   "id": "85e916c7-ac73-4f84-abf2-62ad804bef4d",
   "metadata": {},
   "outputs": [
    {
     "data": {
      "text/plain": [
       "-1786839040"
      ]
     },
     "execution_count": 54,
     "metadata": {},
     "output_type": "execute_result"
    }
   ],
   "source": [
    "second_arr.prod()"
   ]
  },
  {
   "cell_type": "code",
   "execution_count": 52,
   "id": "bb5e47d2-5ca9-4c7d-b590-0af62e44b0c5",
   "metadata": {},
   "outputs": [
    {
     "data": {
      "text/plain": [
       "1704722432"
      ]
     },
     "execution_count": 52,
     "metadata": {},
     "output_type": "execute_result"
    }
   ],
   "source": [
    "third_arr.prod()"
   ]
  },
  {
   "cell_type": "code",
   "execution_count": 55,
   "id": "8d5ab4c7-ca38-4596-bbdb-6e806f6acd53",
   "metadata": {},
   "outputs": [
    {
     "data": {
      "text/plain": [
       "array([ 600, 1400, 2400, 3600, 5000])"
      ]
     },
     "execution_count": 55,
     "metadata": {},
     "output_type": "execute_result"
    }
   ],
   "source": [
    "third_arr.prod(axis=0)"
   ]
  },
  {
   "cell_type": "code",
   "execution_count": 56,
   "id": "9c1c26dd-d323-4446-93e4-0f33a528badf",
   "metadata": {},
   "outputs": [
    {
     "data": {
      "text/plain": [
       "55.0"
      ]
     },
     "execution_count": 56,
     "metadata": {},
     "output_type": "execute_result"
    }
   ],
   "source": [
    "np.average(first_arr)"
   ]
  },
  {
   "cell_type": "code",
   "execution_count": 57,
   "id": "f191874a-9e4b-43b7-9c46-79ab53e5467f",
   "metadata": {},
   "outputs": [
    {
     "data": {
      "text/plain": [
       "50.0"
      ]
     },
     "execution_count": 57,
     "metadata": {},
     "output_type": "execute_result"
    }
   ],
   "source": [
    "np.average(second_arr)"
   ]
  },
  {
   "cell_type": "code",
   "execution_count": 58,
   "id": "5fab3e44-ccbb-4574-a333-09b65a2da3c7",
   "metadata": {},
   "outputs": [
    {
     "data": {
      "text/plain": [
       "55.0"
      ]
     },
     "execution_count": 58,
     "metadata": {},
     "output_type": "execute_result"
    }
   ],
   "source": [
    "np.average(third_arr)"
   ]
  },
  {
   "cell_type": "code",
   "execution_count": 59,
   "id": "10754484-4a06-45a2-9c30-6799f1aac5f1",
   "metadata": {},
   "outputs": [
    {
     "data": {
      "text/plain": [
       "10"
      ]
     },
     "execution_count": 59,
     "metadata": {},
     "output_type": "execute_result"
    }
   ],
   "source": [
    "np.min(first_arr)"
   ]
  },
  {
   "cell_type": "code",
   "execution_count": 60,
   "id": "336049e3-4439-48de-9811-ca236391b0e8",
   "metadata": {},
   "outputs": [
    {
     "data": {
      "text/plain": [
       "10"
      ]
     },
     "execution_count": 60,
     "metadata": {},
     "output_type": "execute_result"
    }
   ],
   "source": [
    "np.min(second_arr)"
   ]
  },
  {
   "cell_type": "code",
   "execution_count": 61,
   "id": "4c684f01-c841-4e12-b5c9-93d8ab4e7264",
   "metadata": {},
   "outputs": [
    {
     "data": {
      "text/plain": [
       "10"
      ]
     },
     "execution_count": 61,
     "metadata": {},
     "output_type": "execute_result"
    }
   ],
   "source": [
    "np.min(third_arr)"
   ]
  },
  {
   "cell_type": "code",
   "execution_count": 62,
   "id": "12cafe8d-ef2a-4496-8f2e-bbac89daf9b6",
   "metadata": {},
   "outputs": [
    {
     "data": {
      "text/plain": [
       "100"
      ]
     },
     "execution_count": 62,
     "metadata": {},
     "output_type": "execute_result"
    }
   ],
   "source": [
    "np.max(first_arr)"
   ]
  },
  {
   "cell_type": "code",
   "execution_count": 63,
   "id": "b08b4ef2-3b19-4d5a-a262-e2f80344b619",
   "metadata": {},
   "outputs": [
    {
     "data": {
      "text/plain": [
       "90"
      ]
     },
     "execution_count": 63,
     "metadata": {},
     "output_type": "execute_result"
    }
   ],
   "source": [
    "np.max(second_arr)"
   ]
  },
  {
   "cell_type": "code",
   "execution_count": 64,
   "id": "41f99d54-23db-46af-b95b-843669658279",
   "metadata": {},
   "outputs": [
    {
     "data": {
      "text/plain": [
       "100"
      ]
     },
     "execution_count": 64,
     "metadata": {},
     "output_type": "execute_result"
    }
   ],
   "source": [
    "np.max(third_arr)"
   ]
  },
  {
   "cell_type": "code",
   "execution_count": 65,
   "id": "85590e60-c24c-4ce9-9b16-df078c871aca",
   "metadata": {},
   "outputs": [
    {
     "data": {
      "text/plain": [
       "55.0"
      ]
     },
     "execution_count": 65,
     "metadata": {},
     "output_type": "execute_result"
    }
   ],
   "source": [
    "np.mean(first_arr)"
   ]
  },
  {
   "cell_type": "code",
   "execution_count": 66,
   "id": "658efb81-6587-443d-8a23-96002f701b12",
   "metadata": {},
   "outputs": [
    {
     "data": {
      "text/plain": [
       "28.722813232690143"
      ]
     },
     "execution_count": 66,
     "metadata": {},
     "output_type": "execute_result"
    }
   ],
   "source": [
    "np.std(first_arr)"
   ]
  },
  {
   "cell_type": "code",
   "execution_count": 69,
   "id": "80ee9c23-77a5-47a9-a126-ac2015f5b737",
   "metadata": {},
   "outputs": [
    {
     "data": {
      "text/plain": [
       "array([1, 2, 3, 4, 5, 6, 7, 8, 9])"
      ]
     },
     "execution_count": 69,
     "metadata": {},
     "output_type": "execute_result"
    }
   ],
   "source": [
    "#how to get unique items and counts\n",
    "first_arr=np.array([1,2,3,4,5,6,1,4,5,7,8,9,3,5])\n",
    "np.unique(first_arr)"
   ]
  },
  {
   "cell_type": "code",
   "execution_count": 70,
   "id": "9390f778-cccf-4901-94b0-b00a4a02774a",
   "metadata": {},
   "outputs": [
    {
     "data": {
      "text/plain": [
       "array([1, 2, 3, 4, 5, 6, 7, 8, 9])"
      ]
     },
     "execution_count": 70,
     "metadata": {},
     "output_type": "execute_result"
    }
   ],
   "source": [
    "second_arr=np.array([[1,2,1,1],[3,4,5,6],[1,4,5,7],[8,9,3,5]])\n",
    "np.unique(second_arr)"
   ]
  },
  {
   "cell_type": "code",
   "execution_count": 71,
   "id": "6118fbe0-9072-4c3d-b1be-d40b02c99ad0",
   "metadata": {},
   "outputs": [
    {
     "data": {
      "text/plain": [
       "array([[1, 2, 1, 1],\n",
       "       [1, 4, 5, 7],\n",
       "       [3, 4, 5, 6],\n",
       "       [8, 9, 3, 5]])"
      ]
     },
     "execution_count": 71,
     "metadata": {},
     "output_type": "execute_result"
    }
   ],
   "source": [
    "np.unique(second_arr,axis=0)"
   ]
  },
  {
   "cell_type": "code",
   "execution_count": 72,
   "id": "9c4c29d0-fe6d-4077-9edf-e49b827c0315",
   "metadata": {},
   "outputs": [
    {
     "data": {
      "text/plain": [
       "array([[1, 2, 1, 1],\n",
       "       [1, 4, 5, 7],\n",
       "       [3, 4, 5, 6],\n",
       "       [8, 9, 3, 5]])"
      ]
     },
     "execution_count": 72,
     "metadata": {},
     "output_type": "execute_result"
    }
   ],
   "source": [
    "np.unique(second_arr,axis=0)"
   ]
  },
  {
   "cell_type": "code",
   "execution_count": 73,
   "id": "fa497007-3671-438d-ae5c-b76269cc0ac4",
   "metadata": {},
   "outputs": [
    {
     "data": {
      "text/plain": [
       "(array([1, 2, 3, 4, 5, 6, 7, 8, 9]),\n",
       " array([ 0,  1,  2,  3,  4,  5,  9, 10, 11], dtype=int64))"
      ]
     },
     "execution_count": 73,
     "metadata": {},
     "output_type": "execute_result"
    }
   ],
   "source": [
    "np.unique(first_arr,return_index=True)"
   ]
  },
  {
   "cell_type": "code",
   "execution_count": 74,
   "id": "c2bbe0af-d3ab-4def-a4d8-0e857ea40596",
   "metadata": {},
   "outputs": [
    {
     "data": {
      "text/plain": [
       "(array([1, 2, 3, 4, 5, 6, 7, 8, 9]),\n",
       " array([4, 1, 2, 2, 3, 1, 1, 1, 1], dtype=int64))"
      ]
     },
     "execution_count": 74,
     "metadata": {},
     "output_type": "execute_result"
    }
   ],
   "source": [
    "np.unique(second_arr,return_counts=True)"
   ]
  },
  {
   "cell_type": "code",
   "execution_count": 77,
   "id": "daa35f6c-fdde-4c5d-a005-6ee2cda32531",
   "metadata": {},
   "outputs": [
    {
     "data": {
      "text/plain": [
       "array([[ 0,  1,  2,  3],\n",
       "       [ 4,  5,  6,  7],\n",
       "       [ 8,  9, 10, 11]])"
      ]
     },
     "execution_count": 77,
     "metadata": {},
     "output_type": "execute_result"
    }
   ],
   "source": [
    "#transpose like operations\n",
    "first_2dimarr=np.arange(12).reshape((3,4))\n",
    "first_2dimarr"
   ]
  },
  {
   "cell_type": "code",
   "execution_count": 78,
   "id": "72fb7061-e274-4327-ae4b-b1aa1b6e2a46",
   "metadata": {},
   "outputs": [
    {
     "data": {
      "text/plain": [
       "array([[ 0,  4,  8],\n",
       "       [ 1,  5,  9],\n",
       "       [ 2,  6, 10],\n",
       "       [ 3,  7, 11]])"
      ]
     },
     "execution_count": 78,
     "metadata": {},
     "output_type": "execute_result"
    }
   ],
   "source": [
    "np.transpose(first_2dimarr)"
   ]
  },
  {
   "cell_type": "code",
   "execution_count": 79,
   "id": "ca394bd3-fa4f-4814-acf0-5b9005f86946",
   "metadata": {},
   "outputs": [
    {
     "data": {
      "text/plain": [
       "array([[0, 1],\n",
       "       [2, 3],\n",
       "       [4, 5]])"
      ]
     },
     "execution_count": 79,
     "metadata": {},
     "output_type": "execute_result"
    }
   ],
   "source": [
    "second_2dimarr=np.arange(6).reshape((3,2))\n",
    "second_2dimarr"
   ]
  },
  {
   "cell_type": "code",
   "execution_count": 81,
   "id": "19e6f179-922f-4a60-bdfe-5b6c38335495",
   "metadata": {},
   "outputs": [
    {
     "data": {
      "text/plain": [
       "array([[0, 2, 4],\n",
       "       [1, 3, 5]])"
      ]
     },
     "execution_count": 81,
     "metadata": {},
     "output_type": "execute_result"
    }
   ],
   "source": [
    "np.transpose(second_2dimarr,(1,0))"
   ]
  },
  {
   "cell_type": "code",
   "execution_count": 82,
   "id": "5847bfb0-792b-4f42-872e-b2e882a78091",
   "metadata": {},
   "outputs": [
    {
     "data": {
      "text/plain": [
       "array([[0, 2, 4],\n",
       "       [1, 3, 5]])"
      ]
     },
     "execution_count": 82,
     "metadata": {},
     "output_type": "execute_result"
    }
   ],
   "source": [
    "np.transpose(second_2dimarr)"
   ]
  },
  {
   "cell_type": "code",
   "execution_count": 83,
   "id": "acf2f5de-ac9f-4172-bf5c-d3464d73fab5",
   "metadata": {},
   "outputs": [
    {
     "data": {
      "text/plain": [
       "array([[[ 0,  1,  2,  3],\n",
       "        [ 4,  5,  6,  7],\n",
       "        [ 8,  9, 10, 11]],\n",
       "\n",
       "       [[12, 13, 14, 15],\n",
       "        [16, 17, 18, 19],\n",
       "        [20, 21, 22, 23]]])"
      ]
     },
     "execution_count": 83,
     "metadata": {},
     "output_type": "execute_result"
    }
   ],
   "source": [
    "first_3dimarr=np.arange(24).reshape((2,3,4))\n",
    "first_3dimarr"
   ]
  },
  {
   "cell_type": "code",
   "execution_count": 84,
   "id": "68f6c945-17b9-4d70-b2ec-34477d911562",
   "metadata": {},
   "outputs": [
    {
     "data": {
      "text/plain": [
       "array([[[ 0, 12],\n",
       "        [ 1, 13],\n",
       "        [ 2, 14],\n",
       "        [ 3, 15]],\n",
       "\n",
       "       [[ 4, 16],\n",
       "        [ 5, 17],\n",
       "        [ 6, 18],\n",
       "        [ 7, 19]],\n",
       "\n",
       "       [[ 8, 20],\n",
       "        [ 9, 21],\n",
       "        [10, 22],\n",
       "        [11, 23]]])"
      ]
     },
     "execution_count": 84,
     "metadata": {},
     "output_type": "execute_result"
    }
   ],
   "source": [
    "np.moveaxis(first_3dimarr,0,-1)"
   ]
  },
  {
   "cell_type": "code",
   "execution_count": 86,
   "id": "7bc4afa9-50c6-4d66-bd78-4256a7a83777",
   "metadata": {},
   "outputs": [
    {
     "data": {
      "text/plain": [
       "array([[[ 0, 12],\n",
       "        [ 4, 16],\n",
       "        [ 8, 20]],\n",
       "\n",
       "       [[ 1, 13],\n",
       "        [ 5, 17],\n",
       "        [ 9, 21]],\n",
       "\n",
       "       [[ 2, 14],\n",
       "        [ 6, 18],\n",
       "        [10, 22]],\n",
       "\n",
       "       [[ 3, 15],\n",
       "        [ 7, 19],\n",
       "        [11, 23]]])"
      ]
     },
     "execution_count": 86,
     "metadata": {},
     "output_type": "execute_result"
    }
   ],
   "source": [
    "np.swapaxes(first_3dimarr,0,2)"
   ]
  },
  {
   "cell_type": "code",
   "execution_count": 87,
   "id": "27ce625f-e562-4670-8384-a80b383863de",
   "metadata": {},
   "outputs": [
    {
     "data": {
      "text/plain": [
       "[10, 1, 2, 4, 5, 6, 7, 8, 9, 4]"
      ]
     },
     "execution_count": 87,
     "metadata": {},
     "output_type": "execute_result"
    }
   ],
   "source": [
    "#reverse an array\n",
    "#reverse an array using slicing\n",
    "arr_1dim=[10,1,2,4,5,6,7,8,9,4]\n",
    "arr_1dim"
   ]
  },
  {
   "cell_type": "code",
   "execution_count": 89,
   "id": "fa04b3bf-88c4-428a-bf7c-ad5fe3543c2e",
   "metadata": {},
   "outputs": [
    {
     "data": {
      "text/plain": [
       "[4, 9, 8, 7, 6, 5, 4, 2, 1, 10]"
      ]
     },
     "execution_count": 89,
     "metadata": {},
     "output_type": "execute_result"
    }
   ],
   "source": [
    "arr_1dim[::-1]"
   ]
  },
  {
   "cell_type": "code",
   "execution_count": 90,
   "id": "59903e6c-a833-468f-9b34-d2d090b4fc1a",
   "metadata": {},
   "outputs": [
    {
     "data": {
      "text/plain": [
       "array([ 4,  9,  8,  7,  6,  5,  4,  2,  1, 10])"
      ]
     },
     "execution_count": 90,
     "metadata": {},
     "output_type": "execute_result"
    }
   ],
   "source": [
    "np.flip(arr_1dim)"
   ]
  },
  {
   "cell_type": "code",
   "execution_count": 93,
   "id": "508ef65f-5953-44fe-8640-e86ec055c104",
   "metadata": {},
   "outputs": [
    {
     "data": {
      "text/plain": [
       "array([[0, 1, 2],\n",
       "       [3, 4, 5],\n",
       "       [6, 7, 8]])"
      ]
     },
     "execution_count": 93,
     "metadata": {},
     "output_type": "execute_result"
    }
   ],
   "source": [
    "arr_2dim=np.arange(9).reshape(3,3)\n",
    "arr_2dim"
   ]
  },
  {
   "cell_type": "code",
   "execution_count": 94,
   "id": "acc2c5cc-7a5d-4a8f-91c5-256b477190fa",
   "metadata": {},
   "outputs": [
    {
     "data": {
      "text/plain": [
       "array([[8, 7, 6],\n",
       "       [5, 4, 3],\n",
       "       [2, 1, 0]])"
      ]
     },
     "execution_count": 94,
     "metadata": {},
     "output_type": "execute_result"
    }
   ],
   "source": [
    "np.flip(arr_2dim)"
   ]
  },
  {
   "cell_type": "code",
   "execution_count": 96,
   "id": "20d8f2a0-0cac-4309-ba8f-bc7f1d962826",
   "metadata": {},
   "outputs": [
    {
     "data": {
      "text/plain": [
       "array([[2, 1, 0],\n",
       "       [5, 4, 3],\n",
       "       [8, 7, 6]])"
      ]
     },
     "execution_count": 96,
     "metadata": {},
     "output_type": "execute_result"
    }
   ],
   "source": [
    "np.flip(arr_2dim,1)"
   ]
  },
  {
   "cell_type": "code",
   "execution_count": 97,
   "id": "82caaefb-fc7e-4203-b170-d82c1487e696",
   "metadata": {},
   "outputs": [
    {
     "data": {
      "text/plain": [
       "array([[[ 0,  1,  2,  3],\n",
       "        [ 4,  5,  6,  7],\n",
       "        [ 8,  9, 10, 11]],\n",
       "\n",
       "       [[12, 13, 14, 15],\n",
       "        [16, 17, 18, 19],\n",
       "        [20, 21, 22, 23]]])"
      ]
     },
     "execution_count": 97,
     "metadata": {},
     "output_type": "execute_result"
    }
   ],
   "source": [
    "arr_3dim=np.arange(24).reshape(2,3,4)\n",
    "arr_3dim"
   ]
  },
  {
   "cell_type": "code",
   "execution_count": 98,
   "id": "d694bed5-40b1-409c-907d-08fa260d8305",
   "metadata": {},
   "outputs": [
    {
     "data": {
      "text/plain": [
       "array([[[ 8,  9, 10, 11],\n",
       "        [ 4,  5,  6,  7],\n",
       "        [ 0,  1,  2,  3]],\n",
       "\n",
       "       [[20, 21, 22, 23],\n",
       "        [16, 17, 18, 19],\n",
       "        [12, 13, 14, 15]]])"
      ]
     },
     "execution_count": 98,
     "metadata": {},
     "output_type": "execute_result"
    }
   ],
   "source": [
    "np.flip(arr_3dim,1)"
   ]
  },
  {
   "cell_type": "code",
   "execution_count": 99,
   "id": "5807b12e-3d14-46a3-a40d-1a06f7b3caed",
   "metadata": {},
   "outputs": [
    {
     "data": {
      "text/plain": [
       "array([[[ 3,  2,  1,  0],\n",
       "        [ 7,  6,  5,  4],\n",
       "        [11, 10,  9,  8]],\n",
       "\n",
       "       [[15, 14, 13, 12],\n",
       "        [19, 18, 17, 16],\n",
       "        [23, 22, 21, 20]]])"
      ]
     },
     "execution_count": 99,
     "metadata": {},
     "output_type": "execute_result"
    }
   ],
   "source": [
    "np.flip(arr_3dim,2)"
   ]
  },
  {
   "cell_type": "code",
   "execution_count": 100,
   "id": "cceb1944-9695-4f14-a271-df0b03a0e7ec",
   "metadata": {},
   "outputs": [
    {
     "data": {
      "text/plain": [
       "array([  10.        ,   31.6227766 ,  100.        ,  316.22776602,\n",
       "       1000.        ])"
      ]
     },
     "execution_count": 100,
     "metadata": {},
     "output_type": "execute_result"
    }
   ],
   "source": [
    "np.logspace(1, 3, 5)"
   ]
  },
  {
   "cell_type": "code",
   "execution_count": null,
   "id": "d19edf31-a358-4cdb-a9b6-993f2549d401",
   "metadata": {},
   "outputs": [],
   "source": []
  }
 ],
 "metadata": {
  "kernelspec": {
   "display_name": "Python 3 (ipykernel)",
   "language": "python",
   "name": "python3"
  },
  "language_info": {
   "codemirror_mode": {
    "name": "ipython",
    "version": 3
   },
   "file_extension": ".py",
   "mimetype": "text/x-python",
   "name": "python",
   "nbconvert_exporter": "python",
   "pygments_lexer": "ipython3",
   "version": "3.11.7"
  }
 },
 "nbformat": 4,
 "nbformat_minor": 5
}
