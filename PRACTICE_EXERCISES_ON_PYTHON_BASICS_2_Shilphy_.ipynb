{
  "nbformat": 4,
  "nbformat_minor": 0,
  "metadata": {
    "colab": {
      "provenance": [],
      "authorship_tag": "ABX9TyMffPI9b4C8+ch03+CvvyvE",
      "include_colab_link": true
    },
    "kernelspec": {
      "name": "python3",
      "display_name": "Python 3"
    },
    "language_info": {
      "name": "python"
    }
  },
  "cells": [
    {
      "cell_type": "markdown",
      "metadata": {
        "id": "view-in-github",
        "colab_type": "text"
      },
      "source": [
        "<a href=\"https://colab.research.google.com/github/shilphypg/DSA_ICTAK/blob/main/PRACTICE_EXERCISES_ON_PYTHON_BASICS_2_Shilphy_.ipynb\" target=\"_parent\"><img src=\"https://colab.research.google.com/assets/colab-badge.svg\" alt=\"Open In Colab\"/></a>"
      ]
    },
    {
      "cell_type": "code",
      "source": [
        "#1. Write a Python program to accept a string value from the user and display\n",
        "#the count of each character in that string. Sample input: Enter a string\n",
        "#value: assembly Sample output: a=1, s=2, e=1, m=1, b=1, l=1, y=1\n",
        "n=input('Enter a string value: ')\n",
        "charac_count={}\n",
        "for i in n:\n",
        "  if i in charac_count:\n",
        "    charac_count[i] +=1\n",
        "  else:\n",
        "    charac_count[i] =1\n",
        "for i,count in charac_count.items():\n",
        "  print(f\"'{i}':{count}\")"
      ],
      "metadata": {
        "colab": {
          "base_uri": "https://localhost:8080/"
        },
        "id": "Jd-qm2bpFhT-",
        "outputId": "081bd21e-89e7-4574-86cd-b62c9189ec73"
      },
      "execution_count": null,
      "outputs": [
        {
          "output_type": "stream",
          "name": "stdout",
          "text": [
            "Enter a string value: assembly\n",
            "'a':1\n",
            "'s':2\n",
            "'e':1\n",
            "'m':1\n",
            "'b':1\n",
            "'l':1\n",
            "'y':1\n"
          ]
        }
      ]
    },
    {
      "cell_type": "code",
      "source": [
        "#2. Write a Python function to find the maximum of three numbers Sample input: 34,12,7 Sample output: 34\n",
        "#n=(34,12,7)\n",
        "#maximum=max(n)\n",
        "#print(maximum)\n",
        "def maximum(x,y,z):\n",
        "  if(x>=y) and (x>=z):\n",
        "    largest=x\n",
        "  elif (y>=x) and (y>=z):\n",
        "    largest=y\n",
        "  else:\n",
        "    largest=z\n",
        "  return largest\n",
        "maximum(34,12,7)"
      ],
      "metadata": {
        "id": "OGLxEGYwLzM7",
        "colab": {
          "base_uri": "https://localhost:8080/"
        },
        "outputId": "3ba4b1fb-226e-45b4-a245-688037049b8b"
      },
      "execution_count": null,
      "outputs": [
        {
          "output_type": "execute_result",
          "data": {
            "text/plain": [
              "34"
            ]
          },
          "metadata": {},
          "execution_count": 104
        }
      ]
    },
    {
      "cell_type": "code",
      "source": [
        "#. Write a Python function called exponent(base,exp) that returns an integer value of base raises to the power of exp. Sample input: Enter the base: 2 Enter the exponent: 3 Sample output: 8\n",
        "def exponent(base,exp):\n",
        "  #value=0\n",
        "  value= base**exp\n",
        "  return value\n",
        "exponent(3,4)"
      ],
      "metadata": {
        "id": "sQuLGkTzkXJ1",
        "colab": {
          "base_uri": "https://localhost:8080/"
        },
        "outputId": "75a2d0c2-6fec-4f79-bf41-0601ded1454b"
      },
      "execution_count": null,
      "outputs": [
        {
          "output_type": "execute_result",
          "data": {
            "text/plain": [
              "81"
            ]
          },
          "metadata": {},
          "execution_count": 105
        }
      ]
    },
    {
      "cell_type": "code",
      "source": [
        "#4. Write a Python function that takes a positive integer and returns the sum of the cube of all the positive integers smaller than the specified number.\n",
        "#Sample input: 4 Sample output: 36.\n",
        "def sum_of_cubes(n):\n",
        "  n=n-1\n",
        "  total=0\n",
        "  while n>=0:\n",
        "    total=total+n*n*n\n",
        "    n=n-1\n",
        "  return total\n",
        "sum_of_cubes(4)"
      ],
      "metadata": {
        "id": "FNR9jJb0p7Zt",
        "colab": {
          "base_uri": "https://localhost:8080/"
        },
        "outputId": "ef9c186b-2e80-4e7e-8095-f4f4096c14f9"
      },
      "execution_count": null,
      "outputs": [
        {
          "output_type": "execute_result",
          "data": {
            "text/plain": [
              "36"
            ]
          },
          "metadata": {},
          "execution_count": 106
        }
      ]
    },
    {
      "cell_type": "code",
      "source": [
        "#5. Write a Python program which iterates from 1 to 10. For multiples of 2,\n",
        "#print “Fizz” instead of the number and for the multiples of 5, print “Buzz”.\n",
        "#For numbers which are multiples of both 2 and 5, print “FizzBuzz”.\n",
        "#Sample input: numbers from 1 to 10 Sample output: 1 Fizz 3 Fizz Buzz\n",
        "#Fizz 7 Fizz 9 FizzBuzz\n",
        "for FizzBuzz in range(1,11):\n",
        "    if FizzBuzz % 2 == 0 and FizzBuzz % 5 == 0:\n",
        "        print(\"Fizzbuzz\")\n",
        "        continue\n",
        "    elif FizzBuzz % 2 == 0:\n",
        "        print(\"Fizz\")\n",
        "        continue\n",
        "    elif FizzBuzz % 5 == 0:\n",
        "        print(\"Buzz\")\n",
        "        continue\n",
        "    print(FizzBuzz)\n"
      ],
      "metadata": {
        "id": "d8DAW2pXxDvS",
        "colab": {
          "base_uri": "https://localhost:8080/"
        },
        "outputId": "74b2b856-cf55-40c8-e39f-9f7cdeece84d"
      },
      "execution_count": null,
      "outputs": [
        {
          "output_type": "stream",
          "name": "stdout",
          "text": [
            "1\n",
            "Fizz\n",
            "3\n",
            "Fizz\n",
            "Buzz\n",
            "Fizz\n",
            "7\n",
            "Fizz\n",
            "9\n",
            "Fizzbuzz\n"
          ]
        }
      ]
    },
    {
      "cell_type": "code",
      "source": [
        "#6. Write a Python program to find the most frequent item in a list of\n",
        "#numbers. Sample input: 2, 3, 4, 2, 5, 2 Sample output: 2\n",
        "def most_frequent(List):\n",
        "    count = 0\n",
        "    num = List[0]\n",
        "    for i in List:\n",
        "        curr_frequency = List.count(i)\n",
        "        if(curr_frequency> count):\n",
        "            count = curr_frequency\n",
        "            num = i\n",
        "    return num\n",
        "List = [2, 3, 4, 2, 5, 2]\n",
        "print(most_frequent(List))"
      ],
      "metadata": {
        "colab": {
          "base_uri": "https://localhost:8080/"
        },
        "id": "wKEazrbK5Vwx",
        "outputId": "33ce7adc-e828-41c7-c229-613835f69b57"
      },
      "execution_count": null,
      "outputs": [
        {
          "output_type": "stream",
          "name": "stdout",
          "text": [
            "2\n"
          ]
        }
      ]
    },
    {
      "cell_type": "code",
      "source": [
        "#7. Write a Python program to find the sum of squares of the numbers in a\n",
        "#list. Sample input: 2,1,3,1 Sample output: 15\n",
        "MyList=[2,1,3,1]\n",
        "count=0\n",
        "sum_of_squares=0\n",
        "for i in MyList:\n",
        "  curr_no=i**2\n",
        "  sum_of_squares=sum_of_squares+curr_no\n",
        "  i+=1\n",
        "print(sum_of_squares)\n"
      ],
      "metadata": {
        "colab": {
          "base_uri": "https://localhost:8080/"
        },
        "id": "ynX4BER1LDiu",
        "outputId": "cb5d2c49-0fd8-4e92-c282-83ba418726b2"
      },
      "execution_count": null,
      "outputs": [
        {
          "output_type": "stream",
          "name": "stdout",
          "text": [
            "15\n"
          ]
        }
      ]
    },
    {
      "cell_type": "code",
      "source": [
        "#8. Write a Python program using for loop that will iterate from 1 to 15. For\n",
        "#each iteration, check if the current number is odd or even, and display the\n",
        "#message to the screen as odd or even. Sample input: 1….15 Sample\n",
        "#output: 1-odd 2-even …. 15-odd\n",
        "for i in range(1,16):\n",
        "  if(i%2==0):\n",
        "    print(i,'-even')\n",
        "  else:\n",
        "    print(i,'-odd')"
      ],
      "metadata": {
        "colab": {
          "base_uri": "https://localhost:8080/"
        },
        "id": "2MA_3v7YLMqC",
        "outputId": "1d55a9e4-9328-4325-fa84-a8a0ad6ce09f"
      },
      "execution_count": null,
      "outputs": [
        {
          "output_type": "stream",
          "name": "stdout",
          "text": [
            "1 -odd\n",
            "2 -even\n",
            "3 -odd\n",
            "4 -even\n",
            "5 -odd\n",
            "6 -even\n",
            "7 -odd\n",
            "8 -even\n",
            "9 -odd\n",
            "10 -even\n",
            "11 -odd\n",
            "12 -even\n",
            "13 -odd\n",
            "14 -even\n",
            "15 -odd\n"
          ]
        }
      ]
    },
    {
      "cell_type": "code",
      "source": [
        "#9. Write a Python program to convert temperatures to and from Celsius\n",
        "#Fahrenheit. [Formula: c/5=f-32/9 where c=temperature in Celsius and f=\n",
        "#temperature in Fahrenheit.] Sample input: Temperature in Fahrenheit\n",
        "#=41 Sample output: Temperature in Celsius =5\n",
        "celsius = float(input(\"enter the value:\"))\n",
        "fahrenheit = (celsius * 1.8) + 32\n",
        "fahrenheit = float(input(\"enter the value:\"))\n",
        "celsius = (fahrenheit-32)/1.8\n",
        "print('%.0f Celsius is equivalent to: %.0f Fahrenheit'\n",
        "      % (celsius, fahrenheit))\n",
        "print('%.0f Fahrenheit is equivalent to: %.0f Celsius'\n",
        "      % (fahrenheit ,celsius))"
      ],
      "metadata": {
        "colab": {
          "base_uri": "https://localhost:8080/"
        },
        "id": "hK1CChu3LYgd",
        "outputId": "b00c226d-bfdf-41cf-8d7a-2c08c2c12885"
      },
      "execution_count": null,
      "outputs": [
        {
          "output_type": "stream",
          "name": "stdout",
          "text": [
            "enter the value:5\n",
            "enter the value:41\n",
            "5 Celsius is equivalent to: 41 Fahrenheit\n",
            "41 Fahrenheit is equivalent to: 5 Celsius\n"
          ]
        }
      ]
    },
    {
      "cell_type": "code",
      "source": [
        "#10. Write a Python function to calculate the factorial of a number (a\n",
        "#nonnegative integer). The function accepts the number as an argument.\n",
        "#Sample input: 3 Sample output: 6\n",
        "def fact(n):\n",
        "  f=1\n",
        "  for i in range(1,n+1):\n",
        "    f=f*i\n",
        "  return f\n",
        "fact(3)"
      ],
      "metadata": {
        "colab": {
          "base_uri": "https://localhost:8080/"
        },
        "id": "peJdWbOQLerc",
        "outputId": "4cddf85e-e743-4b61-935b-24241ecb200f"
      },
      "execution_count": null,
      "outputs": [
        {
          "output_type": "execute_result",
          "data": {
            "text/plain": [
              "6"
            ]
          },
          "metadata": {},
          "execution_count": 80
        }
      ]
    }
  ]
}