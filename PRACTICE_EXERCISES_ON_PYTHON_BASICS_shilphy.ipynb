{
  "nbformat": 4,
  "nbformat_minor": 0,
  "metadata": {
    "colab": {
      "provenance": [],
      "authorship_tag": "ABX9TyNB2zrffDUlUMl0zWFEu25y",
      "include_colab_link": true
    },
    "kernelspec": {
      "name": "python3",
      "display_name": "Python 3"
    },
    "language_info": {
      "name": "python"
    }
  },
  "cells": [
    {
      "cell_type": "markdown",
      "metadata": {
        "id": "view-in-github",
        "colab_type": "text"
      },
      "source": [
        "<a href=\"https://colab.research.google.com/github/shilphypg/DSA_ICTAK/blob/main/PRACTICE_EXERCISES_ON_PYTHON_BASICS_shilphy.ipynb\" target=\"_parent\"><img src=\"https://colab.research.google.com/assets/colab-badge.svg\" alt=\"Open In Colab\"/></a>"
      ]
    },
    {
      "cell_type": "code",
      "execution_count": null,
      "metadata": {
        "colab": {
          "base_uri": "https://localhost:8080/"
        },
        "id": "VLnWtXwPEt-4",
        "outputId": "d5155b98-6a3e-49f2-cd38-882461734524"
      },
      "outputs": [
        {
          "output_type": "stream",
          "name": "stdout",
          "text": [
            "Enter the radius of a circle=3\n",
            "Area of Circle: 28.26\n"
          ]
        }
      ],
      "source": [
        "#1. Write a Python program which accepts the radius of a circle from the user and compute the area.\n",
        "#Sample input: Enter the radius: 3\n",
        "#Sample output: Area of Circle is 28.59999999999\n",
        "r=int(input('Enter the radius of a circle='))\n",
        "#pi=3.14\n",
        "#area=pi*r**2\n",
        "area=3.14*r**2\n",
        "print(f'Area of Circle: {area}')"
      ]
    },
    {
      "cell_type": "code",
      "source": [
        "#2. Write a Python Program to accept the details of a student like name, roll\n",
        "#number and mark and display it.\n",
        "#Sample input: Enter the name: Anisha\n",
        "#Enter the roll number: 21\n",
        "#Enter the mark: 78\n",
        "#Sample output: Name: Anisha\n",
        "#Roll No: 21\n",
        "#Mark: 78\n",
        "std_name=input('Enter the student Name:')\n",
        "roll_no=int(input('Enter the roll Number:'))\n",
        "mark=int(input('Enter the mark:'))\n",
        "print(f'Name of student: {std_name}')\n",
        "print(f'Roll Number of student: {roll_no}')\n",
        "print(f'Mark of student: {mark}')\n"
      ],
      "metadata": {
        "colab": {
          "base_uri": "https://localhost:8080/"
        },
        "id": "_BFB3mvVHFCD",
        "outputId": "1175838a-32e5-4f31-8dcd-f6b37216c6f0"
      },
      "execution_count": null,
      "outputs": [
        {
          "output_type": "stream",
          "name": "stdout",
          "text": [
            "Enter the student Name:Anisha\n",
            "Enter the roll Number:21\n",
            "Enter the mark:78\n",
            "Name of student: Anisha\n",
            "Roll Number of student: 21\n",
            "Mark of student: 78\n"
          ]
        }
      ]
    },
    {
      "cell_type": "code",
      "source": [
        "#3.Write a Python program to get the largest number from a list.\n",
        "#Sample input: 12, 3, 47, 10\n",
        "#Sample output: 47 is the largest number.\n",
        "Mylist=[12,3,47,10]\n",
        "Mylist.sort()\n",
        "print(Mylist[-1],'is the Largest number:')"
      ],
      "metadata": {
        "colab": {
          "base_uri": "https://localhost:8080/"
        },
        "id": "K8jjGuWPJi9p",
        "outputId": "c2a73eff-0968-4647-912c-bf1b94ec2e81"
      },
      "execution_count": null,
      "outputs": [
        {
          "output_type": "stream",
          "name": "stdout",
          "text": [
            "47 is the Largest number:\n"
          ]
        }
      ]
    },
    {
      "cell_type": "code",
      "source": [
        "#4. Given a range of first 10 numbers, write a Python program to iterate from\n",
        "#start number to the end number and print the sum of the current number\n",
        "#and previous number.\n",
        "#Sample input: 1….10\n",
        "#Sample output: Current Number 1 Previous Number 0 Sum: 1 Current\n",
        "#Number 2 Previous Number 1 Sum: 3 Current Number 3 Previous\n",
        "#Number 2 Sum: 5… Current Number 10 Previous Number 9 Sum: 19\n",
        "\n",
        "#num=[1,2,3,4,5,6,7,8,9,10]\n",
        "num=range(11)\n",
        "pre_no=0\n",
        "curr_no =0\n",
        "for curr_no in num:\n",
        "  sum=pre_no+curr_no\n",
        "  pre_no=curr_no\n",
        "print(sum)"
      ],
      "metadata": {
        "colab": {
          "base_uri": "https://localhost:8080/"
        },
        "id": "uIepI2rzKLv9",
        "outputId": "4dff4535-09c6-40b1-fc46-f13c78ec6e0b"
      },
      "execution_count": null,
      "outputs": [
        {
          "output_type": "stream",
          "name": "stdout",
          "text": [
            "19\n"
          ]
        }
      ]
    },
    {
      "cell_type": "code",
      "source": [
        "#5. Write a Python program to print only those numbers which are divisible of 5.\n",
        "#Sample input: 10, 20,33,46,55 Sample output: 10, 20, 55\n",
        "n=[10,20,33,46,55]\n",
        "div_by_5=[]\n",
        "for i in n:\n",
        "  if(i%5==0):\n",
        "    div_by_5.append(i)\n",
        "print('numbers divisible by 5 are',div_by_5)\n"
      ],
      "metadata": {
        "id": "Sh15BOjdMRnJ",
        "colab": {
          "base_uri": "https://localhost:8080/"
        },
        "outputId": "d73914b6-d529-4d0c-ab37-73fe0c21d96f"
      },
      "execution_count": null,
      "outputs": [
        {
          "output_type": "stream",
          "name": "stdout",
          "text": [
            "numbers divisible by 5 are [10, 20, 55]\n"
          ]
        }
      ]
    },
    {
      "cell_type": "code",
      "source": [
        "#6. Write a Python program to check whether a number is prime or not.\n",
        "#Sample input: Enter the number: 3\n",
        "#Sample output: 3 is a prime number.\n",
        "num=int(input('Enter the number:'))\n",
        "if num>1:\n",
        "  for i in range(2,(num//2)+1):\n",
        "    if (num % i) == 0:\n",
        "      print(num,\"is not a prime number\" )\n",
        "      break\n",
        "  else:\n",
        "    print(num,\"is a prime number\" )\n",
        "else:\n",
        "  print(num,\"is not a prime number\" )"
      ],
      "metadata": {
        "colab": {
          "base_uri": "https://localhost:8080/"
        },
        "id": "WW47FBxlllX1",
        "outputId": "6254f191-be4b-4fb5-9ad5-e0f73233de1e"
      },
      "execution_count": null,
      "outputs": [
        {
          "output_type": "stream",
          "name": "stdout",
          "text": [
            "Enter the number:4\n",
            "4 is not a prime number\n"
          ]
        }
      ]
    },
    {
      "cell_type": "code",
      "source": [
        "#7. Write a Python program to reverse a list using for loop.\n",
        "#Sample input: 10,40,30,70\n",
        "#Sample output: 70,30,40,10\n",
        "Mylist=[10,40,30,70]\n",
        "len_Mylist=len(Mylist)\n",
        "rev_list=[]\n",
        "for i in range(len_Mylist):\n",
        "  rev_list.append(Mylist[len_Mylist-1 - i])\n",
        "print(rev_list)\n"
      ],
      "metadata": {
        "colab": {
          "base_uri": "https://localhost:8080/"
        },
        "id": "av4h4lwZn_3c",
        "outputId": "a2ac921d-8f77-4ba8-a1ee-93f2bdc73e34"
      },
      "execution_count": null,
      "outputs": [
        {
          "output_type": "stream",
          "name": "stdout",
          "text": [
            "[70, 30, 40, 10]\n"
          ]
        }
      ]
    },
    {
      "cell_type": "code",
      "source": [
        "#8. Write a Python program to print the following pattern.\n",
        "#*\n",
        "#**\n",
        "#***\n",
        "#****\n",
        "n=4\n",
        "for i in range(1,n+1):\n",
        "  #print '*' i times\n",
        "  print('*'*i)"
      ],
      "metadata": {
        "colab": {
          "base_uri": "https://localhost:8080/"
        },
        "id": "FtsPpT7-ufFm",
        "outputId": "befa9a0b-ab98-4b55-879e-f3fe059f216c"
      },
      "execution_count": null,
      "outputs": [
        {
          "output_type": "stream",
          "name": "stdout",
          "text": [
            "*\n",
            "**\n",
            "***\n",
            "****\n"
          ]
        }
      ]
    },
    {
      "cell_type": "code",
      "source": [
        "#9. Write a Python program to find the maximum of three numbers\n",
        "#Sample input: 34,12,7\n",
        "#Sample output: 34\n",
        "num=[34,12,7]\n",
        "max_num=0\n",
        "for i in num:\n",
        "  if i>max_num:\n",
        "    max_num=i\n",
        "print('The maximum among the three numbers is:', max_num)"
      ],
      "metadata": {
        "colab": {
          "base_uri": "https://localhost:8080/"
        },
        "id": "JsN9DUioyARk",
        "outputId": "740f4bce-7fb4-4423-984f-bd4807b03854"
      },
      "execution_count": null,
      "outputs": [
        {
          "output_type": "stream",
          "name": "stdout",
          "text": [
            "The maximum among the three numbers is: 34\n"
          ]
        }
      ]
    },
    {
      "cell_type": "code",
      "source": [
        "#10. Write a Python program to construct the following pattern, using a nested for loop.\n",
        "#*\n",
        "#**\n",
        "#***\n",
        "#****\n",
        "#*****\n",
        "#****\n",
        "#***\n",
        "#**\n",
        "#*\n",
        "n=5\n",
        "for i in range(1,n+1,1):\n",
        "  print('*'*i)\n",
        "for i in range(n-1,0,-1):\n",
        "  print('*'*i)"
      ],
      "metadata": {
        "colab": {
          "base_uri": "https://localhost:8080/"
        },
        "id": "sCuU-L0Vd9O3",
        "outputId": "85cdf8d9-1f41-4534-dc96-0be7289a681e"
      },
      "execution_count": null,
      "outputs": [
        {
          "output_type": "stream",
          "name": "stdout",
          "text": [
            "*\n",
            "**\n",
            "***\n",
            "****\n",
            "*****\n",
            "****\n",
            "***\n",
            "**\n",
            "*\n"
          ]
        }
      ]
    }
  ]
}