{
  "nbformat": 4,
  "nbformat_minor": 0,
  "metadata": {
    "colab": {
      "provenance": [],
      "authorship_tag": "ABX9TyM9t0uCb0CYgN0SRGo2iELu",
      "include_colab_link": true
    },
    "kernelspec": {
      "name": "python3",
      "display_name": "Python 3"
    },
    "language_info": {
      "name": "python"
    }
  },
  "cells": [
    {
      "cell_type": "markdown",
      "metadata": {
        "id": "view-in-github",
        "colab_type": "text"
      },
      "source": [
        "<a href=\"https://colab.research.google.com/github/shilphypg/DSA_ICTAK/blob/main/Python_While_loop_class3.ipynb\" target=\"_parent\"><img src=\"https://colab.research.google.com/assets/colab-badge.svg\" alt=\"Open In Colab\"/></a>"
      ]
    },
    {
      "cell_type": "code",
      "source": [
        "#creating a variable\n",
        "i=0\n",
        "while(i!=10):\n",
        "  print(i)\n",
        "  i+=2\n"
      ],
      "metadata": {
        "colab": {
          "base_uri": "https://localhost:8080/"
        },
        "id": "nm2yUqnTuahA",
        "outputId": "13ce92af-dcca-4a5e-de1b-f8ac2f770fe1"
      },
      "execution_count": null,
      "outputs": [
        {
          "output_type": "stream",
          "name": "stdout",
          "text": [
            "0\n",
            "2\n",
            "4\n",
            "6\n",
            "8\n"
          ]
        }
      ]
    },
    {
      "cell_type": "code",
      "source": [
        "i=0\n",
        "while(i!=10):\n",
        "  i+=2\n",
        "  print(i)\n"
      ],
      "metadata": {
        "colab": {
          "base_uri": "https://localhost:8080/"
        },
        "id": "nQzGbpukwBtR",
        "outputId": "28743abf-6bab-45d0-8114-93fed27c581e"
      },
      "execution_count": null,
      "outputs": [
        {
          "output_type": "stream",
          "name": "stdout",
          "text": [
            "2\n",
            "4\n",
            "6\n",
            "8\n",
            "10\n"
          ]
        }
      ]
    },
    {
      "cell_type": "code",
      "source": [
        "#creating a variable\n",
        "i=1\n",
        "while(i<5):\n",
        "  print(i)\n",
        "  i+=1"
      ],
      "metadata": {
        "colab": {
          "base_uri": "https://localhost:8080/"
        },
        "id": "99UubxnHxZ1T",
        "outputId": "3eded1c5-02d5-4d3d-a2bf-c19eb5fdb021"
      },
      "execution_count": null,
      "outputs": [
        {
          "output_type": "stream",
          "name": "stdout",
          "text": [
            "1\n",
            "2\n",
            "3\n",
            "4\n"
          ]
        }
      ]
    },
    {
      "cell_type": "code",
      "source": [
        "#creating a variable\n",
        "i=1\n",
        "while(i<10):\n",
        "  print(i)\n",
        "  i+=2\n"
      ],
      "metadata": {
        "colab": {
          "base_uri": "https://localhost:8080/"
        },
        "id": "Ha23nRq7uejo",
        "outputId": "26d8e2d2-ec64-47ba-a3c9-dfe3bcb205b9"
      },
      "execution_count": null,
      "outputs": [
        {
          "output_type": "stream",
          "name": "stdout",
          "text": [
            "1\n",
            "3\n",
            "5\n",
            "7\n",
            "9\n"
          ]
        }
      ]
    },
    {
      "cell_type": "code",
      "source": [
        "#grouping odd and even\n",
        "number=[10,15,89,25,36,45]\n",
        "even=[]\n",
        "odd=[]\n",
        "\n",
        "while(len(number)>0):\n",
        "  number1=number.pop()\n",
        "\n",
        "  if(number1 % 2==0):\n",
        "    even.append(number1)\n",
        "\n",
        "  else:\n",
        "      odd.append(number1)\n",
        "\n",
        "print(even)\n",
        "print(odd)"
      ],
      "metadata": {
        "colab": {
          "base_uri": "https://localhost:8080/"
        },
        "id": "TwMHNPxVuXxX",
        "outputId": "ba6c7394-146c-4f54-df23-abc0d348f206"
      },
      "execution_count": null,
      "outputs": [
        {
          "output_type": "stream",
          "name": "stdout",
          "text": [
            "[36, 10]\n",
            "[45, 25, 89, 15]\n"
          ]
        }
      ]
    },
    {
      "cell_type": "code",
      "execution_count": null,
      "metadata": {
        "colab": {
          "base_uri": "https://localhost:8080/"
        },
        "id": "YMtKyc-FuIVi",
        "outputId": "c54f6f6d-ee44-429d-8672-837dab6bde01"
      },
      "outputs": [
        {
          "output_type": "stream",
          "name": "stdout",
          "text": [
            "type NO to stop execution\n",
            "Enter your Name: Serah\n",
            "Do you want to continue, enter NO to StopNo\n",
            "['Serah']\n"
          ]
        }
      ],
      "source": [
        "print('type NO to stop execution')\n",
        "name_l=[]\n",
        "a=''\n",
        "\n",
        "while(a!='NO'):\n",
        "  name=input('Enter your Name: ')\n",
        "  a=input('Do you want to continue, enter NO to Stop')\n",
        "  a=a.upper()\n",
        "  name_l.append(name)\n",
        "print(name_l)"
      ]
    },
    {
      "cell_type": "code",
      "source": [
        "f=['apple','orange','kiwi','grapes']\n",
        "\n",
        "for i in f:\n",
        "    if(i=='kiwi'):\n",
        "      break\n",
        "     print(i)\n"
      ],
      "metadata": {
        "colab": {
          "base_uri": "https://localhost:8080/",
          "height": 110
        },
        "id": "x5FY883buUIF",
        "outputId": "cf375c03-adca-4676-d564-af1d171575c6"
      },
      "execution_count": null,
      "outputs": [
        {
          "output_type": "error",
          "ename": "IndentationError",
          "evalue": "unindent does not match any outer indentation level (<tokenize>, line 6)",
          "traceback": [
            "\u001b[0;36m  File \u001b[0;32m\"<tokenize>\"\u001b[0;36m, line \u001b[0;32m6\u001b[0m\n\u001b[0;31m    print(i)\u001b[0m\n\u001b[0m    ^\u001b[0m\n\u001b[0;31mIndentationError\u001b[0m\u001b[0;31m:\u001b[0m unindent does not match any outer indentation level\n"
          ]
        }
      ]
    },
    {
      "cell_type": "code",
      "source": [
        "f=['apple','orange','kiwi','grapes']\n",
        "for i in f:\n",
        "  if(i=='kiwi'):\n",
        "    break\n",
        "  print(i)"
      ],
      "metadata": {
        "colab": {
          "base_uri": "https://localhost:8080/"
        },
        "id": "bYNPBkd20NSK",
        "outputId": "2fb9eaa8-d0a5-43a3-8cd8-a0fdbd01d216"
      },
      "execution_count": null,
      "outputs": [
        {
          "output_type": "stream",
          "name": "stdout",
          "text": [
            "apple\n",
            "orange\n"
          ]
        }
      ]
    },
    {
      "cell_type": "code",
      "source": [
        "f=['apple','orange','kiwi','grapes']\n",
        "for i in f:\n",
        "  if(i=='kiwi'):\n",
        "    continue\n",
        "  print(i)"
      ],
      "metadata": {
        "colab": {
          "base_uri": "https://localhost:8080/"
        },
        "id": "6Ok7f3Oo1BNM",
        "outputId": "7c236ad7-8b32-4689-c40b-3319af6d3d7c"
      },
      "execution_count": null,
      "outputs": [
        {
          "output_type": "stream",
          "name": "stdout",
          "text": [
            "apple\n",
            "orange\n",
            "grapes\n"
          ]
        }
      ]
    },
    {
      "cell_type": "code",
      "source": [
        "#**If**elif**else**\n",
        "\n",
        "price_tv=20000\n",
        "\n",
        "if price_tv<25000:\n",
        "  print(\"pease pack it\")"
      ],
      "metadata": {
        "colab": {
          "base_uri": "https://localhost:8080/"
        },
        "id": "Cqs9480S3fvy",
        "outputId": "76a42af0-b7fb-4a7f-f93f-d23c9c87d0ca"
      },
      "execution_count": null,
      "outputs": [
        {
          "output_type": "stream",
          "name": "stdout",
          "text": [
            "pease pack it\n"
          ]
        }
      ]
    },
    {
      "cell_type": "code",
      "source": [
        "num=int(input('enter a number:'))\n",
        "\n",
        "if num>5:print(num, 'is greater than 5')\n"
      ],
      "metadata": {
        "colab": {
          "base_uri": "https://localhost:8080/"
        },
        "id": "N6QmQs3L4Ad0",
        "outputId": "ed93e5e1-6009-406d-926a-e13379ed1bb9"
      },
      "execution_count": null,
      "outputs": [
        {
          "name": "stdout",
          "output_type": "stream",
          "text": [
            "enter a number:5\n"
          ]
        }
      ]
    },
    {
      "cell_type": "code",
      "source": [
        "num=int(input('enter a number:'))\n",
        "\n",
        "if num>5:print(num, 'is greater than 5')\n",
        "else:\n",
        "  print(num,'number is less than 5')"
      ],
      "metadata": {
        "colab": {
          "base_uri": "https://localhost:8080/"
        },
        "id": "-WsLzLId4WRy",
        "outputId": "650350a1-396e-4820-d5f0-a70f267240be"
      },
      "execution_count": null,
      "outputs": [
        {
          "output_type": "stream",
          "name": "stdout",
          "text": [
            "enter a number:2\n",
            "2 number is less than 5\n"
          ]
        }
      ]
    },
    {
      "cell_type": "code",
      "source": [
        "num=int((input('enter the no: ')))\n",
        "\n",
        "if num%2==0:\n",
        "  print(num, \"is an even no\")\n",
        "\n",
        "else\n",
        "  print(num, \"is an odd no\")"
      ],
      "metadata": {
        "colab": {
          "base_uri": "https://localhost:8080/",
          "height": 110
        },
        "id": "3PHudQ665EkS",
        "outputId": "26a558c9-23f8-4a0d-99b3-1eef050db688"
      },
      "execution_count": null,
      "outputs": [
        {
          "output_type": "error",
          "ename": "SyntaxError",
          "evalue": "expected ':' (<ipython-input-24-86f0e7d3f6b7>, line 6)",
          "traceback": [
            "\u001b[0;36m  File \u001b[0;32m\"<ipython-input-24-86f0e7d3f6b7>\"\u001b[0;36m, line \u001b[0;32m6\u001b[0m\n\u001b[0;31m    else\u001b[0m\n\u001b[0m        ^\u001b[0m\n\u001b[0;31mSyntaxError\u001b[0m\u001b[0;31m:\u001b[0m expected ':'\n"
          ]
        }
      ]
    },
    {
      "cell_type": "code",
      "source": [
        "age=12\n",
        "name='Anu'\n",
        "#name='Ramu'\n",
        "if age == 12 and name == 'Anu':\n",
        "  print('Hi Anu')\n",
        "elif name=='Ramu':\n",
        "  print('Ramu')\n",
        "else:\n",
        "  print('You are neither Anu nor Ramu')"
      ],
      "metadata": {
        "colab": {
          "base_uri": "https://localhost:8080/"
        },
        "id": "bcKbPYGBhDu3",
        "outputId": "8584ac2d-7ae5-4fbe-830b-6965a7e91f74"
      },
      "execution_count": null,
      "outputs": [
        {
          "output_type": "stream",
          "name": "stdout",
          "text": [
            "Hi Anu\n"
          ]
        }
      ]
    },
    {
      "cell_type": "code",
      "source": [
        "\n",
        "a=12\n",
        "b=32\n",
        "c=20\n",
        "if a>b and a>c:\n",
        "  print(a, 'is the biggest')\n",
        "\n",
        "elif b>a and b>c:\n",
        "  print(b, 'is the biggest')\n",
        "else:\n",
        "  print(c, 'is the biggest')"
      ],
      "metadata": {
        "colab": {
          "base_uri": "https://localhost:8080/"
        },
        "id": "dV5xUkLo5X3O",
        "outputId": "fa3f59c8-288e-413e-d827-e80cb0055252"
      },
      "execution_count": null,
      "outputs": [
        {
          "output_type": "stream",
          "name": "stdout",
          "text": [
            "32 is the biggest\n"
          ]
        }
      ]
    },
    {
      "cell_type": "code",
      "source": [
        "n=int((input('enter the no: ')))\n",
        "\n",
        "if n>1:\n",
        "  for i in range(2,n):\n",
        "    if n%i==0:\n",
        "      print(n,'not a prime no')\n",
        "      break\n",
        "  else:\n",
        "      print(n,'is a prime no')\n",
        "else:\n",
        "        print(n,'not a prime no')\n"
      ],
      "metadata": {
        "colab": {
          "base_uri": "https://localhost:8080/"
        },
        "id": "_V8ye1by6vI9",
        "outputId": "b638bed4-7263-4d5b-8603-8e509e924dc8"
      },
      "execution_count": null,
      "outputs": [
        {
          "output_type": "stream",
          "name": "stdout",
          "text": [
            "enter the no: 9\n",
            "9 not a prime no\n"
          ]
        }
      ]
    },
    {
      "cell_type": "code",
      "source": [
        "for i in range(1,6):\n",
        "  print('multiplication table of ', i)\n",
        "\n",
        "  for j in range(1,11):\n",
        "    print(i,'*',j,'=',i*j)"
      ],
      "metadata": {
        "colab": {
          "base_uri": "https://localhost:8080/"
        },
        "id": "FhnvgX1u83RE",
        "outputId": "574e812d-c798-4993-ab6f-806b533165be"
      },
      "execution_count": null,
      "outputs": [
        {
          "output_type": "stream",
          "name": "stdout",
          "text": [
            "multiplication table of  1\n",
            "1 * 1 = 1\n",
            "1 * 2 = 2\n",
            "1 * 3 = 3\n",
            "1 * 4 = 4\n",
            "1 * 5 = 5\n",
            "1 * 6 = 6\n",
            "1 * 7 = 7\n",
            "1 * 8 = 8\n",
            "1 * 9 = 9\n",
            "1 * 10 = 10\n",
            "multiplication table of  2\n",
            "2 * 1 = 2\n",
            "2 * 2 = 4\n",
            "2 * 3 = 6\n",
            "2 * 4 = 8\n",
            "2 * 5 = 10\n",
            "2 * 6 = 12\n",
            "2 * 7 = 14\n",
            "2 * 8 = 16\n",
            "2 * 9 = 18\n",
            "2 * 10 = 20\n",
            "multiplication table of  3\n",
            "3 * 1 = 3\n",
            "3 * 2 = 6\n",
            "3 * 3 = 9\n",
            "3 * 4 = 12\n",
            "3 * 5 = 15\n",
            "3 * 6 = 18\n",
            "3 * 7 = 21\n",
            "3 * 8 = 24\n",
            "3 * 9 = 27\n",
            "3 * 10 = 30\n",
            "multiplication table of  4\n",
            "4 * 1 = 4\n",
            "4 * 2 = 8\n",
            "4 * 3 = 12\n",
            "4 * 4 = 16\n",
            "4 * 5 = 20\n",
            "4 * 6 = 24\n",
            "4 * 7 = 28\n",
            "4 * 8 = 32\n",
            "4 * 9 = 36\n",
            "4 * 10 = 40\n",
            "multiplication table of  5\n",
            "5 * 1 = 5\n",
            "5 * 2 = 10\n",
            "5 * 3 = 15\n",
            "5 * 4 = 20\n",
            "5 * 5 = 25\n",
            "5 * 6 = 30\n",
            "5 * 7 = 35\n",
            "5 * 8 = 40\n",
            "5 * 9 = 45\n",
            "5 * 10 = 50\n"
          ]
        }
      ]
    },
    {
      "cell_type": "code",
      "source": [
        "l1=['aple','bab','efwj','vsb','hjk']\n",
        "l1"
      ],
      "metadata": {
        "id": "HwgVjzTz9SYY",
        "colab": {
          "base_uri": "https://localhost:8080/"
        },
        "outputId": "c58302b4-27ca-464f-e73e-fa2b9862e3bc"
      },
      "execution_count": null,
      "outputs": [
        {
          "output_type": "execute_result",
          "data": {
            "text/plain": [
              "['aple', 'bab', 'efwj', 'vsb', 'hjk']"
            ]
          },
          "metadata": {},
          "execution_count": 23
        }
      ]
    },
    {
      "cell_type": "code",
      "source": [
        "for i in l1:\n",
        "    print(i)"
      ],
      "metadata": {
        "colab": {
          "base_uri": "https://localhost:8080/"
        },
        "id": "Cgs-LLAciZyu",
        "outputId": "0709e794-ac7c-4578-bdf2-b59fdb6ba0d0"
      },
      "execution_count": null,
      "outputs": [
        {
          "output_type": "stream",
          "name": "stdout",
          "text": [
            "aple\n",
            "bab\n",
            "efwj\n",
            "vsb\n",
            "hjk\n"
          ]
        }
      ]
    },
    {
      "cell_type": "code",
      "source": [
        "for i in range(0,5):\n",
        "  print(i)"
      ],
      "metadata": {
        "colab": {
          "base_uri": "https://localhost:8080/"
        },
        "id": "TVwmHPqfjFa4",
        "outputId": "212cea92-b78f-4fe8-b265-25a88beb1645"
      },
      "execution_count": null,
      "outputs": [
        {
          "output_type": "stream",
          "name": "stdout",
          "text": [
            "0\n",
            "1\n",
            "2\n",
            "3\n",
            "4\n"
          ]
        }
      ]
    },
    {
      "cell_type": "code",
      "source": [
        "for i in range(1,101):\n",
        "  print(i,end=\" \")"
      ],
      "metadata": {
        "colab": {
          "base_uri": "https://localhost:8080/"
        },
        "id": "9gUWCcQgigKU",
        "outputId": "346d7825-4010-4323-cb89-e4bec30515bb"
      },
      "execution_count": null,
      "outputs": [
        {
          "output_type": "stream",
          "name": "stdout",
          "text": [
            "1 2 3 4 5 6 7 8 9 10 11 12 13 14 15 16 17 18 19 20 21 22 23 24 25 26 27 28 29 30 31 32 33 34 35 36 37 38 39 40 41 42 43 44 45 46 47 48 49 50 51 52 53 54 55 56 57 58 59 60 61 62 63 64 65 66 67 68 69 70 71 72 73 74 75 76 77 78 79 80 81 82 83 84 85 86 87 88 89 90 91 92 93 94 95 96 97 98 99 100 "
          ]
        }
      ]
    },
    {
      "cell_type": "code",
      "source": [
        "for i in range(1,101,3):\n",
        "  print(i,end=\" \")"
      ],
      "metadata": {
        "colab": {
          "base_uri": "https://localhost:8080/"
        },
        "id": "Jmm8JKrpjePT",
        "outputId": "88e28fc7-896c-4a13-ed81-dc5ff7b561e3"
      },
      "execution_count": null,
      "outputs": [
        {
          "output_type": "stream",
          "name": "stdout",
          "text": [
            "1 4 7 10 13 16 19 22 25 28 31 34 37 40 43 46 49 52 55 58 61 64 67 70 73 76 79 82 85 88 91 94 97 100 "
          ]
        }
      ]
    },
    {
      "cell_type": "code",
      "source": [
        "for i in l1[2:5]:\n",
        "  print(i)"
      ],
      "metadata": {
        "colab": {
          "base_uri": "https://localhost:8080/"
        },
        "id": "WFg5meqFjiHi",
        "outputId": "ebe074ac-de34-468c-d2db-fb1cd6047066"
      },
      "execution_count": null,
      "outputs": [
        {
          "output_type": "stream",
          "name": "stdout",
          "text": [
            "efwj\n",
            "vsb\n",
            "hjk\n"
          ]
        }
      ]
    },
    {
      "cell_type": "code",
      "source": [
        "#print all numbers divisible by 5 from 1 to 100\n",
        "for i in range(1,101):\n",
        "  if(i%5==0):\n",
        "    print(i,end=\" \")"
      ],
      "metadata": {
        "colab": {
          "base_uri": "https://localhost:8080/"
        },
        "id": "Kl7DdBLGjrvx",
        "outputId": "aa32ba47-9b99-4e66-8733-1e278122b259"
      },
      "execution_count": null,
      "outputs": [
        {
          "output_type": "stream",
          "name": "stdout",
          "text": [
            "5 10 15 20 25 30 35 40 45 50 55 60 65 70 75 80 85 90 95 100 "
          ]
        }
      ]
    },
    {
      "cell_type": "code",
      "source": [
        "#print factorial of a number(5!=5*4*3*2*1)\n",
        "num=int(input(\"Enter the no: \"))\n",
        "fact=1\n",
        "for i in range (1,num+1):\n",
        "  fact=fact*i\n",
        "print(f'factorial of {num} is {fact}')"
      ],
      "metadata": {
        "colab": {
          "base_uri": "https://localhost:8080/"
        },
        "id": "EZ8dOwG_j_Nm",
        "outputId": "039177a6-9d9f-4187-b80e-c8b228a2ff42"
      },
      "execution_count": null,
      "outputs": [
        {
          "output_type": "stream",
          "name": "stdout",
          "text": [
            "Enter the no: 5\n",
            "factorial of 5 is 120\n"
          ]
        }
      ]
    },
    {
      "cell_type": "code",
      "source": [
        "#program to check whether the given no is paliandrome 1234---->4321,123456---->654321\n",
        "num=int(input(\"Enter the no: \"))\n",
        "temp=num\n",
        "rev=0\n",
        "while(temp):\n",
        "  n=temp%10\n",
        "  rev=rev*10+n\n",
        "  temp=temp//10\n",
        "#print(rev)\n",
        "if(num==rev):\n",
        "  print('Number is paliandrome')\n",
        "else:\n",
        "  print('Number  is not paliandrome ')\n"
      ],
      "metadata": {
        "colab": {
          "base_uri": "https://localhost:8080/"
        },
        "id": "fLXn1k4wlTrr",
        "outputId": "bb93b148-8386-4b35-8453-27838d461e0c"
      },
      "execution_count": null,
      "outputs": [
        {
          "output_type": "stream",
          "name": "stdout",
          "text": [
            "Enter the no: 1221\n",
            "1221\n",
            "Number is paliandrome\n"
          ]
        }
      ]
    },
    {
      "cell_type": "code",
      "source": [
        "def add_two_nos(a,b):\n",
        "  return a+b"
      ],
      "metadata": {
        "id": "ygEYv96doWBF"
      },
      "execution_count": null,
      "outputs": []
    },
    {
      "cell_type": "code",
      "source": [
        "add_two_nos(4,5)"
      ],
      "metadata": {
        "colab": {
          "base_uri": "https://localhost:8080/"
        },
        "id": "-p7TN4udpgSj",
        "outputId": "5bb1d87b-6b5d-4762-ac8e-6b6640a80bce"
      },
      "execution_count": null,
      "outputs": [
        {
          "output_type": "execute_result",
          "data": {
            "text/plain": [
              "9"
            ]
          },
          "metadata": {},
          "execution_count": 55
        }
      ]
    },
    {
      "cell_type": "code",
      "source": [
        "add_two_nos(age,age)"
      ],
      "metadata": {
        "colab": {
          "base_uri": "https://localhost:8080/"
        },
        "id": "4H7qCFgoplqQ",
        "outputId": "0e17a995-d23c-4632-d8e1-514f4e619325"
      },
      "execution_count": null,
      "outputs": [
        {
          "output_type": "execute_result",
          "data": {
            "text/plain": [
              "24"
            ]
          },
          "metadata": {},
          "execution_count": 56
        }
      ]
    },
    {
      "cell_type": "code",
      "source": [
        "# factorial using function\n",
        "def fact(n):\n",
        "  f=1\n",
        "  for i in range(1,n+1):\n",
        "    f=f*i\n",
        "  return f"
      ],
      "metadata": {
        "id": "X-QLH1F2ppj0"
      },
      "execution_count": null,
      "outputs": []
    },
    {
      "cell_type": "code",
      "source": [
        "fact(10)"
      ],
      "metadata": {
        "colab": {
          "base_uri": "https://localhost:8080/"
        },
        "id": "QtSI-LngqoUz",
        "outputId": "13d8604b-cbb8-4bc4-9b3e-8e7bd4fa9ed0"
      },
      "execution_count": null,
      "outputs": [
        {
          "output_type": "execute_result",
          "data": {
            "text/plain": [
              "3628800"
            ]
          },
          "metadata": {},
          "execution_count": 63
        }
      ]
    },
    {
      "cell_type": "code",
      "source": [
        "for k in range(1,11):\n",
        "  print(fact(k),end=\" \")"
      ],
      "metadata": {
        "colab": {
          "base_uri": "https://localhost:8080/"
        },
        "id": "znDZL2JRqE0y",
        "outputId": "5aaccaa1-b2e7-471c-dc8c-ec345aaf1720"
      },
      "execution_count": null,
      "outputs": [
        {
          "output_type": "stream",
          "name": "stdout",
          "text": [
            "1 2 6 24 120 720 5040 40320 362880 3628800 "
          ]
        }
      ]
    },
    {
      "cell_type": "markdown",
      "source": [],
      "metadata": {
        "id": "pnrQQM47rCyp"
      }
    },
    {
      "cell_type": "code",
      "source": [
        "#program to check whether the given no is paliandrome 1234---->4321,123456---->654321\n",
        "def paliandrome(num):\n",
        "  temp=num\n",
        "  rev=0\n",
        "  while(temp):\n",
        "    n=temp%10\n",
        "    rev=rev*10+n\n",
        "    temp=temp//10\n",
        "  if(num==rev):\n",
        "    return True\n",
        "  else:\n",
        "    return False"
      ],
      "metadata": {
        "id": "WNC34NLaqSPY"
      },
      "execution_count": null,
      "outputs": []
    },
    {
      "cell_type": "code",
      "source": [
        "paliandrome(1212)"
      ],
      "metadata": {
        "colab": {
          "base_uri": "https://localhost:8080/"
        },
        "id": "YBEkvpkrrYrg",
        "outputId": "debe426c-b75e-469d-d559-7cc678e612c1"
      },
      "execution_count": null,
      "outputs": [
        {
          "output_type": "execute_result",
          "data": {
            "text/plain": [
              "False"
            ]
          },
          "metadata": {},
          "execution_count": 71
        }
      ]
    },
    {
      "cell_type": "code",
      "source": [
        "paliandrome(1221)"
      ],
      "metadata": {
        "colab": {
          "base_uri": "https://localhost:8080/"
        },
        "id": "mrHwG6vxrj5i",
        "outputId": "1b2a36bb-0bf9-4b34-dd45-2293df626788"
      },
      "execution_count": null,
      "outputs": [
        {
          "output_type": "execute_result",
          "data": {
            "text/plain": [
              "True"
            ]
          },
          "metadata": {},
          "execution_count": 72
        }
      ]
    },
    {
      "cell_type": "code",
      "source": [
        "for i in range(1,1001):\n",
        "  if(paliandrome(i)):\n",
        "    print(i,end=\" \")"
      ],
      "metadata": {
        "colab": {
          "base_uri": "https://localhost:8080/"
        },
        "id": "93WaIgw-rnTo",
        "outputId": "e273e5b6-e659-48e7-8631-579b3435b433"
      },
      "execution_count": null,
      "outputs": [
        {
          "output_type": "stream",
          "name": "stdout",
          "text": [
            "1 2 3 4 5 6 7 8 9 11 22 33 44 55 66 77 88 99 101 111 121 131 141 151 161 171 181 191 202 212 222 232 242 252 262 272 282 292 303 313 323 333 343 353 363 373 383 393 404 414 424 434 444 454 464 474 484 494 505 515 525 535 545 555 565 575 585 595 606 616 626 636 646 656 666 676 686 696 707 717 727 737 747 757 767 777 787 797 808 818 828 838 848 858 868 878 888 898 909 919 929 939 949 959 969 979 989 999 "
          ]
        }
      ]
    },
    {
      "cell_type": "code",
      "source": [
        "print(round(8.479))"
      ],
      "metadata": {
        "id": "rUUBAlyRrzyC",
        "colab": {
          "base_uri": "https://localhost:8080/"
        },
        "outputId": "cebea8a6-8d07-4727-d953-5888a1fbb725"
      },
      "execution_count": null,
      "outputs": [
        {
          "output_type": "stream",
          "name": "stdout",
          "text": [
            "8\n"
          ]
        }
      ]
    },
    {
      "cell_type": "code",
      "source": [
        "colors = [\"green\", \"pink\", \"red\", \"white\"]\n",
        "print(\"yellow\" in colors)"
      ],
      "metadata": {
        "colab": {
          "base_uri": "https://localhost:8080/"
        },
        "id": "Z54u1jRubBSG",
        "outputId": "d3b0a5bc-ab83-4f74-c555-6dbe1662c2fa"
      },
      "execution_count": null,
      "outputs": [
        {
          "output_type": "stream",
          "name": "stdout",
          "text": [
            "False\n"
          ]
        }
      ]
    },
    {
      "cell_type": "code",
      "source": [
        "L=list(\"ictak kerala\")\n",
        "print(L[8 : -1])"
      ],
      "metadata": {
        "colab": {
          "base_uri": "https://localhost:8080/"
        },
        "id": "lefer3PMbKR_",
        "outputId": "4ba00936-4d6f-49b3-dbfa-d2ef582f305f"
      },
      "execution_count": null,
      "outputs": [
        {
          "output_type": "stream",
          "name": "stdout",
          "text": [
            "['r', 'a', 'l']\n"
          ]
        }
      ]
    },
    {
      "cell_type": "code",
      "source": [
        "d = {0: 'a', 1: 'b', 2: 'c'}\n",
        "for i in d:\n",
        "     print(i)"
      ],
      "metadata": {
        "colab": {
          "base_uri": "https://localhost:8080/"
        },
        "id": "HDu2hiDjbaMO",
        "outputId": "420c7f9c-378c-43f7-b3d4-2a67569b6236"
      },
      "execution_count": null,
      "outputs": [
        {
          "output_type": "stream",
          "name": "stdout",
          "text": [
            "0\n",
            "1\n",
            "2\n"
          ]
        }
      ]
    },
    {
      "cell_type": "code",
      "source": [
        "a=\"abcd\"\n",
        "b=\"p\"\n",
        "while b in a:\n",
        "      print(b,end=\" \")"
      ],
      "metadata": {
        "id": "MflCx20_blJA"
      },
      "execution_count": null,
      "outputs": []
    },
    {
      "cell_type": "code",
      "source": [
        "print(True**False/True*False)"
      ],
      "metadata": {
        "colab": {
          "base_uri": "https://localhost:8080/"
        },
        "id": "bKRBIQnWbu8S",
        "outputId": "6d624a53-2753-4f34-b004-485b2185bc34"
      },
      "execution_count": null,
      "outputs": [
        {
          "output_type": "stream",
          "name": "stdout",
          "text": [
            "0.0\n"
          ]
        }
      ]
    },
    {
      "cell_type": "code",
      "source": [
        "L=['a','b','c','d','e','hello',[1,2,3]]\n",
        "print(L[5])"
      ],
      "metadata": {
        "colab": {
          "base_uri": "https://localhost:8080/"
        },
        "id": "OS4GidNzb5SO",
        "outputId": "4c6e46d7-6971-4381-fd14-67243dd94769"
      },
      "execution_count": null,
      "outputs": [
        {
          "output_type": "stream",
          "name": "stdout",
          "text": [
            "hello\n"
          ]
        }
      ]
    },
    {
      "cell_type": "code",
      "source": [
        "L = [1,3,4,5,6,7,8]\n",
        "print(L[1:8:2])"
      ],
      "metadata": {
        "colab": {
          "base_uri": "https://localhost:8080/"
        },
        "id": "GIvQg_GgcBVG",
        "outputId": "bb411909-fd4c-43df-ed58-443c029e0998"
      },
      "execution_count": null,
      "outputs": [
        {
          "output_type": "stream",
          "name": "stdout",
          "text": [
            "[3, 5, 7]\n"
          ]
        }
      ]
    },
    {
      "cell_type": "code",
      "source": [
        "print(print(print(\"Hello world\")))\n"
      ],
      "metadata": {
        "colab": {
          "base_uri": "https://localhost:8080/"
        },
        "id": "dpS6Zz_pdVa-",
        "outputId": "20cf7681-6df3-4cfb-def6-32a9282bdebf"
      },
      "execution_count": null,
      "outputs": [
        {
          "output_type": "stream",
          "name": "stdout",
          "text": [
            "Hello world\n",
            "None\n",
            "None\n"
          ]
        }
      ]
    },
    {
      "cell_type": "code",
      "source": [
        "d = {0: 'a', 1: 'b', 2: 'c'}\n",
        "for i in d:\n",
        "     print(i)"
      ],
      "metadata": {
        "colab": {
          "base_uri": "https://localhost:8080/"
        },
        "id": "j_KzGAOudk2X",
        "outputId": "14d4b59b-96cf-4ead-e2b9-2299f6099cbf"
      },
      "execution_count": null,
      "outputs": [
        {
          "output_type": "stream",
          "name": "stdout",
          "text": [
            "0\n",
            "1\n",
            "2\n"
          ]
        }
      ]
    },
    {
      "cell_type": "code",
      "source": [],
      "metadata": {
        "id": "pMUvC9LHd-Oz"
      },
      "execution_count": null,
      "outputs": []
    }
  ]
}